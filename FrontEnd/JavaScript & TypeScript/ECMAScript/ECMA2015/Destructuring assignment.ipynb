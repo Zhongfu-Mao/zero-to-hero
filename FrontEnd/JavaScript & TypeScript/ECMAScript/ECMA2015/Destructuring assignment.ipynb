{
 "cells": [
  {
   "cell_type": "code",
   "execution_count": null,
   "metadata": {},
   "outputs": [],
   "source": [
    "let [a, b, c] = [1, 2, 3]"
   ]
  },
  {
   "cell_type": "code",
   "execution_count": 1,
   "metadata": {},
   "outputs": [
    {
     "name": "stdout",
     "output_type": "stream",
     "text": [
      "1\n",
      "2\n",
      "3\n"
     ]
    }
   ],
   "source": [
    "let [foo, [[bar], baz]] = [1, [[2], 3]]\n",
    "console.log(foo);\n",
    "console.log(bar);\n",
    "console.log(baz);"
   ]
  },
  {
   "cell_type": "code",
   "execution_count": 2,
   "metadata": {},
   "outputs": [
    {
     "name": "stdout",
     "output_type": "stream",
     "text": [
      "3\n"
     ]
    }
   ],
   "source": [
    "let [, , third] = [1, 2, 3]\n",
    "third"
   ]
  },
  {
   "cell_type": "code",
   "execution_count": 4,
   "metadata": {},
   "outputs": [
    {
     "name": "stdout",
     "output_type": "stream",
     "text": [
      "1\n",
      "[ 2, 3, 4 ]\n"
     ]
    }
   ],
   "source": [
    "let [head, ...tail] = [1, 2, 3, 4]\n",
    "console.log(head);\n",
    "console.log(tail);"
   ]
  },
  {
   "cell_type": "code",
   "execution_count": 6,
   "metadata": {},
   "outputs": [
    {
     "name": "stdout",
     "output_type": "stream",
     "text": [
      "a\n",
      "[]\n"
     ]
    }
   ],
   "source": [
    "let [x,  ...z] = [\"a\"]\n",
    "console.log(x);\n",
    "console.log(z);"
   ]
  },
  {
   "cell_type": "code",
   "execution_count": 7,
   "metadata": {},
   "outputs": [
    {
     "name": "stdout",
     "output_type": "stream",
     "text": [
      "a\n"
     ]
    }
   ],
   "source": [
    "let [l, m, n] = new Set([\"a\", \"b\", \"c\"])\n",
    "l"
   ]
  },
  {
   "cell_type": "code",
   "execution_count": null,
   "metadata": {},
   "outputs": [],
   "source": [
    "function* fibs() {\n",
    "    let a = 0\n",
    "    let b = 1\n",
    "    while (true) {\n",
    "        yield a\n",
    "        [a, b] = [b, a+b]\n",
    "    }\n",
    "}\n",
    "\n",
    "let [first, second, , fourth, fifth] = fibs()\n",
    "fourth"
   ]
  },
  {
   "cell_type": "code",
   "execution_count": 10,
   "metadata": {},
   "outputs": [
    {
     "name": "stdout",
     "output_type": "stream",
     "text": [
      "true\n"
     ]
    }
   ],
   "source": [
    "let [f = true] = []\n",
    "f"
   ]
  },
  {
   "cell_type": "code",
   "execution_count": 11,
   "metadata": {},
   "outputs": [],
   "source": [
    "let [x1, y1 = \"b\"] = [\"a\"]\n",
    "let [x2, y2 = \"b\"] = [\"a\", undefined]\n"
   ]
  },
  {
   "cell_type": "code",
   "execution_count": 12,
   "metadata": {},
   "outputs": [
    {
     "name": "stdout",
     "output_type": "stream",
     "text": [
      "1\n"
     ]
    }
   ],
   "source": [
    "function foobar() {\n",
    "    console.log(\"惰性求值\");\n",
    "}\n",
    "\n",
    "let [x3 = foobar()] = [1]\n",
    "x3"
   ]
  },
  {
   "cell_type": "code",
   "execution_count": 13,
   "metadata": {},
   "outputs": [
    {
     "name": "stdout",
     "output_type": "stream",
     "text": [
      "aaa\n",
      "bbb\n"
     ]
    }
   ],
   "source": [
    "let { foo1, bar1 } = { foo1: \"aaa\", bar1: \"bbb\" }\n",
    "console.log(foo1);\n",
    "console.log(bar1);"
   ]
  },
  {
   "cell_type": "code",
   "execution_count": 14,
   "metadata": {},
   "outputs": [],
   "source": [
    "let { log, sin, cos } = Math\n"
   ]
  },
  {
   "cell_type": "code",
   "execution_count": 15,
   "metadata": {},
   "outputs": [
    {
     "name": "stdout",
     "output_type": "stream",
     "text": [
      "h\n",
      "e\n",
      "l\n",
      "l\n",
      "o\n"
     ]
    }
   ],
   "source": [
    "const [a1, b1, c1, d1, e1] = \"hello\"\n",
    "console.log(a1);\n",
    "console.log(b1);\n",
    "console.log(c1);\n",
    "console.log(d1);\n",
    "console.log(e1);"
   ]
  },
  {
   "cell_type": "code",
   "execution_count": 16,
   "metadata": {},
   "outputs": [
    {
     "name": "stdout",
     "output_type": "stream",
     "text": [
      "5\n"
     ]
    }
   ],
   "source": [
    "let { length: len } = \"hello\"\n",
    "len"
   ]
  },
  {
   "cell_type": "code",
   "execution_count": 17,
   "metadata": {},
   "outputs": [
    {
     "name": "stdout",
     "output_type": "stream",
     "text": [
      "true\n"
     ]
    }
   ],
   "source": [
    "let { toString: s } = 123\n",
    "s === Number.prototype.toString"
   ]
  },
  {
   "cell_type": "code",
   "execution_count": 18,
   "metadata": {},
   "outputs": [
    {
     "name": "stdout",
     "output_type": "stream",
     "text": [
      "3\n"
     ]
    }
   ],
   "source": [
    "function add([x, y]) {\n",
    "    return x + y\n",
    "}\n",
    "\n",
    "add([1, 2])"
   ]
  },
  {
   "cell_type": "code",
   "execution_count": null,
   "metadata": {},
   "outputs": [],
   "source": []
  }
 ],
 "metadata": {
  "kernelspec": {
   "display_name": "TypeScript",
   "name": "typescript"
  },
  "language_info": {
   "codemirror_mode": {
    "mode": "typescript",
    "name": "javascript",
    "typescript": true
   },
   "file_extension": ".ts",
   "mimetype": "text/typescript",
   "name": "typescript",
   "version": "3.7.2"
  },
  "orig_nbformat": 2
 },
 "nbformat": 4,
 "nbformat_minor": 2
}