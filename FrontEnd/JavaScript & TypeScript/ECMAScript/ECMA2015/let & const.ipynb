{
 "cells": [
  {
   "cell_type": "markdown",
   "metadata": {},
   "source": [
    "## let"
   ]
  },
  {
   "cell_type": "markdown",
   "metadata": {},
   "source": [
    "### 块级作用域"
   ]
  },
  {
   "cell_type": "code",
   "execution_count": 1,
   "metadata": {},
   "outputs": [
    {
     "name": "stderr",
     "output_type": "stream",
     "text": [
      "6:1 - Cannot find name 'a'.\n"
     ]
    }
   ],
   "source": [
    "{\n",
    "    let a = 10;\n",
    "    var b = 20;\n",
    "}\n",
    "\n",
    "a; // Reference error\n",
    "b; // 20"
   ]
  },
  {
   "cell_type": "code",
   "execution_count": 2,
   "metadata": {},
   "outputs": [
    {
     "name": "stdout",
     "output_type": "stream",
     "text": [
      "10\n"
     ]
    }
   ],
   "source": [
    "for (var i = 0; i < 10; i++) {\n",
    "    // ...\n",
    "}\n",
    "console.log(i);\n"
   ]
  },
  {
   "cell_type": "code",
   "execution_count": 3,
   "metadata": {},
   "outputs": [
    {
     "name": "stderr",
     "output_type": "stream",
     "text": [
      "4:13 - Cannot find name 'i'.\n"
     ]
    }
   ],
   "source": [
    "for (let i = 0; i < 10; i++) {\n",
    "    // ...\n",
    "}\n",
    "console.log(i); // Reference error"
   ]
  },
  {
   "cell_type": "code",
   "execution_count": 4,
   "metadata": {},
   "outputs": [
    {
     "name": "stdout",
     "output_type": "stream",
     "text": [
      "10\n"
     ]
    }
   ],
   "source": [
    "var a = []\n",
    "for (var i = 0; i < 10; i++){\n",
    "    a[i] = function () {\n",
    "        console.log(i);\n",
    "    }\n",
    "}\n",
    "a[6]() // 10"
   ]
  },
  {
   "cell_type": "code",
   "execution_count": 5,
   "metadata": {},
   "outputs": [
    {
     "name": "stdout",
     "output_type": "stream",
     "text": [
      "6\n"
     ]
    }
   ],
   "source": [
    "var a = [];\n",
    "for (let i = 0; i < 10; i++) {\n",
    "    a[i] = function () {\n",
    "        console.log(i);\n",
    "    };\n",
    "}\n",
    "a[6](); // 6"
   ]
  },
  {
   "cell_type": "markdown",
   "metadata": {},
   "source": [
    "### 不存在变量提升"
   ]
  },
  {
   "cell_type": "code",
   "execution_count": 6,
   "metadata": {},
   "outputs": [
    {
     "name": "stdout",
     "output_type": "stream",
     "text": [
      "undefined\n"
     ]
    }
   ],
   "source": [
    "console.log(foo);\n",
    "var foo = 2;"
   ]
  },
  {
   "cell_type": "code",
   "execution_count": 7,
   "metadata": {},
   "outputs": [
    {
     "name": "stderr",
     "output_type": "stream",
     "text": [
      "1:13 - Block-scoped variable 'bar' used before its declaration.\n"
     ]
    }
   ],
   "source": [
    "console.log(bar);\n",
    "let bar = 2;\n"
   ]
  },
  {
   "cell_type": "markdown",
   "metadata": {},
   "source": [
    "### 暂时性死区"
   ]
  },
  {
   "cell_type": "code",
   "execution_count": 8,
   "metadata": {},
   "outputs": [
    {
     "name": "stderr",
     "output_type": "stream",
     "text": [
      "4:5 - Block-scoped variable 'tmp' used before its declaration.\n"
     ]
    }
   ],
   "source": [
    "var tmp = 123\n",
    "\n",
    "if (true) {\n",
    "    tmp = \"abc\"\n",
    "    let tmp\n",
    "}"
   ]
  },
  {
   "cell_type": "markdown",
   "metadata": {},
   "source": [
    "### 不允许重复声明"
   ]
  },
  {
   "cell_type": "code",
   "execution_count": null,
   "metadata": {},
   "outputs": [],
   "source": [
    "function () {\n",
    "    let a = 10\n",
    "    var a = 1\n",
    "}\n",
    "\n",
    "function () {\n",
    "    let a = 10\n",
    "    let a = 1\n",
    "}"
   ]
  },
  {
   "cell_type": "markdown",
   "metadata": {},
   "source": [
    "### 块级作用域的嵌套"
   ]
  },
  {
   "cell_type": "code",
   "execution_count": 10,
   "metadata": {},
   "outputs": [
    {
     "name": "stderr",
     "output_type": "stream",
     "text": [
      "6:29 - Cannot find name 'foobar'.\n"
     ]
    }
   ],
   "source": [
    "{\n",
    "    {\n",
    "        {\n",
    "            {\n",
    "                { let foobar = \"Hello world\"; }\n",
    "                console.log(foobar);\n",
    "            }\n",
    "        }\n",
    "    }\n",
    "}"
   ]
  },
  {
   "cell_type": "code",
   "execution_count": null,
   "metadata": {},
   "outputs": [],
   "source": [
    "{\n",
    "    {\n",
    "        {\n",
    "            {\n",
    "                let insane = \"hello world\";\n",
    "                { let insane = \"hey\"; }\n",
    "            }\n",
    "        }\n",
    "    }\n",
    "}"
   ]
  },
  {
   "cell_type": "code",
   "execution_count": null,
   "metadata": {},
   "outputs": [],
   "source": [
    "(function () {\n",
    "    var tmp = \"IIFE写法\"\n",
    "}())\n",
    "\n",
    "{\n",
    "    let tmp = \"IIFE已然成为时代的眼泪\"\n",
    "}"
   ]
  },
  {
   "cell_type": "markdown",
   "metadata": {},
   "source": [
    "## const"
   ]
  },
  {
   "cell_type": "code",
   "execution_count": 11,
   "metadata": {},
   "outputs": [
    {
     "name": "stderr",
     "output_type": "stream",
     "text": [
      "2:1 - Cannot assign to 'PI' because it is a constant.\n"
     ]
    }
   ],
   "source": [
    "const PI = 3.14159\n",
    "PI = 3"
   ]
  },
  {
   "cell_type": "code",
   "execution_count": 12,
   "metadata": {},
   "outputs": [
    {
     "name": "stderr",
     "output_type": "stream",
     "text": [
      "1:7 - 'const' declarations must be initialized.\n"
     ]
    }
   ],
   "source": [
    "const x"
   ]
  },
  {
   "cell_type": "code",
   "execution_count": 13,
   "metadata": {},
   "outputs": [
    {
     "name": "stderr",
     "output_type": "stream",
     "text": [
      "4:1 - Cannot assign to 'y' because it is a constant.\n"
     ]
    }
   ],
   "source": [
    "const y = []\n",
    "y.push(\"hello\")\n",
    "y.length = 0\n",
    "y = [\"だめ\"]"
   ]
  },
  {
   "cell_type": "code",
   "execution_count": 14,
   "metadata": {},
   "outputs": [
    {
     "name": "stderr",
     "output_type": "stream",
     "text": [
      "2:3 - Property 'prop' does not exist on type 'Readonly<{}>'.\n"
     ]
    }
   ],
   "source": [
    "const z = Object.freeze({})\n",
    "z.prop = 123"
   ]
  },
  {
   "cell_type": "code",
   "execution_count": null,
   "metadata": {},
   "outputs": [],
   "source": [
    "var constantize = (obj) => {\n",
    "    Object.freeze(obj)\n",
    "    Object.keys(obj).forEach((key, index) => {\n",
    "        if (typeof obj[key] === \"object\") {\n",
    "            constantize(obj[key])\n",
    "        }\n",
    "    })\n",
    "}"
   ]
  }
 ],
 "metadata": {
  "kernelspec": {
   "display_name": "TypeScript",
   "name": "typescript"
  },
  "language_info": {
   "codemirror_mode": {
    "mode": "typescript",
    "name": "javascript",
    "typescript": true
   },
   "file_extension": ".ts",
   "mimetype": "text/typescript",
   "name": "typescript",
   "version": "3.7.2"
  },
  "orig_nbformat": 2
 },
 "nbformat": 4,
 "nbformat_minor": 2
}