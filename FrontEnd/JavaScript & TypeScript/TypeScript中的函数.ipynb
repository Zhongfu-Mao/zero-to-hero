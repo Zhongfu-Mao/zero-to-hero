{
 "cells": [
  {
   "cell_type": "markdown",
   "metadata": {},
   "source": [
    "## 参数"
   ]
  },
  {
   "cell_type": "markdown",
   "metadata": {},
   "source": [
    "### 默认参数"
   ]
  },
  {
   "cell_type": "code",
   "execution_count": null,
   "metadata": {},
   "outputs": [],
   "source": [
    "function getBiggerHeight(height: number, unit: string = 'px') {\n",
    "    return height * 2 + unit;\n",
    "}\n",
    "\n",
    "getBiggerHeight(20); // 获得40px\n",
    "getBiggerHeight(30, 'em'); // 获得60em"
   ]
  },
  {
   "cell_type": "markdown",
   "metadata": {},
   "source": [
    "### 可选参数"
   ]
  },
  {
   "cell_type": "code",
   "execution_count": null,
   "metadata": {},
   "outputs": [],
   "source": [
    "// 用户注册函数\n",
    "function register(name: string, password: string, age?: number) {\n",
    "    console.log(`记录注册信息-用户名：${name}，密码：${password}` + (age ? `，年龄：${age}` : ''));\n",
    "}\n",
    "\n",
    "register('Lcng', '1'); // 输出“记录注册信息-用户名：Lcng，密码：1”\n",
    "register('Lcng', '1', 3); // 输出“记录注册信息-用户名：Lcng，密码：1，年龄：3”"
   ]
  },
  {
   "cell_type": "markdown",
   "metadata": {},
   "source": [
    "### 剩余参数"
   ]
  },
  {
   "cell_type": "code",
   "execution_count": null,
   "metadata": {},
   "outputs": [],
   "source": [
    "// 添加联系方式\n",
    "function addContact(phone: string, ...addresses:string[]) {\n",
    "    console.log(`记录联系方式-电话号码：${phone}` + (addresses && addresses.length ? `，地址：${addresses.join(',')}` : ''));\n",
    "}\n",
    "\n",
    "addContact('13111111111'); // 输出“记录联系方式-电话号码：13111111111”\n",
    "\n",
    "// 输出“记录联系方式-电话号码：13111111111，地址：Baker Street 221B”\n",
    "addContact('13111111111', 'Baker Street 221B');\n",
    "\n",
    "// 输出“记录联系方式-电话号码：13111111111，地址：Baker Street 221B, Calle Bleeckrr 177A”\n",
    "addContact('13111111111', 'Baker Street 221B', 'Calle Bleeckrr 177A');\n",
    "\n",
    "// 错误：类型“string[]”的值不能赋给类型“string”的参数\n",
    "// addContact('13111111111', ['Baker Street 221B', 'Calle Bleeckrr 177A'])\n",
    "\n",
    "// 输出“记录联系方式-电话号码：13111111111，地址：Baker Street 221B, Calle Bleeckrr 177A”\n",
    "addContact('13111111111', ...['Baker Street 221B', 'Calle Bleeckrr 177A'])"
   ]
  },
  {
   "cell_type": "markdown",
   "metadata": {},
   "source": [
    "## 函数类型"
   ]
  },
  {
   "cell_type": "code",
   "execution_count": null,
   "metadata": {},
   "outputs": [],
   "source": [
    "// 加法函数\n",
    "function add(x: number, y: number): number {\n",
    "    return x + y;\n",
    "}\n",
    "\n",
    "let typeOfAdd = typeof (add); // 得到字符串function\n",
    "let myAdd: (x: number, y: number) => number = add;\n",
    "// let myAdd_2: function = add; // 错误，不存在类型function"
   ]
  },
  {
   "cell_type": "markdown",
   "metadata": {},
   "source": [
    "### 类型别名"
   ]
  },
  {
   "cell_type": "code",
   "execution_count": null,
   "metadata": {},
   "outputs": [],
   "source": [
    "type containingType = (x: string, y: string) => boolean;\n",
    "type comparingType = (x: string, y: string) => boolean;\n",
    "// 尽管以上两个类型别名是等价的，但我们不能使用等于号（“==”或“===”）对它们进行比较，因为等于号仅用于值的比较，而类型（别名）不是值\n",
    "\n",
    "// 判断指定字符串是否包含另一个子字符串的函数变量\n",
    "let contains: containingType = function (x: string, y: string): boolean {\n",
    "    return x.indexOf(y) > -1;\n",
    "}\n",
    "\n",
    "// 按字典顺序判断指定的一个字符串是否大于指定的另一个字符串\n",
    "let greaterThan: comparingType = function (x: string, y: string): boolean {\n",
    "    return x > y;\n",
    "}\n",
    "\n",
    "// 获取函数变量greaterThan的类型别名\n",
    "type greaterThanType = typeof greaterThan; // 获取编译时类型\n",
    "let typeOfGreaterThan: string = typeof greaterThan; // 获取运行时类型"
   ]
  },
  {
   "cell_type": "markdown",
   "metadata": {},
   "source": [
    "### 类型兼容"
   ]
  },
  {
   "cell_type": "code",
   "execution_count": null,
   "metadata": {},
   "outputs": [],
   "source": [
    "/**\n",
    " * 模拟jQuery中的ajax()函数\n",
    " * @param url 要访问的URL\n",
    " * @param callback 服务端返回响应后要执行的回调函数\n",
    " */\n",
    " function ajax(url: string, callback: (response: string, statusCode: number, statusText: string) => void) {\n",
    "    // 省略了异步请求\n",
    "\n",
    "    // 服务端返回响应后，执行调用方提供的回调函数\n",
    "    callback('服务端响应字符串', 0, '调用成功');\n",
    "}\n",
    "\n",
    "// 异步访问http://localhost:3000/ajax\n",
    "ajax('http://localhost:3000/ajax', function (res: string, code: number, text: string): void {\n",
    "    if (code !== 0) {\n",
    "        console.log('调用失败');\n",
    "        return;\n",
    "    }\n",
    "\n",
    "    console.log(res);\n",
    "});\n",
    "\n",
    "\n",
    "// 计算函数变量\n",
    "let calculate: (x: number, y: number, operator: string) => number;\n",
    "calculate = function (a: number, b: number): number {\n",
    "    return a + b;\n",
    "}\n",
    "// 错误，类型不兼容\n",
    "// calculate = function(a: string, b: string): number {\n",
    "//         return (a + b).length;\n",
    "// }\n",
    "\n",
    "/**************************参数类型兼容*****************************/\n",
    "calculate = function (x: any, y: any): number {\n",
    "    return x * y;\n",
    "}\n",
    "\n",
    "// 错误：类型number和null不兼容\n",
    "// calculate = function (x: null, y: null): number {\n",
    "//     return 0;\n",
    "// }\n",
    "/**************************返回类型兼容*****************************/\n",
    "calculate = function (x: number, y: number): any {\n",
    "    return x - y;\n",
    "}\n",
    "\n",
    "// 错误：类型undefined不兼容于number\n",
    "// calculate = function(x: number, y: number) : undefined {\n",
    "//     return undefined;\n",
    "// }\n",
    "\n",
    "\n",
    "/********兼容任何函数类型的函数类型(...args: any[]) => void*******/\n",
    "type baseType = (...args: any[]) => void;\n",
    "let func1: baseType = function () {\n",
    "    console.log('func1');\n",
    "}\n",
    "let func2: baseType = function (n: number, s: string): string {\n",
    "    return n + s;\n",
    "}\n",
    "let func3: baseType = function (b: boolean): boolean {\n",
    "    return !b;\n",
    "}\n",
    "let func4: baseType = function (): never {\n",
    "    throw 'error..';\n",
    "}"
   ]
  },
  {
   "cell_type": "markdown",
   "metadata": {},
   "source": [
    "## 函数重载"
   ]
  },
  {
   "cell_type": "code",
   "execution_count": null,
   "metadata": {},
   "outputs": [],
   "source": [
    "function add(x: number, y: number): number; // 加法运算函数\n",
    "function add(x: string, y: string): string; // 字符串拼接函数\n",
    "function add(x: any, y: any): any {\n",
    "    return x + y; // 加法运算或字符串拼接的实现\n",
    "}\n",
    "\n",
    "let sum: number = add(1, 3); // 得到3\n",
    "let fullName: string = add('L', 'cng'); // 得到Lcng\n",
    "\n",
    "// 错误，这看上去是在合法地调用类型为(x: any, y: any) => any的实现函数，但TypeScript编译器不允许实现函数被直接调用\n",
    "// let address: string = add('Baker Street', 211);\n",
    "\n",
    "\n",
    "function subtract(x: number, y: number): number; // 两个数的减法\n",
    "function subtract(x: number, y: number, z: number): number; // 三个数的减法\n",
    "function subtract(x: number, y: number, z?: number): number { // 参数z应是可选参数\n",
    "    return (z === null || z === undefined) ? (x - y) : (x - y - z)\n",
    "}\n",
    "\n",
    "let difference = subtract(1, 2); // 获得-1\n",
    "difference = subtract(1, 2, 3); // 获得-4\n",
    "// difference = subtract (1, 2, 3, 4); // 错误，subtract()函数没有接受4个参数的重载"
   ]
  }
 ],
 "metadata": {
  "kernelspec": {
   "display_name": "TypeScript",
   "name": "typescript"
  },
  "language_info": {
   "codemirror_mode": {
    "mode": "typescript",
    "name": "javascript",
    "typescript": true
   },
   "file_extension": ".ts",
   "mimetype": "text/typescript",
   "name": "typescript",
   "version": "3.7.2"
  },
  "orig_nbformat": 2
 },
 "nbformat": 4,
 "nbformat_minor": 2
}