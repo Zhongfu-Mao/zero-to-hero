{
 "cells": [
  {
   "cell_type": "code",
   "execution_count": null,
   "metadata": {},
   "outputs": [],
   "source": [
    "function add<T>(x: T, y: T): T {\n",
    "    let result: T = (x as any) + (y as any);\n",
    "    return result;\n",
    "}\n",
    "\n",
    "let sum = add<number>(1, 2); // 得到数字3\n",
    "let concatenation = add<string>('1', '2'); // 得到字符串12\n",
    "\n",
    "// let result = add<number>(1, true); // 错误，布尔值true的类型不是number\n",
    "let result1 = add<boolean>(true, true); // 得到数字2"
   ]
  },
  {
   "cell_type": "markdown",
   "metadata": {},
   "source": [
    "泛型函数（Generic Function），其名字后面的一对尖括号及尖括号内的字母T是其作为泛型函数的标志。  \n",
    "其中，字母T称为类型参数（Type Parameter），代表一个（定义时未知的）类型，在整个函数的定义过程中都可以当作类型使用"
   ]
  },
  {
   "cell_type": "code",
   "execution_count": null,
   "metadata": {},
   "outputs": [],
   "source": [
    "// 使用类型约束\n",
    "function add<T extends number | string>(x: T, y: T): T {\n",
    "    return (x as any) + (y as any);\n",
    "}\n",
    "\n",
    "let sum = add(1, 2); // 得到数字3\n",
    "let concatenation = add('1', '2'); // 得到字符串12\n",
    "// let result = add<boolean>(true, true); // 错误，boolean不兼容于number | string\n",
    "// let result1 = add(false, false); // 错误，推断类型Boolean不兼容于number | string\n",
    "\n",
    "class Biology {\n",
    "    name: string;\n",
    "}\n",
    "\n",
    "class ObjectFactory<T extends Biology> {\n",
    "    constructor(constructor: new () => T) {\n",
    "    }\n",
    "    // ...省略的代码\n",
    "}"
   ]
  },
  {
   "cell_type": "markdown",
   "metadata": {},
   "source": [
    "## 接口"
   ]
  },
  {
   "cell_type": "markdown",
   "metadata": {},
   "source": [
    "### 对象接口"
   ]
  },
  {
   "cell_type": "code",
   "execution_count": null,
   "metadata": {},
   "outputs": [],
   "source": [
    "// 计算器对象接口\n",
    "interface ICalculator<T> {\n",
    "    add(x: T, y: T): T;\n",
    "}\n",
    "\n",
    "// 数字计算器类\n",
    "class NumericCalculator implements ICalculator<number> {\n",
    "    add(x: number, y: number): number {\n",
    "        return x + y;\n",
    "    }\n",
    "}\n",
    "\n",
    "// 字符串计算器类\n",
    "class StringCalculator implements ICalculator<string> {\n",
    "    add(x: string, y: string): string {\n",
    "        return x + y;\n",
    "    }\n",
    "}\n",
    "\n",
    "// 泛型计算器类\n",
    "class Calculator<T> implements ICalculator<number> {\n",
    "    add(x: number, y: number): number {\n",
    "        return (x as any) + (y as any);\n",
    "    }\n",
    "}\n",
    "\n",
    "// 另一个泛型计算器类\n",
    "class Calculator1<T> implements ICalculator<T> {\n",
    "    add(x: T, y: T): T {\n",
    "        return (x as any) + (y as any);\n",
    "    }\n",
    "}"
   ]
  },
  {
   "cell_type": "markdown",
   "metadata": {},
   "source": [
    "### 函数接口"
   ]
  },
  {
   "cell_type": "code",
   "execution_count": null,
   "metadata": {},
   "outputs": [],
   "source": [
    "// 泛型函数add()的类型接口\n",
    "interface TypeOfAdd<T> {\n",
    "    (x: T, y: T): T;\n",
    "}\n",
    "\n",
    "let add: TypeOfAdd<number> = (x: number, y: number) => x + y; // 数字加法运算函数\n",
    "let add1: TypeOfAdd<string> = (x: string, y: string) => x + y; // 字符串拼接函数\n",
    "\n",
    "let add2: <T>(x: T, y: T) => T;\n",
    "add2 = <T>(x: T, y: T) => (x as any) + (y as any); // 数字加法运算或字符串拼接函数\n",
    "add2<number>(1, 2); // 得到数字3\n",
    "add2<string>('1', '2'); // 得到字符串12"
   ]
  },
  {
   "cell_type": "markdown",
   "metadata": {},
   "source": [
    "### 类接口"
   ]
  },
  {
   "cell_type": "code",
   "execution_count": null,
   "metadata": {},
   "outputs": [],
   "source": [
    "// 泛型计算器类\n",
    "class Calculator<T>  {\n",
    "    add(x: T, y: T): T {\n",
    "        return (x as any) + (y as any);\n",
    "    }\n",
    "}\n",
    "\n",
    "// 泛型计算器类的类型接口\n",
    "interface TypeOfCalculator {\n",
    "    new <T>(): Calculator<T>\n",
    "}\n",
    "\n",
    "// 定义值为泛型计算器类的变量，并使用它来创建计算器对象\n",
    "let genericCalculator: TypeOfCalculator = Calculator;\n",
    "let calculator: Calculator<number> = new genericCalculator<number>();\n",
    "calculator.add(1, 2); // 得到数字3"
   ]
  }
 ],
 "metadata": {
  "kernelspec": {
   "display_name": "TypeScript",
   "name": "typescript"
  },
  "language_info": {
   "name": "typescript"
  },
  "orig_nbformat": 2
 },
 "nbformat": 4,
 "nbformat_minor": 2
}