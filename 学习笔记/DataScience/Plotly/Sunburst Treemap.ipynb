{
 "metadata": {
  "language_info": {
   "codemirror_mode": {
    "name": "ipython",
    "version": 3
   },
   "file_extension": ".py",
   "mimetype": "text/x-python",
   "name": "python",
   "nbconvert_exporter": "python",
   "pygments_lexer": "ipython3",
   "version": 3
  },
  "orig_nbformat": 2
 },
 "nbformat": 4,
 "nbformat_minor": 2,
 "cells": [
  {
   "source": [
    "* [Sunburst Parameters](https://plotly.com/python-api-reference/generated/plotly.express.sunburst.html)\n",
    "* [Plotly Sunburst Examples](https://plotly.com/python/sunburst-charts/)\n",
    "* [Plotly Sunburst Complete Parameters](https://plotly.com/python/reference/#sunburst)\n",
    "* [Continuous Color Scales](https://plotly.com/python/builtin-colorscales/)\n",
    "* [Discrete Color Scales](https://plotly.com/python/discrete-color/)"
   ],
   "cell_type": "markdown",
   "metadata": {}
  },
  {
   "cell_type": "code",
   "execution_count": null,
   "metadata": {},
   "outputs": [],
   "source": [
    "import plotly.express as px\n",
    "import pandas as pd\n",
    "import numpy as np"
   ]
  },
  {
   "cell_type": "code",
   "execution_count": null,
   "metadata": {},
   "outputs": [],
   "source": [
    "df = pd.read_csv(\"../dataset/Plotly/MPVDataset.csv\")\n",
    "df[\"Victim's age\"] = pd.to_numeric(df[\"Victim's age\"], errors='coerce').fillna(0).astype(np.int64)\n",
    "df.rename(columns={'Fleeing (Source: WaPo)': 'Fleeing'}, inplace=True)\n",
    "\n",
    "df = df[df[\"State\"].isin(['NY', 'CA', 'TX'])]\n",
    "df = df[df[\"Victim's race\"].isin([\"White\", \"Black\", \"Hispanic\", \"Asian\"])]"
   ]
  },
  {
   "cell_type": "code",
   "execution_count": null,
   "metadata": {},
   "outputs": [],
   "source": [
    "fig = px.sunburst(\n",
    "    data_frame=df,\n",
    "    path=[\"Unarmed\", 'State', \"Victim's race\"],  # Root, branches, leaves\n",
    "    color=\"Unarmed\",\n",
    "    color_discrete_sequence=px.colors.qualitative.Pastel,\n",
    "    # maxdepth=-1,                        # set the sectors rendered. -1 will render all levels in the hierarchy\n",
    "    # color=\"Victim's age\",\n",
    "    # color_continuous_scale=px.colors.sequential.BuGn,\n",
    "    # range_color=[10,100],\n",
    "\n",
    "    # branchvalues=\"total\",               # or 'remainder'\n",
    "    # hover_name=\"Unarmed\",\n",
    "    # # hover_data={'Unarmed': False},    # remove column name from tooltip  (Plotly version >= 4.8.0)\n",
    "    # title=\"7-year Breakdown of Deaths by Police\",\n",
    "    # template='ggplot2',               # 'ggplot2', 'seaborn', 'simple_white', 'plotly',\n",
    "    #                                   # 'plotly_white', 'plotly_dark', 'presentation',\n",
    "    #                                   # 'xgridoff', 'ygridoff', 'gridon', 'none'\n",
    ")\n",
    "\n",
    "fig.update_traces(textinfo='label+percent entry')\n",
    "fig.update_layout(margin=dict(t=0, l=0, r=0, b=0))\n",
    "\n",
    "fig.show()"
   ]
  }
 ]
}