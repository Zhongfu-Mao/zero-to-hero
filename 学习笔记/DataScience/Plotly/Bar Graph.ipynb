{
 "metadata": {
  "language_info": {
   "codemirror_mode": {
    "name": "ipython",
    "version": 3
   },
   "file_extension": ".py",
   "mimetype": "text/x-python",
   "name": "python",
   "nbconvert_exporter": "python",
   "pygments_lexer": "ipython3",
   "version": "3.8.6-final"
  },
  "orig_nbformat": 2,
  "kernelspec": {
   "name": "Python 3.8.6 64-bit",
   "display_name": "Python 3.8.6 64-bit",
   "metadata": {
    "interpreter": {
     "hash": "082e9a3bcad0a290d0001e938aa60b99250c6c2ef33a923c00b70f9826caf4b7"
    }
   }
  }
 },
 "nbformat": 4,
 "nbformat_minor": 2,
 "cells": [
  {
   "source": [
    "* [Bar Graph with Plotly Express](https://plotly.com/python-api-reference/generated/plotly.express.bar.html)\n",
    "* [Plotly Continuous Color Scale](https://plotly.com/python/builtin-colorscales/)\n",
    "* [Plotly Animations](https://plotly.com/python/animations/)\n",
    "* [Graphs Update_Layout](https://plotly.com/python-api-reference/generated/plotly.graph_objects.Layout.html#plotly.graph_objects.Layout)\n",
    "* [Graphs Update_Traces](https://plotly.com/python-api-reference/generated/plotly.graph_objects.Bar.html#plotly.graph_objects.Bar)\n"
   ],
   "cell_type": "markdown",
   "metadata": {}
  },
  {
   "cell_type": "code",
   "execution_count": 1,
   "metadata": {},
   "outputs": [],
   "source": [
    "import pandas as pd\n",
    "import plotly\n",
    "import plotly.express as px\n",
    "import plotly.io as pio"
   ]
  },
  {
   "cell_type": "code",
   "execution_count": 3,
   "metadata": {},
   "outputs": [],
   "source": [
    "df = pd.read_csv(\"../dataset/Plotly/Caste.csv\")\n",
    "df = df[df['state_name']=='Maharashtra']\n",
    "df = df.groupby(['year','gender',],as_index=False)[['detenues','under_trial','convicts','others']].sum()"
   ]
  },
  {
   "cell_type": "code",
   "execution_count": 4,
   "metadata": {},
   "outputs": [
    {
     "output_type": "execute_result",
     "data": {
      "text/plain": [
       "   year  gender  detenues  under_trial  convicts  others\n",
       "0  2001  Female         1          583       279       0\n",
       "1  2001    Male       364        14863      6433       4\n",
       "2  2002  Female         8          648       311       0\n",
       "3  2002    Male       299        13869      6887       0\n",
       "4  2003  Female         1          728       390       0"
      ],
      "text/html": "<div>\n<style scoped>\n    .dataframe tbody tr th:only-of-type {\n        vertical-align: middle;\n    }\n\n    .dataframe tbody tr th {\n        vertical-align: top;\n    }\n\n    .dataframe thead th {\n        text-align: right;\n    }\n</style>\n<table border=\"1\" class=\"dataframe\">\n  <thead>\n    <tr style=\"text-align: right;\">\n      <th></th>\n      <th>year</th>\n      <th>gender</th>\n      <th>detenues</th>\n      <th>under_trial</th>\n      <th>convicts</th>\n      <th>others</th>\n    </tr>\n  </thead>\n  <tbody>\n    <tr>\n      <th>0</th>\n      <td>2001</td>\n      <td>Female</td>\n      <td>1</td>\n      <td>583</td>\n      <td>279</td>\n      <td>0</td>\n    </tr>\n    <tr>\n      <th>1</th>\n      <td>2001</td>\n      <td>Male</td>\n      <td>364</td>\n      <td>14863</td>\n      <td>6433</td>\n      <td>4</td>\n    </tr>\n    <tr>\n      <th>2</th>\n      <td>2002</td>\n      <td>Female</td>\n      <td>8</td>\n      <td>648</td>\n      <td>311</td>\n      <td>0</td>\n    </tr>\n    <tr>\n      <th>3</th>\n      <td>2002</td>\n      <td>Male</td>\n      <td>299</td>\n      <td>13869</td>\n      <td>6887</td>\n      <td>0</td>\n    </tr>\n    <tr>\n      <th>4</th>\n      <td>2003</td>\n      <td>Female</td>\n      <td>1</td>\n      <td>728</td>\n      <td>390</td>\n      <td>0</td>\n    </tr>\n  </tbody>\n</table>\n</div>"
     },
     "metadata": {},
     "execution_count": 4
    }
   ],
   "source": [
    "df.head()"
   ]
  },
  {
   "cell_type": "code",
   "execution_count": 5,
   "metadata": {},
   "outputs": [],
   "source": [
    "#fake margin of error, standard deviation, or 95% confidence interval\n",
    "df['err_plus'] = df['convicts']/100\n",
    "df['err_minus'] = df['convicts']/40"
   ]
  },
  {
   "cell_type": "code",
   "execution_count": 6,
   "metadata": {},
   "outputs": [],
   "source": [
    "barchart = px.bar(\n",
    "    data_frame=df,\n",
    "    x=\"year\",\n",
    "    y=\"convicts\",\n",
    "    color=\"gender\",               # differentiate color of marks\n",
    "    opacity=0.9,                  # set opacity of markers (from 0 to 1)\n",
    "    orientation=\"v\",              # 'v','h': orientation of the marks\n",
    "    barmode='relative',           # in 'overlay' mode, bars are top of one another.\n",
    "                                  # in 'group' mode, bars are placed beside each other.\n",
    "                                  # in 'relative' mode, bars are stacked above (+) or below (-) zero.\n",
    "    #----------------------------------------------------------------------------------------------\n",
    "    # facet_row='caste',          # assign marks to subplots in the vertical direction\n",
    "    # facet_col='caste',          # assigns marks to subplots in the horizontal direction\n",
    "    # facet_col_wrap=2,           # maximum number of subplot columns. Do not set facet_row!\n",
    "\n",
    "    # color_discrete_sequence=[\"pink\",\"yellow\"],               # set specific marker colors. Color-colum data cannot be numeric\n",
    "    # color_discrete_map={\"Male\": \"gray\" ,\"Female\":\"red\"},     # map your chosen colors\n",
    "    # color_continuous_scale=px.colors.diverging.Picnic,       # set marker colors. When color colum is numeric data\n",
    "    # color_continuous_midpoint=100,                           # set desired midpoint. When colors=diverging\n",
    "    # range_color=[1,10000],                                   # set your own continuous color scale\n",
    "    #----------------------------------------------------------------------------------------------\n",
    "    # text='convicts',            # values appear in figure as text labels\n",
    "    # hover_name='under_trial',   # values appear in bold in the hover tooltip\n",
    "    # hover_data=['detenues'],    # values appear as extra data in the hover tooltip\n",
    "    # custom_data=['others'],     # invisible values that are extra data to be used in Dash callbacks or widgets\n",
    "\n",
    "    # log_x=True,                 # x-axis is log-scaled\n",
    "    # log_y=True,                 # y-axis is log-scaled\n",
    "    # error_y=\"err_plus\",         # y-axis error bars are symmetrical or for positive direction\n",
    "    # error_y_minus=\"err_minus\",  # y-axis error bars in the negative direction\n",
    "\n",
    "    labels={\"convicts\":\"Convicts in Maharashtra\",\n",
    "    \"gender\":\"Gender\"},           # map the labels of the figure\n",
    "    title='Indian Prison Statistics', # figure title\n",
    "    width=1400,                   # figure width in pixels\n",
    "    height=720,                   # figure height in pixels\n",
    "    template='gridon',            # 'ggplot2', 'seaborn', 'simple_white', 'plotly',\n",
    "                                  # 'plotly_white', 'plotly_dark', 'presentation',\n",
    "                                  # 'xgridoff', 'ygridoff', 'gridon', 'none'\n",
    "\n",
    "    # animation_frame='year',     # assign marks to animation frames\n",
    "    # # animation_group=,         # use only when df has multiple rows with same object\n",
    "    # # range_x=[5,50],           # set range of x-axis\n",
    "    # range_y=[0,9000],           # set range of x-axis\n",
    "    # category_orders={'year':    # force a specific ordering of values per column\n",
    "    # [2013,2012,2011,2010,2009,2008,2007,2006,2005,2004,2003,2002,2001]},\n",
    "\n",
    ")"
   ]
  },
  {
   "cell_type": "code",
   "execution_count": 7,
   "metadata": {},
   "outputs": [
    {
     "output_type": "display_data",
     "data": {
      "application/vnd.plotly.v1+json": {
       "config": {
        "plotlyServerURL": "https://plotly.com"
       },
       "data": [
        {
         "alignmentgroup": "True",
         "hovertemplate": "Gender=Female<br>year=%{x}<br>Convicts in Maharashtra=%{y}<extra></extra>",
         "legendgroup": "Female",
         "marker": {
          "color": "#1F77B4",
          "opacity": 0.9
         },
         "name": "Female",
         "offsetgroup": "Female",
         "orientation": "v",
         "showlegend": true,
         "textposition": "auto",
         "type": "bar",
         "x": [
          2001,
          2002,
          2003,
          2004,
          2005,
          2006,
          2007,
          2008,
          2009,
          2010,
          2011,
          2012,
          2013
         ],
         "xaxis": "x",
         "y": [
          279,
          311,
          390,
          484,
          463,
          449,
          511,
          499,
          529,
          449,
          461,
          457,
          437
         ],
         "yaxis": "y"
        },
        {
         "alignmentgroup": "True",
         "hovertemplate": "Gender=Male<br>year=%{x}<br>Convicts in Maharashtra=%{y}<extra></extra>",
         "legendgroup": "Male",
         "marker": {
          "color": "#FF7F0E",
          "opacity": 0.9
         },
         "name": "Male",
         "offsetgroup": "Male",
         "orientation": "v",
         "showlegend": true,
         "textposition": "auto",
         "type": "bar",
         "x": [
          2001,
          2002,
          2003,
          2004,
          2005,
          2006,
          2007,
          2008,
          2009,
          2010,
          2011,
          2012,
          2013
         ],
         "xaxis": "x",
         "y": [
          6433,
          6887,
          7825,
          8447,
          8766,
          8700,
          8692,
          8665,
          8093,
          7690,
          7491,
          7569,
          7604
         ],
         "yaxis": "y"
        }
       ],
       "layout": {
        "barmode": "relative",
        "height": 720,
        "legend": {
         "title": {
          "text": "Gender"
         },
         "tracegroupgap": 0
        },
        "template": {
         "data": {
          "pie": [
           {
            "automargin": true,
            "type": "pie"
           }
          ]
         },
         "layout": {
          "xaxis": {
           "showgrid": true,
           "title": {
            "standoff": 15
           }
          },
          "yaxis": {
           "showgrid": true,
           "title": {
            "standoff": 15
           }
          }
         }
        },
        "title": {
         "text": "Indian Prison Statistics"
        },
        "width": 1400,
        "xaxis": {
         "anchor": "y",
         "domain": [
          0,
          1
         ],
         "title": {
          "text": "year"
         }
        },
        "yaxis": {
         "anchor": "x",
         "domain": [
          0,
          1
         ],
         "title": {
          "text": "Convicts in Maharashtra"
         }
        }
       }
      }
     },
     "metadata": {}
    }
   ],
   "source": [
    "# barchart.layout.updatemenus[0].buttons[0].args[1]['frame']['duration'] = 1000\n",
    "# barchart.layout.updatemenus[0].buttons[0].args[1]['transition']['duration'] = 500\n",
    "\n",
    "# barchart.update_layout(uniformtext_minsize=14, uniformtext_mode='hide',\n",
    "#                        legend={'x':0,'y':1.0}),\n",
    "# barchart.update_traces(texttemplate='%{text:.2s}', textposition='outside',\n",
    "#                        width=[.3,.3,.3,.3,.3,.3,.6,.3,.3,.3,.3,.3,.3])\n",
    "pio.show(barchart)\n"
   ]
  },
  {
   "cell_type": "code",
   "execution_count": null,
   "metadata": {},
   "outputs": [],
   "source": []
  }
 ]
}