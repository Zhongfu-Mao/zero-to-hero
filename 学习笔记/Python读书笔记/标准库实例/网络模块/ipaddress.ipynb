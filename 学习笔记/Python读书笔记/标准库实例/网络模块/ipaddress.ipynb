{
 "cells": [
  {
   "cell_type": "code",
   "execution_count": 1,
   "metadata": {},
   "outputs": [],
   "source": [
    "import binascii\n",
    "import ipaddress"
   ]
  },
  {
   "cell_type": "code",
   "execution_count": 2,
   "metadata": {},
   "outputs": [
    {
     "output_type": "stream",
     "name": "stdout",
     "text": "IPv4Address('10.9.0.6')\n    IP version: 4\n    is private: True\n    packed form:b'0a090006'\n    integer:168361990\nIPv6Address('fdfd:87b5:b475:5e3e:b1bc:e121:a8eb:12aa')\n    IP version: 6\n    is private: True\n    packed form:b'fdfd87b5b4755e3eb1bce121a8eb12aa'\n    integer:337611086560236126439725644408160981674\n"
    }
   ],
   "source": [
    "ADDRESSES = [\n",
    "    \"10.9.0.6\",\n",
    "    \"fdfd:87b5:b475:5e3e:b1bc:e121:a8eb:12aa\"\n",
    "]\n",
    "\n",
    "for ip in ADDRESSES:\n",
    "    addr = ipaddress.ip_address(ip)\n",
    "    print(f\"{addr!r}\")\n",
    "    print(f\"    IP version: {addr.version}\")\n",
    "    print(f\"    is private: {addr.is_private}\")\n",
    "    print(f\"    packed form:{binascii.hexlify(addr.packed)}\")\n",
    "    print(f\"    integer:{int(addr)}\")"
   ]
  },
  {
   "cell_type": "code",
   "execution_count": 3,
   "metadata": {},
   "outputs": [
    {
     "output_type": "stream",
     "name": "stdout",
     "text": "IPv4Network('10.9.0.0/24')\n     is private: True\n      broadcast: 10.9.0.255\n     compressed: 10.9.0.0/24\n   with netmask: 10.9.0.0/255.255.255.0\n  with hostmask: 10.9.0.0/0.0.0.255\n  num addresses: 256\n\nIPv6Network('fdfd:87b5:b475:5e3e::/64')\n     is private: True\n      broadcast: fdfd:87b5:b475:5e3e:ffff:ffff:ffff:ffff\n     compressed: fdfd:87b5:b475:5e3e::/64\n   with netmask: fdfd:87b5:b475:5e3e::/ffff:ffff:ffff:ffff::\n  with hostmask: fdfd:87b5:b475:5e3e::/::ffff:ffff:ffff:ffff\n  num addresses: 18446744073709551616\n\n"
    }
   ],
   "source": [
    "NETWORKS = [\n",
    "    '10.9.0.0/24',\n",
    "    'fdfd:87b5:b475:5e3e::/64',\n",
    "]\n",
    "\n",
    "for n in NETWORKS:\n",
    "    net = ipaddress.ip_network(n)\n",
    "    print('{!r}'.format(net))\n",
    "    print('     is private:', net.is_private)\n",
    "    print('      broadcast:', net.broadcast_address)\n",
    "    print('     compressed:', net.compressed)\n",
    "    print('   with netmask:', net.with_netmask)\n",
    "    print('  with hostmask:', net.with_hostmask)\n",
    "    print('  num addresses:', net.num_addresses)\n",
    "    print()"
   ]
  },
  {
   "cell_type": "code",
   "execution_count": null,
   "metadata": {},
   "outputs": [],
   "source": []
  }
 ],
 "metadata": {
  "language_info": {
   "codemirror_mode": {
    "name": "ipython",
    "version": 3
   },
   "file_extension": ".py",
   "mimetype": "text/x-python",
   "name": "python",
   "nbconvert_exporter": "python",
   "pygments_lexer": "ipython3",
   "version": "3.7.4-final"
  },
  "orig_nbformat": 2,
  "kernelspec": {
   "name": "python3",
   "display_name": "Python 3"
  }
 },
 "nbformat": 4,
 "nbformat_minor": 2
}