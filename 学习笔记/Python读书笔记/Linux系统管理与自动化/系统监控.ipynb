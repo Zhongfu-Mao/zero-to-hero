{
 "cells": [
  {
   "cell_type": "markdown",
   "metadata": {},
   "source": [
    "# glances\n",
    "* h：显示帮助信息；\n",
    "* q：离开程序退出；\n",
    "* c：按照CPU实时负载对系统进程排序；\n",
    "* m：按照内存使用状况对系统进程排序；\n",
    "* i：按照I/O使用状况对系统进程排序；\n",
    "* p：按照进程名称排序；\n",
    "* d：显示或隐藏磁盘读写状况；\n",
    "* f：显示或隐藏文件系统信息；\n",
    "* 1：分开显示每个CPU的使用情况。"
   ]
  },
  {
   "cell_type": "markdown",
   "metadata": {},
   "source": [
    "# psutil"
   ]
  },
  {
   "cell_type": "code",
   "execution_count": null,
   "metadata": {},
   "outputs": [],
   "source": [
    "import psutil\n",
    "\n",
    "psutil.cpu_count()\n",
    "psutil.cpu_count(logical=False)\n",
    "psutil.cpu_percent()\n",
    "psutil.cpu_percent(percpu=True)\n",
    "psutil.cpu_percent(interval=5, percpu=True)\n",
    "psutil.cpu_times()\n",
    "psutil.cpu_times_percent()"
   ]
  },
  {
   "cell_type": "code",
   "execution_count": null,
   "metadata": {},
   "outputs": [],
   "source": [
    "psutil.virtual_memory()"
   ]
  },
  {
   "cell_type": "code",
   "execution_count": null,
   "metadata": {},
   "outputs": [],
   "source": [
    "def bytes2human(n):\n",
    "    symbols = [\"K\", \"M\", \"G\", \"T\", \"P\"]\n",
    "    prefix = {}\n",
    "    for i, s in enumerate(symbols):\n",
    "        prefix[s] = 1 << (i + 1) * 10\n",
    "    for s in reversed(symbols):\n",
    "        if n >= prefix[s]:\n",
    "            value = float(n) / prefix[s]\n",
    "            return f\"{value:.1f}{s}\"\n",
    "    return f\"{n}B\"\n",
    "\n",
    "bytes2human(psutil.virtual_memory().total)"
   ]
  },
  {
   "cell_type": "code",
   "execution_count": null,
   "metadata": {},
   "outputs": [],
   "source": [
    "psutil.swap_memory()"
   ]
  },
  {
   "cell_type": "code",
   "execution_count": null,
   "metadata": {},
   "outputs": [],
   "source": [
    "psutil.disk_partitions()\n",
    "psutil.disk_usage(\"/\")\n",
    "psutil.disk_io_counters()\n",
    "psutil.disk_io_counters(perdisk=True)"
   ]
  },
  {
   "cell_type": "code",
   "execution_count": null,
   "metadata": {},
   "outputs": [],
   "source": [
    "psutil.net_io_counters()\n",
    "psutil.net_io_counters(pernic=True)\n",
    "psutil.net_connections() # On macOS, need root privileges"
   ]
  },
  {
   "cell_type": "code",
   "execution_count": 20,
   "metadata": {},
   "outputs": [
    {
     "output_type": "execute_result",
     "data": {
      "text/plain": "'2020-05-30 11:54:56'"
     },
     "metadata": {},
     "execution_count": 20
    }
   ],
   "source": [
    "import datetime as dt\n",
    "dt.datetime.fromtimestamp(psutil.boot_time()).strftime(\"%Y-%m-%d %H:%M:%S\")"
   ]
  },
  {
   "cell_type": "code",
   "execution_count": null,
   "metadata": {},
   "outputs": [],
   "source": []
  }
 ],
 "metadata": {
  "language_info": {
   "codemirror_mode": {
    "name": "ipython",
    "version": 3
   },
   "file_extension": ".py",
   "mimetype": "text/x-python",
   "name": "python",
   "nbconvert_exporter": "python",
   "pygments_lexer": "ipython3",
   "version": "3.7.4-final"
  },
  "orig_nbformat": 2,
  "kernelspec": {
   "name": "python3",
   "display_name": "Python 3"
  }
 },
 "nbformat": 4,
 "nbformat_minor": 2
}