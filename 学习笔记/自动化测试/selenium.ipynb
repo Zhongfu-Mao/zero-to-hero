{
 "metadata": {
  "language_info": {
   "codemirror_mode": {
    "name": "ipython",
    "version": 3
   },
   "file_extension": ".py",
   "mimetype": "text/x-python",
   "name": "python",
   "nbconvert_exporter": "python",
   "pygments_lexer": "ipython3",
   "version": 3
  },
  "orig_nbformat": 2
 },
 "nbformat": 4,
 "nbformat_minor": 2,
 "cells": [
  {
   "cell_type": "markdown",
   "metadata": {},
   "source": [
    "# Python + Selenium"
   ]
  },
  {
   "cell_type": "markdown",
   "metadata": {},
   "source": [
    "## 基础命令"
   ]
  },
  {
   "cell_type": "code",
   "execution_count": null,
   "metadata": {},
   "outputs": [],
   "source": [
    "from selenium import webdriver\n",
    "from selenium.webdriver.common.keys import Keys\n",
    "\n",
    "chrome_driver = webdriver.Chrome()"
   ]
  },
  {
   "cell_type": "code",
   "execution_count": null,
   "metadata": {},
   "outputs": [],
   "source": [
    "# 前往, 后退, 前进, 刷新, 退出\n",
    "url = \"youtube.com\"\n",
    "chrome_driver.get(f\"http://{url}\")\n",
    "chrome_driver.back()\n",
    "chrome_driver.forward()\n",
    "chrome_driver.refresh()\n",
    "chrome_driver.close()  # 当前浏览器\n",
    "chrome_driver.quit()  # 所有浏览器"
   ]
  },
  {
   "cell_type": "code",
   "execution_count": null,
   "metadata": {},
   "outputs": [],
   "source": [
    "chrome_driver.maximize_window()\n",
    "chrome_driver.set_window_size(length:int, height:int)"
   ]
  },
  {
   "cell_type": "code",
   "execution_count": null,
   "metadata": {},
   "outputs": [],
   "source": [
    "# 当前窗口标题\n",
    "chrome_driver.title\n",
    "# 当前窗口URL\n",
    "chrome_driver.current_url\n",
    "# 页面的HTML代码\n",
    "chrome_driver.page_source\n",
    "# 获取截图\n",
    "chrome_driver.get_screenshot_as_file(f'{filename}')"
   ]
  },
  {
   "cell_type": "markdown",
   "metadata": {},
   "source": [
    "## 等待"
   ]
  },
  {
   "cell_type": "markdown",
   "metadata": {},
   "source": [
    "### implicit"
   ]
  },
  {
   "cell_type": "code",
   "execution_count": null,
   "metadata": {},
   "outputs": [],
   "source": [
    "# 以秒为单位,如果没有找到每隔0.5秒就再次执行查找,直到达到上限\n",
    "chrome_driver.implicitly_wait(time_to_wait)"
   ]
  },
  {
   "cell_type": "markdown",
   "metadata": {},
   "source": [
    "### explicit"
   ]
  },
  {
   "cell_type": "code",
   "execution_count": null,
   "metadata": {},
   "outputs": [],
   "source": [
    "from selenium.webdriver.support import expected_conditions as EC\n",
    "from selenium.webdriver.support.ui import WebDriverWait"
   ]
  },
  {
   "cell_type": "code",
   "execution_count": null,
   "metadata": {},
   "outputs": [],
   "source": [
    "wait = WebDriverWait(chrome_driver, timeout)\n",
    "element = wait.until(EC.element_to_be_clickable(chrome_driver.find_element_by_xpath()))\n",
    "element.click()"
   ]
  },
  {
   "cell_type": "markdown",
   "metadata": {},
   "source": [
    "## 元素的获取和操作"
   ]
  },
  {
   "cell_type": "code",
   "execution_count": null,
   "metadata": {},
   "outputs": [],
   "source": [
    "element = chrome_driver.find_element_by_css_selector([css_selector])\n",
    "element = chrome_driver.find_element_by_xpath([xpath])\n",
    "element = chrome_driver.find_element_by_link_text([link_text])\n",
    "element = chrome_driver.find_element_by_partial_link_text([link_text])"
   ]
  },
  {
   "cell_type": "code",
   "execution_count": null,
   "metadata": {},
   "outputs": [],
   "source": [
    "element.is_displayed()\n",
    "element.is_enabled()\n",
    "element.is_selected()"
   ]
  },
  {
   "cell_type": "code",
   "execution_count": null,
   "metadata": {},
   "outputs": [],
   "source": [
    "element.send_keys()\n",
    "element.click()\n",
    "element.clear()"
   ]
  },
  {
   "cell_type": "markdown",
   "metadata": {},
   "source": [
    "## Alert"
   ]
  },
  {
   "cell_type": "code",
   "execution_count": null,
   "metadata": {},
   "outputs": [],
   "source": [
    "chrome_driver.switch_to.alert.accept()\n",
    "chrome_driver.switch_to.alert.dismiss()\n",
    "chrome_driver.switch_to.alert.send_keys()"
   ]
  },
  {
   "cell_type": "markdown",
   "metadata": {},
   "source": [
    "## iframe"
   ]
  },
  {
   "cell_type": "code",
   "execution_count": null,
   "metadata": {},
   "outputs": [],
   "source": [
    "chrome_driver.switch_to.frame(frame_reference)\n",
    "chrome_driver.switch_to.default_content()\n",
    "chrome_driver.switch_to.window(window_name)\n",
    "chrome_driver.current_window_handle"
   ]
  },
  {
   "cell_type": "code",
   "execution_count": null,
   "metadata": {},
   "outputs": [],
   "source": []
  }
 ]
}