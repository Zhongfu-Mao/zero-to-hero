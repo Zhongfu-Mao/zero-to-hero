{
 "cells": [
  {
   "cell_type": "code",
   "execution_count": 1,
   "metadata": {},
   "outputs": [],
   "source": [
    "import re"
   ]
  },
  {
   "cell_type": "code",
   "execution_count": 8,
   "metadata": {},
   "outputs": [
    {
     "output_type": "stream",
     "name": "stdout",
     "text": "Found 'this' \nin 'Does this text match the pattern?'\nfrom 5 to 9 ('this')\n"
    }
   ],
   "source": [
    "pattern = \"this\"\n",
    "text = \"Does this text match the pattern?\"\n",
    "\n",
    "match = re.search(pattern, text)\n",
    "\n",
    "s = match.start()\n",
    "e = match.end()\n",
    "\n",
    "print(f\"Found '{match.re.pattern}' \\nin '{match.string}'\\nfrom {s} to {e} ('{text[s:e]}')\")"
   ]
  },
  {
   "cell_type": "code",
   "execution_count": 14,
   "metadata": {},
   "outputs": [
    {
     "output_type": "stream",
     "name": "stdout",
     "text": "Text:'Does this text match the pattern?'\nSeeking 'this' -> match!\nSeeking 'that' -> no match\n"
    }
   ],
   "source": [
    "regexes = [\n",
    "    re.compile(p)\n",
    "    for p in [\"this\", \"that\"]\n",
    "]\n",
    "text = \"Does this text match the pattern?\"\n",
    "\n",
    "print(f\"Text:{text!r}\")\n",
    "\n",
    "for regex in regexes:\n",
    "    print(f\"Seeking '{regex.pattern}' ->\", end=' ')\n",
    "\n",
    "    if regex.search(text):\n",
    "        print(\"match!\")\n",
    "    else:\n",
    "        print(\"no match\")"
   ]
  },
  {
   "cell_type": "code",
   "execution_count": 16,
   "metadata": {},
   "outputs": [
    {
     "output_type": "stream",
     "name": "stdout",
     "text": "Found 'ab'\nFound 'ab'\nFound 'ab'\n"
    }
   ],
   "source": [
    "text = \"abbaaabbbbaaaaab\"\n",
    "\n",
    "pattern = \"ab\"\n",
    "\n",
    "for match in re.findall(pattern, text):\n",
    "    print(f\"Found {match!r}\")"
   ]
  },
  {
   "cell_type": "code",
   "execution_count": 17,
   "metadata": {},
   "outputs": [
    {
     "output_type": "stream",
     "name": "stdout",
     "text": "Found 'ab' at 0:2\nFound 'ab' at 5:7\nFound 'ab' at 14:16\n"
    }
   ],
   "source": [
    "for match in re.finditer(pattern, text):\n",
    "    s = match.start()\n",
    "    e = match.end()\n",
    "    print(f\"Found {text[s:e]!r} at {s:d}:{e:d}\")"
   ]
  },
  {
   "cell_type": "code",
   "execution_count": null,
   "metadata": {},
   "outputs": [],
   "source": []
  }
 ],
 "metadata": {
  "language_info": {
   "codemirror_mode": {
    "name": "ipython",
    "version": 3
   },
   "file_extension": ".py",
   "mimetype": "text/x-python",
   "name": "python",
   "nbconvert_exporter": "python",
   "pygments_lexer": "ipython3",
   "version": "3.7.4-final"
  },
  "orig_nbformat": 2,
  "kernelspec": {
   "name": "python3",
   "display_name": "Python 3"
  }
 },
 "nbformat": 4,
 "nbformat_minor": 2
}