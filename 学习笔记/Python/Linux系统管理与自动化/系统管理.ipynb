{
 "cells": [
  {
   "cell_type": "markdown",
   "metadata": {},
   "source": [
    "# os"
   ]
  },
  {
   "cell_type": "code",
   "execution_count": null,
   "metadata": {},
   "outputs": [],
   "source": [
    "import os\n",
    "\n",
    "os.listdir()\n",
    "path = os.getcwd()\n",
    "os.path.split(path)\n",
    "os.path.dirname(path)\n",
    "os.path.basename(path)\n",
    "os.path.splitext(path)\n",
    "os.path.expanduser(\"~\")\n",
    "os.path.abspath(\".\")\n",
    "os.path.abspath(\"..\")\n",
    "os.path.join(os.path.expanduser(\"~\"), \"GitHub\")\n",
    "os.path.isabs(\".\")\n",
    "os.path.isdir(\".\")\n",
    "os.path.isfile(\"my.cnf\")"
   ]
  },
  {
   "cell_type": "code",
   "execution_count": null,
   "metadata": {},
   "outputs": [],
   "source": [
    "import os\n",
    "import sys\n",
    "\n",
    "def main():\n",
    "    sys.argv.append(\"\")\n",
    "    filename = sys.argv[1]\n",
    "    if not os.path.isfile(filename):\n",
    "        raise SystemExit(filename + \" does not exists\")\n",
    "    elif not os.access(filename, os.R_OK):\n",
    "        os.chmod(filename, 0777)\n",
    "    else:\n",
    "        with open(filename) as f:\n",
    "            print(f.read())\n",
    "\n",
    "if __name__ == \"__main__\":\n",
    "    main()"
   ]
  },
  {
   "cell_type": "markdown",
   "metadata": {},
   "source": [
    "# shutil"
   ]
  },
  {
   "cell_type": "markdown",
   "metadata": {},
   "source": [
    "os模块是对操作系统的接口进行封装，主要作用是跨平台。  \n",
    "shutil模块包含复制、移动、重命名和删除文件及目录的函数，主要作用是管理文件和目录。"
   ]
  },
  {
   "cell_type": "code",
   "execution_count": null,
   "metadata": {},
   "outputs": [],
   "source": [
    "import shutil\n",
    "\n",
    "shutil.get_archive_formats()\n",
    "shutil.make_archive(\"backup\", \"gztar\")\n",
    "\n",
    "import tarfile\n",
    "\n",
    "f = tarfile.open(\"backup.tar.gz\", \"r:gz\")\n",
    "f.getnames()\n",
    "\n",
    "shutil.unpack_archive(\"backup.tar.gz\")"
   ]
  },
  {
   "cell_type": "markdown",
   "metadata": {},
   "source": [
    "# tarfile"
   ]
  },
  {
   "cell_type": "code",
   "execution_count": null,
   "metadata": {},
   "outputs": [],
   "source": [
    "import tarfile\n",
    "\n",
    "with tarfile.open(<file>) as t:\n",
    "    for member_info in t.getmembers():\n",
    "        print(member_info.name)"
   ]
  },
  {
   "cell_type": "code",
   "execution_count": null,
   "metadata": {},
   "outputs": [],
   "source": [
    "with tarfile.open(<file>, mode=\"r:gz\") as out:\n",
    "    out.add(\"README.txt\")"
   ]
  },
  {
   "cell_type": "markdown",
   "metadata": {},
   "source": [
    "# zipfile"
   ]
  },
  {
   "cell_type": "code",
   "execution_count": null,
   "metadata": {},
   "outputs": [],
   "source": [
    "import zipfile\n",
    "\n",
    "foo = zipfile.ZipFile(<filename>)\n",
    "foo.namelist()"
   ]
  },
  {
   "cell_type": "code",
   "execution_count": null,
   "metadata": {},
   "outputs": [],
   "source": [
    "new_zip = zipfile.ZipFile(<filename>, \"w\")\n",
    "new_zip.write(\"spam.txt\")\n",
    "new_zip.close()"
   ]
  },
  {
   "cell_type": "markdown",
   "metadata": {},
   "source": [
    "# subprocess"
   ]
  },
  {
   "cell_type": "code",
   "execution_count": null,
   "metadata": {},
   "outputs": [],
   "source": [
    "import subprocess\n",
    "\n",
    "subprocess.call([\"ls\", \"-l\"])\n",
    "subprocess.call(\"exit 1\", shell=True)"
   ]
  },
  {
   "cell_type": "code",
   "execution_count": null,
   "metadata": {},
   "outputs": [],
   "source": [
    "output = subprocess.check_output([\"df\", \"-h\"])\n",
    "output"
   ]
  },
  {
   "cell_type": "code",
   "execution_count": null,
   "metadata": {},
   "outputs": [],
   "source": [
    "def execute_cmd(cmd):\n",
    "    p = subprocess.Popen(\n",
    "        cmd,\n",
    "        stdin=subprocess.PIPE,\n",
    "        stdout=subprocess.PIPE,\n",
    "        stderr=subprocess.PIPE\n",
    "    )\n",
    "    stdout, stderr = p.communicate()\n",
    "    if p.returncode != 0:\n",
    "        return p.returncode, stderr\n",
    "    return p.returncode, stdout"
   ]
  }
 ],
 "metadata": {
  "language_info": {
   "codemirror_mode": {
    "name": "ipython",
    "version": 3
   },
   "file_extension": ".py",
   "mimetype": "text/x-python",
   "name": "python",
   "nbconvert_exporter": "python",
   "pygments_lexer": "ipython3",
   "version": "3.7.4-final"
  },
  "orig_nbformat": 2,
  "kernelspec": {
   "name": "python3",
   "display_name": "Python 3"
  }
 },
 "nbformat": 4,
 "nbformat_minor": 2
}