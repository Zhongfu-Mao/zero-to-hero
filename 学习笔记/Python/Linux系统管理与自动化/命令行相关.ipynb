{
 "cells": [
  {
   "cell_type": "markdown",
   "metadata": {},
   "source": [
    "# sys.argv"
   ]
  },
  {
   "cell_type": "code",
   "execution_count": null,
   "metadata": {},
   "outputs": [],
   "source": [
    "import os\n",
    "import sys\n",
    "\n",
    "def main():\n",
    "    sys.argv.append(\"\")\n",
    "    filename = sys.argv[1]\n",
    "    if not os.path.isfile(filename):\n",
    "        raise SystemExit(filename + \" does not exists\")\n",
    "    elif not os.access(filename, os.R_OK):\n",
    "        raise SystemExit(filename + \" is not accessible\")\n",
    "    else:\n",
    "        print(filename + \" is accessible\")\n",
    "\n",
    "if __name__ == \"__main__\":\n",
    "    main()"
   ]
  },
  {
   "cell_type": "markdown",
   "metadata": {},
   "source": [
    "# sys.stdin"
   ]
  },
  {
   "cell_type": "code",
   "execution_count": null,
   "metadata": {},
   "outputs": [],
   "source": [
    "import sys\n",
    "for line in sys.stdin:\n",
    "    print(line, end=\"\")\n",
    "\n",
    "def get_content():\n",
    "    return sys.stdin.readlines()"
   ]
  },
  {
   "cell_type": "markdown",
   "metadata": {},
   "source": [
    "# fileinput\n",
    "fileinput会遍历`sys.argv[1:]`列表，并按行依次读取列表中的文件。如果该列表为空，则fileinput默认读取标准输入中的内容。"
   ]
  },
  {
   "cell_type": "code",
   "execution_count": null,
   "metadata": {},
   "outputs": [],
   "source": [
    "import fileinput\n",
    "\n",
    "for line in fileinput.input():\n",
    "    meta = [\n",
    "        fileinput.filename(),\n",
    "        fileinput.fileno(),\n",
    "        fileinput.filelineno(),\n",
    "        fileinput.isfirstline(),\n",
    "        fileinput.isstdin()\n",
    "    ]\n",
    "    print(*meta, end=\"\")\n",
    "    print(line, end=\"\")"
   ]
  },
  {
   "cell_type": "markdown",
   "metadata": {},
   "source": [
    "# getpass"
   ]
  },
  {
   "cell_type": "code",
   "execution_count": null,
   "metadata": {},
   "outputs": [],
   "source": [
    "import getpass\n",
    "\n",
    "user = getpass.getuser()\n",
    "passwd = getpass.getpass(\"please input your password:\")\n",
    "print(user, passwd)"
   ]
  },
  {
   "cell_type": "markdown",
   "metadata": {},
   "source": [
    "# configparser"
   ]
  },
  {
   "cell_type": "code",
   "execution_count": null,
   "metadata": {},
   "outputs": [],
   "source": [
    "import configparser\n",
    "cf = configparser.ConfigParser(allow_no_value=True)\n",
    "cf.read(\"my.cnf\")\n",
    "cf.sections()\n",
    "cf.has_section(\"client\")\n",
    "cf.options(\"client\")\n",
    "cf.has_option(\"client\", \"user\")\n",
    "cf.get(\"client\", \"host\")\n",
    "cf.getint(\"client\", \"port\")"
   ]
  },
  {
   "cell_type": "code",
   "execution_count": null,
   "metadata": {},
   "outputs": [],
   "source": [
    "cf.remove_section(\"client\")\n",
    "cf.add_section(\"mysql\")\n",
    "cf.set(\"mysql\", \"host\", \"127.0.0.1\")\n",
    "cf.write(open(\"my_copy.cnf\", \"w\"))"
   ]
  },
  {
   "cell_type": "markdown",
   "metadata": {},
   "source": [
    "# argparser"
   ]
  },
  {
   "cell_type": "code",
   "execution_count": null,
   "metadata": {},
   "outputs": [],
   "source": [
    "import argparse\n",
    "\n",
    "def _argparse():\n",
    "    parser = argparse.ArgumentParser(description=\"This is description\")\n",
    "    parser.add_argument(\"-h\", \"--host\", action=\"store\", dest=\"server\",\n",
    "                        default=\"localhost\", help=\"connect to host\")\n",
    "    parser.add_argument(\"-t\", action=\"store_true\", default=False,\n",
    "                        default=False, dest=\"boolean_switch\", help=\"Set a switch to true\")\n",
    "    return parser.parse_args()\n",
    "\n",
    "def main():\n",
    "    parser = _argparse()\n",
    "    print(parser)\n",
    "    print(\"host =\", parser.server)\n",
    "    print(\"boolean_switch=\", parser.boolean_switch)\n",
    "\n",
    "if __name__ == \"__main__\":\n",
    "    main()"
   ]
  },
  {
   "cell_type": "markdown",
   "metadata": {},
   "source": [
    "# logging"
   ]
  },
  {
   "cell_type": "code",
   "execution_count": null,
   "metadata": {},
   "outputs": [],
   "source": [
    "import logging\n",
    "\n",
    "logging.basicConfig(filename=\"app.log\",\n",
    "                    level=logging.INFO,\n",
    "                    format=\"%(asctime)s : %(levelname)s : %(message)s\")\n",
    "\n",
    "logging.debug(\"debug message\")\n",
    "logging.info(\"info message\")\n",
    "logging.warn(\"warn message\")\n",
    "logging.error(\"error message\")\n",
    "logging.critical(\"critical message\")"
   ]
  },
  {
   "cell_type": "markdown",
   "metadata": {},
   "source": [
    "# prompt_toolkit"
   ]
  },
  {
   "cell_type": "code",
   "execution_count": null,
   "metadata": {},
   "outputs": [],
   "source": [
    "from prompt_toolkit import prompt\n",
    "from prompt_toolkit.history import FileHistory\n",
    "from prompt_toolkit.auto_suggest import AutoSuggestFromHistory\n",
    "\n",
    "while True:\n",
    "    user_input = prompt(\">\",\n",
    "                        history=FileHistory(\"history.txt\"),\n",
    "                        auto_suggest=AutoSuggestFromHistory())\n",
    "    print(user_input)"
   ]
  }
 ],
 "metadata": {
  "language_info": {
   "codemirror_mode": {
    "name": "ipython",
    "version": 3
   },
   "file_extension": ".py",
   "mimetype": "text/x-python",
   "name": "python",
   "nbconvert_exporter": "python",
   "pygments_lexer": "ipython3",
   "version": "3.7.4-final"
  },
  "orig_nbformat": 2,
  "kernelspec": {
   "name": "python3",
   "display_name": "Python 3"
  }
 },
 "nbformat": 4,
 "nbformat_minor": 2
}