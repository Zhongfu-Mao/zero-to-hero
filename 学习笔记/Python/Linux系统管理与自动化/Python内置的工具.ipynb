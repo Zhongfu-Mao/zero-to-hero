{
 "cells": [
  {
   "cell_type": "markdown",
   "metadata": {},
   "source": [
    "### 下载服务器\n",
    "\n",
    "```bash\n",
    "python -m http.server\n",
    "```\n",
    "\n",
    "> 从工作原理来说，仅仅是启动了一个Python内置的Web服务器。\n",
    "> 如果当前目录下存在一个名为index.html的文件，则默认显示该文件的内容。\n",
    "> 如果当前目录下不存在这样一个文件，则默认显示当前目录下的文件列表。"
   ]
  },
  {
   "cell_type": "markdown",
   "metadata": {},
   "source": [
    "### 字符串转换为JSON\n",
    "\n",
    "```bash\n",
    "echo '要解析的字符串' | python -m json.tool\n",
    "```"
   ]
  },
  {
   "cell_type": "markdown",
   "metadata": {},
   "source": [
    "### pip高级用法\n",
    "\n",
    "#### pip子命令\n",
    "\n",
    "* install: 安装软件包\n",
    "* download: 下载软件包\n",
    "* uninstall: 卸载软件包\n",
    "* freeze: 按照`requirements`格式输出安装包,可以到其他服务器上执行`pip install -r requirements.txt`直接安装\n",
    "\n",
    "```bash\n",
    "pip freeze > requirement.txt\n",
    "```\n",
    "\n",
    "* list: 列出当前系统中的安装包\n",
    "* show: 查看安装包的信息,包括版本,依赖,许可证,作者,主页等信息\n",
    "* check: 检查安装包的依赖是否完整\n",
    "* search: 查找安装包\n",
    "* wheel: 打包软件为wheel格式\n",
    "* hash: 计算安装包的hash值\n",
    "* completion: 生成命令补全配置\n",
    "* help: 获取帮助信息\n",
    "\n",
    "#### 将软件下载到本地部署\n",
    "\n",
    "```bash\n",
    "pip install --download='pwd' -r requirements.txt\n",
    "pip install --no-index -f file://'pwd' -r requirements.txt\n",
    "```"
   ]
  },
  {
   "cell_type": "markdown",
   "metadata": {},
   "source": [
    "### IPython\n",
    "\n",
    "#### IPython提供的使用说明\n",
    "\n",
    "* ?: 介绍IPython的特征\n",
    "* %quickref: IPython的使用手册\n",
    "* help: Python内置的帮助系统\n",
    "* object? / object??: 获取Python对象的信息,如帮助信息,对象定义,对象原码等\n",
    "\n",
    "#### 魔法函数\n",
    "\n",
    "* `%lsmagic`\n",
    "* `%函数名?`\n",
    "\n",
    "#### 保存历史\n",
    "\n",
    "* _i,_ii, _iii分别保存了最近的三次输入；\n",
    "* _,__,___分别保存了最近的三次输出；\n",
    "* 可以像Bash一样，通过ctrl+p, ctrl+n查找输入；\n",
    "* 可以像Bash一样，使用ctrl+r进行反向查找；\n",
    "* IPython的输入历史在当前会话退出以后会进行持久化，下一次进入IPython时，依然可以查找前一次会话的输入历史；\n",
    "* %edit: IPython可以通过%edit编辑历史输入并重新执行；\n",
    "* %save: IPython可以通过%save将IPython中的代码保存到程序文件中；\n",
    "* %rerun: IPython可以指定代码行数重新运行；\n",
    "* %macro: IPython可以将重新运行的代码定义为宏，这样可以反复重新运行。\n",
    "\n",
    "#### 与操作系统交互\n",
    "\n",
    "* `%ls`\n",
    "* `%pwd`\n",
    "* `! Linux命令`"
   ]
  },
  {
   "cell_type": "markdown",
   "metadata": {},
   "source": [
    "### 工作环境管理\n",
    "\n",
    "#### pyenv\n",
    "\n",
    "```bash\n",
    "pyenv install --list # 查看支持的版本\n",
    "pyenv install -v 版本号 # 安装指定的版本\n",
    "pyenv versions # 查看当前系统中包含的Python版本\n",
    "pyenv global 版本号 # 切换版本\n",
    "pyenv uninstall 版本号\n",
    "```\n",
    "\n",
    "#### virtualenv\n",
    "\n",
    "```bash\n",
    "pyenv virtualenv [-f|--force] [VIRTUALENV_OPTIONS] [version] <virtualenv-name>\n",
    "pyenv activate <virtualenv-name>\n",
    "pyenv deactivate\n",
    "```\n"
   ]
  },
  {
   "cell_type": "code",
   "execution_count": null,
   "metadata": {},
   "outputs": [],
   "source": []
  }
 ],
 "metadata": {
  "language_info": {
   "codemirror_mode": {
    "name": "ipython",
    "version": 3
   },
   "file_extension": ".py",
   "mimetype": "text/x-python",
   "name": "python",
   "nbconvert_exporter": "python",
   "pygments_lexer": "ipython3",
   "version": 3
  },
  "orig_nbformat": 2
 },
 "nbformat": 4,
 "nbformat_minor": 2
}