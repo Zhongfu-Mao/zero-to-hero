{
 "nbformat": 4,
 "nbformat_minor": 2,
 "metadata": {
  "language_info": {
   "name": "python",
   "codemirror_mode": {
    "name": "ipython",
    "version": 3
   },
   "version": "3.7.4-final"
  },
  "orig_nbformat": 2,
  "file_extension": ".py",
  "mimetype": "text/x-python",
  "name": "python",
  "npconvert_exporter": "python",
  "pygments_lexer": "ipython3",
  "version": 3,
  "kernelspec": {
   "name": "python3",
   "display_name": "Python 3"
  }
 },
 "cells": [
  {
   "cell_type": "markdown",
   "metadata": {},
   "source": [
    "## Numpy支持的数据类型"
   ]
  },
  {
   "cell_type": "markdown",
   "metadata": {},
   "source": [
    "| 类型 | 解释 |\n",
    "|:----------:|:------------------------------------------------------:|\n",
    "| bool | 布尔类型，1 个字节，值为 True 或 False。 |\n",
    "| int | 整数类型，通常为 int64 或 int32 。 |\n",
    "| intc | 与 C 里的 int 相同，通常为 int32 或 int64。 |\n",
    "| intp | 用于索引，通常为 int32 或 int64。 |\n",
    "| int8 | 字节（从 -128 到 127） |\n",
    "| int16 | 整数（从 -32768 到 32767） |\n",
    "| int32 | 整数（从 -2147483648 到 2147483647） |\n",
    "| int64 | 整数（从 -9223372036854775808 到 9223372036854775807） |\n",
    "| uint8 | 无符号整数（从 0 到 255） |\n",
    "| uint16 | 无符号整数（从 0 到 65535） |\n",
    "| uint32 | 无符号整数（从 0 到 4294967295） |\n",
    "| uint64 | 无符号整数（从 0 到 18446744073709551615） |\n",
    "| float | float64 的简写。 |\n",
    "| float16 | 半精度浮点，5 位指数，10 位尾数 |\n",
    "| float32 | 单精度浮点，8 位指数，23 位尾数 |\n",
    "| float64 | 双精度浮点，11 位指数，52 位尾数 |\n",
    "| complex | complex128 的简写。 |\n",
    "| complex64 | 复数，由两个 32 位浮点表示。 |\n",
    "| complex128 | 复数，由两个 64 位浮点表示。 |\n"
   ]
  },
  {
   "cell_type": "markdown",
   "metadata": {},
   "source": [
    "NumPy 中，`ndarray` 类具有六个参数，它们分别为：\n",
    "\n",
    "- `shape`：数组的形状。\n",
    "- `dtype`：数据类型。\n",
    "- `buffer`：对象暴露缓冲区接口。\n",
    "- `offset`：数组数据的偏移量。\n",
    "- `strides`：数据步长。\n",
    "- `order`：`{'C'，'F'}`，以行或列为主排列顺序。"
   ]
  },
  {
   "cell_type": "markdown",
   "metadata": {},
   "source": [
    "在 NumPy 中，我们主要通过以下 5 种途径创建数组，它们分别是：\n",
    "\n",
    "1. 从 Python 数组结构列表，元组等转换。\n",
    "\n",
    "    ```python\n",
    "    numpy.array(object, dtype=None, copy=True, order=None, subok=False, ndmin=0)\n",
    "    ```\n",
    "\n",
    "    其中，参数：\n",
    "\n",
    "    - `object`：列表、元组等。\n",
    "    - `dtype`：数据类型。如果未给出，则类型为被保存对象所需的最小类型。\n",
    "    - `copy`：布尔类型，默认 True，表示复制对象。\n",
    "    - `order`：顺序。\n",
    "    - `subok`：布尔类型，表示子类是否被传递。\n",
    "    - `ndmin`：生成的数组应具有的最小维数。\n",
    "\n",
    "2. 使用 `np.arange`、`np.ones`、`np.zeros` 等 NumPy 原生方法。\n",
    "\n",
    "   - `arange()` 的功能是在给定区间内创建一系列均匀间隔的值。方法如下：\n",
    "\n",
    "   ```python\n",
    "   numpy.arange(start, stop, step, dtype=None)\n",
    "   ```\n",
    "\n",
    "   - `linspace` 用于在指定的区间内返回间隔均匀的值。其方法如下：\n",
    "\n",
    "   ```python\n",
    "   numpy.linspace(start, stop, num=50, endpoint=True, retstep=False, dtype=None)\n",
    "   ```\n",
    "\n",
    "    - `start`：序列的起始值。\n",
    "    - `stop`：序列的结束值。\n",
    "    - `num`：生成的样本数。默认值为50。\n",
    "    - `endpoint`：布尔值，如果为真，则最后一个样本包含在序列内。\n",
    "    - `retstep`：布尔值，如果为真，返回间距。\n",
    "    - `dtype`：数组的类型。\n",
    "\n",
    "    - `numpy.ones` 用于快速创建数值全部为 `1` 的多维数组。\n",
    "    - `numpy.zeros` 用于快速创建数值全部为 `1` 的多维数组。\n",
    "\n",
    "    ```python\n",
    "    numpy.ones(shape, dtype=None, order='C')\n",
    "    numpy.zeros(shape, dtype=None, order='C')\n",
    "    ```\n",
    "\n",
    "    其中：\n",
    "       - `shape`：用于指定数组形状，例如（1， 2）或 3。\n",
    "       - `dtype`：数据类型。\n",
    "       - `order`：`{'C'，'F'}`，按行或列方式储存数组。\n",
    "   - `numpy.eye` 用于创建一个二维数组，其特点是`k` 对角线上的值为 `1`，其余值全部为`0`。方法如下：\n",
    "\n",
    "   ```python\n",
    "   numpy.eye(N, M=None, k=0, dtype=<type 'float'>)\n",
    "   ```\n",
    "\n",
    "    - `N`：输出数组的行数。\n",
    "    - `M`：输出数组的列数。\n",
    "    - `k`：对角线索引：0（默认）是指主对角线，正值是指上对角线，负值是指下对角线。\n",
    "3. 从存储空间读取数组。\n",
    "4. 通过使用字符串或缓冲区从原始字节创建数组。\n",
    "5. 使用特殊函数，如 `random`。\n",
    "\n",
    "- `frombuffer（buffer）`：将缓冲区转换为 `1` 维数组。\n",
    "- `fromfile（file，dtype，count，sep）`：从文本或二进制文件中构建多维数组。\n",
    "- `fromfunction（function，shape）`：通过函数返回值来创建多维数组。\n",
    "- `fromiter（iterable，dtype，count）`：从可迭代对象创建 `1` 维数组。\n",
    "- `fromstring（string，dtype，count，sep）`：从字符串中创建 `1` 维数组。\n"
   ]
  },
  {
   "cell_type": "markdown",
   "metadata": {},
   "source": [
    "## 数组的基本操作"
   ]
  },
  {
   "cell_type": "markdown",
   "metadata": {},
   "source": [
    "### 重设形状\n",
    "\n",
    "`reshape` 可以在不改变数组数据的同时，改变数组的形状。其中，`numpy.reshape()` 等效于 `ndarray.reshape()`。`reshape` 方法非常简单：\n",
    "\n",
    "```python\n",
    "numpy.reshape(a, newshape)\n",
    "```\n",
    "\n",
    "其中，a 表示原数组，`newshape` 用于指定新的形状(整数或者元组)。"
   ]
  },
  {
   "cell_type": "markdown",
   "metadata": {},
   "source": [
    "### 数组展开\n",
    "\n",
    "`ravel` 的目的是将任意形状的数组扁平化，变为 1 维数组。`ravel` 方法如下：\n",
    "\n",
    "```python\n",
    "numpy.ravel(a, order='C')\n",
    "```\n",
    "\n",
    "其中，a 表示需要处理的数组。`order` 表示变换时的读取顺序，默认是按照行依次读取，当 `order='F'` 时，可以按列依次读取排序。"
   ]
  },
  {
   "cell_type": "markdown",
   "metadata": {},
   "source": [
    "### 轴移动\n",
    "\n",
    "`moveaxis` 可以将数组的轴移动到新的位置。其方法如下：\n",
    "\n",
    "```python\n",
    "numpy.moveaxis(a, source, destination)\n",
    "```\n",
    "\n",
    "- `a`：数组。\n",
    "- `source`：要移动的轴的原始位置。\n",
    "- `destination`：要移动的轴的目标位置。\n"
   ]
  },
  {
   "cell_type": "markdown",
   "metadata": {},
   "source": [
    "### 轴交换\n",
    "\n",
    "和 `moveaxis` 不同的是，`swapaxes` 可以用来交换数组的轴。其方法如下：\n",
    "\n",
    "```python\n",
    "numpy.swapaxes(a, axis1, axis2)\n",
    "```\n",
    "\n",
    "- `a`：数组。\n",
    "- `axis1`：需要交换的轴 1 位置。\n",
    "- `axis2`：需要与轴 1 交换位置的轴 1 位置。\n"
   ]
  },
  {
   "cell_type": "markdown",
   "metadata": {},
   "source": [
    "### 数组转置\n",
    "\n",
    "`transpose` 类似于矩阵的转置，它可以将 2 维数组的横轴和纵轴交换。其方法如下：\n",
    "\n",
    "```python\n",
    "numpy.transpose(a, axes=None)\n",
    "```\n",
    "\n",
    "- `a`：数组。\n",
    "- `axis`：该值默认为 `none`，表示转置。如果有值，那么则按照值替换轴。"
   ]
  },
  {
   "cell_type": "markdown",
   "metadata": {},
   "source": [
    "### 维度改变\n",
    "\n",
    "`atleast_xd` 支持将输入数据直接视为 `x`维。这里的 `x` 可以表示：`1，2，3`。方法分别为：\n",
    "\n",
    "```python\n",
    "numpy.atleast_1d()\n",
    "numpy.atleast_2d()\n",
    "numpy.atleast_3d()\n",
    "```\n"
   ]
  },
  {
   "cell_type": "markdown",
   "metadata": {},
   "source": [
    "### 类型转换\n",
    "\n",
    "在 NumPy 中，还有一系列以 as 开头的方法，它们可以将特定输入转换为数组，亦可将数组转换为矩阵、标量，`ndarray` 等。如下：\n",
    "\n",
    "- `asarray(a，dtype，order)`：将特定输入转换为数组。\n",
    "- `asanyarray(a，dtype，order)`：将特定输入转换为 `ndarray`。\n",
    "- `asmatrix(data，dtype)`：将特定输入转换为矩阵。\n",
    "- `asfarray(a，dtype)`：将特定输入转换为 `float` 类型的数组。\n",
    "- `asarray_chkfinite(a，dtype，order)`：将特定输入转换为数组，检查 `NaN` 或 `infs`。\n",
    "- `asscalar(a)`：将大小为 1 的数组转换为标量。\n"
   ]
  },
  {
   "cell_type": "markdown",
   "metadata": {},
   "source": [
    "### 数组连接\n",
    "\n",
    "`concatenate` 可以将多个数组沿指定轴连接在一起。其方法为：\n",
    "\n",
    "```python\n",
    "numpy.concatenate((a1, a2, ...), axis=0)\n",
    "```\n",
    "\n",
    "- `(a1, a2, ...)`：需要连接的数组。\n",
    "- `axis`：指定连接轴。\n"
   ]
  },
  {
   "cell_type": "markdown",
   "metadata": {},
   "source": [
    "### 数组堆叠\n",
    "\n",
    "在 NumPy 中，以下方法可用于数组的堆叠：\n",
    "\n",
    "- `stack(arrays，axis)`：沿着新轴连接数组的序列。\n",
    "- `column_stack()`：将 1 维数组作为列堆叠到 2 维数组中。\n",
    "- `hstack()`：按水平方向堆叠数组。\n",
    "- `vstack()`：按垂直方向堆叠数组。\n",
    "- `dstack()`：按深度方向堆叠数组。\n"
   ]
  },
  {
   "cell_type": "markdown",
   "metadata": {},
   "source": [
    "### 拆分\n",
    "\n",
    "`split` 及与之相似的一系列方法主要是用于数组的拆分，列举如下：\n",
    "\n",
    "- `split(ary，indices_or_sections，axis)`：将数组拆分为多个子数组。\n",
    "- `dsplit(ary，indices_or_sections)`：按深度方向将数组拆分成多个子数组。\n",
    "- `hsplit(ary，indices_or_sections)`：按水平方向将数组拆分成多个子数组。\n",
    "- `vsplit(ary，indices_or_sections)`：按垂直方向将数组拆分成多个子数组。\n"
   ]
  },
  {
   "cell_type": "markdown",
   "metadata": {},
   "source": [
    "### 删除\n",
    "\n",
    "`delete(arr，obj，axis)`：沿特定轴删除数组中的子数组。\n"
   ]
  },
  {
   "cell_type": "markdown",
   "metadata": {},
   "source": [
    "### 数组插入\n",
    "\n",
    "`insert(arr，obj，values，axis)`：依据索引在特定轴之前插入值。\n"
   ]
  },
  {
   "cell_type": "markdown",
   "metadata": {},
   "source": [
    "### 附加\n",
    "\n",
    "`append(arr，values，axis)`：将值附加到数组的末尾，并返回 1 维数组。\n"
   ]
  },
  {
   "cell_type": "markdown",
   "metadata": {},
   "source": [
    "### 重设尺寸\n",
    "\n",
    "`resize(a，new_shape)`：对数组尺寸进行重新设定。\n",
    "`reshape` 在改变形状时，不会影响原数组，相当于对原数组做了一份拷贝。而 `resize` 则是对原数组执行操作。\n"
   ]
  },
  {
   "cell_type": "markdown",
   "metadata": {},
   "source": [
    "### 翻转数组\n",
    "\n",
    "- `fliplr(m)`：左右翻转数组。\n",
    "- `flipud(m)`：上下翻转数组。\n"
   ]
  },
  {
   "cell_type": "markdown",
   "metadata": {},
   "source": [
    "### 随机数\n",
    "\n",
    "- `numpy.random.rand(d0, d1, ..., dn)` 方法的作用为：指定一个数组，并使用 `[0, 1)` 区间随机数据填充，这些数据均匀分布。\n",
    "- `numpy.random.randn(d0, d1, ..., dn)` 与`numpy.random.rand(d0, d1, ..., dn)` 的区别在于，前者是从标准正态分布中返回一个或多个样本值。\n",
    "- `randint(low, high, size, dtype)` 方法将会生成 `[low, high)` 的随机整数。注意这是一个半开半闭区间。\n",
    "- `random_sample(size)` 方法将会在 `[0, 1)` 区间内生成指定 `size` 的随机浮点数。\n",
    "与`numpy.random.random_sample` 类似的方法还有：\n",
    "- `numpy.random.random([size])`\n",
    "- `numpy.random.ranf([size])`\n",
    "- `numpy.random.sample([size])`\n",
    "\n",
    "它们 4 个的效果都差不多。\n",
    "`choice(a, size, replace, p)` 方法将会给定的数组里随机抽取几个值，该方法类似于随机抽样。\n"
   ]
  },
  {
   "cell_type": "markdown",
   "metadata": {},
   "source": [
    "### 概率密度分布\n",
    "\n",
    "- `numpy.random.beta(a，b，size)`：从 Beta 分布中生成随机数。\n",
    "- `numpy.random.binomial(n, p, size)`：从二项分布中生成随机数。\n",
    "- `numpy.random.chisquare(df，size)`：从卡方分布中生成随机数。\n",
    "- `numpy.random.dirichlet(alpha，size)`：从 Dirichlet 分布中生成随机数。\n",
    "- `numpy.random.exponential(scale，size)`：从指数分布中生成随机数。\n",
    "- `numpy.random.f(dfnum，dfden，size)`：从 F 分布中生成随机数。\n",
    "- `numpy.random.gamma(shape，scale，size)`：从 Gamma 分布中生成随机数。\n",
    "- `numpy.random.geometric(p，size)`：从几何分布中生成随机数。\n",
    "- `numpy.random.gumbel(loc，scale，size)`：从 Gumbel 分布中生成随机数。\n",
    "- `numpy.random.hypergeometric(ngood, nbad, nsample, size)`：从超几何分布中生成随机数。\n",
    "- `numpy.random.laplace(loc，scale，size)`：从拉普拉斯双指数分布中生成随机数。\n",
    "- `numpy.random.logistic(loc，scale，size)`：从逻辑分布中生成随机数。\n",
    "- `numpy.random.lognormal(mean，sigma，size)`：从对数正态分布中生成随机数。\n",
    "- `numpy.random.logseries(p，size)`：从对数系列分布中生成随机数。\n",
    "- `numpy.random.multinomial(n，pvals，size)`：从多项分布中生成随机数。\n",
    "- `numpy.random.multivariate_normal(mean, cov, size)`：从多变量正态分布绘制随机样本。\n",
    "- `numpy.random.negative_binomial(n, p, size)`：从负二项分布中生成随机数。\n",
    "- `numpy.random.noncentral_chisquare(df，nonc，size)`：从非中心卡方分布中生成随机数。\n",
    "- `numpy.random.noncentral_f(dfnum, dfden, nonc, size)`：从非中心 F 分布中抽取样本。\n",
    "- `numpy.random.normal(loc，scale，size)`：从正态分布绘制随机样本。\n",
    "- `numpy.random.pareto(a，size)`：从具有指定形状的 Pareto II 或 Lomax 分布中生成随机数。\n",
    "- `numpy.random.poisson(lam，size)`：从泊松分布中生成随机数。\n",
    "- `numpy.random.power(a，size)`：从具有正指数 a-1 的功率分布中在 0，1 中生成随机数。\n",
    "- `numpy.random.rayleigh(scale，size)`：从瑞利分布中生成随机数。\n",
    "- `numpy.random.standard_cauchy(size)`：从标准 Cauchy 分布中生成随机数。\n",
    "- `numpy.random.standard_exponential(size)`：从标准指数分布中生成随机数。\n",
    "- `numpy.random.standard_gamma(shape，size)`：从标准 Gamma 分布中生成随机数。\n",
    "- `numpy.random.standard_normal(size)`：从标准正态分布中生成随机数。\n",
    "- `numpy.random.standard_t(df，size)`：从具有 df 自由度的标准学生 t 分布中生成随机数。\n",
    "- `numpy.random.triangular(left，mode，right，size)`：从三角分布中生成随机数。\n",
    "- `numpy.random.uniform(low，high，size)`：从均匀分布中生成随机数。\n",
    "- `numpy.random.vonmises(mu，kappa，size)`：从 von Mises 分布中生成随机数。\n",
    "- `numpy.random.wald(mean，scale，size)`：从 Wald 或反高斯分布中生成随机数。\n",
    "- `numpy.random.weibull(a，size)`：从威布尔分布中生成随机数。\n",
    "- `numpy.random.zipf(a，size)`：从 Zipf 分布中生成随机数。\n"
   ]
  },
  {
   "cell_type": "markdown",
   "metadata": {},
   "source": [
    "### 数学函数"
   ]
  },
  {
   "cell_type": "markdown",
   "metadata": {},
   "source": [
    "#### 三角函数\n",
    "\n",
    "- `numpy.sin(x)`：三角正弦。\n",
    "- `numpy.cos(x)`：三角余弦。\n",
    "- `numpy.tan(x)`：三角正切。\n",
    "- `numpy.arcsin(x)`：三角反正弦。\n",
    "- `numpy.arccos(x)`：三角反余弦。\n",
    "- `numpy.arctan(x)`：三角反正切。\n",
    "- `numpy.hypot(x1,x2)`：直角三角形求斜边。\n",
    "- `numpy.degrees(x)`：弧度转换为度。\n",
    "- `numpy.radians(x)`：度转换为弧度。\n",
    "- `numpy.deg2rad(x)`：度转换为弧度。\n",
    "- `numpy.rad2deg(x)`：弧度转换为度。\n"
   ]
  },
  {
   "cell_type": "markdown",
   "metadata": {},
   "source": [
    "#### 双曲函数\n",
    "\n",
    "- `numpy.sinh(x)`：双曲正弦。\n",
    "- `numpy.cosh(x)`：双曲余弦。\n",
    "- `numpy.tanh(x)`：双曲正切。\n",
    "- `numpy.arcsinh(x)`：反双曲正弦。\n",
    "- `numpy.arccosh(x)`：反双曲余弦。\n",
    "- `numpy.arctanh(x)`：反双曲正切。\n"
   ]
  },
  {
   "cell_type": "markdown",
   "metadata": {},
   "source": [
    "#### 数值修约\n",
    "\n",
    "数值修约, 又称数字修约, 是指在进行具体的数字运算前, 按照一定的规则确定一致的位数, 然后舍去某些数字后面多余的尾数的过程。比如, 我们常听到的「4 舍 5 入」就属于数值修约中的一种。\n",
    "\n",
    "- `numpy.around(a)`：平均到给定的小数位数。\n",
    "- `numpy.round_(a)`：将数组舍入到给定的小数位数。\n",
    "- `numpy.rint(x)`：修约到最接近的整数。\n",
    "- `numpy.fix(x, y)`：向 0 舍入到最接近的整数。\n",
    "- `numpy.floor(x)`：返回输入的底部(标量 x 的底部是最大的整数 i)。\n",
    "- `numpy.ceil(x)`：返回输入的上限(标量 x 的底部是最小的整数 i).\n",
    "- `numpy.trunc(x)`：返回输入的截断值。\n"
   ]
  },
  {
   "cell_type": "markdown",
   "metadata": {},
   "source": [
    "#### 求和,求积,差分\n",
    "\n",
    "- `numpy.prod(a, axis, dtype, keepdims)`：返回指定轴上的数组元素的乘积。\n",
    "- `numpy.sum(a, axis, dtype, keepdims)`：返回指定轴上的数组元素的总和。\n",
    "- `numpy.nanprod(a, axis, dtype, keepdims)`：返回指定轴上的数组元素的乘积, 将 NaN 视作 1。\n",
    "- `numpy.nansum(a, axis, dtype, keepdims)`：返回指定轴上的数组元素的总和, 将 NaN 视作 0。\n",
    "- `numpy.cumprod(a, axis, dtype)`：返回沿给定轴的元素的累积乘积。\n",
    "- `numpy.cumsum(a, axis, dtype)`：返回沿给定轴的元素的累积总和。\n",
    "- `numpy.nancumprod(a, axis, dtype)`：返回沿给定轴的元素的累积乘积, 将 NaN 视作 1。\n",
    "- `numpy.nancumsum(a, axis, dtype)`：返回沿给定轴的元素的累积总和, 将 NaN 视作 0。\n",
    "- `numpy.diff(a, n, axis)`：计算沿指定轴的第 n 个离散差分。\n",
    "- `numpy.ediff1d(ary, to_end, to_begin)`：数组的连续元素之间的差异。\n",
    "- `numpy.gradient(f)`：返回 N 维数组的梯度。\n",
    "- `numpy.cross(a, b, axisa, axisb, axisc, axis)`：返回两个(数组）向量的叉积。\n",
    "- `numpy.trapz(y, x, dx, axis)`：使用复合梯形规则沿给定轴积分。\n"
   ]
  },
  {
   "cell_type": "markdown",
   "metadata": {},
   "source": [
    "#### 指数和对数\n",
    "\n",
    "- `numpy.exp(x)`：计算输入数组中所有元素的指数。\n",
    "- `numpy.log(x)`：计算自然对数。\n",
    "- `numpy.log10(x)`：计算常用对数。\n",
    "- `numpy.log2(x)`：计算二进制对数。\n"
   ]
  },
  {
   "cell_type": "markdown",
   "metadata": {},
   "source": [
    "#### 算术运算\n",
    "\n",
    "- `numpy.add(x1, x2)`：对应元素相加。\n",
    "- `numpy.reciprocal(x)`：求倒数 1/x。\n",
    "- `numpy.negative(x)`：求对应负数。\n",
    "- `numpy.multiply(x1, x2)`：求解乘法。\n",
    "- `numpy.divide(x1, x2)`：相除 x1/x2。\n",
    "- `numpy.power(x1, x2)`：类似于 x1^x2。\n",
    "- `numpy.subtract(x1, x2)`：减法。\n",
    "- `numpy.fmod(x1, x2)`：返回除法的元素余项。\n",
    "- `numpy.mod(x1, x2)`：返回余项。\n",
    "- `numpy.modf(x1)`：返回数组的小数和整数部分。\n",
    "- `numpy.remainder(x1, x2)`：返回除法余数。\n"
   ]
  },
  {
   "cell_type": "markdown",
   "metadata": {},
   "source": [
    "#### 矩阵和向量积\n",
    "\n",
    "- `numpy.dot(a, b)`：求解两个数组的点积。\n",
    "- `numpy.vdot(a, b)`：求解两个向量的点积。\n",
    "- `numpy.inner(a, b)`：求解两个数组的内积。\n",
    "- `numpy.outer(a, b)`：求解两个向量的外积。\n",
    "- `numpy.matmul(a, b)`：求解两个数组的矩阵乘积。\n",
    "- `numpy.tensordot(a, b)`：求解张量点积。\n",
    "- `numpy.kron(a, b)`：计算 Kronecker 乘积。\n"
   ]
  },
  {
   "cell_type": "markdown",
   "metadata": {},
   "source": [
    "#### 别的运算\n",
    "\n",
    "- `numpy.angle(z, deg)`：返回复参数的角度。\n",
    "- `numpy.real(val)`：返回数组元素的实部。\n",
    "- `numpy.imag(val)`：返回数组元素的虚部。\n",
    "- `numpy.conj(x)`：按元素方式返回共轭复数。\n",
    "- `numpy.convolve(a, v, mode)`：返回线性卷积。\n",
    "- `numpy.sqrt(x)`：平方根。\n",
    "- `numpy.cbrt(x)`：立方根。\n",
    "- `numpy.square(x)`：平方。\n",
    "- `numpy.absolute(x)`：绝对值, 可求解复数。\n",
    "- `numpy.fabs(x)`：绝对值。\n",
    "- `numpy.sign(x)`：符号函数。\n",
    "- `numpy.maximum(x1, x2)`：最大值。\n",
    "- `numpy.minimum(x1, x2)`：最小值。\n",
    "- `numpy.nan_to_num(x)`：用 0 替换 NaN。\n",
    "- `numpy.interp(x, xp, fp, left, right, period)`：线性插值。\n"
   ]
  },
  {
   "cell_type": "markdown",
   "metadata": {},
   "source": [
    "#### 代数运算\n",
    "\n",
    "- `numpy.linalg.cholesky(a)`：Cholesky 分解。\n",
    "- `numpy.linalg.qr(a ,mode)`：计算矩阵的 QR 因式分解。\n",
    "- `numpy.linalg.svd(a ,full_matrices,compute_uv)`：奇异值分解。\n",
    "- `numpy.linalg.eig(a)`：计算正方形数组的特征值和右特征向量。\n",
    "- `numpy.linalg.eigh(a, UPLO)`：返回 Hermitian 或对称矩阵的特征值和特征向量。\n",
    "- `numpy.linalg.eigvals(a)`：计算矩阵的特征值。\n",
    "- `numpy.linalg.eigvalsh(a, UPLO)`：计算 Hermitian 或真实对称矩阵的特征值。\n",
    "- `numpy.linalg.norm(x ,ord,axis,keepdims)`：计算矩阵或向量范数。\n",
    "- `numpy.linalg.cond(x ,p)`：计算矩阵的条件数。\n",
    "- `numpy.linalg.det(a)`：计算数组的行列式。\n",
    "- `numpy.linalg.matrix_rank(M ,tol)`：使用奇异值分解方法返回秩。\n",
    "- `numpy.linalg.slogdet(a)`：计算数组的行列式的符号和自然对数。\n",
    "- `numpy.trace(a ,offset,axis1,axis2,dtype,out)`：沿数组的对角线返回总和。\n",
    "- `numpy.linalg.solve(a, b)`：求解线性矩阵方程或线性标量方程组。\n",
    "- `numpy.linalg.tensorsolve(a, b ,axes)`：为 x 解出张量方程 a x = b\n",
    "- `numpy.linalg.lstsq(a, b ,rcond)`：将最小二乘解返回到线性矩阵方程。\n",
    "- `numpy.linalg.inv(a)`：计算逆矩阵。\n",
    "- `numpy.linalg.pinv(a ,rcond)`：计算矩阵的（Moore-Penrose）伪逆。\n",
    "- `numpy.linalg.tensorinv(a ,ind)`：计算 N 维数组的逆。\n"
   ]
  },
  {
   "cell_type": "markdown",
   "metadata": {},
   "source": [
    "### 排序,搜索,计数\n",
    "\n",
    "```python\n",
    "numpy.sort(a, axis=-1, kind='quicksort', order=None)\n",
    "```\n",
    "\n",
    "- `a`：数组。\n",
    "- `axis`：要排序的轴。如果为`None`，则在排序之前将数组铺平。默认值为 `-1`，沿最后一个轴排序。\n",
    "- `kind`：`{'quicksort'，'mergesort'，'heapsort'}`，排序算法。默认值为 `quicksort`。\n",
    "除了 `numpy.sort`，还有这样一些对数组进行排序的方法：\n",
    "- `numpy.lexsort(keys ,axis)`：使用多个键进行间接排序。\n",
    "- `numpy.argsort(a ,axis,kind,order)`：沿给定轴执行间接排序。\n",
    "- `numpy.msort(a)`：沿第 1 个轴排序。\n",
    "- `numpy.sort_complex(a)`：针对复数排序。\n"
   ]
  },
  {
   "cell_type": "markdown",
   "metadata": {},
   "source": [
    "### 搜索和计数\n",
    "\n",
    "- `argmax(a ,axis,out)`：返回数组中指定轴的最大值的索引。\n",
    "- `nanargmax(a ,axis)`：返回数组中指定轴的最大值的索引,忽略 NaN。\n",
    "- `argmin(a ,axis,out)`：返回数组中指定轴的最小值的索引。\n",
    "- `nanargmin(a ,axis)`：返回数组中指定轴的最小值的索引,忽略 NaN。\n",
    "- `argwhere(a)`：返回数组中非 0 元素的索引,按元素分组。\n",
    "- `nonzero(a)`：返回数组中非 0 元素的索引。\n",
    "- `flatnonzero(a)`：返回数组中非 0 元素的索引,并铺平。\n",
    "- `where(条件,x,y)`：根据指定条件,从指定行、列返回元素。\n",
    "- `searchsorted(a,v ,side,sorter)`：查找要插入元素以维持顺序的索引。\n",
    "- `extract(condition,arr)`：返回满足某些条件的数组的元素。\n",
    "- `count_nonzero(a)`：计算数组中非 0 元素的数量。"
   ]
  },
  {
   "cell_type": "code",
   "execution_count": null,
   "metadata": {},
   "outputs": [],
   "source": []
  }
 ]
}