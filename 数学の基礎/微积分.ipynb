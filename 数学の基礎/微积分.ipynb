{
 "metadata": {
  "language_info": {
   "codemirror_mode": {
    "name": "ipython",
    "version": 3
   },
   "file_extension": ".py",
   "mimetype": "text/x-python",
   "name": "python",
   "nbconvert_exporter": "python",
   "pygments_lexer": "ipython3",
   "version": "3.8.6-final"
  },
  "orig_nbformat": 2,
  "kernelspec": {
   "name": "Python 3.8.6 64-bit",
   "display_name": "Python 3.8.6 64-bit",
   "metadata": {
    "interpreter": {
     "hash": "082e9a3bcad0a290d0001e938aa60b99250c6c2ef33a923c00b70f9826caf4b7"
    }
   }
  }
 },
 "nbformat": 4,
 "nbformat_minor": 2,
 "cells": [
  {
   "source": [
    "# 映射与函数"
   ],
   "cell_type": "markdown",
   "metadata": {}
  },
  {
   "source": [
    "## 集合"
   ],
   "cell_type": "markdown",
   "metadata": {}
  },
  {
   "cell_type": "code",
   "execution_count": 9,
   "metadata": {},
   "outputs": [
    {
     "output_type": "stream",
     "name": "stdout",
     "text": [
      "一元二次方程的两个根是: [2, 3]\n"
     ]
    }
   ],
   "source": [
    "from sympy import *\n",
    "x = symbols(\"x\")\n",
    "X = solve(x**2 - 5*x + 6, x)\n",
    "print(\"一元二次方程的两个根是:\", X)"
   ]
  },
  {
   "cell_type": "code",
   "execution_count": 3,
   "metadata": {},
   "outputs": [
    {
     "output_type": "stream",
     "name": "stdout",
     "text": [
      "set() <class 'set'>\n{'a', 'p', 'e', 'l'} <class 'set'>\n{'a', 'p', 'e', 'l'} <class 'set'>\n{'key3', 'key2', 'key1'} <class 'set'>\n{'key3', 'key2', 'key1'} <class 'set'>\n{('key1', 'key2', 'key3')} <class 'set'>\n"
     ]
    }
   ],
   "source": [
    "A = set()\n",
    "B = set(\"apple\")\n",
    "C = set(['p', 'p', 'a', 'l', 'e'])\n",
    "D = set({'key1': 'value1', 'key2': 'value2', 'key3': 'value3'})\n",
    "E = {'key1', 'key2', 'key3'}\n",
    "F = {('key1', 'key2', 'key3')}\n",
    "\n",
    "print(A, type(A))\n",
    "print(B, type(B))\n",
    "print(C, type(C))\n",
    "print(D, type(D))\n",
    "print(E, type(E))\n",
    "print(F, type(F))"
   ]
  },
  {
   "cell_type": "code",
   "execution_count": 4,
   "metadata": {},
   "outputs": [
    {
     "output_type": "stream",
     "name": "stdout",
     "text": [
      "集合A与B的并集: {'2', '5', '1', '4', '3'}\n集合A与B的交集: {'2'}\n集合A与B的差集: {'1', '4', '5'}\n集合A与B的对称差集: {'1', '4', '5', '3'}\n"
     ]
    }
   ],
   "source": [
    "A = set(\"1245\")\n",
    "B = set(\"23\")\n",
    "print(\"集合A与B的并集:\", A | B)\n",
    "print(\"集合A与B的交集:\", A & B)\n",
    "print(\"集合A与B的差集:\", A - B)\n",
    "print(\"集合A与B的对称差集:\", A ^ B)"
   ]
  },
  {
   "cell_type": "code",
   "execution_count": 10,
   "metadata": {},
   "outputs": [
    {
     "output_type": "stream",
     "name": "stdout",
     "text": [
      "数列的极限为 1\n"
     ]
    }
   ],
   "source": [
    "n = symbols(\"n\")\n",
    "s = n / (n+1)\n",
    "print(\"数列的极限为\", limit(s, n, oo))"
   ]
  },
  {
   "cell_type": "code",
   "execution_count": 12,
   "metadata": {},
   "outputs": [
    {
     "output_type": "stream",
     "name": "stdout",
     "text": [
      "函数的极限为 2.00000000000000\n"
     ]
    }
   ],
   "source": [
    "x = Symbol(\"x\")\n",
    "s = (1 - 4 * x**2) / (2 * x + 1)\n",
    "print(\"函数的极限为\", limit(s, x, -1/2))"
   ]
  },
  {
   "cell_type": "code",
   "execution_count": null,
   "metadata": {},
   "outputs": [],
   "source": []
  }
 ]
}