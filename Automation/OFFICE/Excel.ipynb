{
 "metadata": {
  "language_info": {
   "codemirror_mode": {
    "name": "ipython",
    "version": 3
   },
   "file_extension": ".py",
   "mimetype": "text/x-python",
   "name": "python",
   "nbconvert_exporter": "python",
   "pygments_lexer": "ipython3",
   "version": "3.8.6-final"
  },
  "orig_nbformat": 2,
  "kernelspec": {
   "name": "Python 3.8.6 64-bit",
   "display_name": "Python 3.8.6 64-bit",
   "metadata": {
    "interpreter": {
     "hash": "082e9a3bcad0a290d0001e938aa60b99250c6c2ef33a923c00b70f9826caf4b7"
    }
   }
  }
 },
 "nbformat": 4,
 "nbformat_minor": 2,
 "cells": [
  {
   "cell_type": "markdown",
   "source": [
    "# pandas"
   ],
   "metadata": {}
  },
  {
   "cell_type": "markdown",
   "source": [
    "## `read_excel()`"
   ],
   "metadata": {}
  },
  {
   "cell_type": "code",
   "execution_count": 2,
   "source": [
    "import pandas as pd\n",
    "\n",
    "pd.read_excel?"
   ],
   "outputs": [
    {
     "output_type": "stream",
     "name": "stdout",
     "text": [
      "\u001b[0;31mSignature:\u001b[0m\n",
      "\u001b[0mpd\u001b[0m\u001b[0;34m.\u001b[0m\u001b[0mread_excel\u001b[0m\u001b[0;34m(\u001b[0m\u001b[0;34m\u001b[0m\n",
      "\u001b[0;34m\u001b[0m    \u001b[0mio\u001b[0m\u001b[0;34m,\u001b[0m\u001b[0;34m\u001b[0m\n",
      "\u001b[0;34m\u001b[0m    \u001b[0msheet_name\u001b[0m\u001b[0;34m=\u001b[0m\u001b[0;36m0\u001b[0m\u001b[0;34m,\u001b[0m\u001b[0;34m\u001b[0m\n",
      "\u001b[0;34m\u001b[0m    \u001b[0mheader\u001b[0m\u001b[0;34m=\u001b[0m\u001b[0;36m0\u001b[0m\u001b[0;34m,\u001b[0m\u001b[0;34m\u001b[0m\n",
      "\u001b[0;34m\u001b[0m    \u001b[0mnames\u001b[0m\u001b[0;34m=\u001b[0m\u001b[0;32mNone\u001b[0m\u001b[0;34m,\u001b[0m\u001b[0;34m\u001b[0m\n",
      "\u001b[0;34m\u001b[0m    \u001b[0mindex_col\u001b[0m\u001b[0;34m=\u001b[0m\u001b[0;32mNone\u001b[0m\u001b[0;34m,\u001b[0m\u001b[0;34m\u001b[0m\n",
      "\u001b[0;34m\u001b[0m    \u001b[0musecols\u001b[0m\u001b[0;34m=\u001b[0m\u001b[0;32mNone\u001b[0m\u001b[0;34m,\u001b[0m\u001b[0;34m\u001b[0m\n",
      "\u001b[0;34m\u001b[0m    \u001b[0msqueeze\u001b[0m\u001b[0;34m=\u001b[0m\u001b[0;32mFalse\u001b[0m\u001b[0;34m,\u001b[0m\u001b[0;34m\u001b[0m\n",
      "\u001b[0;34m\u001b[0m    \u001b[0mdtype\u001b[0m\u001b[0;34m=\u001b[0m\u001b[0;32mNone\u001b[0m\u001b[0;34m,\u001b[0m\u001b[0;34m\u001b[0m\n",
      "\u001b[0;34m\u001b[0m    \u001b[0mengine\u001b[0m\u001b[0;34m=\u001b[0m\u001b[0;32mNone\u001b[0m\u001b[0;34m,\u001b[0m\u001b[0;34m\u001b[0m\n",
      "\u001b[0;34m\u001b[0m    \u001b[0mconverters\u001b[0m\u001b[0;34m=\u001b[0m\u001b[0;32mNone\u001b[0m\u001b[0;34m,\u001b[0m\u001b[0;34m\u001b[0m\n",
      "\u001b[0;34m\u001b[0m    \u001b[0mtrue_values\u001b[0m\u001b[0;34m=\u001b[0m\u001b[0;32mNone\u001b[0m\u001b[0;34m,\u001b[0m\u001b[0;34m\u001b[0m\n",
      "\u001b[0;34m\u001b[0m    \u001b[0mfalse_values\u001b[0m\u001b[0;34m=\u001b[0m\u001b[0;32mNone\u001b[0m\u001b[0;34m,\u001b[0m\u001b[0;34m\u001b[0m\n",
      "\u001b[0;34m\u001b[0m    \u001b[0mskiprows\u001b[0m\u001b[0;34m=\u001b[0m\u001b[0;32mNone\u001b[0m\u001b[0;34m,\u001b[0m\u001b[0;34m\u001b[0m\n",
      "\u001b[0;34m\u001b[0m    \u001b[0mnrows\u001b[0m\u001b[0;34m=\u001b[0m\u001b[0;32mNone\u001b[0m\u001b[0;34m,\u001b[0m\u001b[0;34m\u001b[0m\n",
      "\u001b[0;34m\u001b[0m    \u001b[0mna_values\u001b[0m\u001b[0;34m=\u001b[0m\u001b[0;32mNone\u001b[0m\u001b[0;34m,\u001b[0m\u001b[0;34m\u001b[0m\n",
      "\u001b[0;34m\u001b[0m    \u001b[0mkeep_default_na\u001b[0m\u001b[0;34m=\u001b[0m\u001b[0;32mTrue\u001b[0m\u001b[0;34m,\u001b[0m\u001b[0;34m\u001b[0m\n",
      "\u001b[0;34m\u001b[0m    \u001b[0mna_filter\u001b[0m\u001b[0;34m=\u001b[0m\u001b[0;32mTrue\u001b[0m\u001b[0;34m,\u001b[0m\u001b[0;34m\u001b[0m\n",
      "\u001b[0;34m\u001b[0m    \u001b[0mverbose\u001b[0m\u001b[0;34m=\u001b[0m\u001b[0;32mFalse\u001b[0m\u001b[0;34m,\u001b[0m\u001b[0;34m\u001b[0m\n",
      "\u001b[0;34m\u001b[0m    \u001b[0mparse_dates\u001b[0m\u001b[0;34m=\u001b[0m\u001b[0;32mFalse\u001b[0m\u001b[0;34m,\u001b[0m\u001b[0;34m\u001b[0m\n",
      "\u001b[0;34m\u001b[0m    \u001b[0mdate_parser\u001b[0m\u001b[0;34m=\u001b[0m\u001b[0;32mNone\u001b[0m\u001b[0;34m,\u001b[0m\u001b[0;34m\u001b[0m\n",
      "\u001b[0;34m\u001b[0m    \u001b[0mthousands\u001b[0m\u001b[0;34m=\u001b[0m\u001b[0;32mNone\u001b[0m\u001b[0;34m,\u001b[0m\u001b[0;34m\u001b[0m\n",
      "\u001b[0;34m\u001b[0m    \u001b[0mcomment\u001b[0m\u001b[0;34m=\u001b[0m\u001b[0;32mNone\u001b[0m\u001b[0;34m,\u001b[0m\u001b[0;34m\u001b[0m\n",
      "\u001b[0;34m\u001b[0m    \u001b[0mskipfooter\u001b[0m\u001b[0;34m=\u001b[0m\u001b[0;36m0\u001b[0m\u001b[0;34m,\u001b[0m\u001b[0;34m\u001b[0m\n",
      "\u001b[0;34m\u001b[0m    \u001b[0mconvert_float\u001b[0m\u001b[0;34m=\u001b[0m\u001b[0;32mTrue\u001b[0m\u001b[0;34m,\u001b[0m\u001b[0;34m\u001b[0m\n",
      "\u001b[0;34m\u001b[0m    \u001b[0mmangle_dupe_cols\u001b[0m\u001b[0;34m=\u001b[0m\u001b[0;32mTrue\u001b[0m\u001b[0;34m,\u001b[0m\u001b[0;34m\u001b[0m\n",
      "\u001b[0;34m\u001b[0m    \u001b[0mstorage_options\u001b[0m\u001b[0;34m:\u001b[0m \u001b[0mUnion\u001b[0m\u001b[0;34m[\u001b[0m\u001b[0mDict\u001b[0m\u001b[0;34m[\u001b[0m\u001b[0mstr\u001b[0m\u001b[0;34m,\u001b[0m \u001b[0mAny\u001b[0m\u001b[0;34m]\u001b[0m\u001b[0;34m,\u001b[0m \u001b[0mNoneType\u001b[0m\u001b[0;34m]\u001b[0m \u001b[0;34m=\u001b[0m \u001b[0;32mNone\u001b[0m\u001b[0;34m,\u001b[0m\u001b[0;34m\u001b[0m\n",
      "\u001b[0;34m\u001b[0m\u001b[0;34m)\u001b[0m\u001b[0;34m\u001b[0m\u001b[0;34m\u001b[0m\u001b[0m\n",
      "\u001b[0;31mDocstring:\u001b[0m\n",
      "Read an Excel file into a pandas DataFrame.\n",
      "\n",
      "Supports `xls`, `xlsx`, `xlsm`, `xlsb`, `odf`, `ods` and `odt` file extensions\n",
      "read from a local filesystem or URL. Supports an option to read\n",
      "a single sheet or a list of sheets.\n",
      "\n",
      "Parameters\n",
      "----------\n",
      "io : str, bytes, ExcelFile, xlrd.Book, path object, or file-like object\n",
      "    Any valid string path is acceptable. The string could be a URL. Valid\n",
      "    URL schemes include http, ftp, s3, and file. For file URLs, a host is\n",
      "    expected. A local file could be: ``file://localhost/path/to/table.xlsx``.\n",
      "\n",
      "    If you want to pass in a path object, pandas accepts any ``os.PathLike``.\n",
      "\n",
      "    By file-like object, we refer to objects with a ``read()`` method,\n",
      "    such as a file handle (e.g. via builtin ``open`` function)\n",
      "    or ``StringIO``.\n",
      "sheet_name : str, int, list, or None, default 0\n",
      "    Strings are used for sheet names. Integers are used in zero-indexed\n",
      "    sheet positions. Lists of strings/integers are used to request\n",
      "    multiple sheets. Specify None to get all sheets.\n",
      "\n",
      "    Available cases:\n",
      "\n",
      "    * Defaults to ``0``: 1st sheet as a `DataFrame`\n",
      "    * ``1``: 2nd sheet as a `DataFrame`\n",
      "    * ``\"Sheet1\"``: Load sheet with name \"Sheet1\"\n",
      "    * ``[0, 1, \"Sheet5\"]``: Load first, second and sheet named \"Sheet5\"\n",
      "      as a dict of `DataFrame`\n",
      "    * None: All sheets.\n",
      "\n",
      "header : int, list of int, default 0\n",
      "    Row (0-indexed) to use for the column labels of the parsed\n",
      "    DataFrame. If a list of integers is passed those row positions will\n",
      "    be combined into a ``MultiIndex``. Use None if there is no header.\n",
      "names : array-like, default None\n",
      "    List of column names to use. If file contains no header row,\n",
      "    then you should explicitly pass header=None.\n",
      "index_col : int, list of int, default None\n",
      "    Column (0-indexed) to use as the row labels of the DataFrame.\n",
      "    Pass None if there is no such column.  If a list is passed,\n",
      "    those columns will be combined into a ``MultiIndex``.  If a\n",
      "    subset of data is selected with ``usecols``, index_col\n",
      "    is based on the subset.\n",
      "usecols : int, str, list-like, or callable default None\n",
      "    * If None, then parse all columns.\n",
      "    * If str, then indicates comma separated list of Excel column letters\n",
      "      and column ranges (e.g. \"A:E\" or \"A,C,E:F\"). Ranges are inclusive of\n",
      "      both sides.\n",
      "    * If list of int, then indicates list of column numbers to be parsed.\n",
      "    * If list of string, then indicates list of column names to be parsed.\n",
      "\n",
      "      .. versionadded:: 0.24.0\n",
      "\n",
      "    * If callable, then evaluate each column name against it and parse the\n",
      "      column if the callable returns ``True``.\n",
      "\n",
      "    Returns a subset of the columns according to behavior above.\n",
      "\n",
      "      .. versionadded:: 0.24.0\n",
      "\n",
      "squeeze : bool, default False\n",
      "    If the parsed data only contains one column then return a Series.\n",
      "dtype : Type name or dict of column -> type, default None\n",
      "    Data type for data or columns. E.g. {'a': np.float64, 'b': np.int32}\n",
      "    Use `object` to preserve data as stored in Excel and not interpret dtype.\n",
      "    If converters are specified, they will be applied INSTEAD\n",
      "    of dtype conversion.\n",
      "engine : str, default None\n",
      "    If io is not a buffer or path, this must be set to identify io.\n",
      "    Supported engines: \"xlrd\", \"openpyxl\", \"odf\", \"pyxlsb\".\n",
      "    Engine compatibility :\n",
      "\n",
      "    - \"xlrd\" supports old-style Excel files (.xls).\n",
      "    - \"openpyxl\" supports newer Excel file formats.\n",
      "    - \"odf\" supports OpenDocument file formats (.odf, .ods, .odt).\n",
      "    - \"pyxlsb\" supports Binary Excel files.\n",
      "\n",
      "    .. versionchanged:: 1.2.0\n",
      "        The engine `xlrd <https://xlrd.readthedocs.io/en/latest/>`_\n",
      "        now only supports old-style ``.xls`` files.\n",
      "        When ``engine=None``, the following logic will be\n",
      "        used to determine the engine:\n",
      "\n",
      "       - If ``path_or_buffer`` is an OpenDocument format (.odf, .ods, .odt),\n",
      "         then `odf <https://pypi.org/project/odfpy/>`_ will be used.\n",
      "       - Otherwise if ``path_or_buffer`` is an xls format,\n",
      "         ``xlrd`` will be used.\n",
      "       - Otherwise if `openpyxl <https://pypi.org/project/openpyxl/>`_ is installed,\n",
      "         then ``openpyxl`` will be used.\n",
      "       - Otherwise if ``xlrd >= 2.0`` is installed, a ``ValueError`` will be raised.\n",
      "       - Otherwise ``xlrd`` will be used and a ``FutureWarning`` will be raised. This\n",
      "         case will raise a ``ValueError`` in a future version of pandas.\n",
      "\n",
      "converters : dict, default None\n",
      "    Dict of functions for converting values in certain columns. Keys can\n",
      "    either be integers or column labels, values are functions that take one\n",
      "    input argument, the Excel cell content, and return the transformed\n",
      "    content.\n",
      "true_values : list, default None\n",
      "    Values to consider as True.\n",
      "false_values : list, default None\n",
      "    Values to consider as False.\n",
      "skiprows : list-like, int, or callable, optional\n",
      "    Line numbers to skip (0-indexed) or number of lines to skip (int) at the\n",
      "    start of the file. If callable, the callable function will be evaluated\n",
      "    against the row indices, returning True if the row should be skipped and\n",
      "    False otherwise. An example of a valid callable argument would be ``lambda\n",
      "    x: x in [0, 2]``.\n",
      "nrows : int, default None\n",
      "    Number of rows to parse.\n",
      "na_values : scalar, str, list-like, or dict, default None\n",
      "    Additional strings to recognize as NA/NaN. If dict passed, specific\n",
      "    per-column NA values. By default the following values are interpreted\n",
      "    as NaN: '', '#N/A', '#N/A N/A', '#NA', '-1.#IND', '-1.#QNAN', '-NaN', '-nan',\n",
      "    '1.#IND', '1.#QNAN', '<NA>', 'N/A', 'NA', 'NULL', 'NaN', 'n/a',\n",
      "    'nan', 'null'.\n",
      "keep_default_na : bool, default True\n",
      "    Whether or not to include the default NaN values when parsing the data.\n",
      "    Depending on whether `na_values` is passed in, the behavior is as follows:\n",
      "\n",
      "    * If `keep_default_na` is True, and `na_values` are specified, `na_values`\n",
      "      is appended to the default NaN values used for parsing.\n",
      "    * If `keep_default_na` is True, and `na_values` are not specified, only\n",
      "      the default NaN values are used for parsing.\n",
      "    * If `keep_default_na` is False, and `na_values` are specified, only\n",
      "      the NaN values specified `na_values` are used for parsing.\n",
      "    * If `keep_default_na` is False, and `na_values` are not specified, no\n",
      "      strings will be parsed as NaN.\n",
      "\n",
      "    Note that if `na_filter` is passed in as False, the `keep_default_na` and\n",
      "    `na_values` parameters will be ignored.\n",
      "na_filter : bool, default True\n",
      "    Detect missing value markers (empty strings and the value of na_values). In\n",
      "    data without any NAs, passing na_filter=False can improve the performance\n",
      "    of reading a large file.\n",
      "verbose : bool, default False\n",
      "    Indicate number of NA values placed in non-numeric columns.\n",
      "parse_dates : bool, list-like, or dict, default False\n",
      "    The behavior is as follows:\n",
      "\n",
      "    * bool. If True -> try parsing the index.\n",
      "    * list of int or names. e.g. If [1, 2, 3] -> try parsing columns 1, 2, 3\n",
      "      each as a separate date column.\n",
      "    * list of lists. e.g.  If [[1, 3]] -> combine columns 1 and 3 and parse as\n",
      "      a single date column.\n",
      "    * dict, e.g. {'foo' : [1, 3]} -> parse columns 1, 3 as date and call\n",
      "      result 'foo'\n",
      "\n",
      "    If a column or index contains an unparseable date, the entire column or\n",
      "    index will be returned unaltered as an object data type. If you don`t want to\n",
      "    parse some cells as date just change their type in Excel to \"Text\".\n",
      "    For non-standard datetime parsing, use ``pd.to_datetime`` after ``pd.read_excel``.\n",
      "\n",
      "    Note: A fast-path exists for iso8601-formatted dates.\n",
      "date_parser : function, optional\n",
      "    Function to use for converting a sequence of string columns to an array of\n",
      "    datetime instances. The default uses ``dateutil.parser.parser`` to do the\n",
      "    conversion. Pandas will try to call `date_parser` in three different ways,\n",
      "    advancing to the next if an exception occurs: 1) Pass one or more arrays\n",
      "    (as defined by `parse_dates`) as arguments; 2) concatenate (row-wise) the\n",
      "    string values from the columns defined by `parse_dates` into a single array\n",
      "    and pass that; and 3) call `date_parser` once for each row using one or\n",
      "    more strings (corresponding to the columns defined by `parse_dates`) as\n",
      "    arguments.\n",
      "thousands : str, default None\n",
      "    Thousands separator for parsing string columns to numeric.  Note that\n",
      "    this parameter is only necessary for columns stored as TEXT in Excel,\n",
      "    any numeric columns will automatically be parsed, regardless of display\n",
      "    format.\n",
      "comment : str, default None\n",
      "    Comments out remainder of line. Pass a character or characters to this\n",
      "    argument to indicate comments in the input file. Any data between the\n",
      "    comment string and the end of the current line is ignored.\n",
      "skipfooter : int, default 0\n",
      "    Rows at the end to skip (0-indexed).\n",
      "convert_float : bool, default True\n",
      "    Convert integral floats to int (i.e., 1.0 --> 1). If False, all numeric\n",
      "    data will be read in as floats: Excel stores all numbers as floats\n",
      "    internally.\n",
      "mangle_dupe_cols : bool, default True\n",
      "    Duplicate columns will be specified as 'X', 'X.1', ...'X.N', rather than\n",
      "    'X'...'X'. Passing in False will cause data to be overwritten if there\n",
      "    are duplicate names in the columns.\n",
      "storage_options : dict, optional\n",
      "    Extra options that make sense for a particular storage connection, e.g.\n",
      "    host, port, username, password, etc., if using a URL that will\n",
      "    be parsed by ``fsspec``, e.g., starting \"s3://\", \"gcs://\". An error\n",
      "    will be raised if providing this argument with a local path or\n",
      "    a file-like buffer. See the fsspec and backend storage implementation\n",
      "    docs for the set of allowed keys and values.\n",
      "\n",
      "    .. versionadded:: 1.2.0\n",
      "\n",
      "Returns\n",
      "-------\n",
      "DataFrame or dict of DataFrames\n",
      "    DataFrame from the passed in Excel file. See notes in sheet_name\n",
      "    argument for more information on when a dict of DataFrames is returned.\n",
      "\n",
      "See Also\n",
      "--------\n",
      "DataFrame.to_excel : Write DataFrame to an Excel file.\n",
      "DataFrame.to_csv : Write DataFrame to a comma-separated values (csv) file.\n",
      "read_csv : Read a comma-separated values (csv) file into DataFrame.\n",
      "read_fwf : Read a table of fixed-width formatted lines into DataFrame.\n",
      "\n",
      "Examples\n",
      "--------\n",
      "The file can be read using the file name as string or an open file object:\n",
      "\n",
      ">>> pd.read_excel('tmp.xlsx', index_col=0)  # doctest: +SKIP\n",
      "       Name  Value\n",
      "0   string1      1\n",
      "1   string2      2\n",
      "2  #Comment      3\n",
      "\n",
      ">>> pd.read_excel(open('tmp.xlsx', 'rb'),\n",
      "...               sheet_name='Sheet3')  # doctest: +SKIP\n",
      "   Unnamed: 0      Name  Value\n",
      "0           0   string1      1\n",
      "1           1   string2      2\n",
      "2           2  #Comment      3\n",
      "\n",
      "Index and header can be specified via the `index_col` and `header` arguments\n",
      "\n",
      ">>> pd.read_excel('tmp.xlsx', index_col=None, header=None)  # doctest: +SKIP\n",
      "     0         1      2\n",
      "0  NaN      Name  Value\n",
      "1  0.0   string1      1\n",
      "2  1.0   string2      2\n",
      "3  2.0  #Comment      3\n",
      "\n",
      "Column types are inferred but can be explicitly specified\n",
      "\n",
      ">>> pd.read_excel('tmp.xlsx', index_col=0,\n",
      "...               dtype={'Name': str, 'Value': float})  # doctest: +SKIP\n",
      "       Name  Value\n",
      "0   string1    1.0\n",
      "1   string2    2.0\n",
      "2  #Comment    3.0\n",
      "\n",
      "True, False, and NA values, and thousands separators have defaults,\n",
      "but can be explicitly specified, too. Supply the values you would like\n",
      "as strings or lists of strings!\n",
      "\n",
      ">>> pd.read_excel('tmp.xlsx', index_col=0,\n",
      "...               na_values=['string1', 'string2'])  # doctest: +SKIP\n",
      "       Name  Value\n",
      "0       NaN      1\n",
      "1       NaN      2\n",
      "2  #Comment      3\n",
      "\n",
      "Comment lines in the excel input file can be skipped using the `comment` kwarg\n",
      "\n",
      ">>> pd.read_excel('tmp.xlsx', index_col=0, comment='#')  # doctest: +SKIP\n",
      "      Name  Value\n",
      "0  string1    1.0\n",
      "1  string2    2.0\n",
      "2     None    NaN\n",
      "\u001b[0;31mFile:\u001b[0m      /Library/Frameworks/Python.framework/Versions/3.8/lib/python3.8/site-packages/pandas/io/excel/_base.py\n",
      "\u001b[0;31mType:\u001b[0m      function\n"
     ]
    }
   ],
   "metadata": {}
  },
  {
   "cell_type": "markdown",
   "source": [
    "* To read in all sheets, provide `sheet_name=None`\n",
    "* To handle NaN values, use a combination of `na_values` and `keep_default_na`."
   ],
   "metadata": {}
  },
  {
   "cell_type": "markdown",
   "source": [
    "## ExcelFile class"
   ],
   "metadata": {}
  },
  {
   "cell_type": "code",
   "execution_count": null,
   "source": [
    "with pd.ExcelFile(\"xl/stores.xls\") as f:\n",
    "    df1 = pd.read_excel(f, \"2019\", skiprows=1, usecols=\"B:F\", nrows=2)\n",
    "    df2 = pd.read_excel(f, \"2020\", skiprows=1, usecols=\"B:F\", nrows=2)"
   ],
   "outputs": [],
   "metadata": {}
  },
  {
   "cell_type": "code",
   "execution_count": null,
   "source": [
    "stores = pd.ExcelFile(\"xl/stores.xlsx\")\n",
    "stores.sheet_names # 所有的sheet名"
   ],
   "outputs": [],
   "metadata": {}
  },
  {
   "cell_type": "markdown",
   "source": [
    "## `to_excel()`"
   ],
   "metadata": {}
  },
  {
   "cell_type": "code",
   "execution_count": 4,
   "source": [
    "pd.DataFrame.to_excel?"
   ],
   "outputs": [
    {
     "output_type": "stream",
     "name": "stdout",
     "text": [
      "\u001b[0;31mSignature:\u001b[0m\n",
      "\u001b[0mpd\u001b[0m\u001b[0;34m.\u001b[0m\u001b[0mDataFrame\u001b[0m\u001b[0;34m.\u001b[0m\u001b[0mto_excel\u001b[0m\u001b[0;34m(\u001b[0m\u001b[0;34m\u001b[0m\n",
      "\u001b[0;34m\u001b[0m    \u001b[0mself\u001b[0m\u001b[0;34m,\u001b[0m\u001b[0;34m\u001b[0m\n",
      "\u001b[0;34m\u001b[0m    \u001b[0mexcel_writer\u001b[0m\u001b[0;34m,\u001b[0m\u001b[0;34m\u001b[0m\n",
      "\u001b[0;34m\u001b[0m    \u001b[0msheet_name\u001b[0m\u001b[0;34m:\u001b[0m \u001b[0;34m'str'\u001b[0m \u001b[0;34m=\u001b[0m \u001b[0;34m'Sheet1'\u001b[0m\u001b[0;34m,\u001b[0m\u001b[0;34m\u001b[0m\n",
      "\u001b[0;34m\u001b[0m    \u001b[0mna_rep\u001b[0m\u001b[0;34m:\u001b[0m \u001b[0;34m'str'\u001b[0m \u001b[0;34m=\u001b[0m \u001b[0;34m''\u001b[0m\u001b[0;34m,\u001b[0m\u001b[0;34m\u001b[0m\n",
      "\u001b[0;34m\u001b[0m    \u001b[0mfloat_format\u001b[0m\u001b[0;34m:\u001b[0m \u001b[0;34m'Optional[str]'\u001b[0m \u001b[0;34m=\u001b[0m \u001b[0;32mNone\u001b[0m\u001b[0;34m,\u001b[0m\u001b[0;34m\u001b[0m\n",
      "\u001b[0;34m\u001b[0m    \u001b[0mcolumns\u001b[0m\u001b[0;34m=\u001b[0m\u001b[0;32mNone\u001b[0m\u001b[0;34m,\u001b[0m\u001b[0;34m\u001b[0m\n",
      "\u001b[0;34m\u001b[0m    \u001b[0mheader\u001b[0m\u001b[0;34m=\u001b[0m\u001b[0;32mTrue\u001b[0m\u001b[0;34m,\u001b[0m\u001b[0;34m\u001b[0m\n",
      "\u001b[0;34m\u001b[0m    \u001b[0mindex\u001b[0m\u001b[0;34m=\u001b[0m\u001b[0;32mTrue\u001b[0m\u001b[0;34m,\u001b[0m\u001b[0;34m\u001b[0m\n",
      "\u001b[0;34m\u001b[0m    \u001b[0mindex_label\u001b[0m\u001b[0;34m=\u001b[0m\u001b[0;32mNone\u001b[0m\u001b[0;34m,\u001b[0m\u001b[0;34m\u001b[0m\n",
      "\u001b[0;34m\u001b[0m    \u001b[0mstartrow\u001b[0m\u001b[0;34m=\u001b[0m\u001b[0;36m0\u001b[0m\u001b[0;34m,\u001b[0m\u001b[0;34m\u001b[0m\n",
      "\u001b[0;34m\u001b[0m    \u001b[0mstartcol\u001b[0m\u001b[0;34m=\u001b[0m\u001b[0;36m0\u001b[0m\u001b[0;34m,\u001b[0m\u001b[0;34m\u001b[0m\n",
      "\u001b[0;34m\u001b[0m    \u001b[0mengine\u001b[0m\u001b[0;34m=\u001b[0m\u001b[0;32mNone\u001b[0m\u001b[0;34m,\u001b[0m\u001b[0;34m\u001b[0m\n",
      "\u001b[0;34m\u001b[0m    \u001b[0mmerge_cells\u001b[0m\u001b[0;34m=\u001b[0m\u001b[0;32mTrue\u001b[0m\u001b[0;34m,\u001b[0m\u001b[0;34m\u001b[0m\n",
      "\u001b[0;34m\u001b[0m    \u001b[0mencoding\u001b[0m\u001b[0;34m=\u001b[0m\u001b[0;32mNone\u001b[0m\u001b[0;34m,\u001b[0m\u001b[0;34m\u001b[0m\n",
      "\u001b[0;34m\u001b[0m    \u001b[0minf_rep\u001b[0m\u001b[0;34m=\u001b[0m\u001b[0;34m'inf'\u001b[0m\u001b[0;34m,\u001b[0m\u001b[0;34m\u001b[0m\n",
      "\u001b[0;34m\u001b[0m    \u001b[0mverbose\u001b[0m\u001b[0;34m=\u001b[0m\u001b[0;32mTrue\u001b[0m\u001b[0;34m,\u001b[0m\u001b[0;34m\u001b[0m\n",
      "\u001b[0;34m\u001b[0m    \u001b[0mfreeze_panes\u001b[0m\u001b[0;34m=\u001b[0m\u001b[0;32mNone\u001b[0m\u001b[0;34m,\u001b[0m\u001b[0;34m\u001b[0m\n",
      "\u001b[0;34m\u001b[0m    \u001b[0mstorage_options\u001b[0m\u001b[0;34m:\u001b[0m \u001b[0;34m'StorageOptions'\u001b[0m \u001b[0;34m=\u001b[0m \u001b[0;32mNone\u001b[0m\u001b[0;34m,\u001b[0m\u001b[0;34m\u001b[0m\n",
      "\u001b[0;34m\u001b[0m\u001b[0;34m)\u001b[0m \u001b[0;34m->\u001b[0m \u001b[0;34m'None'\u001b[0m\u001b[0;34m\u001b[0m\u001b[0;34m\u001b[0m\u001b[0m\n",
      "\u001b[0;31mDocstring:\u001b[0m\n",
      "Write object to an Excel sheet.\n",
      "\n",
      "To write a single object to an Excel .xlsx file it is only necessary to\n",
      "specify a target file name. To write to multiple sheets it is necessary to\n",
      "create an `ExcelWriter` object with a target file name, and specify a sheet\n",
      "in the file to write to.\n",
      "\n",
      "Multiple sheets may be written to by specifying unique `sheet_name`.\n",
      "With all data written to the file it is necessary to save the changes.\n",
      "Note that creating an `ExcelWriter` object with a file name that already\n",
      "exists will result in the contents of the existing file being erased.\n",
      "\n",
      "Parameters\n",
      "----------\n",
      "excel_writer : path-like, file-like, or ExcelWriter object\n",
      "    File path or existing ExcelWriter.\n",
      "sheet_name : str, default 'Sheet1'\n",
      "    Name of sheet which will contain DataFrame.\n",
      "na_rep : str, default ''\n",
      "    Missing data representation.\n",
      "float_format : str, optional\n",
      "    Format string for floating point numbers. For example\n",
      "    ``float_format=\"%.2f\"`` will format 0.1234 to 0.12.\n",
      "columns : sequence or list of str, optional\n",
      "    Columns to write.\n",
      "header : bool or list of str, default True\n",
      "    Write out the column names. If a list of string is given it is\n",
      "    assumed to be aliases for the column names.\n",
      "index : bool, default True\n",
      "    Write row names (index).\n",
      "index_label : str or sequence, optional\n",
      "    Column label for index column(s) if desired. If not specified, and\n",
      "    `header` and `index` are True, then the index names are used. A\n",
      "    sequence should be given if the DataFrame uses MultiIndex.\n",
      "startrow : int, default 0\n",
      "    Upper left cell row to dump data frame.\n",
      "startcol : int, default 0\n",
      "    Upper left cell column to dump data frame.\n",
      "engine : str, optional\n",
      "    Write engine to use, 'openpyxl' or 'xlsxwriter'. You can also set this\n",
      "    via the options ``io.excel.xlsx.writer``, ``io.excel.xls.writer``, and\n",
      "    ``io.excel.xlsm.writer``.\n",
      "\n",
      "    .. deprecated:: 1.2.0\n",
      "\n",
      "        As the `xlwt <https://pypi.org/project/xlwt/>`__ package is no longer\n",
      "        maintained, the ``xlwt`` engine will be removed in a future version\n",
      "        of pandas.\n",
      "\n",
      "merge_cells : bool, default True\n",
      "    Write MultiIndex and Hierarchical Rows as merged cells.\n",
      "encoding : str, optional\n",
      "    Encoding of the resulting excel file. Only necessary for xlwt,\n",
      "    other writers support unicode natively.\n",
      "inf_rep : str, default 'inf'\n",
      "    Representation for infinity (there is no native representation for\n",
      "    infinity in Excel).\n",
      "verbose : bool, default True\n",
      "    Display more information in the error logs.\n",
      "freeze_panes : tuple of int (length 2), optional\n",
      "    Specifies the one-based bottommost row and rightmost column that\n",
      "    is to be frozen.\n",
      "storage_options : dict, optional\n",
      "    Extra options that make sense for a particular storage connection, e.g.\n",
      "    host, port, username, password, etc., if using a URL that will\n",
      "    be parsed by ``fsspec``, e.g., starting \"s3://\", \"gcs://\". An error\n",
      "    will be raised if providing this argument with a non-fsspec URL.\n",
      "    See the fsspec and backend storage implementation docs for the set of\n",
      "    allowed keys and values.\n",
      "\n",
      "    .. versionadded:: 1.2.0\n",
      "\n",
      "See Also\n",
      "--------\n",
      "to_csv : Write DataFrame to a comma-separated values (csv) file.\n",
      "ExcelWriter : Class for writing DataFrame objects into excel sheets.\n",
      "read_excel : Read an Excel file into a pandas DataFrame.\n",
      "read_csv : Read a comma-separated values (csv) file into DataFrame.\n",
      "\n",
      "Notes\n",
      "-----\n",
      "For compatibility with :meth:`~DataFrame.to_csv`,\n",
      "to_excel serializes lists and dicts to strings before writing.\n",
      "\n",
      "Once a workbook has been saved it is not possible write further data\n",
      "without rewriting the whole workbook.\n",
      "\n",
      "Examples\n",
      "--------\n",
      "\n",
      "Create, write to and save a workbook:\n",
      "\n",
      ">>> df1 = pd.DataFrame([['a', 'b'], ['c', 'd']],\n",
      "...                    index=['row 1', 'row 2'],\n",
      "...                    columns=['col 1', 'col 2'])\n",
      ">>> df1.to_excel(\"output.xlsx\")  # doctest: +SKIP\n",
      "\n",
      "To specify the sheet name:\n",
      "\n",
      ">>> df1.to_excel(\"output.xlsx\",\n",
      "...              sheet_name='Sheet_name_1')  # doctest: +SKIP\n",
      "\n",
      "If you wish to write to more than one sheet in the workbook, it is\n",
      "necessary to specify an ExcelWriter object:\n",
      "\n",
      ">>> df2 = df1.copy()\n",
      ">>> with pd.ExcelWriter('output.xlsx') as writer:  # doctest: +SKIP\n",
      "...     df1.to_excel(writer, sheet_name='Sheet_name_1')\n",
      "...     df2.to_excel(writer, sheet_name='Sheet_name_2')\n",
      "\n",
      "ExcelWriter can also be used to append to an existing Excel file:\n",
      "\n",
      ">>> with pd.ExcelWriter('output.xlsx',\n",
      "...                     mode='a') as writer:  # doctest: +SKIP\n",
      "...     df.to_excel(writer, sheet_name='Sheet_name_3')\n",
      "\n",
      "To set the library that is used to write the Excel file,\n",
      "you can pass the `engine` keyword (the default engine is\n",
      "automatically chosen depending on the file extension):\n",
      "\n",
      ">>> df1.to_excel('output1.xlsx', engine='xlsxwriter')  # doctest: +SKIP\n",
      "\u001b[0;31mFile:\u001b[0m      /Library/Frameworks/Python.framework/Versions/3.8/lib/python3.8/site-packages/pandas/core/generic.py\n",
      "\u001b[0;31mType:\u001b[0m      function\n"
     ]
    }
   ],
   "metadata": {}
  },
  {
   "cell_type": "markdown",
   "source": [
    "If you want to write multiple DataFrames to the same or different sheets, you will need to use the ExcelWriter class."
   ],
   "metadata": {}
  },
  {
   "cell_type": "markdown",
   "source": [
    "## ExcelWriter class"
   ],
   "metadata": {}
  },
  {
   "cell_type": "code",
   "execution_count": null,
   "source": [
    "with pd.ExcelWriter(\"written_with_pandas2.xlsx\") as writer:\n",
    "    df.to_excel(writer, sheet_name=\"Sheet1\", startrow=1, startcol=1)\n",
    "    df.to_excel(writer, sheet_name=\"Sheet1\", startrow=10, startcol=1)\n",
    "    df.to_excel(writer, sheet_name=\"Sheet2\""
   ],
   "outputs": [],
   "metadata": {}
  },
  {
   "cell_type": "markdown",
   "source": [
    "# openpyxl"
   ],
   "metadata": {}
  },
  {
   "cell_type": "code",
   "execution_count": null,
   "source": [
    "import openpyxl\n",
    "from openpyxl.drawing.image import Image\n",
    "from openpyxl.chart import BarChart, Reference\n",
    "from openpyxl.styles import Font, colors\n",
    "from openpyxl.styles.borders import Border, Side\n",
    "from openpyxl.styles.alignment import Alignment\n",
    "from openpyxl.styles.fills import PatternFill"
   ],
   "outputs": [],
   "metadata": {}
  },
  {
   "cell_type": "code",
   "execution_count": null,
   "source": [
    "# Instantiate a workbook\n",
    "book = openpyxl.Workbook()\n",
    "\n",
    "# Get the first sheet and give it a name\n",
    "sheet = book.active\n",
    "sheet.title = \"Sheet1\"\n",
    "\n",
    "# Writing individual cells using A1 notation\n",
    "# and cell indices (1-based)\n",
    "sheet[\"A1\"].value = \"Hello 1\"\n",
    "sheet.cell(row=2, column=1, value=\"Hello 2\")\n",
    "\n",
    "# Formatting: fill color, alignment, border and font\n",
    "font_format = Font(color=\"FF0000\", bold=True)\n",
    "thin = Side(border_style=\"thin\", color=\"FF0000\")\n",
    "sheet[\"A3\"].value = \"Hello 3\"\n",
    "sheet[\"A3\"].font = font_format\n",
    "sheet[\"A3\"].border = Border(top=thin, left=thin,\n",
    "                            right=thin, bottom=thin)\n",
    "sheet[\"A3\"].alignment = Alignment(horizontal=\"center\")\n",
    "sheet[\"A3\"].fill = PatternFill(fgColor=\"FFFF00\", fill_type=\"solid\")\n",
    "\n",
    "# Number formatting (using Excel's formatting strings)\n",
    "sheet[\"A4\"].value = 3.3333\n",
    "sheet[\"A4\"].number_format = \"0.00\"\n",
    "\n",
    "# Date formatting (using Excel's formatting strings)\n",
    "sheet[\"A5\"].value = dt.date(2016, 10, 13)\n",
    "sheet[\"A5\"].number_format = \"mm/dd/yy\"\n",
    "\n",
    "# Formula: you must use the English name of the formula\n",
    "# with commas as delimiters\n",
    "sheet[\"A6\"].value = \"=SUM(A4, 2)\"\n",
    "\n",
    "# Image\n",
    "sheet.add_image(Image(\"images/python.png\"), \"C1\")\n",
    "\n",
    "# Two-dimensional list (we're using our excel module)\n",
    "data = [[None, \"North\", \"South\"],\n",
    "        [\"Last Year\", 2, 5],\n",
    "        [\"This Year\", 3, 6]]\n",
    "\n",
    "# Chart\n",
    "chart = BarChart()\n",
    "chart.type = \"col\"\n",
    "chart.title = \"Sales Per Region\"\n",
    "chart.x_axis.title = \"Regions\"\n",
    "chart.y_axis.title = \"Sales\"\n",
    "chart_data = Reference(sheet, min_row=11, min_col=1,\n",
    "                       max_row=12, max_col=3)\n",
    "chart_categories = Reference(sheet, min_row=10, min_col=2,\n",
    "                             max_row=10, max_col=3)\n",
    "# from_rows interprets the data in the same way\n",
    "# as if you would add a chart manually in Excel\n",
    "chart.add_data(chart_data, titles_from_data=True, from_rows=True)\n",
    "chart.set_categories(chart_categories)\n",
    "sheet.add_chart(chart, \"A15\")\n",
    "\n",
    "# Saving the workbook creates the file on disk\n",
    "book.save(\"openpyxl.xlsx\")"
   ],
   "outputs": [],
   "metadata": {}
  },
  {
   "cell_type": "markdown",
   "source": [
    "# xlwings"
   ],
   "metadata": {}
  },
  {
   "cell_type": "markdown",
   "source": [
    "## インストール"
   ],
   "metadata": {}
  },
  {
   "cell_type": "markdown",
   "source": [
    "*pip*でインストールする場合は、最新版を\n",
    "```python\n",
    "pip install xlwings\n",
    "```"
   ],
   "metadata": {}
  },
  {
   "cell_type": "markdown",
   "source": [
    "*Anaconda*の場合は、`xlwings`は内蔵されているはず、最新版を体験したいなら、以下のコマンドを実行する\n",
    "```python\n",
    "conda install -c conda-forge xlwings\n",
    "```"
   ],
   "metadata": {}
  },
  {
   "cell_type": "code",
   "execution_count": null,
   "source": [
    "import datetime as dt\n",
    "import sys\n",
    "\n",
    "import xlwings as xw\n",
    "import numpy as np\n",
    "import pandas as pd"
   ],
   "outputs": [],
   "metadata": {}
  },
  {
   "cell_type": "code",
   "execution_count": null,
   "source": [
    "# バージョン確認\n",
    "xw.__version__"
   ],
   "outputs": [],
   "metadata": {}
  },
  {
   "cell_type": "markdown",
   "source": [
    "![オブジェクトの階層構造](https://upload-images.jianshu.io/upload_images/2979196-89d95b50b4a69d4f.png?imageMogr2/auto-orient/strip|imageView2/2/w/804)"
   ],
   "metadata": {}
  },
  {
   "cell_type": "markdown",
   "source": [
    "## `xw.view()`: Excel as viewer for tabular data"
   ],
   "metadata": {}
  },
  {
   "cell_type": "code",
   "execution_count": null,
   "source": [
    "data = np.random.rand(100, 100)\n",
    "data"
   ],
   "outputs": [],
   "metadata": {}
  },
  {
   "cell_type": "code",
   "execution_count": null,
   "source": [
    "# Open a new book\n",
    "xw.view(data)"
   ],
   "outputs": [],
   "metadata": {}
  },
  {
   "cell_type": "code",
   "execution_count": null,
   "source": [
    "# Reuse an existing sheet(sheets gets cleared with every call)\n",
    "xw.view(np.random.rand(5, 5), xw.sheets.active)"
   ],
   "outputs": [],
   "metadata": {}
  },
  {
   "cell_type": "code",
   "execution_count": null,
   "source": [
    "xw.view(np.random.rand(3, 3), xw.sheets.active)"
   ],
   "outputs": [],
   "metadata": {}
  },
  {
   "cell_type": "markdown",
   "source": [
    "## ブック接続"
   ],
   "metadata": {}
  },
  {
   "cell_type": "code",
   "execution_count": null,
   "source": [
    "# 新規ブック\n",
    "wb1 = xw.Book()\n",
    "wb1 = xw.books.add()"
   ],
   "outputs": [],
   "metadata": {}
  },
  {
   "cell_type": "code",
   "execution_count": null,
   "source": [
    "# 保存されていないブック\n",
    "wb1 = xw.Book(\"Book1\")\n",
    "wb1 = xw.books[\"Book1\"]"
   ],
   "outputs": [],
   "metadata": {}
  },
  {
   "cell_type": "code",
   "execution_count": null,
   "source": [
    "# （完全な）名前でブックを指定\n",
    "wb1 = xw.Book(r\"C:\\Users\\XXX\\Desktop\\Myworkbook.xlsx\")\n",
    "wb1 = xw.books.open(r\"C:\\Users\\XXX\\Desktop\\Myworkbook.xlsx\")"
   ],
   "outputs": [],
   "metadata": {}
  },
  {
   "cell_type": "markdown",
   "source": [
    "## The Range Object"
   ],
   "metadata": {}
  },
  {
   "cell_type": "code",
   "execution_count": null,
   "source": [
    "sheet = xw.Book().sheets[0]"
   ],
   "outputs": [],
   "metadata": {}
  },
  {
   "cell_type": "code",
   "execution_count": null,
   "source": [
    "# Write Value\n",
    "sheet.range(\"A1\").value = \"hello xlwings!\""
   ],
   "outputs": [],
   "metadata": {}
  },
  {
   "cell_type": "code",
   "execution_count": null,
   "source": [
    "# Read value\n",
    "sheet.range(\"A1\").value"
   ],
   "outputs": [],
   "metadata": {}
  },
  {
   "cell_type": "code",
   "execution_count": null,
   "source": [
    "# Write the same value to multiple cells\n",
    "sheet.range(\"A3:B4\").value = 123"
   ],
   "outputs": [],
   "metadata": {}
  },
  {
   "cell_type": "code",
   "execution_count": null,
   "source": [
    "# Excel's numerical format is float\n",
    "sheet.range(\"A3\").value"
   ],
   "outputs": [],
   "metadata": {}
  },
  {
   "cell_type": "code",
   "execution_count": null,
   "source": [
    "# Datetime\n",
    "sheet.range(\"A6\") = dt.datetime(2020, 12, 25, 22, 22, 22)\n",
    "sheet.range(\"A6\").value"
   ],
   "outputs": [],
   "metadata": {}
  },
  {
   "cell_type": "code",
   "execution_count": null,
   "source": [
    "# Index natation (1-Based like Excel)\n",
    "sheet.range(1, 1).value = \"A1\"\n",
    "sheet.range((1, 1), (3, 3)).value = \"C3\""
   ],
   "outputs": [],
   "metadata": {}
  },
  {
   "cell_type": "markdown",
   "source": [
    "インデックスの開始番号は、  \n",
    "* 丸括弧()ならExcelと同じく1から\n",
    "* 角括弧[]ならPythonと同じく0から（こちらはスライスも可）"
   ],
   "metadata": {}
  },
  {
   "cell_type": "code",
   "execution_count": null,
   "source": [
    "# Formula\n",
    "sheet.range(\"B1\").formula = \"=SUM(A3:B4)\""
   ],
   "outputs": [],
   "metadata": {}
  },
  {
   "cell_type": "code",
   "execution_count": null,
   "source": [
    "# Named ranges\n",
    "sheet.range(\"B1\").name = \"test\"\n",
    "sheet.range(\"test\").formula"
   ],
   "outputs": [],
   "metadata": {}
  },
  {
   "cell_type": "code",
   "execution_count": null,
   "source": [
    "foo = sheet.range(\"test\").value\n",
    "foo"
   ],
   "outputs": [],
   "metadata": {}
  },
  {
   "cell_type": "code",
   "execution_count": null,
   "source": [
    "sheet.range(\"test\").value = \"Likethis\""
   ],
   "outputs": [],
   "metadata": {}
  },
  {
   "cell_type": "code",
   "execution_count": null,
   "source": [
    "# Numpy arrays\n",
    "sheet.range(\"A1\").value = np.eye(3)\n",
    "sheet.range(\"A1\").options(convert=np.array, expand=\"table\").value"
   ],
   "outputs": [],
   "metadata": {}
  },
  {
   "cell_type": "markdown",
   "source": [
    "空のセルは None ではなく nan となります"
   ],
   "metadata": {}
  },
  {
   "cell_type": "code",
   "execution_count": null,
   "source": [
    "# Pandas DataFrames\n",
    "df = pd.DataFrame([1.1, 2.2], [3.3, None], columns=[\"a\", \"b\"])\n",
    "sheet.range(\"A1\").value = df\n",
    "sheet.range(\"A1:C3\").options(pd.DataFrame).value\n",
    "\n",
    "sheet.range(\"A5\").options(index=False).value = df\n",
    "sheet.range(\"A9\").options(index=False, header=False).value = df"
   ],
   "outputs": [],
   "metadata": {}
  },
  {
   "cell_type": "code",
   "execution_count": null,
   "source": [
    "# Pandas Series\n",
    "s = pd.Series([1.1, 3.3, 5., np.nan, 6., 8.], name=\"myseries\")\n",
    "\n",
    "sheet.range(\"A1\").value=s\n",
    "sheet.range(\"A1:B7\").options(pd.Series).value"
   ],
   "outputs": [],
   "metadata": {}
  },
  {
   "cell_type": "markdown",
   "source": [
    "リストやNumPy arrayやPandas DataFrameをExcelに書き込むには、左上セルを指定するだけで済みます。\n",
    "\n",
    "例: \n",
    "```python\n",
    "sheet.range('A1').value = np.eye(10)\n",
    "```"
   ],
   "metadata": {}
  },
  {
   "cell_type": "markdown",
   "source": [
    "## 2d Ranges"
   ],
   "metadata": {}
  },
  {
   "cell_type": "code",
   "execution_count": null,
   "source": [
    "sheet.range(\"A3:B4\").value"
   ],
   "outputs": [],
   "metadata": {}
  },
  {
   "cell_type": "code",
   "execution_count": null,
   "source": [
    "# Index notation\n",
    "sheet.range((3, 1), (4, 2)).value"
   ],
   "outputs": [],
   "metadata": {}
  },
  {
   "cell_type": "code",
   "execution_count": null,
   "source": [
    "# Assign a nested list to the top-left corner\n",
    "sheet.range(\"A9\").value = [[\"a string\", 1, 2, 3],\n",
    "                           [dt.date(2021, 1, 1), 123.5, None, None]]"
   ],
   "outputs": [],
   "metadata": {}
  },
  {
   "cell_type": "code",
   "execution_count": null,
   "source": [
    "# Range expansion: \"table\", \"down\", \"right\"\n",
    "# Correspond to Ctrl+Shift+Down and/or right\n",
    "# They return a Range object!\n",
    "sheet.range(\"A9\").expand(\"table\")"
   ],
   "outputs": [],
   "metadata": {}
  },
  {
   "cell_type": "code",
   "execution_count": null,
   "source": [
    "# \"table\" is default\n",
    "sheet.range(\"A9\").expand.value"
   ],
   "outputs": [],
   "metadata": {}
  },
  {
   "cell_type": "code",
   "execution_count": null,
   "source": [
    "# Use .clear to also clear the formatting\n",
    "sheet.range(\"A9\").expand().clear_contents()"
   ],
   "outputs": [],
   "metadata": {}
  },
  {
   "cell_type": "markdown",
   "source": [
    "## 1d vectors"
   ],
   "metadata": {}
  },
  {
   "cell_type": "code",
   "execution_count": null,
   "source": [
    "# Horizontal\n",
    "sheet.range(\"A12\").value = [1, 2, 3, 4]"
   ],
   "outputs": [],
   "metadata": {}
  },
  {
   "cell_type": "code",
   "execution_count": null,
   "source": [
    "# Vertical\n",
    "sheet.range(\"A13\").options(transpose=True).value = [5, 6, 7, 8]\n",
    "# this is the same as:\n",
    "# sheet.range(\"A13\").value = [[5], [6], [7], [8]]"
   ],
   "outputs": [],
   "metadata": {}
  },
  {
   "cell_type": "code",
   "execution_count": null,
   "source": [
    "sheet.range(\"A12\").expand(\"right\").value"
   ],
   "outputs": [],
   "metadata": {}
  },
  {
   "cell_type": "code",
   "execution_count": null,
   "source": [
    "sheet.range(\"A12\").expand(\"down\").value"
   ],
   "outputs": [],
   "metadata": {}
  },
  {
   "cell_type": "markdown",
   "source": [
    "## ndim"
   ],
   "metadata": {}
  },
  {
   "cell_type": "code",
   "execution_count": null,
   "source": [
    "sheet.range(\"A1\").options(ndim=1).value"
   ],
   "outputs": [],
   "metadata": {}
  },
  {
   "cell_type": "code",
   "execution_count": null,
   "source": [
    "sheet.range(\"A12\").options(ndim=2, expand=\"right\").value"
   ],
   "outputs": [],
   "metadata": {}
  },
  {
   "cell_type": "code",
   "execution_count": null,
   "source": [
    "sheet.range(\"A12\").options(ndim=2, expand=\"down\").value"
   ],
   "outputs": [],
   "metadata": {}
  },
  {
   "cell_type": "markdown",
   "source": [
    "## Autofit"
   ],
   "metadata": {}
  },
  {
   "cell_type": "code",
   "execution_count": null,
   "source": [
    "# autofit columns and rows based on a single cell\n",
    "sheet.range(\"A3\").autofit()"
   ],
   "outputs": [],
   "metadata": {}
  },
  {
   "cell_type": "code",
   "execution_count": null,
   "source": [
    "# autofit columns based on range\n",
    "sheet.range(\"A1:C3\").columns.autofit()"
   ],
   "outputs": [],
   "metadata": {}
  },
  {
   "cell_type": "code",
   "execution_count": null,
   "source": [
    "# autofit a whole column\n",
    "sheet.range(\"A:A\").autofit()"
   ],
   "outputs": [],
   "metadata": {}
  },
  {
   "cell_type": "markdown",
   "source": [
    "## Background color"
   ],
   "metadata": {}
  },
  {
   "cell_type": "code",
   "execution_count": null,
   "source": [
    "# Assign an RGB value\n",
    "sheet.range(\"A1\").color = (0, 255, 0)\n",
    "sheet.range(\"A1\").color"
   ],
   "outputs": [],
   "metadata": {}
  },
  {
   "cell_type": "markdown",
   "source": [
    "## Range indexing/slicing"
   ],
   "metadata": {}
  },
  {
   "cell_type": "code",
   "execution_count": null,
   "source": [
    "rng = sheet.range(\"A1:D5\")\n",
    "rng[0, 0]"
   ],
   "outputs": [],
   "metadata": {}
  },
  {
   "cell_type": "code",
   "execution_count": null,
   "source": [
    "rng[1]"
   ],
   "outputs": [],
   "metadata": {}
  },
  {
   "cell_type": "code",
   "execution_count": null,
   "source": [
    "rng[:, 3:]"
   ],
   "outputs": [],
   "metadata": {}
  },
  {
   "cell_type": "code",
   "execution_count": null,
   "source": [
    "rng[1:3, 1:3]"
   ],
   "outputs": [],
   "metadata": {}
  },
  {
   "cell_type": "code",
   "execution_count": null,
   "source": [
    "xw.books.active.close()"
   ],
   "outputs": [],
   "metadata": {}
  },
  {
   "cell_type": "markdown",
   "source": [
    "## Full qualification"
   ],
   "metadata": {}
  },
  {
   "cell_type": "code",
   "execution_count": null,
   "source": [
    "# Get all available PIDs (Process IDs)\n",
    "xw.apps.keys()"
   ],
   "outputs": [],
   "metadata": {}
  },
  {
   "cell_type": "code",
   "execution_count": null,
   "source": [
    "# This allows us to specify a specific Excel instance\n",
    "pid = xw.apps.keys()[0] # or xw.apps.active.pid"
   ],
   "outputs": [],
   "metadata": {}
  },
  {
   "cell_type": "code",
   "execution_count": null,
   "source": [
    "xw.apps[pid].books[0].sheets[0].range(\"A1\")"
   ],
   "outputs": [],
   "metadata": {}
  },
  {
   "cell_type": "code",
   "execution_count": null,
   "source": [
    "xw.apps(pid).books(1).sheets(1).range(\"A1\")"
   ],
   "outputs": [],
   "metadata": {}
  },
  {
   "cell_type": "code",
   "execution_count": null,
   "source": [
    "# Instead of indices we can also use names\n",
    "xw.apps[pid].books[\"Book1\"].sheets[\"Sheet1\"].range(\"A1\")\n",
    "xw.apps(pid).books(\"Book1\").sheets(\"Sheet1\").range(\"A1\")"
   ],
   "outputs": [],
   "metadata": {}
  },
  {
   "cell_type": "markdown",
   "source": [
    "## work with multiple apps"
   ],
   "metadata": {}
  },
  {
   "cell_type": "code",
   "execution_count": null,
   "source": [
    "app1 = xw.apps[pid]\n",
    "app2 = xw.App()"
   ],
   "outputs": [],
   "metadata": {}
  },
  {
   "cell_type": "code",
   "execution_count": null,
   "source": [
    "# Open the same workbook twice in different Excel instances\n",
    "app1.books.open(\"foo.xlsx\")\n",
    "app2.books.open(\"foo.xlsx\")"
   ],
   "outputs": [],
   "metadata": {}
  },
  {
   "cell_type": "code",
   "execution_count": null,
   "source": [
    "# this will throw an error\n",
    "# xw.Book(\"foo.xlsx\")"
   ],
   "outputs": [],
   "metadata": {}
  },
  {
   "cell_type": "code",
   "execution_count": null,
   "source": [
    "# The following syntax is required\n",
    "# if the same file is opened in more than 1 instance\n",
    "print(app1.books[\"foo.xlsm\"])\n",
    "print(app2.books[\"foo.xlsm\"])\n",
    "print(app1.books[\"foo.xlsm\"].app)\n",
    "print(app1.books[\"foo.xlsm\"].app)"
   ],
   "outputs": [],
   "metadata": {}
  },
  {
   "cell_type": "markdown",
   "source": [
    "## Active Objects"
   ],
   "metadata": {}
  },
  {
   "cell_type": "code",
   "execution_count": null,
   "source": [
    "# Active app\n",
    "xw.apps.active"
   ],
   "outputs": [],
   "metadata": {}
  },
  {
   "cell_type": "code",
   "execution_count": null,
   "source": [
    "# active book in active app\n",
    "xw.books.active"
   ],
   "outputs": [],
   "metadata": {}
  },
  {
   "cell_type": "code",
   "execution_count": null,
   "source": [
    "# active sheet in active book in active app\n",
    "xw.sheets.active"
   ],
   "outputs": [],
   "metadata": {}
  },
  {
   "cell_type": "code",
   "execution_count": null,
   "source": [
    "# This is a special shortcut for interactive use only\n",
    "# It takes the active sheet form the active book\n",
    "xw.Range(\"A1\").value"
   ],
   "outputs": [],
   "metadata": {}
  },
  {
   "cell_type": "code",
   "execution_count": null,
   "source": [
    "app2.kill()"
   ],
   "outputs": [],
   "metadata": {}
  },
  {
   "cell_type": "markdown",
   "source": [
    "## Sheets"
   ],
   "metadata": {}
  },
  {
   "cell_type": "code",
   "execution_count": null,
   "source": [
    "xw.sheets[0].name"
   ],
   "outputs": [],
   "metadata": {}
  },
  {
   "cell_type": "code",
   "execution_count": null,
   "source": [
    "xw.sheets.count # same as len(xw.sheets)"
   ],
   "outputs": [],
   "metadata": {}
  },
  {
   "cell_type": "code",
   "execution_count": null,
   "source": [
    "xw.sheets.add(name=\"New Sheet By xlwings\", after=\"Sheet1\")"
   ],
   "outputs": [],
   "metadata": {}
  },
  {
   "cell_type": "code",
   "execution_count": null,
   "source": [
    "sheet = xw.sheets[0]\n",
    "sheet[\"A1\"]"
   ],
   "outputs": [],
   "metadata": {}
  },
  {
   "cell_type": "code",
   "execution_count": null,
   "source": [
    "sheet[\"A1:B5\"]"
   ],
   "outputs": [],
   "metadata": {}
  },
  {
   "cell_type": "code",
   "execution_count": null,
   "source": [
    "sheet[0, 1]"
   ],
   "outputs": [],
   "metadata": {}
  },
  {
   "cell_type": "code",
   "execution_count": null,
   "source": [
    "sheet[:10, :10]"
   ],
   "outputs": [],
   "metadata": {}
  },
  {
   "cell_type": "markdown",
   "source": [
    "## Charts"
   ],
   "metadata": {}
  },
  {
   "cell_type": "code",
   "execution_count": null,
   "source": [
    "wb = xw.Book()\n",
    "sheet = wb.sheets[0]\n",
    "sheet.range(\"A1\").value = [[\"one\", \"two\"],\n",
    "                           [1.1, 2.2],\n",
    "                           [3.3, None]]"
   ],
   "outputs": [],
   "metadata": {}
  },
  {
   "cell_type": "code",
   "execution_count": null,
   "source": [
    "chart = sheet.charts.add()\n",
    "chart.set_source_data(sheet.range(\"A1\").expand())\n",
    "chart.chart_type = \"line\"\n",
    "chart.top = sheet.range(\"A5\").top"
   ],
   "outputs": [],
   "metadata": {}
  },
  {
   "cell_type": "code",
   "execution_count": null,
   "source": [
    "chart.chart_type = \"area\""
   ],
   "outputs": [],
   "metadata": {}
  },
  {
   "cell_type": "code",
   "execution_count": null,
   "source": [
    "xw.constants.chart_types"
   ],
   "outputs": [],
   "metadata": {}
  },
  {
   "cell_type": "code",
   "execution_count": null,
   "source": [
    "wb.close()"
   ],
   "outputs": [],
   "metadata": {}
  },
  {
   "cell_type": "markdown",
   "source": [
    "## Matplotlib"
   ],
   "metadata": {}
  },
  {
   "cell_type": "code",
   "execution_count": null,
   "source": [
    "% matplotlib inline\n",
    "from scipy.interpolate import interp1d\n",
    "import matplotlib as mpl\n",
    "import matplotlib.pyplot as plt"
   ],
   "outputs": [],
   "metadata": {}
  },
  {
   "cell_type": "code",
   "execution_count": null,
   "source": [
    "years = [1, 2, 3, 4, 5, 7, 10, 30]\n",
    "swap_rate = np.random.rand(8)\n",
    "years_new = np.linspace(1, 30, num=30)\n",
    "interpolate = interp1d(years, swap_rate, kind=\"quadratic\")"
   ],
   "outputs": [],
   "metadata": {}
  },
  {
   "cell_type": "code",
   "execution_count": null,
   "source": [
    "fig = plt.figure(figsize=(6, 4))\n",
    "swap_rate_plot = plt.plot(years, swap_rate, \"o\",\n",
    "                          years_new, interpolate(years_new),                            \"-\")"
   ],
   "outputs": [],
   "metadata": {}
  },
  {
   "cell_type": "code",
   "execution_count": null,
   "source": [
    "wb = xw.Book()\n",
    "sheet = wb.sheets[0]"
   ],
   "outputs": [],
   "metadata": {}
  },
  {
   "cell_type": "code",
   "execution_count": null,
   "source": [
    "plot = sheet.pictures.add(fig, name=\"SwapRate\", update=True)"
   ],
   "outputs": [],
   "metadata": {}
  },
  {
   "cell_type": "code",
   "execution_count": null,
   "source": [
    "width, height = fig.get_size_inches()\n",
    "dpi = fig.get_dpi()\n",
    "sheet.pictures.add(fig, name=\"SwapRate2\", update=True,\n",
    "                   left=sheet.range(\"A25\").left, top=sheet.range(\"A25\"),\n",
    "                   width=width * dpi / 2, height=height * dpi / 2)"
   ],
   "outputs": [],
   "metadata": {}
  },
  {
   "cell_type": "code",
   "execution_count": null,
   "source": [
    "plot.height = plt.height / 2\n",
    "plot.width = plot.width / 2"
   ],
   "outputs": [],
   "metadata": {}
  },
  {
   "cell_type": "code",
   "execution_count": null,
   "source": [
    "wb.close()"
   ],
   "outputs": [],
   "metadata": {}
  },
  {
   "cell_type": "markdown",
   "source": [
    "## Table objects"
   ],
   "metadata": {}
  },
  {
   "cell_type": "code",
   "execution_count": null,
   "source": [
    "wb = xw.Book(\"foo.xlsx\")\n",
    "sheet = wb.sheets[0]"
   ],
   "outputs": [],
   "metadata": {}
  },
  {
   "cell_type": "code",
   "execution_count": null,
   "source": [
    "sheet.range(\"Table1\").value"
   ],
   "outputs": [],
   "metadata": {}
  },
  {
   "cell_type": "code",
   "execution_count": null,
   "source": [
    "sheet.range(\"Table1[Symbol]\").value"
   ],
   "outputs": [],
   "metadata": {}
  },
  {
   "cell_type": "code",
   "execution_count": null,
   "source": [
    "sheet.range(\"Table1[#All], [Last]]\").value"
   ],
   "outputs": [],
   "metadata": {}
  },
  {
   "cell_type": "code",
   "execution_count": null,
   "source": [
    "sheet.range(\"Table1[[#Headers], [Last]]\").value"
   ],
   "outputs": [],
   "metadata": {}
  },
  {
   "cell_type": "code",
   "execution_count": null,
   "source": [
    "sheet.range(\"Table1[[#Totals], [Last]]\").value"
   ],
   "outputs": [],
   "metadata": {}
  },
  {
   "cell_type": "code",
   "execution_count": null,
   "source": [
    "sheet.range(\"Table1[[Index]:[Last]]\").value"
   ],
   "outputs": [],
   "metadata": {}
  },
  {
   "cell_type": "code",
   "execution_count": null,
   "source": [
    "wb.close()"
   ],
   "outputs": [],
   "metadata": {}
  },
  {
   "cell_type": "markdown",
   "source": [
    "## Efficiency"
   ],
   "metadata": {}
  },
  {
   "cell_type": "code",
   "execution_count": null,
   "source": [
    "wb = xw.Book()\n",
    "sheet = wb.sheets[0]"
   ],
   "outputs": [],
   "metadata": {}
  },
  {
   "cell_type": "code",
   "execution_count": null,
   "source": [
    "sheet.range(\"A1\").value = np.arange(5 * 30).reshape((30, 5))"
   ],
   "outputs": [],
   "metadata": {}
  },
  {
   "cell_type": "code",
   "execution_count": null,
   "source": [
    "wb.close()"
   ],
   "outputs": [],
   "metadata": {}
  },
  {
   "cell_type": "markdown",
   "source": [
    "## Work around for missing features: Manipulate the underlying object"
   ],
   "metadata": {}
  },
  {
   "cell_type": "code",
   "execution_count": null,
   "source": [
    "wb = xw.Book()\n",
    "sheet = wb.sheets[0]"
   ],
   "outputs": [],
   "metadata": {}
  },
  {
   "cell_type": "code",
   "execution_count": null,
   "source": [
    "# On windows, the underlying object is a pywin32 COM object\n",
    "# On Mac, it is an appscript object\n",
    "sheet.range(\"A1\").api"
   ],
   "outputs": [],
   "metadata": {}
  },
  {
   "cell_type": "code",
   "execution_count": null,
   "source": [
    "if sys.platform.startswith(\"darwin\"):\n",
    "    sheet.range(\"A10\").api.clear_formats()\n",
    "elif sys.platform.startswith(\"win\"):\n",
    "    sheet.range(\"A10\").api.ClearFormats()"
   ],
   "outputs": [],
   "metadata": {}
  },
  {
   "cell_type": "markdown",
   "source": [
    "## UDFs: ユーザー定義関数 (Windowsのみ)"
   ],
   "metadata": {}
  },
  {
   "cell_type": "code",
   "execution_count": null,
   "source": [
    "@xw.func\n",
    "def hello(name):\n",
    "    return f\"Hello {name}\""
   ],
   "outputs": [],
   "metadata": {}
  },
  {
   "cell_type": "code",
   "execution_count": null,
   "source": [
    "@xw.func\n",
    "@xw.arg(\"x\", pd.DataFrame)\n",
    "def correl2(x):\n",
    "    retrun x.corr()"
   ],
   "outputs": [],
   "metadata": {}
  }
 ]
}