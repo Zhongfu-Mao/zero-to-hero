{
 "cells": [
  {
   "cell_type": "markdown",
   "metadata": {},
   "source": [
    "## 二分查找"
   ]
  },
  {
   "cell_type": "code",
   "execution_count": 7,
   "metadata": {},
   "outputs": [
    {
     "name": "stdout",
     "output_type": "stream",
     "text": [
      "None\n",
      "3\n"
     ]
    }
   ],
   "source": [
    "def binary_search(items, target):\n",
    "    low = 0\n",
    "    high = len(items)-1\n",
    "\n",
    "    while low <= high:\n",
    "        middle = (low + high) // 2\n",
    "        if items[middle] < target:\n",
    "            low = middle + 1\n",
    "        elif items[middle] > target:\n",
    "            high = middle - 1\n",
    "        else:\n",
    "            return middle\n",
    "\n",
    "    return None\n",
    "\n",
    "my_list = [1, 3, 5, 5, 7, 9, 12]\n",
    "print(binary_search(my_list, 6))\n",
    "print(binary_search(my_list, 5))"
   ]
  },
  {
   "cell_type": "code",
   "execution_count": null,
   "metadata": {},
   "outputs": [],
   "source": []
  }
 ],
 "metadata": {
  "kernelspec": {
   "display_name": "Python 3.8.6 64-bit",
   "name": "python386jvsc74a57bd0082e9a3bcad0a290d0001e938aa60b99250c6c2ef33a923c00b70f9826caf4b7"
  },
  "language_info": {
   "codemirror_mode": {
    "name": "ipython",
    "version": 3
   },
   "file_extension": ".py",
   "mimetype": "text/x-python",
   "name": "python",
   "nbconvert_exporter": "python",
   "pygments_lexer": "ipython3",
   "version": "3.8.6"
  },
  "orig_nbformat": 2
 },
 "nbformat": 4,
 "nbformat_minor": 2
}