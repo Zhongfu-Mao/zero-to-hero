{
 "cells": [
  {
   "cell_type": "markdown",
   "metadata": {},
   "source": [
    "## 实现"
   ]
  },
  {
   "cell_type": "code",
   "execution_count": 1,
   "metadata": {},
   "outputs": [],
   "source": [
    "class Stack:\n",
    "    def __init__(self):\n",
    "        self.items = []\n",
    "\n",
    "    def is_empty(self):\n",
    "        return len(self.items) == 0\n",
    "\n",
    "    def push(self, item):\n",
    "        self.items.append(item)\n",
    "\n",
    "    def pop(self):\n",
    "        return self.items.pop()\n",
    "\n",
    "    def peek(self):\n",
    "        return self.items[len(self.items)-1]\n",
    "\n",
    "    def size(self):\n",
    "        return len(self.items)\n"
   ]
  },
  {
   "cell_type": "markdown",
   "metadata": {},
   "source": [
    "## 应用"
   ]
  },
  {
   "cell_type": "markdown",
   "metadata": {},
   "source": [
    "### 匹配括号"
   ]
  },
  {
   "cell_type": "code",
   "execution_count": 2,
   "metadata": {},
   "outputs": [],
   "source": [
    "def parCheck(symbols: str):\n",
    "    s = Stack()\n",
    "\n",
    "    balanced = True\n",
    "    index = 0\n",
    "\n",
    "    while index < len(symbols) and balanced:\n",
    "        symbol = symbols[index]\n",
    "        if symbol in \"([{\":\n",
    "            s.push(symbol)\n",
    "        else:\n",
    "            if s.is_empty():\n",
    "                balanced = False\n",
    "            else:\n",
    "                top = s.pop()\n",
    "                if not matches(top, symbol):\n",
    "                    balanced = False\n",
    "\n",
    "        index += 1\n",
    "\n",
    "    if balanced and s.is_empty():\n",
    "        return True\n",
    "    else:\n",
    "        return False\n",
    "\n",
    "\n",
    "def matches(open, close):\n",
    "    opens = \"([{\"\n",
    "    closes = \")]}\"\n",
    "\n",
    "    return opens.index(open) == closes.index(close)\n"
   ]
  },
  {
   "cell_type": "markdown",
   "metadata": {},
   "source": [
    "### 进制转换"
   ]
  },
  {
   "cell_type": "code",
   "execution_count": 4,
   "metadata": {},
   "outputs": [],
   "source": [
    "def base_converter(number: int, base:int):\n",
    "    digits = \"0123456789ABCDEF\"\n",
    "    mod_stack = Stack()\n",
    "\n",
    "    while number > 0:\n",
    "        mod = number % base\n",
    "        mod_stack.push(mod)\n",
    "        number = number // base\n",
    "\n",
    "    bin_str = \"\"\n",
    "    while not mod_stack.is_empty():\n",
    "        bin_str += str(mod_stack.pop())\n",
    "\n",
    "    return bin_str\n"
   ]
  },
  {
   "cell_type": "markdown",
   "metadata": {},
   "source": [
    "### 前序,中序和后序表达式"
   ]
  },
  {
   "cell_type": "markdown",
   "metadata": {},
   "source": [
    "中序表达式|前序表达式|后序表达式|\n",
    ":-:|:-:|:-:|\n",
    "A + B|+ A B|A B +|\n",
    "A + B * C|+ A * B C| A B C * + |\n",
    "(A + B) * C| * + A B C | A B + C * |\n",
    "A + B * C + D| + + A * B C D | A B C * + D + |\n",
    "(A + B) * (C + D) | * + A B + C D | A B + C D + * |\n",
    "A * B + C * D | + * A B * C D | A B * C D * + |\n",
    "A + B + C + D | + + + A B C D | A B + C + D + |"
   ]
  }
 ],
 "metadata": {
  "kernelspec": {
   "display_name": "Python 3.8.6 64-bit",
   "name": "python386jvsc74a57bd0082e9a3bcad0a290d0001e938aa60b99250c6c2ef33a923c00b70f9826caf4b7"
  },
  "language_info": {
   "codemirror_mode": {
    "name": "ipython",
    "version": 3
   },
   "file_extension": ".py",
   "mimetype": "text/x-python",
   "name": "python",
   "nbconvert_exporter": "python",
   "pygments_lexer": "ipython3",
   "version": "3.8.6"
  },
  "orig_nbformat": 2
 },
 "nbformat": 4,
 "nbformat_minor": 2
}