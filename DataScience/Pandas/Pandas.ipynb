{
 "cells": [
  {
   "cell_type": "markdown",
   "metadata": {},
   "source": [
    "# 基础部分\n",
    "\n",
    "## 数据描述\n",
    "```python\n",
    "df.quantile([start, end])\n",
    "```\n"
   ]
  },
  {
   "cell_type": "markdown",
   "metadata": {},
   "source": [
    "## 图形绘制\n",
    "```python\n",
    "fig, axes = plt.subplots(nrows=int, ncols=int)\n",
    "df.plt(style=<color><marker><line type>)\n",
    "```\n",
    "* Style format string\n",
    "    * color\n",
    "    * marker\n",
    "        * \"*\": star\n",
    "        * \"o\": circle\n",
    "        * \"s\": square\n",
    "        * \"+\": plus\n",
    "        * \".\": dot\n",
    "    * line type"
   ]
  },
  {
   "cell_type": "markdown",
   "metadata": {},
   "source": [
    "## 时间序列\n",
    "```python\n",
    "# 时间窗口函数\n",
    "df.rolling(window, min_periods=None, center=False, win_type=None, on=None, axis=0, closed=None)\n",
    "```\n",
    "* window：表示时间窗的大小，通常为int，数值表示计算统计量的观测值的数量即向前几个数据\n",
    "* min_periods：最少需要有值的观测点的数量，对于int类型，默认与window相等。若调整，则一般小于window值\n",
    "* center：是否使用window的中间值作为label，默认为false。只能在window是int时使用。\n",
    "* win_type：默认为None，一般不特殊指定\n",
    "* on：对于多列FrameData，用on来指定使用哪列（举例data.test，已经指定了）\n",
    "* closed：定义区间的开闭，即默认为right\n",
    "* axis：0--行，1---列"
   ]
  }
 ],
 "metadata": {
  "language_info": {
   "name": "python",
   "codemirror_mode": {
    "name": "ipython",
    "version": 3
   }
  },
  "orig_nbformat": 2,
  "file_extension": ".py",
  "mimetype": "text/x-python",
  "name": "python",
  "npconvert_exporter": "python",
  "pygments_lexer": "ipython3",
  "version": 3
 },
 "nbformat": 4,
 "nbformat_minor": 2
}