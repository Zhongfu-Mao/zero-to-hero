{
 "metadata": {
  "language_info": {
   "codemirror_mode": {
    "name": "ipython",
    "version": 3
   },
   "file_extension": ".py",
   "mimetype": "text/x-python",
   "name": "python",
   "nbconvert_exporter": "python",
   "pygments_lexer": "ipython3",
   "version": "3.8.6-final"
  },
  "orig_nbformat": 2,
  "kernelspec": {
   "name": "Python 3.8.6 64-bit",
   "display_name": "Python 3.8.6 64-bit",
   "metadata": {
    "interpreter": {
     "hash": "082e9a3bcad0a290d0001e938aa60b99250c6c2ef33a923c00b70f9826caf4b7"
    }
   }
  }
 },
 "nbformat": 4,
 "nbformat_minor": 2,
 "cells": [
  {
   "source": [
    "* Line Magic: `%`で始まる\n",
    "* Cell Magic: `%%`で始まる"
   ],
   "cell_type": "markdown",
   "metadata": {}
  },
  {
   "source": [
    "> Line Magicは自動的に認識されるが、Cell Magicは`%%`を付けらないといけない"
   ],
   "cell_type": "markdown",
   "metadata": {}
  },
  {
   "source": [
    "# Line Magic"
   ],
   "cell_type": "markdown",
   "metadata": {}
  },
  {
   "source": [
    "## %alias"
   ],
   "cell_type": "markdown",
   "metadata": {}
  },
  {
   "source": [
    "> システムコマンドの別名を定義する  \n",
    "> `%alias alias_name cmd`で`cmd`を`alias_name`という別名を作り出す  \n",
    "> そこで、`alias_name params`を実行したら`cmd params`と同じ効果\n"
   ],
   "cell_type": "markdown",
   "metadata": {}
  },
  {
   "source": [
    "## %alias_magic"
   ],
   "cell_type": "markdown",
   "metadata": {}
  },
  {
   "source": [
    "## %autoawait"
   ],
   "cell_type": "markdown",
   "metadata": {}
  },
  {
   "source": [
    "## %autocall"
   ],
   "cell_type": "markdown",
   "metadata": {}
  },
  {
   "source": [
    "## %automagic"
   ],
   "cell_type": "markdown",
   "metadata": {}
  },
  {
   "source": [
    "## %bookmark"
   ],
   "cell_type": "markdown",
   "metadata": {}
  },
  {
   "source": [
    "## %cd"
   ],
   "cell_type": "markdown",
   "metadata": {}
  },
  {
   "source": [
    "## %colors"
   ],
   "cell_type": "markdown",
   "metadata": {}
  },
  {
   "source": [
    "## %conda"
   ],
   "cell_type": "markdown",
   "metadata": {}
  },
  {
   "source": [
    "## %config"
   ],
   "cell_type": "markdown",
   "metadata": {}
  },
  {
   "source": [
    "## %debug"
   ],
   "cell_type": "markdown",
   "metadata": {}
  },
  {
   "source": [
    "## %dhist"
   ],
   "cell_type": "markdown",
   "metadata": {}
  },
  {
   "source": [
    "## %dirs"
   ],
   "cell_type": "markdown",
   "metadata": {}
  },
  {
   "source": [
    "## %doctest_mode"
   ],
   "cell_type": "markdown",
   "metadata": {}
  },
  {
   "source": [
    "## %edit"
   ],
   "cell_type": "markdown",
   "metadata": {}
  },
  {
   "source": [
    "## %env"
   ],
   "cell_type": "markdown",
   "metadata": {}
  },
  {
   "source": [
    "## %gui"
   ],
   "cell_type": "markdown",
   "metadata": {}
  },
  {
   "source": [
    "## %history"
   ],
   "cell_type": "markdown",
   "metadata": {}
  },
  {
   "source": [
    "## %killbgscripts"
   ],
   "cell_type": "markdown",
   "metadata": {}
  },
  {
   "source": [
    "## %load"
   ],
   "cell_type": "markdown",
   "metadata": {}
  },
  {
   "source": [
    "## %load_ext"
   ],
   "cell_type": "markdown",
   "metadata": {}
  },
  {
   "source": [
    "## %loadpy"
   ],
   "cell_type": "markdown",
   "metadata": {}
  },
  {
   "source": [
    "## %logoff"
   ],
   "cell_type": "markdown",
   "metadata": {}
  },
  {
   "source": [
    "## %logon"
   ],
   "cell_type": "markdown",
   "metadata": {}
  },
  {
   "source": [
    "## %logstart"
   ],
   "cell_type": "markdown",
   "metadata": {}
  },
  {
   "source": [
    "## %logstate"
   ],
   "cell_type": "markdown",
   "metadata": {}
  },
  {
   "source": [
    "## %logstop"
   ],
   "cell_type": "markdown",
   "metadata": {}
  },
  {
   "source": [
    "## %lsmagic"
   ],
   "cell_type": "markdown",
   "metadata": {}
  },
  {
   "source": [
    "## %macro"
   ],
   "cell_type": "markdown",
   "metadata": {}
  },
  {
   "source": [
    "## %magic"
   ],
   "cell_type": "markdown",
   "metadata": {}
  },
  {
   "source": [
    "## %matplotlib"
   ],
   "cell_type": "markdown",
   "metadata": {}
  },
  {
   "source": [
    "## %notebook"
   ],
   "cell_type": "markdown",
   "metadata": {}
  },
  {
   "source": [
    "## %page"
   ],
   "cell_type": "markdown",
   "metadata": {}
  },
  {
   "source": [
    "## %pastebin"
   ],
   "cell_type": "markdown",
   "metadata": {}
  },
  {
   "source": [
    "## %pdb"
   ],
   "cell_type": "markdown",
   "metadata": {}
  },
  {
   "source": [
    "## %pdef"
   ],
   "cell_type": "markdown",
   "metadata": {}
  },
  {
   "source": [
    "## %pdoc"
   ],
   "cell_type": "markdown",
   "metadata": {}
  },
  {
   "source": [
    "## %pfile"
   ],
   "cell_type": "markdown",
   "metadata": {}
  },
  {
   "source": [
    "## %pinfo"
   ],
   "cell_type": "markdown",
   "metadata": {}
  },
  {
   "source": [
    "## %pinfo2"
   ],
   "cell_type": "markdown",
   "metadata": {}
  },
  {
   "source": [
    "## %pip"
   ],
   "cell_type": "markdown",
   "metadata": {}
  },
  {
   "source": [
    "## %popd"
   ],
   "cell_type": "markdown",
   "metadata": {}
  },
  {
   "source": [
    "## %pprint"
   ],
   "cell_type": "markdown",
   "metadata": {}
  },
  {
   "source": [
    "## %precision"
   ],
   "cell_type": "markdown",
   "metadata": {}
  },
  {
   "source": [
    "## %prun"
   ],
   "cell_type": "markdown",
   "metadata": {}
  },
  {
   "source": [
    "## %psearch"
   ],
   "cell_type": "markdown",
   "metadata": {}
  },
  {
   "source": [
    "## %psource"
   ],
   "cell_type": "markdown",
   "metadata": {}
  },
  {
   "source": [
    "## %pushd"
   ],
   "cell_type": "markdown",
   "metadata": {}
  },
  {
   "source": [
    "## %pwd"
   ],
   "cell_type": "markdown",
   "metadata": {}
  },
  {
   "source": [
    "## %pycat"
   ],
   "cell_type": "markdown",
   "metadata": {}
  },
  {
   "source": [
    "## %pylab"
   ],
   "cell_type": "markdown",
   "metadata": {}
  },
  {
   "source": [
    "## %quickref"
   ],
   "cell_type": "markdown",
   "metadata": {}
  },
  {
   "source": [
    "## %recall"
   ],
   "cell_type": "markdown",
   "metadata": {}
  },
  {
   "source": [
    "## %rehashx"
   ],
   "cell_type": "markdown",
   "metadata": {}
  },
  {
   "source": [
    "## %reload_ext"
   ],
   "cell_type": "markdown",
   "metadata": {}
  },
  {
   "source": [
    "## %rerun"
   ],
   "cell_type": "markdown",
   "metadata": {}
  },
  {
   "source": [
    "## %reset"
   ],
   "cell_type": "markdown",
   "metadata": {}
  },
  {
   "source": [
    "## %reset_selective"
   ],
   "cell_type": "markdown",
   "metadata": {}
  },
  {
   "source": [
    "## %run"
   ],
   "cell_type": "markdown",
   "metadata": {}
  },
  {
   "source": [
    "## %save"
   ],
   "cell_type": "markdown",
   "metadata": {}
  },
  {
   "source": [
    "## %sc"
   ],
   "cell_type": "markdown",
   "metadata": {}
  },
  {
   "source": [
    "## %set_env"
   ],
   "cell_type": "markdown",
   "metadata": {}
  },
  {
   "source": [
    "## %sx"
   ],
   "cell_type": "markdown",
   "metadata": {}
  },
  {
   "source": [
    "## %system"
   ],
   "cell_type": "markdown",
   "metadata": {}
  },
  {
   "source": [
    "## %tb"
   ],
   "cell_type": "markdown",
   "metadata": {}
  },
  {
   "source": [
    "## %time"
   ],
   "cell_type": "markdown",
   "metadata": {}
  },
  {
   "source": [
    "## %timeit"
   ],
   "cell_type": "markdown",
   "metadata": {}
  },
  {
   "source": [
    "## %unalias"
   ],
   "cell_type": "markdown",
   "metadata": {}
  },
  {
   "source": [
    "## %unload_ext"
   ],
   "cell_type": "markdown",
   "metadata": {}
  },
  {
   "source": [
    "## %who"
   ],
   "cell_type": "markdown",
   "metadata": {}
  },
  {
   "source": [
    "## %who_ls"
   ],
   "cell_type": "markdown",
   "metadata": {}
  },
  {
   "source": [
    "## %whos"
   ],
   "cell_type": "markdown",
   "metadata": {}
  },
  {
   "source": [
    "## %xdel"
   ],
   "cell_type": "markdown",
   "metadata": {}
  },
  {
   "source": [
    "## %xmode"
   ],
   "cell_type": "markdown",
   "metadata": {}
  },
  {
   "source": [
    "# Cell Magics"
   ],
   "cell_type": "markdown",
   "metadata": {}
  },
  {
   "source": [
    "## %%bash"
   ],
   "cell_type": "markdown",
   "metadata": {}
  },
  {
   "source": [
    "## %%capture"
   ],
   "cell_type": "markdown",
   "metadata": {}
  },
  {
   "source": [
    "## %%html"
   ],
   "cell_type": "markdown",
   "metadata": {}
  },
  {
   "source": [
    "## %%javascript"
   ],
   "cell_type": "markdown",
   "metadata": {}
  },
  {
   "source": [
    "## %%js"
   ],
   "cell_type": "markdown",
   "metadata": {}
  },
  {
   "source": [
    "## %%latex"
   ],
   "cell_type": "markdown",
   "metadata": {}
  },
  {
   "source": [
    "## %%markdown"
   ],
   "cell_type": "markdown",
   "metadata": {}
  },
  {
   "source": [
    "## %%perl"
   ],
   "cell_type": "markdown",
   "metadata": {}
  },
  {
   "source": [
    "## %%prun"
   ],
   "cell_type": "markdown",
   "metadata": {}
  },
  {
   "cell_type": "code",
   "execution_count": null,
   "metadata": {},
   "outputs": [],
   "source": [
    "import numpy as np\n",
    "\n",
    "def step(*shape):\n",
    "    return 2 * (np.random.random_sample(shape)<.5) - 1"
   ]
  },
  {
   "cell_type": "code",
   "execution_count": null,
   "metadata": {},
   "outputs": [],
   "source": [
    "%%prun -s cumulative -q -l 10 -T prun0\n",
    "# We profile the cell, sort the report by \"cumulative\n",
    "# time\", limit it to 10 lines, and save it to a file\n",
    "# named \"prun0\".\n",
    "\n",
    "n = 10000\n",
    "iterations = 50\n",
    "x = np.cumsum(step(iterations, n), axis=0)\n",
    "bins = np.arange(-30, 30, 1)\n",
    "y = np.vstack([np.histogram(x[i,:], bins)[0]\n",
    "               for i in range(iterations)])"
   ]
  },
  {
   "cell_type": "code",
   "execution_count": null,
   "metadata": {},
   "outputs": [],
   "source": [
    "print(open('prun0', 'r').read())"
   ]
  },
  {
   "source": [
    "## %%pypy"
   ],
   "cell_type": "markdown",
   "metadata": {}
  },
  {
   "source": [
    "## %%python"
   ],
   "cell_type": "markdown",
   "metadata": {}
  },
  {
   "source": [
    "## %%python2"
   ],
   "cell_type": "markdown",
   "metadata": {}
  },
  {
   "source": [
    "## %%python3"
   ],
   "cell_type": "markdown",
   "metadata": {}
  },
  {
   "source": [
    "## %%ruby"
   ],
   "cell_type": "markdown",
   "metadata": {}
  },
  {
   "source": [
    "## %%script"
   ],
   "cell_type": "markdown",
   "metadata": {}
  },
  {
   "source": [
    "## %%sh"
   ],
   "cell_type": "markdown",
   "metadata": {}
  },
  {
   "source": [
    "## %%svg"
   ],
   "cell_type": "markdown",
   "metadata": {}
  },
  {
   "source": [
    "## %%writefile"
   ],
   "cell_type": "markdown",
   "metadata": {}
  },
  {
   "source": [
    "# 自分で定義する"
   ],
   "cell_type": "markdown",
   "metadata": {}
  },
  {
   "cell_type": "code",
   "execution_count": null,
   "metadata": {},
   "outputs": [],
   "source": []
  }
 ]
}