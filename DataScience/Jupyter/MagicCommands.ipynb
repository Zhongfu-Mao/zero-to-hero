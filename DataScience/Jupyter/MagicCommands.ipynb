{
 "metadata": {
  "language_info": {
   "codemirror_mode": {
    "name": "ipython",
    "version": 3
   },
   "file_extension": ".py",
   "mimetype": "text/x-python",
   "name": "python",
   "nbconvert_exporter": "python",
   "pygments_lexer": "ipython3",
   "version": "3.8.6-final"
  },
  "orig_nbformat": 2,
  "kernelspec": {
   "name": "Python 3.8.6 64-bit",
   "display_name": "Python 3.8.6 64-bit",
   "metadata": {
    "interpreter": {
     "hash": "082e9a3bcad0a290d0001e938aa60b99250c6c2ef33a923c00b70f9826caf4b7"
    }
   }
  }
 },
 "nbformat": 4,
 "nbformat_minor": 2,
 "cells": [
  {
   "source": [
    "* Line Magic: `%`で始まる\n",
    "* Cell Magic: `%%`で始まる"
   ],
   "cell_type": "markdown",
   "metadata": {}
  },
  {
   "source": [
    "> Line Magicは自動的に認識されるが、Cell Magicは`%%`を付けらないといけない"
   ],
   "cell_type": "markdown",
   "metadata": {}
  },
  {
   "source": [
    "# Line Magic"
   ],
   "cell_type": "markdown",
   "metadata": {}
  },
  {
   "source": [
    "## %alias"
   ],
   "cell_type": "markdown",
   "metadata": {}
  },
  {
   "source": [
    "> システムコマンドの別名を定義する  \n",
    "> `%alias alias_name cmd`で`cmd`を`alias_name`という別名を作り出す  \n",
    "> そこで、`alias_name params`を実行したら`cmd params`と同じ効果\n"
   ],
   "cell_type": "markdown",
   "metadata": {}
  },
  {
   "source": [
    "## %unalias\n"
   ],
   "cell_type": "markdown",
   "metadata": {}
  },
  {
   "source": [
    "> 別名を削除する"
   ],
   "cell_type": "markdown",
   "metadata": {}
  },
  {
   "source": [
    "## %alias_magic"
   ],
   "cell_type": "markdown",
   "metadata": {}
  },
  {
   "source": [
    "> line magic もしくは　cell magic　に別名を定義する\n",
    "\n",
    "`%alias_magic [-l] [-c] [-p PARAMS] name target`\n",
    "* -l, --line: line magic別名\n",
    "* -c, --cell: cell magic別名\n",
    "* -p PARAMS, --params PARAMS: magic関数に渡るパラメータ\n"
   ],
   "cell_type": "markdown",
   "metadata": {}
  },
  {
   "source": [
    "```python\n",
    "In [1]: %alias_magic t timeit  # `timeit`というcell magicとline magic両方あるので、同時に別名を作った\n",
    "Created `%t` as an alias for `%timeit`.\n",
    "Created `%%t` as an alias for `%%timeit`.\n",
    "\n",
    "In [2]: %t -n1 pass\n",
    "1 loops, best of 3: 954 ns per loop\n",
    "\n",
    "In [3]: %%t -n1\n",
    "   ...: pass\n",
    "   ...:\n",
    "1 loops, best of 3: 954 ns per loop\n",
    "\n",
    "In [4]: %alias_magic --cell whereami pwd\n",
    "UsageError: Cell magic function `%%pwd` not found.  # ないの場合は、エラーが起こる\n",
    "In [5]: %alias_magic --line whereami pwd\n",
    "Created `%whereami` as an alias for `%pwd`.\n",
    "\n",
    "In [6]: %whereami\n",
    "Out[6]: '/home/testuser'\n",
    "\n",
    "In [7]: %alias_magic h history \"-p -l 30\" --line\n",
    "Created `%h` as an alias for `%history -l 30`.\n",
    "```"
   ],
   "cell_type": "code",
   "metadata": {},
   "execution_count": null,
   "outputs": []
  },
  {
   "source": [
    "## %autoawait"
   ],
   "cell_type": "markdown",
   "metadata": {}
  },
  {
   "source": [
    "> 非同期処理統合に対して調節する  \n",
    "> パラメータないなら、機能のON,OFF状態と利用するライブラリーを示す\n",
    ">> `asyncio`(default値),`curio`と `trio`のいずれかをインポートする  \n",
    "> False/false/off は非活性化にする  \n",
    "> True/true/on は活性化にする  \n",
    "> asyncio/curio/trio は利用するライブラリーを選択する\n",
    "\n"
   ],
   "cell_type": "markdown",
   "metadata": {}
  },
  {
   "source": [
    "## %autocall"
   ],
   "cell_type": "markdown",
   "metadata": {}
  },
  {
   "cell_type": "code",
   "execution_count": null,
   "metadata": {},
   "outputs": [],
   "source": [
    "> 関数を呼び出すときに、括弧を書かなくてもいい様に\n",
    "\n",
    "`%autocall [mode]`\n",
    "* 0: Off(無効)\n",
    "* 1: Smart(パラメータがあるなら有効)\n",
    "* 2: Full(常に有効)"
   ]
  },
  {
   "cell_type": "code",
   "execution_count": 4,
   "metadata": {},
   "outputs": [
    {
     "output_type": "stream",
     "name": "stdout",
     "text": [
      "Automatic calling is: OFF\n"
     ]
    }
   ],
   "source": [
    "%autocall 0"
   ]
  },
  {
   "cell_type": "code",
   "execution_count": 5,
   "metadata": {},
   "outputs": [
    {
     "output_type": "error",
     "ename": "SyntaxError",
     "evalue": "invalid syntax (<ipython-input-5-7c131faad543>, line 1)",
     "traceback": [
      "\u001b[0;36m  File \u001b[0;32m\"<ipython-input-5-7c131faad543>\"\u001b[0;36m, line \u001b[0;32m1\u001b[0m\n\u001b[0;31m    int 1.23\u001b[0m\n\u001b[0m        ^\u001b[0m\n\u001b[0;31mSyntaxError\u001b[0m\u001b[0;31m:\u001b[0m invalid syntax\n"
     ]
    }
   ],
   "source": [
    "int 1.23"
   ]
  },
  {
   "cell_type": "code",
   "execution_count": 6,
   "metadata": {},
   "outputs": [
    {
     "output_type": "stream",
     "name": "stdout",
     "text": [
      "Automatic calling is: Smart\n"
     ]
    }
   ],
   "source": [
    "%autocall 1"
   ]
  },
  {
   "cell_type": "code",
   "execution_count": 7,
   "metadata": {},
   "outputs": [
    {
     "output_type": "stream",
     "name": "stdout",
     "text": [
      "------> int(1.23)\n------> int(1.23)\n"
     ]
    },
    {
     "output_type": "execute_result",
     "data": {
      "text/plain": [
       "1"
      ]
     },
     "metadata": {},
     "execution_count": 7
    }
   ],
   "source": [
    "int 1.23"
   ]
  },
  {
   "cell_type": "code",
   "execution_count": 8,
   "metadata": {},
   "outputs": [
    {
     "output_type": "execute_result",
     "data": {
      "text/plain": [
       "int"
      ]
     },
     "metadata": {},
     "execution_count": 8
    }
   ],
   "source": [
    "int"
   ]
  },
  {
   "cell_type": "code",
   "execution_count": 9,
   "metadata": {},
   "outputs": [
    {
     "output_type": "stream",
     "name": "stdout",
     "text": [
      "Automatic calling is: Full\n"
     ]
    }
   ],
   "source": [
    "%autocall 2"
   ]
  },
  {
   "cell_type": "code",
   "execution_count": 10,
   "metadata": {},
   "outputs": [
    {
     "output_type": "stream",
     "name": "stdout",
     "text": [
      "------> int()\n------> int()\n"
     ]
    },
    {
     "output_type": "execute_result",
     "data": {
      "text/plain": [
       "0"
      ]
     },
     "metadata": {},
     "execution_count": 10
    }
   ],
   "source": [
    "int"
   ]
  },
  {
   "source": [
    "## %automagic"
   ],
   "cell_type": "markdown",
   "metadata": {}
  },
  {
   "source": [
    "> magic関数を利用する際に、`%`を書かなくてもいい様に\n",
    "\n",
    "* パラメータがないなら、ON,OFFをスイッチ\n",
    "* on, 1, True: 有効\n",
    "* off, 0, False: 無効"
   ],
   "cell_type": "markdown",
   "metadata": {}
  },
  {
   "source": [
    "## %bookmark"
   ],
   "cell_type": "markdown",
   "metadata": {}
  },
  {
   "source": [
    "> bookmarkシステムを管理\n",
    "\n",
    "* `%bookmark <name>`: 現在のディレクトリをbookmarkに追加\n",
    "* `%bookmark <name> <dir>`: 指定するディレクトリをbookmarkに追加\n",
    "* `%bookmark -l`: bookmark一覧\n",
    "* `%bookmark -d <name>`: `name`のbookmarkを削除\n",
    "* `%bookmark -r`: 全てのbookmarkを削除"
   ],
   "cell_type": "markdown",
   "metadata": {}
  },
  {
   "source": [
    "## %cd"
   ],
   "cell_type": "markdown",
   "metadata": {}
  },
  {
   "source": [
    "> 現在のディレクトリを変える  \n",
    "> このコマンドは自動的にアクセスしたディレクトリを`_dh`に保存させる  \n",
    "\n",
    "* `cd 'dir'`: `dir`へ移動\n",
    "* `cd -`: 前回アクセスしたディレクトリへ移動\n",
    "* `cd -<n>`: アクセス履歴のn番目へ移動\n",
    "* `cd -foo`: 履歴の中に`foo`と一致するものへ移動\n",
    "* `cd -b <bookmark name>`:　bookmarkした所へ移動 \n",
    "* `cd -q`: コマンドを実行後ディレクトリを出力しないように\n"
   ],
   "cell_type": "markdown",
   "metadata": {}
  },
  {
   "source": [
    "## %colors"
   ],
   "cell_type": "markdown",
   "metadata": {}
  },
  {
   "source": [
    "> prompts, info system, exception handlersの色体系を設定する\n",
    "\n",
    "利用可能値:\n",
    "* NoColor\n",
    "* Linux\n",
    "* LightBG\n",
    "\n",
    "※大文字小文字敏感ではない"
   ],
   "cell_type": "markdown",
   "metadata": {}
  },
  {
   "source": [
    "## %conda"
   ],
   "cell_type": "markdown",
   "metadata": {}
  },
  {
   "source": [
    "> **conda**パッケージマネジャーを召喚\n",
    "\n",
    "`%conda install [package]`"
   ],
   "cell_type": "markdown",
   "metadata": {}
  },
  {
   "source": [
    "## %config"
   ],
   "cell_type": "markdown",
   "metadata": {}
  },
  {
   "source": [
    "> IPython設定値を変える\n",
    "\n",
    "`%config Class[.trait=value]`"
   ],
   "cell_type": "markdown",
   "metadata": {}
  },
  {
   "cell_type": "code",
   "execution_count": 16,
   "metadata": {},
   "outputs": [
    {
     "output_type": "stream",
     "name": "stdout",
     "text": [
      "Available objects for config:\n     AliasManager\n     DisplayFormatter\n     HistoryManager\n     IPCompleter\n     IPKernelApp\n     LoggingMagics\n     MagicsManager\n     OSMagics\n     PrefilterManager\n     ScriptMagics\n     StoreMagics\n     ZMQInteractiveShell\n"
     ]
    }
   ],
   "source": [
    "# パラメータ無しでクラスの一覧を確認\n",
    "%config"
   ]
  },
  {
   "cell_type": "code",
   "execution_count": 17,
   "metadata": {},
   "outputs": [
    {
     "output_type": "stream",
     "name": "stdout",
     "text": [
      "IPCompleter(Completer) options\n----------------------------\nIPCompleter.backslash_combining_completions=<Bool>\n    Enable unicode completions, e.g. \\alpha<tab> . Includes completion of latex\n    commands, unicode names, and expanding unicode characters back to latex\n    commands.\n    Current: True\nIPCompleter.debug=<Bool>\n    Enable debug for the Completer. Mostly print extra information for\n    experimental jedi integration.\n    Current: False\nIPCompleter.greedy=<Bool>\n    Activate greedy completion PENDING DEPRECTION. this is now mostly taken care\n    of with Jedi.\n    This will enable completion on elements of lists, results of function calls,\n    etc., but can be unsafe because the code is actually evaluated on TAB.\n    Current: False\nIPCompleter.jedi_compute_type_timeout=<Int>\n    Experimental: restrict time (in milliseconds) during which Jedi can compute\n    types. Set to 0 to stop computing types. Non-zero value lower than 100ms may\n    hurt performance by preventing jedi to build its cache.\n    Current: 400\nIPCompleter.limit_to__all__=<Bool>\n    DEPRECATED as of version 5.0.\n    Instruct the completer to use __all__ for the completion\n    Specifically, when completing on ``object.<tab>``.\n    When True: only those names in obj.__all__ will be included.\n    When False [default]: the __all__ attribute is ignored\n    Current: False\nIPCompleter.merge_completions=<Bool>\n    Whether to merge completion results into a single list\n    If False, only the completion results from the first non-empty completer\n    will be returned.\n    Current: True\nIPCompleter.omit__names=<Enum>\n    Instruct the completer to omit private method names\n    Specifically, when completing on ``object.<tab>``.\n    When 2 [default]: all names that start with '_' will be excluded.\n    When 1: all 'magic' names (``__foo__``) will be excluded.\n    When 0: nothing will be excluded.\n    Choices: any of [0, 1, 2]\n    Current: 2\nIPCompleter.use_jedi=<Bool>\n    Experimental: Use Jedi to generate autocompletions. Default to True if jedi\n    is installed.\n    Current: True\n"
     ]
    }
   ],
   "source": [
    "# 設定できる値を見たい時、クラス名だけ\n",
    "# 例として\n",
    "%config IPCompleter"
   ]
  },
  {
   "source": [
    "## %debug"
   ],
   "cell_type": "markdown",
   "metadata": {}
  },
  {
   "source": [
    "> IPythonのdebugシステムを利用"
   ],
   "cell_type": "markdown",
   "metadata": {}
  },
  {
   "source": [
    "## %dhist"
   ],
   "cell_type": "markdown",
   "metadata": {}
  },
  {
   "cell_type": "code",
   "execution_count": null,
   "metadata": {},
   "outputs": [],
   "source": [
    "> アクセスしたディレクトリを綺麗な形で表す"
   ]
  },
  {
   "cell_type": "code",
   "execution_count": 23,
   "metadata": {},
   "outputs": [
    {
     "output_type": "stream",
     "name": "stdout",
     "text": [
      "Directory history (kept in _dh)\n0: /\n1: /Users/maozhongfu/GitHub/DataScience/Jupyter\n2: /Users/maozhongfu/GitHub/DataScience\n3: /Users/maozhongfu/GitHub\n4: /Users/maozhongfu\n5: /Users\n"
     ]
    }
   ],
   "source": [
    "%dhist"
   ]
  },
  {
   "source": [
    "## %pushd"
   ],
   "cell_type": "markdown",
   "metadata": {}
  },
  {
   "source": [
    "> 現在のディレクトリをstackへ追加後ディレクトリを変更\n",
    "\n",
    "`%pushd [\"dirname\"]`"
   ],
   "cell_type": "markdown",
   "metadata": {}
  },
  {
   "source": [
    "## %dirs"
   ],
   "cell_type": "markdown",
   "metadata": {}
  },
  {
   "source": [
    "> ディレクトリstackを表示"
   ],
   "cell_type": "markdown",
   "metadata": {}
  },
  {
   "source": [
    "## %popd"
   ],
   "cell_type": "markdown",
   "metadata": {}
  },
  {
   "source": [
    "> ディレクトリstackをpopし、ディレクトリを変換"
   ],
   "cell_type": "markdown",
   "metadata": {}
  },
  {
   "source": [
    "## %doctest_mode"
   ],
   "cell_type": "markdown",
   "metadata": {}
  },
  {
   "source": [
    "> doctestモードを有効するスイッチ"
   ],
   "cell_type": "markdown",
   "metadata": {}
  },
  {
   "source": [
    "有効の場合、以下の様な変更点がある\n",
    "* `In []`, `Out []`から`>>>`になる\n",
    "* pretty-printingをOFFにする\n",
    "* エラーの出力が地味になる\n",
    "\n",
    "一言で言うと、IPythonのスタイルからPythonスタイルへ変換\n"
   ],
   "cell_type": "markdown",
   "metadata": {}
  },
  {
   "cell_type": "code",
   "execution_count": null,
   "metadata": {},
   "outputs": [],
   "source": [
    "```python\n",
    "In [1]: %doctest_mode\n",
    "Exception reporting mode: Plain\n",
    "Doctest mode is: ON\n",
    ">>> 1 + \"1\"\n",
    "Traceback (most recent call last):\n",
    "  File \"<ipython-input-2-b780703cc5f9>\", line 1, in <module>\n",
    "    1 + \"1\"\n",
    "TypeError: unsupported operand type(s) for +: 'int' and 'str'\n",
    "\n",
    ">>> %doctest_mode\n",
    "Exception reporting mode: Context\n",
    "Doctest mode is: OFF\n",
    "\n",
    "In [4]: 1 + \"1\"\n",
    "---------------------------------------------------------------------------\n",
    "TypeError                                 Traceback (most recent call last)\n",
    "<ipython-input-4-b780703cc5f9> in <module>\n",
    "----> 1 1 + \"1\"\n",
    "\n",
    "TypeError: unsupported operand type(s) for +: 'int' and 'str'\n",
    "```"
   ]
  },
  {
   "source": [
    "## %edit"
   ],
   "cell_type": "markdown",
   "metadata": {}
  },
  {
   "source": [
    "> 環境変数に定義された｀$EDITOR`を起動して入力したコードを実行する  \n",
    "\n",
    "> 定義されていないなら、Linux/Macの場合`vi`、Windowsの場合`notepad`"
   ],
   "cell_type": "markdown",
   "metadata": {}
  },
  {
   "source": [
    "## %env"
   ],
   "cell_type": "markdown",
   "metadata": {}
  },
  {
   "cell_type": "code",
   "execution_count": null,
   "metadata": {},
   "outputs": [],
   "source": [
    "> 環境変数を取得、設定、列挙する\n",
    "\n",
    "* `%env`: 一覧を列挙する\n",
    "* `%env var`: `var`の値を取得\n",
    "* `%env var val`、`%env var=val`: `var`の値の`val`に設定する\n",
    "* `%env var=$val`: pythonの変数を利用して設定する"
   ]
  },
  {
   "source": [
    "## %gui"
   ],
   "cell_type": "markdown",
   "metadata": {}
  },
  {
   "source": [
    "> IPythonの内蔵されているGUIイベントループを有効するかどうか"
   ],
   "cell_type": "markdown",
   "metadata": {}
  },
  {
   "source": [
    "## %history"
   ],
   "cell_type": "markdown",
   "metadata": {}
  },
  {
   "source": [
    "> 入力の履歴を出力する"
   ],
   "cell_type": "markdown",
   "metadata": {}
  },
  {
   "source": [
    "## %killbgscripts"
   ],
   "cell_type": "markdown",
   "metadata": {}
  },
  {
   "source": [
    "> `%%script`で実行したスクリプトを全部閉じる"
   ],
   "cell_type": "markdown",
   "metadata": {}
  },
  {
   "source": [
    "## %load"
   ],
   "cell_type": "markdown",
   "metadata": {}
  },
  {
   "source": [
    "> 指定したファイルを読み込んでIPython上で実行する"
   ],
   "cell_type": "markdown",
   "metadata": {}
  },
  {
   "cell_type": "code",
   "execution_count": null,
   "metadata": {},
   "outputs": [],
   "source": [
    "* `%load myscript.py`: pythonファイルを実行\n",
    "* `%load http:www.example.com/myscript.py`:　URLからファイルを実行\n",
    "* `%load -r 5-10 myscript.py`: 範囲を指定\n",
    "* `%load -r 12: myscript.py`: pythonのスライス文法で範囲を指定\n",
    "* `%load -s MyClass, wonder_function myscript.py`: ファイルから特定のクラスや関数を指定してload\n",
    "* `%load -n my_module.wonder_function`: ユーザの名前空間からload"
   ]
  },
  {
   "source": [
    "## %load_ext"
   ],
   "cell_type": "markdown",
   "metadata": {}
  },
  {
   "source": [
    "> IPythonのextensionをload"
   ],
   "cell_type": "markdown",
   "metadata": {}
  },
  {
   "source": [
    "## %loadpy"
   ],
   "cell_type": "markdown",
   "metadata": {}
  },
  {
   "source": [
    "> `%load`の別名"
   ],
   "cell_type": "markdown",
   "metadata": {}
  },
  {
   "source": [
    "## %logstart"
   ],
   "cell_type": "markdown",
   "metadata": {}
  },
  {
   "source": [
    "> logging開始"
   ],
   "cell_type": "markdown",
   "metadata": {}
  },
  {
   "source": [
    "## %logoff"
   ],
   "cell_type": "markdown",
   "metadata": {}
  },
  {
   "source": [
    "> logging一時的に停止"
   ],
   "cell_type": "markdown",
   "metadata": {}
  },
  {
   "source": [
    "## %logon"
   ],
   "cell_type": "markdown",
   "metadata": {}
  },
  {
   "source": [
    "> logging再開"
   ],
   "cell_type": "markdown",
   "metadata": {}
  },
  {
   "source": [
    "## %logstop"
   ],
   "cell_type": "markdown",
   "metadata": {}
  },
  {
   "source": [
    "> logging中止"
   ],
   "cell_type": "markdown",
   "metadata": {}
  },
  {
   "source": [
    "## %logstate"
   ],
   "cell_type": "markdown",
   "metadata": {}
  },
  {
   "source": [
    "> loggingの状態を出力"
   ],
   "cell_type": "markdown",
   "metadata": {}
  },
  {
   "cell_type": "code",
   "execution_count": null,
   "metadata": {},
   "outputs": [],
   "source": [
    "# 例として\n",
    "```python\n",
    "In [26]: logstate\n",
    "Filename       : ipython_log.py\n",
    "Mode           : rotate\n",
    "Output logging : True\n",
    "Raw input log  : False\n",
    "Timestamping   : False\n",
    "State          : active\n",
    "```"
   ]
  },
  {
   "source": [
    "## %lsmagic"
   ],
   "cell_type": "markdown",
   "metadata": {}
  },
  {
   "source": [
    "> 利用可能のmagic関数一覧\n",
    "\n",
    "Notes: VSCode上のjupyter notebookには出力無し"
   ],
   "cell_type": "markdown",
   "metadata": {}
  },
  {
   "cell_type": "code",
   "execution_count": null,
   "metadata": {},
   "outputs": [],
   "source": [
    "```python\n",
    "In [28]: lsmagic\n",
    "Out[28]: \n",
    "Available line magics:\n",
    "%alias  %alias_magic  %autoawait  %autocall  %autoindent  %automagic  %bookmark  %cat  %cd  %clear  %colors  %conda  %config  %cp  %cpaste  %debug  %dhist  %dirs  %doctest_mode  %ed  %edit  %env  %gui  %hist  %history  %killbgscripts  %ldir  %less  %lf  %lk  %ll  %load  %load_ext  %loadpy  %logoff  %logon  %logstart  %logstate  %logstop  %ls  %lsmagic  %lx  %macro  %magic  %man  %matplotlib  %mkdir  %more  %mv  %notebook  %page  %paste  %pastebin  %pdb  %pdef  %pdoc  %pfile  %pinfo  %pinfo2  %pip  %popd  %pprint  %precision  %prun  %psearch  %psource  %pushd  %pwd  %pycat  %pylab  %quickref  %recall  %rehashx  %reload_ext  %rep  %rerun  %reset  %reset_selective  %rm  %rmdir  %run  %save  %sc  %set_env  %store  %sx  %system  %tb  %time  %timeit  %unalias  %unload_ext  %who  %who_ls  %whos  %xdel  %xmode\n",
    "\n",
    "Available cell magics:\n",
    "%%!  %%HTML  %%SVG  %%bash  %%capture  %%debug  %%file  %%html  %%javascript  %%js  %%latex  %%markdown  %%perl  %%prun  %%pypy  %%python  %%python2  %%python3  %%ruby  %%script  %%sh  %%svg  %%sx  %%system  %%time  %%timeit  %%writefile\n",
    "\n",
    "Automagic is ON, % prefix IS NOT needed for line magics.\n",
    "```"
   ]
  },
  {
   "source": [
    "## %macro"
   ],
   "cell_type": "markdown",
   "metadata": {}
  },
  {
   "source": [
    "> macroを定義する"
   ],
   "cell_type": "markdown",
   "metadata": {}
  },
  {
   "source": [
    "## %magic"
   ],
   "cell_type": "markdown",
   "metadata": {}
  },
  {
   "source": [
    "> magic関数システムの情報を出力する"
   ],
   "cell_type": "markdown",
   "metadata": {
    "tags": []
   }
  },
  {
   "source": [
    "## %matplotlib"
   ],
   "cell_type": "markdown",
   "metadata": {}
  },
  {
   "source": [
    "> `matplotlib`を立ち上げる\n",
    "\n",
    "`%matplotlib [-l] [gui]`"
   ],
   "cell_type": "markdown",
   "metadata": {}
  },
  {
   "cell_type": "code",
   "execution_count": 45,
   "metadata": {},
   "outputs": [
    {
     "output_type": "stream",
     "name": "stdout",
     "text": [
      "Available matplotlib backends: ['tk', 'gtk', 'gtk3', 'wx', 'qt4', 'qt5', 'qt', 'osx', 'nbagg', 'notebook', 'agg', 'svg', 'pdf', 'ps', 'inline', 'ipympl', 'widget']\n"
     ]
    }
   ],
   "source": [
    "%matplotlib -l"
   ]
  },
  {
   "source": [
    "一番よく使う`inline`はbackendsの一つ"
   ],
   "cell_type": "markdown",
   "metadata": {}
  },
  {
   "source": [
    "## %notebook"
   ],
   "cell_type": "markdown",
   "metadata": {}
  },
  {
   "source": [
    "> notebookの形で出力する"
   ],
   "cell_type": "markdown",
   "metadata": {}
  },
  {
   "source": [
    "## %page"
   ],
   "cell_type": "markdown",
   "metadata": {}
  },
  {
   "source": [
    "> pagerを利用してオブジェクトを綺麗に出力する"
   ],
   "cell_type": "markdown",
   "metadata": {}
  },
  {
   "source": [
    "## %pastebin"
   ],
   "cell_type": "markdown",
   "metadata": {}
  },
  {
   "source": [
    "> 文字列あるいはmacroを[dpaste](https://dpaste.com)へアプロッドしURLを戻る"
   ],
   "cell_type": "markdown",
   "metadata": {}
  },
  {
   "source": [
    "## %pdb"
   ],
   "cell_type": "markdown",
   "metadata": {}
  },
  {
   "source": [
    "> `pdb`debuggerの自動呼び出しをコントロールする"
   ],
   "cell_type": "markdown",
   "metadata": {}
  },
  {
   "source": [
    "## %pdef"
   ],
   "cell_type": "markdown",
   "metadata": {}
  },
  {
   "source": [
    "> (print definition)クラスのコンストラクターあるいはオブジェクトの定義を出力"
   ],
   "cell_type": "markdown",
   "metadata": {}
  },
  {
   "source": [
    "## %pdoc"
   ],
   "cell_type": "markdown",
   "metadata": {}
  },
  {
   "source": [
    "> (print docstring)オブジェクトのdocstringを出力する"
   ],
   "cell_type": "markdown",
   "metadata": {}
  },
  {
   "source": [
    "## %pfile"
   ],
   "cell_type": "markdown",
   "metadata": {}
  },
  {
   "source": [
    "> (print file)オブジェクトが定義されるファイルを出力する"
   ],
   "cell_type": "markdown",
   "metadata": {}
  },
  {
   "source": [
    "## %psource"
   ],
   "cell_type": "markdown",
   "metadata": {}
  },
  {
   "source": [
    "> (print source code)オブジェクトのsource codeを出力する"
   ],
   "cell_type": "markdown",
   "metadata": {}
  },
  {
   "source": [
    "## %pinfo"
   ],
   "cell_type": "markdown",
   "metadata": {}
  },
  {
   "source": [
    "> `object?`や`?object`と同じ"
   ],
   "cell_type": "markdown",
   "metadata": {}
  },
  {
   "source": [
    "## %pinfo2"
   ],
   "cell_type": "markdown",
   "metadata": {}
  },
  {
   "source": [
    "> `object??`や``??object`と同じ"
   ],
   "cell_type": "markdown",
   "metadata": {}
  },
  {
   "source": [
    "## %pip"
   ],
   "cell_type": "markdown",
   "metadata": {}
  },
  {
   "source": [
    "> `pip`パッケージマネージャーを召喚\n",
    "\n",
    "`%pip install [pkg name]`"
   ],
   "cell_type": "markdown",
   "metadata": {}
  },
  {
   "source": [
    "## %pprint"
   ],
   "cell_type": "markdown",
   "metadata": {}
  },
  {
   "source": [
    "> pprintの利用をコントロール"
   ],
   "cell_type": "markdown",
   "metadata": {}
  },
  {
   "source": [
    "## %precision"
   ],
   "cell_type": "markdown",
   "metadata": {}
  },
  {
   "source": [
    "> [表示桁数（精度）を設定する](https://note.nkmk.me/jupyter-notebook-ipython-precision/)"
   ],
   "cell_type": "markdown",
   "metadata": {}
  },
  {
   "source": [
    "## %prun"
   ],
   "cell_type": "markdown",
   "metadata": {}
  },
  {
   "source": [
    "> python code profilerを利用してstatementを実行する"
   ],
   "cell_type": "markdown",
   "metadata": {}
  },
  {
   "source": [
    "## %psearch"
   ],
   "cell_type": "markdown",
   "metadata": {}
  },
  {
   "source": [
    "> wildcardを利用して名前空間からオブジェクトを探す"
   ],
   "cell_type": "markdown",
   "metadata": {}
  },
  {
   "source": [
    "## %pwd"
   ],
   "cell_type": "markdown",
   "metadata": {}
  },
  {
   "source": [
    "> (print working directory)shellコマンドと同じ"
   ],
   "cell_type": "markdown",
   "metadata": {}
  },
  {
   "source": [
    "## %pycat"
   ],
   "cell_type": "markdown",
   "metadata": {}
  },
  {
   "source": [
    "> `cat`コマンドと同じ(pythonファイルならsyntax highlighting)"
   ],
   "cell_type": "markdown",
   "metadata": {}
  },
  {
   "source": [
    "## %pylab"
   ],
   "cell_type": "markdown",
   "metadata": {}
  },
  {
   "cell_type": "code",
   "execution_count": null,
   "metadata": {},
   "outputs": [],
   "source": [
    "> `numpy`,`matplotlib`をloadする"
   ]
  },
  {
   "source": [
    "`%pylab [--no-import-all] [gui]`"
   ],
   "cell_type": "markdown",
   "metadata": {}
  },
  {
   "cell_type": "code",
   "execution_count": null,
   "metadata": {},
   "outputs": [],
   "source": [
    "以下と同じ\n",
    "```python\n",
    "import numpy\n",
    "import matplotlib\n",
    "from matplotlib import pylab, mlab, pyplot\n",
    "np = numpy\n",
    "plt = pyplot\n",
    "\n",
    "from IPython.display import display\n",
    "from IPython.core.pylabtools import figsize, getfigs\n",
    "## --no-import-allを指定する場合、以下の二行は実行されない\n",
    "from pylab import *\n",
    "from numpy import *\n",
    "```"
   ]
  },
  {
   "source": [
    "## %quickref"
   ],
   "cell_type": "markdown",
   "metadata": {}
  },
  {
   "cell_type": "code",
   "execution_count": 63,
   "metadata": {},
   "outputs": [
    {
     "output_type": "stream",
     "text": [
      "\n",
      "IPython -- An enhanced Interactive Python - Quick Reference Card\n",
      "================================================================\n",
      "\n",
      "obj?, obj??      : Get help, or more help for object (also works as\n",
      "                   ?obj, ??obj).\n",
      "?foo.*abc*       : List names in 'foo' containing 'abc' in them.\n",
      "%magic           : Information about IPython's 'magic' % functions.\n",
      "\n",
      "Magic functions are prefixed by % or %%, and typically take their arguments\n",
      "without parentheses, quotes or even commas for convenience.  Line magics take a\n",
      "single % and cell magics are prefixed with two %%.\n",
      "\n",
      "Example magic function calls:\n",
      "\n",
      "%alias d ls -F   : 'd' is now an alias for 'ls -F'\n",
      "alias d ls -F    : Works if 'alias' not a python name\n",
      "alist = %alias   : Get list of aliases to 'alist'\n",
      "cd /usr/share    : Obvious. cd -<tab> to choose from visited dirs.\n",
      "%cd??            : See help AND source for magic %cd\n",
      "%timeit x=10     : time the 'x=10' statement with high precision.\n",
      "%%timeit x=2**100\n",
      "x**100           : time 'x**100' with a setup of 'x=2**100'; setup code is not\n",
      "                   counted.  This is an example of a cell magic.\n",
      "\n",
      "System commands:\n",
      "\n",
      "!cp a.txt b/     : System command escape, calls os.system()\n",
      "cp a.txt b/      : after %rehashx, most system commands work without !\n",
      "cp ${f}.txt $bar : Variable expansion in magics and system commands\n",
      "files = !ls /usr : Capture system command output\n",
      "files.s, files.l, files.n: \"a b c\", ['a','b','c'], 'a\\nb\\nc'\n",
      "\n",
      "History:\n",
      "\n",
      "_i, _ii, _iii    : Previous, next previous, next next previous input\n",
      "_i4, _ih[2:5]    : Input history line 4, lines 2-4\n",
      "exec _i81        : Execute input history line #81 again\n",
      "%rep 81          : Edit input history line #81\n",
      "_, __, ___       : previous, next previous, next next previous output\n",
      "_dh              : Directory history\n",
      "_oh              : Output history\n",
      "%hist            : Command history of current session.\n",
      "%hist -g foo     : Search command history of (almost) all sessions for 'foo'.\n",
      "%hist -g         : Command history of (almost) all sessions.\n",
      "%hist 1/2-8      : Command history containing lines 2-8 of session 1.\n",
      "%hist 1/ ~2/     : Command history of session 1 and 2 sessions before current.\n",
      "%hist ~8/1-~6/5  : Command history from line 1 of 8 sessions ago to\n",
      "                   line 5 of 6 sessions ago.\n",
      "%edit 0/         : Open editor to execute code with history of current session.\n",
      "\n",
      "Autocall:\n",
      "\n",
      "f 1,2            : f(1,2)  # Off by default, enable with %autocall magic.\n",
      "/f 1,2           : f(1,2) (forced autoparen)\n",
      ",f 1 2           : f(\"1\",\"2\")\n",
      ";f 1 2           : f(\"1 2\")\n",
      "\n",
      "Remember: TAB completion works in many contexts, not just file names\n",
      "or python names.\n",
      "\n",
      "The following magic functions are currently available:\n",
      "\n",
      "%alias:\n",
      "    Define an alias for a system command.\n",
      "%alias_magic:\n",
      "    ::\n",
      "%autoawait:\n",
      "    \n",
      "%autocall:\n",
      "    Make functions callable without having to type parentheses.\n",
      "%automagic:\n",
      "    Make magic functions callable without having to type the initial %.\n",
      "%autosave:\n",
      "    Set the autosave interval in the notebook (in seconds).\n",
      "%bookmark:\n",
      "    Manage IPython's bookmark system.\n",
      "%cat:\n",
      "    Alias for `!cat`\n",
      "%cd:\n",
      "    Change the current working directory.\n",
      "%clear:\n",
      "    Clear the terminal.\n",
      "%colors:\n",
      "    Switch color scheme for prompts, info system and exception handlers.\n",
      "%conda:\n",
      "    Run the conda package manager within the current kernel.\n",
      "%config:\n",
      "    configure IPython\n",
      "%connect_info:\n",
      "    Print information for connecting other clients to this kernel\n",
      "%cp:\n",
      "    Alias for `!cp`\n",
      "%debug:\n",
      "    ::\n",
      "%dhist:\n",
      "    Print your history of visited directories.\n",
      "%dirs:\n",
      "    Return the current directory stack.\n",
      "%doctest_mode:\n",
      "    Toggle doctest mode on and off.\n",
      "%ed:\n",
      "    Alias for `%edit`.\n",
      "%edit:\n",
      "    Bring up an editor and execute the resulting code.\n",
      "%env:\n",
      "    Get, set, or list environment variables.\n",
      "%gui:\n",
      "    Enable or disable IPython GUI event loop integration.\n",
      "%hist:\n",
      "    Alias for `%history`.\n",
      "%history:\n",
      "    ::\n",
      "%killbgscripts:\n",
      "    Kill all BG processes started by %%script and its family.\n",
      "%ldir:\n",
      "    Alias for `!ls -F -G -l %l | grep /$`\n",
      "%less:\n",
      "    Show a file through the pager.\n",
      "%lf:\n",
      "    Alias for `!ls -F -l -G %l | grep ^-`\n",
      "%lk:\n",
      "    Alias for `!ls -F -l -G %l | grep ^l`\n",
      "%ll:\n",
      "    Alias for `!ls -F -l -G`\n",
      "%load:\n",
      "    Load code into the current frontend.\n",
      "%load_ext:\n",
      "    Load an IPython extension by its module name.\n",
      "%loadpy:\n",
      "    Alias of `%load`\n",
      "%logoff:\n",
      "    Temporarily stop logging.\n",
      "%logon:\n",
      "    Restart logging.\n",
      "%logstart:\n",
      "    Start logging anywhere in a session.\n",
      "%logstate:\n",
      "    Print the status of the logging system.\n",
      "%logstop:\n",
      "    Fully stop logging and close log file.\n",
      "%ls:\n",
      "    Alias for `!ls -F -G`\n",
      "%lsmagic:\n",
      "    List currently available magic functions.\n",
      "%lx:\n",
      "    Alias for `!ls -F -l -G %l | grep ^-..x`\n",
      "%macro:\n",
      "    Define a macro for future re-execution. It accepts ranges of history,\n",
      "%magic:\n",
      "    Print information about the magic function system.\n",
      "%man:\n",
      "    Find the man page for the given command and display in pager.\n",
      "%matplotlib:\n",
      "    ::\n",
      "%mkdir:\n",
      "    Alias for `!mkdir`\n",
      "%more:\n",
      "    Show a file through the pager.\n",
      "%mv:\n",
      "    Alias for `!mv`\n",
      "%notebook:\n",
      "    ::\n",
      "%page:\n",
      "    Pretty print the object and display it through a pager.\n",
      "%pastebin:\n",
      "    Upload code to dpaste's paste bin, returning the URL.\n",
      "%pdb:\n",
      "    Control the automatic calling of the pdb interactive debugger.\n",
      "%pdef:\n",
      "    Print the call signature for any callable object.\n",
      "%pdoc:\n",
      "    Print the docstring for an object.\n",
      "%pfile:\n",
      "    Print (or run through pager) the file where an object is defined.\n",
      "%pinfo:\n",
      "    Provide detailed information about an object.\n",
      "%pinfo2:\n",
      "    Provide extra detailed information about an object.\n",
      "%pip:\n",
      "    Run the pip package manager within the current kernel.\n",
      "%popd:\n",
      "    Change to directory popped off the top of the stack.\n",
      "%pprint:\n",
      "    Toggle pretty printing on/off.\n",
      "%precision:\n",
      "    Set floating point precision for pretty printing.\n",
      "%prun:\n",
      "    Run a statement through the python code profiler.\n",
      "%psearch:\n",
      "    Search for object in namespaces by wildcard.\n",
      "%psource:\n",
      "    Print (or run through pager) the source code for an object.\n",
      "%pushd:\n",
      "    Place the current dir on stack and change directory.\n",
      "%pwd:\n",
      "    Return the current working directory path.\n",
      "%pycat:\n",
      "    Show a syntax-highlighted file through a pager.\n",
      "%pylab:\n",
      "    ::\n",
      "%qtconsole:\n",
      "    Open a qtconsole connected to this kernel.\n",
      "%quickref:\n",
      "    Show a quick reference sheet \n",
      "%recall:\n",
      "    Repeat a command, or get command to input line for editing.\n",
      "%rehashx:\n",
      "    Update the alias table with all executable files in $PATH.\n",
      "%reload_ext:\n",
      "    Reload an IPython extension by its module name.\n",
      "%rep:\n",
      "    Alias for `%recall`.\n",
      "%rerun:\n",
      "    Re-run previous input\n",
      "%reset:\n",
      "    Resets the namespace by removing all names defined by the user, if\n",
      "%reset_selective:\n",
      "    Resets the namespace by removing names defined by the user.\n",
      "%rm:\n",
      "    Alias for `!rm`\n",
      "%rmdir:\n",
      "    Alias for `!rmdir`\n",
      "%run:\n",
      "    Run the named file inside IPython as a program.\n",
      "%save:\n",
      "    Save a set of lines or a macro to a given filename.\n",
      "%sc:\n",
      "    Shell capture - run shell command and capture output (DEPRECATED use !).\n",
      "%set_env:\n",
      "    Set environment variables.  Assumptions are that either \"val\" is a\n",
      "%store:\n",
      "    Lightweight persistence for python variables.\n",
      "%sx:\n",
      "    Shell execute - run shell command and capture output (!! is short-hand).\n",
      "%system:\n",
      "    Shell execute - run shell command and capture output (!! is short-hand).\n",
      "%tb:\n",
      "    Print the last traceback.\n",
      "%time:\n",
      "    Time execution of a Python statement or expression.\n",
      "%timeit:\n",
      "    Time execution of a Python statement or expression\n",
      "%unalias:\n",
      "    Remove an alias\n",
      "%unload_ext:\n",
      "    Unload an IPython extension by its module name.\n",
      "%who:\n",
      "    Print all interactive variables, with some minimal formatting.\n",
      "%who_ls:\n",
      "    Return a sorted list of all interactive variables.\n",
      "%whos:\n",
      "    Like %who, but gives some extra information about each variable.\n",
      "%xdel:\n",
      "    Delete a variable, trying to clear it from anywhere that\n",
      "%xmode:\n",
      "    Switch modes for the exception handlers.\n",
      "%%!:\n",
      "    Shell execute - run shell command and capture output (!! is short-hand).\n",
      "%%HTML:\n",
      "    Alias for `%%html`.\n",
      "%%SVG:\n",
      "    Alias for `%%svg`.\n",
      "%%bash:\n",
      "    %%bash script magic\n",
      "%%capture:\n",
      "    ::\n",
      "%%debug:\n",
      "    ::\n",
      "%%file:\n",
      "    Alias for `%%writefile`.\n",
      "%%html:\n",
      "    ::\n",
      "%%javascript:\n",
      "    Run the cell block of Javascript code\n",
      "%%js:\n",
      "    Run the cell block of Javascript code\n",
      "%%latex:\n",
      "    Render the cell as a block of latex\n",
      "%%markdown:\n",
      "    Render the cell as Markdown text block\n",
      "%%perl:\n",
      "    %%perl script magic\n",
      "%%prun:\n",
      "    Run a statement through the python code profiler.\n",
      "%%pypy:\n",
      "    %%pypy script magic\n",
      "%%python:\n",
      "    %%python script magic\n",
      "%%python2:\n",
      "    %%python2 script magic\n",
      "%%python3:\n",
      "    %%python3 script magic\n",
      "%%ruby:\n",
      "    %%ruby script magic\n",
      "%%script:\n",
      "    ::\n",
      "%%sh:\n",
      "    %%sh script magic\n",
      "%%svg:\n",
      "    Render the cell as an SVG literal\n",
      "%%sx:\n",
      "    Shell execute - run shell command and capture output (!! is short-hand).\n",
      "%%system:\n",
      "    Shell execute - run shell command and capture output (!! is short-hand).\n",
      "%%time:\n",
      "    Time execution of a Python statement or expression.\n",
      "%%timeit:\n",
      "    Time execution of a Python statement or expression\n",
      "%%writefile:\n",
      "    ::\n"
     ],
     "name": "stdout"
    }
   ],
   "source": [
    "%quickref"
   ]
  },
  {
   "source": [
    "## %recall"
   ],
   "cell_type": "markdown",
   "metadata": {}
  },
  {
   "source": [
    "> コマンドを重複する、あるいは出力を入力欄に入れる"
   ],
   "cell_type": "markdown",
   "metadata": {}
  },
  {
   "source": [
    "## %rehashx"
   ],
   "cell_type": "markdown",
   "metadata": {}
  },
  {
   "source": [
    "> `$PATH`中の全ての実行可能のファイルの別名テーブルを更新する"
   ],
   "cell_type": "markdown",
   "metadata": {}
  },
  {
   "source": [
    "## %reload_ext"
   ],
   "cell_type": "markdown",
   "metadata": {}
  },
  {
   "source": [
    "> IPythonのextensionをreloadする"
   ],
   "cell_type": "markdown",
   "metadata": {}
  },
  {
   "source": [
    "## %unload_ext"
   ],
   "cell_type": "markdown",
   "metadata": {}
  },
  {
   "source": [
    "> extensionをunloadする"
   ],
   "cell_type": "markdown",
   "metadata": {}
  },
  {
   "source": [
    "## %rerun"
   ],
   "cell_type": "markdown",
   "metadata": {}
  },
  {
   "source": [
    "> 前の入力内容をもう一度実行する"
   ],
   "cell_type": "markdown",
   "metadata": {}
  },
  {
   "source": [
    "## %reset"
   ],
   "cell_type": "markdown",
   "metadata": {}
  },
  {
   "source": [
    "> 名前空間の中にユーザーが定義する名前を全てリセットする\n",
    "\n",
    "`%reset`\\[in | out | dhist | array] \\[-f | s]`\n",
    "\n",
    "* in: 入力履歴\n",
    "* out: 出力履歴\n",
    "* dhist: ディレクトリ履歴\n",
    "* array: NumPy array履歴\n",
    "* -f: 確認せずに(soft)\n",
    "* -s: 名前空間だけをクリアして履歴はそのまま\n",
    "\n"
   ],
   "cell_type": "markdown",
   "metadata": {}
  },
  {
   "source": [
    "## %reset_selective"
   ],
   "cell_type": "markdown",
   "metadata": {}
  },
  {
   "source": [
    "> 正規表現に満たすものをリセットする\n",
    "\n",
    "`%reset_selective [-f] regex`\n"
   ],
   "cell_type": "markdown",
   "metadata": {}
  },
  {
   "source": [
    "## %run"
   ],
   "cell_type": "markdown",
   "metadata": {}
  },
  {
   "source": [
    "> IPythonの中でファイルを実行する  \n",
    "> `python file args`と似てるが良い所としてIPythonのトレースバック情報、  \n",
    "> そして全ての変数は名前空間に導入される  \n",
    "\n",
    "> Jupyter Notebookもファイルに属する"
   ],
   "cell_type": "markdown",
   "metadata": {}
  },
  {
   "source": [
    "[IPython における「%run hoge.py」と「!python hoge.py」の違い](https://qiita.com/2-propanol/items/f6f63c3f20981df2c844)"
   ],
   "cell_type": "markdown",
   "metadata": {}
  },
  {
   "source": [
    "## %save"
   ],
   "cell_type": "markdown",
   "metadata": {}
  },
  {
   "source": [
    "> 一部の入力やmacroをPythonファイルに保存\n"
   ],
   "cell_type": "markdown",
   "metadata": {}
  },
  {
   "source": [
    "`%save [options] filename n1-n2 n3-n4..n5`\n",
    "\n",
    "> ファイルに拡張子を追加しても`.py`になる\n",
    "\n",
    " * -r: raw input、拡張子は`.ipy`になる\n",
    " * -f: 強制的に上書き\n",
    " * -a: 追記モード"
   ],
   "cell_type": "markdown",
   "metadata": {}
  },
  {
   "source": [
    "## %sc"
   ],
   "cell_type": "markdown",
   "metadata": {}
  },
  {
   "source": [
    "> `!`前のshellへアクセル方法、推奨されない"
   ],
   "cell_type": "markdown",
   "metadata": {}
  },
  {
   "source": [
    "## %set_env"
   ],
   "cell_type": "markdown",
   "metadata": {}
  },
  {
   "source": [
    "> 環境変数をセットする"
   ],
   "cell_type": "markdown",
   "metadata": {}
  },
  {
   "source": [
    "## %sx"
   ],
   "cell_type": "markdown",
   "metadata": {}
  },
  {
   "source": [
    "> `%sc -l`と同じ効果、パラメータをリストとしてshellへ渡して結果をcaptureする"
   ],
   "cell_type": "markdown",
   "metadata": {}
  },
  {
   "source": [
    "## %system"
   ],
   "cell_type": "markdown",
   "metadata": {}
  },
  {
   "source": [
    "> `%sx`と同じ"
   ],
   "cell_type": "markdown",
   "metadata": {}
  },
  {
   "source": [
    "## %tb"
   ],
   "cell_type": "markdown",
   "metadata": {}
  },
  {
   "source": [
    "> 最後のtrackbackを出力する"
   ],
   "cell_type": "markdown",
   "metadata": {}
  },
  {
   "source": [
    "## %time"
   ],
   "cell_type": "markdown",
   "metadata": {}
  },
  {
   "source": [
    "> Python statementやexpressionの実行で掛かる時間測る  \n",
    "> CPU time とwall timeが出力される\n",
    "\n",
    "[real time/user CPU time/system CPU timeの違いをメモ](https://siguniang.wordpress.com/2015/08/30/what-is-wall-clock-time-and-cpu-time/)"
   ],
   "cell_type": "markdown",
   "metadata": {}
  },
  {
   "source": [
    "## %timeit"
   ],
   "cell_type": "markdown",
   "metadata": {}
  },
  {
   "source": [
    "> `timeit`モジュールで時間を測る"
   ],
   "cell_type": "markdown",
   "metadata": {}
  },
  {
   "source": [
    "`%timeit [-n<N> -r<R> [-t|-c] -q -p<P> -o] statement`\n",
    "\n",
    "* `-n<N>`: 一つのループでN回実行するかを設定、指定しない場合自動的に設定される\n",
    "* `-r<R>`: 重複回数を指定、デフォルト７\n",
    "* `-t`: wall time(time.time利用)\n",
    "* `-c`: CPU time(time.clock利用)\n",
    "* `-p<P>: 結果時間出力の精度を設定、デフォルト３\n",
    "* `-q`: 出力しない\n",
    "* `-o`: `TimeitResult`オブジェクトを戻る"
   ],
   "cell_type": "markdown",
   "metadata": {}
  },
  {
   "source": [
    "## %who"
   ],
   "cell_type": "markdown",
   "metadata": {}
  },
  {
   "source": [
    "> 変数一覧出力"
   ],
   "cell_type": "markdown",
   "metadata": {}
  },
  {
   "source": [
    "## %who_ls"
   ],
   "cell_type": "markdown",
   "metadata": {}
  },
  {
   "source": [
    "> 変数一覧をリストとして戻る"
   ],
   "cell_type": "markdown",
   "metadata": {}
  },
  {
   "source": [
    "## %whos"
   ],
   "cell_type": "markdown",
   "metadata": {}
  },
  {
   "source": [
    "> `%who`より多くの情報を提供する"
   ],
   "cell_type": "markdown",
   "metadata": {}
  },
  {
   "source": [
    "## %xdel"
   ],
   "cell_type": "markdown",
   "metadata": {}
  },
  {
   "source": [
    "> 変数を削除する"
   ],
   "cell_type": "markdown",
   "metadata": {}
  },
  {
   "source": [
    "## %xmode"
   ],
   "cell_type": "markdown",
   "metadata": {}
  },
  {
   "source": [
    "> Exception　handlerを設定する"
   ],
   "cell_type": "markdown",
   "metadata": {}
  },
  {
   "source": [
    "# Cell Magics"
   ],
   "cell_type": "markdown",
   "metadata": {}
  },
  {
   "source": [
    "## %%bash"
   ],
   "cell_type": "markdown",
   "metadata": {}
  },
  {
   "source": [
    "> bash scriptを実行する"
   ],
   "cell_type": "markdown",
   "metadata": {}
  },
  {
   "source": [
    "## %%capture"
   ],
   "cell_type": "markdown",
   "metadata": {}
  },
  {
   "source": [
    "> cellを実行して、stdout, stderr, IPythonのdisplayを出力する"
   ],
   "cell_type": "markdown",
   "metadata": {}
  },
  {
   "source": [
    "## %%html"
   ],
   "cell_type": "markdown",
   "metadata": {}
  },
  {
   "source": [
    "> HTMLとしてcellを解析する"
   ],
   "cell_type": "markdown",
   "metadata": {}
  },
  {
   "source": [
    "## %%javascript"
   ],
   "cell_type": "markdown",
   "metadata": {}
  },
  {
   "source": [
    "> Javascriptとしてcellを解析する"
   ],
   "cell_type": "markdown",
   "metadata": {}
  },
  {
   "source": [
    "## %%js"
   ],
   "cell_type": "markdown",
   "metadata": {}
  },
  {
   "source": [
    "> `%%javascript`の別名"
   ],
   "cell_type": "markdown",
   "metadata": {}
  },
  {
   "source": [
    "## %%latex"
   ],
   "cell_type": "markdown",
   "metadata": {}
  },
  {
   "source": [
    "> [latex](https://ja.wikipedia.org/wiki/LaTeX)としてcellを解析する"
   ],
   "cell_type": "markdown",
   "metadata": {}
  },
  {
   "source": [
    "## %%markdown"
   ],
   "cell_type": "markdown",
   "metadata": {}
  },
  {
   "source": [
    ">　markdownとしてcellを解析する"
   ],
   "cell_type": "markdown",
   "metadata": {}
  },
  {
   "source": [
    "## %%perl"
   ],
   "cell_type": "markdown",
   "metadata": {}
  },
  {
   "source": [
    "> perl scriptとしてcellを解析する"
   ],
   "cell_type": "markdown",
   "metadata": {}
  },
  {
   "source": [
    "## %%prun"
   ],
   "cell_type": "markdown",
   "metadata": {}
  },
  {
   "cell_type": "code",
   "execution_count": null,
   "metadata": {},
   "outputs": [],
   "source": [
    "import numpy as np\n",
    "\n",
    "def step(*shape):\n",
    "    return 2 * (np.random.random_sample(shape)<.5) - 1"
   ]
  },
  {
   "cell_type": "code",
   "execution_count": null,
   "metadata": {},
   "outputs": [],
   "source": [
    "%%prun -s cumulative -q -l 10 -T prun0\n",
    "# We profile the cell, sort the report by \"cumulative\n",
    "# time\", limit it to 10 lines, and save it to a file\n",
    "# named \"prun0\".\n",
    "\n",
    "n = 10000\n",
    "iterations = 50\n",
    "x = np.cumsum(step(iterations, n), axis=0)\n",
    "bins = np.arange(-30, 30, 1)\n",
    "y = np.vstack([np.histogram(x[i,:], bins)[0]\n",
    "               for i in range(iterations)])"
   ]
  },
  {
   "cell_type": "code",
   "execution_count": null,
   "metadata": {},
   "outputs": [],
   "source": [
    "print(open('prun0', 'r').read())"
   ]
  },
  {
   "source": [
    "## %%pypy"
   ],
   "cell_type": "markdown",
   "metadata": {}
  },
  {
   "source": [
    "> pypy scriptとしてcellを実行する"
   ],
   "cell_type": "markdown",
   "metadata": {}
  },
  {
   "source": [
    "## %%python"
   ],
   "cell_type": "markdown",
   "metadata": {}
  },
  {
   "source": [
    "> subprocessでPython codeを実行する"
   ],
   "cell_type": "markdown",
   "metadata": {}
  },
  {
   "source": [
    "## %%python2"
   ],
   "cell_type": "markdown",
   "metadata": {}
  },
  {
   "source": [
    "> subprocessでPython2 codeを実行する"
   ],
   "cell_type": "markdown",
   "metadata": {}
  },
  {
   "source": [
    "## %%python3"
   ],
   "cell_type": "markdown",
   "metadata": {}
  },
  {
   "source": [
    "> subprocessでPython3 codeを実行する\n"
   ],
   "cell_type": "markdown",
   "metadata": {}
  },
  {
   "source": [
    "## %%ruby"
   ],
   "cell_type": "markdown",
   "metadata": {}
  },
  {
   "source": [
    "> ruby scriptとしてcellを実行する"
   ],
   "cell_type": "markdown",
   "metadata": {}
  },
  {
   "source": [
    "## %%script"
   ],
   "cell_type": "markdown",
   "metadata": {}
  },
  {
   "source": [
    "> shellを選択してcellを実行する"
   ],
   "cell_type": "markdown",
   "metadata": {}
  },
  {
   "source": [
    "## %%sh"
   ],
   "cell_type": "markdown",
   "metadata": {}
  },
  {
   "source": [
    ">　subprocessでsh scriptを実行する"
   ],
   "cell_type": "markdown",
   "metadata": {}
  },
  {
   "source": [
    "## %%svg"
   ],
   "cell_type": "markdown",
   "metadata": {}
  },
  {
   "source": [
    "> SVGとしてcellを解析する"
   ],
   "cell_type": "markdown",
   "metadata": {}
  },
  {
   "source": [
    "## %%writefile"
   ],
   "cell_type": "markdown",
   "metadata": {}
  },
  {
   "source": [
    ">　cellの内容をファイルへ出力する\n",
    "\n",
    "`%%writefile [-a] filename`\n",
    "\n",
    "* `-a`: 追記モード"
   ],
   "cell_type": "markdown",
   "metadata": {}
  },
  {
   "source": [
    "# [自分で定義する](https://ipython.readthedocs.io/en/stable/config/custommagics.html)"
   ],
   "cell_type": "markdown",
   "metadata": {}
  },
  {
   "cell_type": "code",
   "execution_count": 1,
   "metadata": {},
   "outputs": [],
   "source": [
    "from IPython.core.magic import (register_line_magic,\n",
    "                                register_cell_magic)"
   ]
  },
  {
   "cell_type": "code",
   "execution_count": 2,
   "metadata": {},
   "outputs": [],
   "source": [
    "@register_line_magic\n",
    "def hello(language):\n",
    "    if language == 'Japanese':\n",
    "        print(\"こんにちは!\")\n",
    "    elif language == \"Chinese\":\n",
    "        print(\"你好!\")\n",
    "    else:\n",
    "        print(\"Hi!\")"
   ]
  },
  {
   "cell_type": "code",
   "execution_count": 3,
   "metadata": {},
   "outputs": [
    {
     "output_type": "stream",
     "name": "stdout",
     "text": [
      "Hi!\n"
     ]
    }
   ],
   "source": [
    "%hello"
   ]
  },
  {
   "cell_type": "code",
   "execution_count": 4,
   "metadata": {},
   "outputs": [
    {
     "output_type": "stream",
     "name": "stdout",
     "text": [
      "こんにちは!\n"
     ]
    }
   ],
   "source": [
    "%hello Japanese"
   ]
  },
  {
   "cell_type": "code",
   "execution_count": 5,
   "metadata": {},
   "outputs": [],
   "source": [
    "import pandas as pd\n",
    "from io import StringIO\n",
    "\n",
    "@register_cell_magic\n",
    "def csv(line, cell):\n",
    "    sio = StringIO(cell)\n",
    "    return pd.read_csv(sio)"
   ]
  },
  {
   "cell_type": "code",
   "execution_count": 6,
   "metadata": {},
   "outputs": [
    {
     "output_type": "execute_result",
     "data": {
      "text/plain": [
       "   col1  col2  col3\n",
       "0     0     1     2\n",
       "1     3     4     5\n",
       "2     7     8     9"
      ],
      "text/html": "<div>\n<style scoped>\n    .dataframe tbody tr th:only-of-type {\n        vertical-align: middle;\n    }\n\n    .dataframe tbody tr th {\n        vertical-align: top;\n    }\n\n    .dataframe thead th {\n        text-align: right;\n    }\n</style>\n<table border=\"1\" class=\"dataframe\">\n  <thead>\n    <tr style=\"text-align: right;\">\n      <th></th>\n      <th>col1</th>\n      <th>col2</th>\n      <th>col3</th>\n    </tr>\n  </thead>\n  <tbody>\n    <tr>\n      <th>0</th>\n      <td>0</td>\n      <td>1</td>\n      <td>2</td>\n    </tr>\n    <tr>\n      <th>1</th>\n      <td>3</td>\n      <td>4</td>\n      <td>5</td>\n    </tr>\n    <tr>\n      <th>2</th>\n      <td>7</td>\n      <td>8</td>\n      <td>9</td>\n    </tr>\n  </tbody>\n</table>\n</div>"
     },
     "metadata": {},
     "execution_count": 6
    }
   ],
   "source": [
    "%%csv\n",
    "col1,col2,col3\n",
    "0,1,2\n",
    "3,4,5\n",
    "7,8,9"
   ]
  },
  {
   "cell_type": "code",
   "execution_count": 7,
   "metadata": {},
   "outputs": [
    {
     "output_type": "execute_result",
     "data": {
      "text/plain": [
       "           col1      col2      col3\n",
       "count  3.000000  3.000000  3.000000\n",
       "mean   3.333333  4.333333  5.333333\n",
       "std    3.511885  3.511885  3.511885\n",
       "min    0.000000  1.000000  2.000000\n",
       "25%    1.500000  2.500000  3.500000\n",
       "50%    3.000000  4.000000  5.000000\n",
       "75%    5.000000  6.000000  7.000000\n",
       "max    7.000000  8.000000  9.000000"
      ],
      "text/html": "<div>\n<style scoped>\n    .dataframe tbody tr th:only-of-type {\n        vertical-align: middle;\n    }\n\n    .dataframe tbody tr th {\n        vertical-align: top;\n    }\n\n    .dataframe thead th {\n        text-align: right;\n    }\n</style>\n<table border=\"1\" class=\"dataframe\">\n  <thead>\n    <tr style=\"text-align: right;\">\n      <th></th>\n      <th>col1</th>\n      <th>col2</th>\n      <th>col3</th>\n    </tr>\n  </thead>\n  <tbody>\n    <tr>\n      <th>count</th>\n      <td>3.000000</td>\n      <td>3.000000</td>\n      <td>3.000000</td>\n    </tr>\n    <tr>\n      <th>mean</th>\n      <td>3.333333</td>\n      <td>4.333333</td>\n      <td>5.333333</td>\n    </tr>\n    <tr>\n      <th>std</th>\n      <td>3.511885</td>\n      <td>3.511885</td>\n      <td>3.511885</td>\n    </tr>\n    <tr>\n      <th>min</th>\n      <td>0.000000</td>\n      <td>1.000000</td>\n      <td>2.000000</td>\n    </tr>\n    <tr>\n      <th>25%</th>\n      <td>1.500000</td>\n      <td>2.500000</td>\n      <td>3.500000</td>\n    </tr>\n    <tr>\n      <th>50%</th>\n      <td>3.000000</td>\n      <td>4.000000</td>\n      <td>5.000000</td>\n    </tr>\n    <tr>\n      <th>75%</th>\n      <td>5.000000</td>\n      <td>6.000000</td>\n      <td>7.000000</td>\n    </tr>\n    <tr>\n      <th>max</th>\n      <td>7.000000</td>\n      <td>8.000000</td>\n      <td>9.000000</td>\n    </tr>\n  </tbody>\n</table>\n</div>"
     },
     "metadata": {},
     "execution_count": 7
    }
   ],
   "source": [
    "df = _\n",
    "df.describe()"
   ]
  },
  {
   "cell_type": "code",
   "execution_count": 8,
   "metadata": {},
   "outputs": [
    {
     "output_type": "stream",
     "name": "stdout",
     "text": [
      "Writing csvmagic.py\n"
     ]
    }
   ],
   "source": [
    "%%writefile csvmagic.py\n",
    "\n",
    "import pandas as pd\n",
    "from io import StringIO\n",
    "\n",
    "def csv(line, cell):\n",
    "    sio = StringIO(cell)\n",
    "    return pd.read_csv(sio)\n",
    "\n",
    "def load_ipython_extension(ipython):\n",
    "    ipython.register_magic_function(csv, 'cell')"
   ]
  },
  {
   "cell_type": "code",
   "execution_count": 9,
   "metadata": {},
   "outputs": [],
   "source": [
    "%load_ext csvmagic\n"
   ]
  },
  {
   "cell_type": "code",
   "execution_count": 10,
   "metadata": {},
   "outputs": [
    {
     "output_type": "execute_result",
     "data": {
      "text/plain": [
       "   col1  col2  col3\n",
       "0     0     1     2\n",
       "1     3     4     5\n",
       "2     7     8     9"
      ],
      "text/html": "<div>\n<style scoped>\n    .dataframe tbody tr th:only-of-type {\n        vertical-align: middle;\n    }\n\n    .dataframe tbody tr th {\n        vertical-align: top;\n    }\n\n    .dataframe thead th {\n        text-align: right;\n    }\n</style>\n<table border=\"1\" class=\"dataframe\">\n  <thead>\n    <tr style=\"text-align: right;\">\n      <th></th>\n      <th>col1</th>\n      <th>col2</th>\n      <th>col3</th>\n    </tr>\n  </thead>\n  <tbody>\n    <tr>\n      <th>0</th>\n      <td>0</td>\n      <td>1</td>\n      <td>2</td>\n    </tr>\n    <tr>\n      <th>1</th>\n      <td>3</td>\n      <td>4</td>\n      <td>5</td>\n    </tr>\n    <tr>\n      <th>2</th>\n      <td>7</td>\n      <td>8</td>\n      <td>9</td>\n    </tr>\n  </tbody>\n</table>\n</div>"
     },
     "metadata": {},
     "execution_count": 10
    }
   ],
   "source": [
    "%%csv\n",
    "col1,col2,col3\n",
    "0,1,2\n",
    "3,4,5\n",
    "7,8,9"
   ]
  },
  {
   "cell_type": "code",
   "execution_count": 11,
   "metadata": {},
   "outputs": [],
   "source": [
    "!rm csvmagic.py"
   ]
  },
  {
   "cell_type": "code",
   "execution_count": 12,
   "metadata": {},
   "outputs": [],
   "source": [
    "!rm -rf __pycache__/"
   ]
  },
  {
   "cell_type": "code",
   "execution_count": null,
   "metadata": {},
   "outputs": [],
   "source": []
  }
 ]
}