{
 "metadata": {
  "language_info": {
   "codemirror_mode": {
    "name": "ipython",
    "version": 3
   },
   "file_extension": ".py",
   "mimetype": "text/x-python",
   "name": "python",
   "nbconvert_exporter": "python",
   "pygments_lexer": "ipython3",
   "version": "3.8.6-final"
  },
  "orig_nbformat": 2,
  "kernelspec": {
   "name": "python3",
   "display_name": "Python 3.8.6 64-bit",
   "metadata": {
    "interpreter": {
     "hash": "082e9a3bcad0a290d0001e938aa60b99250c6c2ef33a923c00b70f9826caf4b7"
    }
   }
  }
 },
 "nbformat": 4,
 "nbformat_minor": 2,
 "cells": [
  {
   "source": [
    "参考資料\n",
    "* [conda documentation](https://docs.conda.io/projects/conda/en/latest/user-guide/concepts/packages.html)"
   ],
   "cell_type": "markdown",
   "metadata": {}
  },
  {
   "source": [
    "## command not found (Mac)"
   ],
   "cell_type": "markdown",
   "metadata": {}
  },
  {
   "source": [
    "```bash\n",
    "vi ~/.zshrc\n",
    "\n",
    "export PATH=~/username/anaconda3/bin:$PATH\n",
    "\n",
    "source ~/.zshrc\n",
    "```"
   ],
   "cell_type": "markdown",
   "metadata": {}
  },
  {
   "source": [
    "## パッケージ"
   ],
   "cell_type": "markdown",
   "metadata": {}
  },
  {
   "source": [
    "### 一覧"
   ],
   "cell_type": "markdown",
   "metadata": {}
  },
  {
   "source": [
    "`conda list`"
   ],
   "cell_type": "markdown",
   "metadata": {}
  },
  {
   "source": [
    "### インストール"
   ],
   "cell_type": "markdown",
   "metadata": {}
  },
  {
   "source": [
    "`conda install <pkg name>`"
   ],
   "cell_type": "markdown",
   "metadata": {}
  },
  {
   "source": [
    "`conda install -c <channel name> <pkg name>`"
   ],
   "cell_type": "markdown",
   "metadata": {}
  },
  {
   "source": [
    "## 仮想環境"
   ],
   "cell_type": "markdown",
   "metadata": {}
  },
  {
   "source": [
    "### 作る"
   ],
   "cell_type": "markdown",
   "metadata": {}
  },
  {
   "source": [
    "`conda create --name <environment name> python=<python version>`"
   ],
   "cell_type": "markdown",
   "metadata": {}
  },
  {
   "source": [
    "### 仮想環境一覧"
   ],
   "cell_type": "markdown",
   "metadata": {}
  },
  {
   "source": [
    "`conda env list`"
   ],
   "cell_type": "markdown",
   "metadata": {}
  },
  {
   "source": [
    "### activate"
   ],
   "cell_type": "markdown",
   "metadata": {}
  },
  {
   "source": [
    "`source activate <environment name>`"
   ],
   "cell_type": "markdown",
   "metadata": {}
  },
  {
   "source": [
    "### deactivate"
   ],
   "cell_type": "markdown",
   "metadata": {}
  },
  {
   "source": [
    "`source deactivate`"
   ],
   "cell_type": "markdown",
   "metadata": {}
  },
  {
   "source": [
    "## 設定値"
   ],
   "cell_type": "markdown",
   "metadata": {}
  },
  {
   "source": [
    "### channel一覧"
   ],
   "cell_type": "markdown",
   "metadata": {}
  },
  {
   "source": [
    "`conda config --show channels`"
   ],
   "cell_type": "markdown",
   "metadata": {}
  },
  {
   "source": [
    "### channel追加"
   ],
   "cell_type": "markdown",
   "metadata": {}
  },
  {
   "source": [
    "`conda config -add channels <channel name>`"
   ],
   "cell_type": "markdown",
   "metadata": {}
  },
  {
   "source": [
    "### channel優先順位"
   ],
   "cell_type": "markdown",
   "metadata": {}
  },
  {
   "source": [
    "`conda config --get channels`"
   ],
   "cell_type": "markdown",
   "metadata": {}
  },
  {
   "cell_type": "code",
   "execution_count": null,
   "metadata": {},
   "outputs": [],
   "source": []
  }
 ]
}