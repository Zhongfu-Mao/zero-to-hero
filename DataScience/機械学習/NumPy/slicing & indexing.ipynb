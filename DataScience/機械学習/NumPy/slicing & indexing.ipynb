{
 "metadata": {
  "language_info": {
   "codemirror_mode": {
    "name": "ipython",
    "version": 3
   },
   "file_extension": ".py",
   "mimetype": "text/x-python",
   "name": "python",
   "nbconvert_exporter": "python",
   "pygments_lexer": "ipython3",
   "version": "3.8.6-final"
  },
  "orig_nbformat": 2,
  "kernelspec": {
   "name": "python3",
   "display_name": "Python 3.8.6 64-bit",
   "metadata": {
    "interpreter": {
     "hash": "082e9a3bcad0a290d0001e938aa60b99250c6c2ef33a923c00b70f9826caf4b7"
    }
   }
  }
 },
 "nbformat": 4,
 "nbformat_minor": 2,
 "cells": [
  {
   "cell_type": "code",
   "execution_count": 1,
   "metadata": {},
   "outputs": [],
   "source": [
    "import numpy as np"
   ]
  },
  {
   "cell_type": "code",
   "execution_count": 2,
   "metadata": {},
   "outputs": [
    {
     "output_type": "execute_result",
     "data": {
      "text/plain": [
       "array([[[ 0,  1,  2,  3],\n",
       "        [ 4,  5,  6,  7],\n",
       "        [ 8,  9, 10, 11]],\n",
       "\n",
       "       [[12, 13, 14, 15],\n",
       "        [16, 17, 18, 19],\n",
       "        [20, 21, 22, 23]]])"
      ]
     },
     "metadata": {},
     "execution_count": 2
    }
   ],
   "source": [
    "b = np.arange(24).reshape(2, 3, 4)\n",
    "b"
   ]
  },
  {
   "cell_type": "code",
   "execution_count": 3,
   "metadata": {},
   "outputs": [
    {
     "output_type": "execute_result",
     "data": {
      "text/plain": [
       "0"
      ]
     },
     "metadata": {},
     "execution_count": 3
    }
   ],
   "source": [
    "b[0, 0, 0]"
   ]
  },
  {
   "cell_type": "code",
   "execution_count": 4,
   "metadata": {},
   "outputs": [
    {
     "output_type": "execute_result",
     "data": {
      "text/plain": [
       "array([ 0, 12])"
      ]
     },
     "metadata": {},
     "execution_count": 4
    }
   ],
   "source": [
    "b[:, 0, 0]"
   ]
  },
  {
   "cell_type": "code",
   "execution_count": 5,
   "metadata": {},
   "outputs": [
    {
     "output_type": "execute_result",
     "data": {
      "text/plain": [
       "array([[ 0,  1,  2,  3],\n",
       "       [ 4,  5,  6,  7],\n",
       "       [ 8,  9, 10, 11]])"
      ]
     },
     "metadata": {},
     "execution_count": 5
    }
   ],
   "source": [
    "b[0]"
   ]
  },
  {
   "cell_type": "code",
   "execution_count": 6,
   "metadata": {},
   "outputs": [
    {
     "output_type": "execute_result",
     "data": {
      "text/plain": [
       "array([[ 0,  1,  2,  3],\n",
       "       [ 4,  5,  6,  7],\n",
       "       [ 8,  9, 10, 11]])"
      ]
     },
     "metadata": {},
     "execution_count": 6
    }
   ],
   "source": [
    "b[0, :, :] # 同じ効果"
   ]
  },
  {
   "cell_type": "code",
   "execution_count": 7,
   "metadata": {},
   "outputs": [
    {
     "output_type": "execute_result",
     "data": {
      "text/plain": [
       "array([[ 0,  1,  2,  3],\n",
       "       [ 4,  5,  6,  7],\n",
       "       [ 8,  9, 10, 11]])"
      ]
     },
     "metadata": {},
     "execution_count": 7
    }
   ],
   "source": [
    "b[0, ...] # 上の簡易版"
   ]
  },
  {
   "cell_type": "code",
   "execution_count": 8,
   "metadata": {},
   "outputs": [
    {
     "output_type": "execute_result",
     "data": {
      "text/plain": [
       "array([4, 6])"
      ]
     },
     "metadata": {},
     "execution_count": 8
    }
   ],
   "source": [
    "b[0, 1, ::2] # steps"
   ]
  },
  {
   "cell_type": "code",
   "execution_count": 9,
   "metadata": {},
   "outputs": [
    {
     "output_type": "execute_result",
     "data": {
      "text/plain": [
       "array([[ 1,  5,  9],\n",
       "       [13, 17, 21]])"
      ]
     },
     "metadata": {},
     "execution_count": 9
    }
   ],
   "source": [
    "b[..., 1]"
   ]
  },
  {
   "cell_type": "code",
   "execution_count": 10,
   "metadata": {},
   "outputs": [
    {
     "output_type": "execute_result",
     "data": {
      "text/plain": [
       "array([[ 4,  5,  6,  7],\n",
       "       [16, 17, 18, 19]])"
      ]
     },
     "metadata": {},
     "execution_count": 10
    }
   ],
   "source": [
    "b[:, 1]"
   ]
  },
  {
   "cell_type": "code",
   "execution_count": 11,
   "metadata": {},
   "outputs": [
    {
     "output_type": "execute_result",
     "data": {
      "text/plain": [
       "array([11,  7,  3])"
      ]
     },
     "metadata": {},
     "execution_count": 11
    }
   ],
   "source": [
    "b[0, ::-1, -1] # negative indices"
   ]
  },
  {
   "source": [
    "## Advanced indexing and index tricks"
   ],
   "cell_type": "markdown",
   "metadata": {}
  },
  {
   "source": [
    "### Indexing with Arrays of Indices\n"
   ],
   "cell_type": "markdown",
   "metadata": {}
  },
  {
   "cell_type": "code",
   "execution_count": 12,
   "metadata": {},
   "outputs": [],
   "source": [
    "a = np.arange(12) ** 2\n",
    "i = np.array([1, 1, 3, 8, 5])\n",
    "j = np.array([[3, 4], [9, 7]])"
   ]
  },
  {
   "cell_type": "code",
   "execution_count": 13,
   "metadata": {},
   "outputs": [
    {
     "output_type": "execute_result",
     "data": {
      "text/plain": [
       "array([  0,   1,   4,   9,  16,  25,  36,  49,  64,  81, 100, 121])"
      ]
     },
     "metadata": {},
     "execution_count": 13
    }
   ],
   "source": [
    "a"
   ]
  },
  {
   "cell_type": "code",
   "execution_count": 14,
   "metadata": {},
   "outputs": [
    {
     "output_type": "execute_result",
     "data": {
      "text/plain": [
       "array([ 1,  1,  9, 64, 25])"
      ]
     },
     "metadata": {},
     "execution_count": 14
    }
   ],
   "source": [
    "a[i]"
   ]
  },
  {
   "cell_type": "code",
   "execution_count": 15,
   "metadata": {},
   "outputs": [
    {
     "output_type": "execute_result",
     "data": {
      "text/plain": [
       "array([[ 9, 16],\n",
       "       [81, 49]])"
      ]
     },
     "metadata": {},
     "execution_count": 15
    }
   ],
   "source": [
    "a[j]"
   ]
  },
  {
   "cell_type": "code",
   "execution_count": 16,
   "metadata": {},
   "outputs": [],
   "source": [
    "palette = np.array([[0, 0, 0],        # 黒\n",
    "                    [255, 0, 0],      # 赤\n",
    "                    [0, 255, 0],      # 緑\n",
    "                    [0, 0, 255],      # 青\n",
    "                    [255, 255, 255]]) # 白"
   ]
  },
  {
   "cell_type": "code",
   "execution_count": 17,
   "metadata": {},
   "outputs": [],
   "source": [
    "image = np.array([[0, 1, 2, 0],\n",
    "                  [0, 3, 4, 0]])"
   ]
  },
  {
   "cell_type": "code",
   "execution_count": 18,
   "metadata": {},
   "outputs": [
    {
     "output_type": "execute_result",
     "data": {
      "text/plain": [
       "array([[[  0,   0,   0],\n",
       "        [255,   0,   0],\n",
       "        [  0, 255,   0],\n",
       "        [  0,   0,   0]],\n",
       "\n",
       "       [[  0,   0,   0],\n",
       "        [  0,   0, 255],\n",
       "        [255, 255, 255],\n",
       "        [  0,   0,   0]]])"
      ]
     },
     "metadata": {},
     "execution_count": 18
    }
   ],
   "source": [
    "palette[image]"
   ]
  },
  {
   "cell_type": "code",
   "execution_count": 19,
   "metadata": {},
   "outputs": [
    {
     "output_type": "execute_result",
     "data": {
      "text/plain": [
       "array([[ 0,  1,  2,  3],\n",
       "       [ 4,  5,  6,  7],\n",
       "       [ 8,  9, 10, 11]])"
      ]
     },
     "metadata": {},
     "execution_count": 19
    }
   ],
   "source": [
    "a = np.arange(12).reshape(3, 4)\n",
    "a"
   ]
  },
  {
   "cell_type": "code",
   "execution_count": 20,
   "metadata": {},
   "outputs": [],
   "source": [
    "i = np.array([[0, 1],\n",
    "              [1, 2]])\n",
    "j = np.array([[2, 1],\n",
    "              [3, 3]])"
   ]
  },
  {
   "cell_type": "code",
   "execution_count": 21,
   "metadata": {},
   "outputs": [
    {
     "output_type": "execute_result",
     "data": {
      "text/plain": [
       "array([[ 2,  5],\n",
       "       [ 7, 11]])"
      ]
     },
     "metadata": {},
     "execution_count": 21
    }
   ],
   "source": [
    "a[i, j]"
   ]
  },
  {
   "cell_type": "code",
   "execution_count": 22,
   "metadata": {},
   "outputs": [
    {
     "output_type": "execute_result",
     "data": {
      "text/plain": [
       "array([[ 2,  6],\n",
       "       [ 6, 10]])"
      ]
     },
     "metadata": {},
     "execution_count": 22
    }
   ],
   "source": [
    "a[i, 2]"
   ]
  },
  {
   "cell_type": "code",
   "execution_count": 23,
   "metadata": {},
   "outputs": [
    {
     "output_type": "execute_result",
     "data": {
      "text/plain": [
       "array([[[ 2,  1],\n",
       "        [ 3,  3]],\n",
       "\n",
       "       [[ 6,  5],\n",
       "        [ 7,  7]],\n",
       "\n",
       "       [[10,  9],\n",
       "        [11, 11]]])"
      ]
     },
     "metadata": {},
     "execution_count": 23
    }
   ],
   "source": [
    "a[:, j]"
   ]
  },
  {
   "source": [
    "### Indexing with Boolean Arrays"
   ],
   "cell_type": "markdown",
   "metadata": {}
  },
  {
   "cell_type": "code",
   "execution_count": 2,
   "metadata": {},
   "outputs": [
    {
     "output_type": "execute_result",
     "data": {
      "text/plain": [
       "array([[False, False, False, False],\n",
       "       [False,  True,  True,  True],\n",
       "       [ True,  True,  True,  True]])"
      ]
     },
     "metadata": {},
     "execution_count": 2
    }
   ],
   "source": [
    "a = np.arange(12).reshape(3, 4)\n",
    "b = a > 4\n",
    "b"
   ]
  },
  {
   "cell_type": "code",
   "execution_count": 25,
   "metadata": {},
   "outputs": [
    {
     "output_type": "execute_result",
     "data": {
      "text/plain": [
       "array([ 5,  6,  7,  8,  9, 10, 11])"
      ]
     },
     "metadata": {},
     "execution_count": 25
    }
   ],
   "source": [
    "a[b]"
   ]
  },
  {
   "cell_type": "code",
   "execution_count": 26,
   "metadata": {},
   "outputs": [
    {
     "output_type": "execute_result",
     "data": {
      "text/plain": [
       "array([[0, 1, 2, 3],\n",
       "       [4, 0, 0, 0],\n",
       "       [0, 0, 0, 0]])"
      ]
     },
     "metadata": {},
     "execution_count": 26
    }
   ],
   "source": [
    "a[b] = 0\n",
    "a"
   ]
  },
  {
   "cell_type": "code",
   "execution_count": 3,
   "metadata": {},
   "outputs": [
    {
     "output_type": "execute_result",
     "data": {
      "text/plain": [
       "7"
      ]
     },
     "metadata": {},
     "execution_count": 3
    }
   ],
   "source": [
    "np.sum(b)"
   ]
  },
  {
   "cell_type": "code",
   "execution_count": 4,
   "metadata": {},
   "outputs": [
    {
     "output_type": "execute_result",
     "data": {
      "text/plain": [
       "7"
      ]
     },
     "metadata": {},
     "execution_count": 4
    }
   ],
   "source": [
    "np.count_nonzero(b)"
   ]
  },
  {
   "cell_type": "code",
   "execution_count": 5,
   "metadata": {},
   "outputs": [
    {
     "output_type": "execute_result",
     "data": {
      "text/plain": [
       "array([[ 0,  1,  2,  3],\n",
       "       [ 4,  5,  6,  7],\n",
       "       [ 8,  9, 10, 11]])"
      ]
     },
     "metadata": {},
     "execution_count": 5
    }
   ],
   "source": [
    "a"
   ]
  },
  {
   "cell_type": "code",
   "execution_count": 6,
   "metadata": {},
   "outputs": [
    {
     "output_type": "execute_result",
     "data": {
      "text/plain": [
       "6"
      ]
     },
     "metadata": {},
     "execution_count": 6
    }
   ],
   "source": [
    "np.sum((a > 3) & (a < 10))"
   ]
  },
  {
   "cell_type": "code",
   "execution_count": 7,
   "metadata": {},
   "outputs": [
    {
     "output_type": "execute_result",
     "data": {
      "text/plain": [
       "array([ 0,  2,  4,  6,  8, 10, 11])"
      ]
     },
     "metadata": {},
     "execution_count": 7
    }
   ],
   "source": [
    "a[(a % 2 == 0) | (a > 10)]"
   ]
  },
  {
   "cell_type": "code",
   "execution_count": 8,
   "metadata": {},
   "outputs": [
    {
     "output_type": "execute_result",
     "data": {
      "text/plain": [
       "array([ 1,  2,  3,  4,  5,  6,  7,  8,  9, 10, 11])"
      ]
     },
     "metadata": {},
     "execution_count": 8
    }
   ],
   "source": [
    "a[~(a == 0)]"
   ]
  },
  {
   "cell_type": "code",
   "execution_count": 9,
   "metadata": {},
   "outputs": [
    {
     "output_type": "execute_result",
     "data": {
      "text/plain": [
       "array([[0, 1, 2, 3]])"
      ]
     },
     "metadata": {},
     "execution_count": 9
    }
   ],
   "source": [
    "a[a[:, 3] % 3 == 0, :]"
   ]
  },
  {
   "cell_type": "code",
   "execution_count": 27,
   "metadata": {},
   "outputs": [],
   "source": [
    "import numpy as np\n",
    "import matplotlib.pyplot as plt\n",
    "%matplotlib inline"
   ]
  },
  {
   "cell_type": "code",
   "execution_count": 28,
   "metadata": {},
   "outputs": [
    {
     "output_type": "execute_result",
     "data": {
      "text/plain": [
       "<matplotlib.image.AxesImage at 0x7fe61edde760>"
      ]
     },
     "metadata": {},
     "execution_count": 28
    },
    {
     "output_type": "display_data",
     "data": {
      "text/plain": "<Figure size 432x288 with 1 Axes>",
      "image/svg+xml": "<?xml version=\"1.0\" encoding=\"utf-8\" standalone=\"no\"?>\n<!DOCTYPE svg PUBLIC \"-//W3C//DTD SVG 1.1//EN\"\n  \"http://www.w3.org/Graphics/SVG/1.1/DTD/svg11.dtd\">\n<!-- Created with matplotlib (https://matplotlib.org/) -->\n<svg height=\"252.045544pt\" version=\"1.1\" viewBox=\"0 0 257.9275 252.045544\" width=\"257.9275pt\" xmlns=\"http://www.w3.org/2000/svg\" xmlns:xlink=\"http://www.w3.org/1999/xlink\">\n <metadata>\n  <rdf:RDF xmlns:cc=\"http://creativecommons.org/ns#\" xmlns:dc=\"http://purl.org/dc/elements/1.1/\" xmlns:rdf=\"http://www.w3.org/1999/02/22-rdf-syntax-ns#\">\n   <cc:Work>\n    <dc:type rdf:resource=\"http://purl.org/dc/dcmitype/StillImage\"/>\n    <dc:date>2021-01-01T18:56:14.024806</dc:date>\n    <dc:format>image/svg+xml</dc:format>\n    <dc:creator>\n     <cc:Agent>\n      <dc:title>Matplotlib v3.3.3, https://matplotlib.org/</dc:title>\n     </cc:Agent>\n    </dc:creator>\n   </cc:Work>\n  </rdf:RDF>\n </metadata>\n <defs>\n  <style type=\"text/css\">*{stroke-linecap:butt;stroke-linejoin:round;}</style>\n </defs>\n <g id=\"figure_1\">\n  <g id=\"patch_1\">\n   <path d=\"M 0 252.045544 \nL 257.9275 252.045544 \nL 257.9275 0 \nL 0 0 \nz\n\" style=\"fill:none;\"/>\n  </g>\n  <g id=\"axes_1\">\n   <g id=\"patch_2\">\n    <path d=\"M 33.2875 228.167419 \nL 250.7275 228.167419 \nL 250.7275 10.727419 \nL 33.2875 10.727419 \nz\n\" style=\"fill:#ffffff;\"/>\n   </g>\n   <g clip-path=\"url(#p9ad2eb0b1a)\">\n    <image height=\"218\" id=\"image3031a8916d\" transform=\"scale(1 -1)translate(0 -218)\" width=\"218\" x=\"33.2875\" xlink:href=\"data:image/png;base64,\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\" y=\"-10.167419\"/>\n   </g>\n   <g id=\"matplotlib.axis_1\">\n    <g id=\"xtick_1\">\n     <g id=\"line2d_1\">\n      <defs>\n       <path d=\"M 0 0 \nL 0 3.5 \n\" id=\"m0fcaae7c7a\" style=\"stroke:#000000;stroke-width:0.8;\"/>\n      </defs>\n      <g>\n       <use style=\"stroke:#000000;stroke-width:0.8;\" x=\"33.5593\" xlink:href=\"#m0fcaae7c7a\" y=\"228.167419\"/>\n      </g>\n     </g>\n     <g id=\"text_1\">\n      <!-- 0 -->\n      <g transform=\"translate(30.37805 242.765856)scale(0.1 -0.1)\">\n       <defs>\n        <path d=\"M 31.78125 66.40625 \nQ 24.171875 66.40625 20.328125 58.90625 \nQ 16.5 51.421875 16.5 36.375 \nQ 16.5 21.390625 20.328125 13.890625 \nQ 24.171875 6.390625 31.78125 6.390625 \nQ 39.453125 6.390625 43.28125 13.890625 \nQ 47.125 21.390625 47.125 36.375 \nQ 47.125 51.421875 43.28125 58.90625 \nQ 39.453125 66.40625 31.78125 66.40625 \nz\nM 31.78125 74.21875 \nQ 44.046875 74.21875 50.515625 64.515625 \nQ 56.984375 54.828125 56.984375 36.375 \nQ 56.984375 17.96875 50.515625 8.265625 \nQ 44.046875 -1.421875 31.78125 -1.421875 \nQ 19.53125 -1.421875 13.0625 8.265625 \nQ 6.59375 17.96875 6.59375 36.375 \nQ 6.59375 54.828125 13.0625 64.515625 \nQ 19.53125 74.21875 31.78125 74.21875 \nz\n\" id=\"DejaVuSans-48\"/>\n       </defs>\n       <use xlink:href=\"#DejaVuSans-48\"/>\n      </g>\n     </g>\n    </g>\n    <g id=\"xtick_2\">\n     <g id=\"line2d_2\">\n      <g>\n       <use style=\"stroke:#000000;stroke-width:0.8;\" x=\"87.9193\" xlink:href=\"#m0fcaae7c7a\" y=\"228.167419\"/>\n      </g>\n     </g>\n     <g id=\"text_2\">\n      <!-- 100 -->\n      <g transform=\"translate(78.37555 242.765856)scale(0.1 -0.1)\">\n       <defs>\n        <path d=\"M 12.40625 8.296875 \nL 28.515625 8.296875 \nL 28.515625 63.921875 \nL 10.984375 60.40625 \nL 10.984375 69.390625 \nL 28.421875 72.90625 \nL 38.28125 72.90625 \nL 38.28125 8.296875 \nL 54.390625 8.296875 \nL 54.390625 0 \nL 12.40625 0 \nz\n\" id=\"DejaVuSans-49\"/>\n       </defs>\n       <use xlink:href=\"#DejaVuSans-49\"/>\n       <use x=\"63.623047\" xlink:href=\"#DejaVuSans-48\"/>\n       <use x=\"127.246094\" xlink:href=\"#DejaVuSans-48\"/>\n      </g>\n     </g>\n    </g>\n    <g id=\"xtick_3\">\n     <g id=\"line2d_3\">\n      <g>\n       <use style=\"stroke:#000000;stroke-width:0.8;\" x=\"142.2793\" xlink:href=\"#m0fcaae7c7a\" y=\"228.167419\"/>\n      </g>\n     </g>\n     <g id=\"text_3\">\n      <!-- 200 -->\n      <g transform=\"translate(132.73555 242.765856)scale(0.1 -0.1)\">\n       <defs>\n        <path d=\"M 19.1875 8.296875 \nL 53.609375 8.296875 \nL 53.609375 0 \nL 7.328125 0 \nL 7.328125 8.296875 \nQ 12.9375 14.109375 22.625 23.890625 \nQ 32.328125 33.6875 34.8125 36.53125 \nQ 39.546875 41.84375 41.421875 45.53125 \nQ 43.3125 49.21875 43.3125 52.78125 \nQ 43.3125 58.59375 39.234375 62.25 \nQ 35.15625 65.921875 28.609375 65.921875 \nQ 23.96875 65.921875 18.8125 64.3125 \nQ 13.671875 62.703125 7.8125 59.421875 \nL 7.8125 69.390625 \nQ 13.765625 71.78125 18.9375 73 \nQ 24.125 74.21875 28.421875 74.21875 \nQ 39.75 74.21875 46.484375 68.546875 \nQ 53.21875 62.890625 53.21875 53.421875 \nQ 53.21875 48.921875 51.53125 44.890625 \nQ 49.859375 40.875 45.40625 35.40625 \nQ 44.1875 33.984375 37.640625 27.21875 \nQ 31.109375 20.453125 19.1875 8.296875 \nz\n\" id=\"DejaVuSans-50\"/>\n       </defs>\n       <use xlink:href=\"#DejaVuSans-50\"/>\n       <use x=\"63.623047\" xlink:href=\"#DejaVuSans-48\"/>\n       <use x=\"127.246094\" xlink:href=\"#DejaVuSans-48\"/>\n      </g>\n     </g>\n    </g>\n    <g id=\"xtick_4\">\n     <g id=\"line2d_4\">\n      <g>\n       <use style=\"stroke:#000000;stroke-width:0.8;\" x=\"196.6393\" xlink:href=\"#m0fcaae7c7a\" y=\"228.167419\"/>\n      </g>\n     </g>\n     <g id=\"text_4\">\n      <!-- 300 -->\n      <g transform=\"translate(187.09555 242.765856)scale(0.1 -0.1)\">\n       <defs>\n        <path d=\"M 40.578125 39.3125 \nQ 47.65625 37.796875 51.625 33 \nQ 55.609375 28.21875 55.609375 21.1875 \nQ 55.609375 10.40625 48.1875 4.484375 \nQ 40.765625 -1.421875 27.09375 -1.421875 \nQ 22.515625 -1.421875 17.65625 -0.515625 \nQ 12.796875 0.390625 7.625 2.203125 \nL 7.625 11.71875 \nQ 11.71875 9.328125 16.59375 8.109375 \nQ 21.484375 6.890625 26.8125 6.890625 \nQ 36.078125 6.890625 40.9375 10.546875 \nQ 45.796875 14.203125 45.796875 21.1875 \nQ 45.796875 27.640625 41.28125 31.265625 \nQ 36.765625 34.90625 28.71875 34.90625 \nL 20.21875 34.90625 \nL 20.21875 43.015625 \nL 29.109375 43.015625 \nQ 36.375 43.015625 40.234375 45.921875 \nQ 44.09375 48.828125 44.09375 54.296875 \nQ 44.09375 59.90625 40.109375 62.90625 \nQ 36.140625 65.921875 28.71875 65.921875 \nQ 24.65625 65.921875 20.015625 65.03125 \nQ 15.375 64.15625 9.8125 62.3125 \nL 9.8125 71.09375 \nQ 15.4375 72.65625 20.34375 73.4375 \nQ 25.25 74.21875 29.59375 74.21875 \nQ 40.828125 74.21875 47.359375 69.109375 \nQ 53.90625 64.015625 53.90625 55.328125 \nQ 53.90625 49.265625 50.4375 45.09375 \nQ 46.96875 40.921875 40.578125 39.3125 \nz\n\" id=\"DejaVuSans-51\"/>\n       </defs>\n       <use xlink:href=\"#DejaVuSans-51\"/>\n       <use x=\"63.623047\" xlink:href=\"#DejaVuSans-48\"/>\n       <use x=\"127.246094\" xlink:href=\"#DejaVuSans-48\"/>\n      </g>\n     </g>\n    </g>\n   </g>\n   <g id=\"matplotlib.axis_2\">\n    <g id=\"ytick_1\">\n     <g id=\"line2d_5\">\n      <defs>\n       <path d=\"M 0 0 \nL -3.5 0 \n\" id=\"md6b154d412\" style=\"stroke:#000000;stroke-width:0.8;\"/>\n      </defs>\n      <g>\n       <use style=\"stroke:#000000;stroke-width:0.8;\" x=\"33.2875\" xlink:href=\"#md6b154d412\" y=\"10.999219\"/>\n      </g>\n     </g>\n     <g id=\"text_5\">\n      <!-- 0 -->\n      <g transform=\"translate(19.925 14.798438)scale(0.1 -0.1)\">\n       <use xlink:href=\"#DejaVuSans-48\"/>\n      </g>\n     </g>\n    </g>\n    <g id=\"ytick_2\">\n     <g id=\"line2d_6\">\n      <g>\n       <use style=\"stroke:#000000;stroke-width:0.8;\" x=\"33.2875\" xlink:href=\"#md6b154d412\" y=\"38.179219\"/>\n      </g>\n     </g>\n     <g id=\"text_6\">\n      <!-- 50 -->\n      <g transform=\"translate(13.5625 41.978438)scale(0.1 -0.1)\">\n       <defs>\n        <path d=\"M 10.796875 72.90625 \nL 49.515625 72.90625 \nL 49.515625 64.59375 \nL 19.828125 64.59375 \nL 19.828125 46.734375 \nQ 21.96875 47.46875 24.109375 47.828125 \nQ 26.265625 48.1875 28.421875 48.1875 \nQ 40.625 48.1875 47.75 41.5 \nQ 54.890625 34.8125 54.890625 23.390625 \nQ 54.890625 11.625 47.5625 5.09375 \nQ 40.234375 -1.421875 26.90625 -1.421875 \nQ 22.3125 -1.421875 17.546875 -0.640625 \nQ 12.796875 0.140625 7.71875 1.703125 \nL 7.71875 11.625 \nQ 12.109375 9.234375 16.796875 8.0625 \nQ 21.484375 6.890625 26.703125 6.890625 \nQ 35.15625 6.890625 40.078125 11.328125 \nQ 45.015625 15.765625 45.015625 23.390625 \nQ 45.015625 31 40.078125 35.4375 \nQ 35.15625 39.890625 26.703125 39.890625 \nQ 22.75 39.890625 18.8125 39.015625 \nQ 14.890625 38.140625 10.796875 36.28125 \nz\n\" id=\"DejaVuSans-53\"/>\n       </defs>\n       <use xlink:href=\"#DejaVuSans-53\"/>\n       <use x=\"63.623047\" xlink:href=\"#DejaVuSans-48\"/>\n      </g>\n     </g>\n    </g>\n    <g id=\"ytick_3\">\n     <g id=\"line2d_7\">\n      <g>\n       <use style=\"stroke:#000000;stroke-width:0.8;\" x=\"33.2875\" xlink:href=\"#md6b154d412\" y=\"65.359219\"/>\n      </g>\n     </g>\n     <g id=\"text_7\">\n      <!-- 100 -->\n      <g transform=\"translate(7.2 69.158438)scale(0.1 -0.1)\">\n       <use xlink:href=\"#DejaVuSans-49\"/>\n       <use x=\"63.623047\" xlink:href=\"#DejaVuSans-48\"/>\n       <use x=\"127.246094\" xlink:href=\"#DejaVuSans-48\"/>\n      </g>\n     </g>\n    </g>\n    <g id=\"ytick_4\">\n     <g id=\"line2d_8\">\n      <g>\n       <use style=\"stroke:#000000;stroke-width:0.8;\" x=\"33.2875\" xlink:href=\"#md6b154d412\" y=\"92.539219\"/>\n      </g>\n     </g>\n     <g id=\"text_8\">\n      <!-- 150 -->\n      <g transform=\"translate(7.2 96.338437)scale(0.1 -0.1)\">\n       <use xlink:href=\"#DejaVuSans-49\"/>\n       <use x=\"63.623047\" xlink:href=\"#DejaVuSans-53\"/>\n       <use x=\"127.246094\" xlink:href=\"#DejaVuSans-48\"/>\n      </g>\n     </g>\n    </g>\n    <g id=\"ytick_5\">\n     <g id=\"line2d_9\">\n      <g>\n       <use style=\"stroke:#000000;stroke-width:0.8;\" x=\"33.2875\" xlink:href=\"#md6b154d412\" y=\"119.719219\"/>\n      </g>\n     </g>\n     <g id=\"text_9\">\n      <!-- 200 -->\n      <g transform=\"translate(7.2 123.518438)scale(0.1 -0.1)\">\n       <use xlink:href=\"#DejaVuSans-50\"/>\n       <use x=\"63.623047\" xlink:href=\"#DejaVuSans-48\"/>\n       <use x=\"127.246094\" xlink:href=\"#DejaVuSans-48\"/>\n      </g>\n     </g>\n    </g>\n    <g id=\"ytick_6\">\n     <g id=\"line2d_10\">\n      <g>\n       <use style=\"stroke:#000000;stroke-width:0.8;\" x=\"33.2875\" xlink:href=\"#md6b154d412\" y=\"146.899219\"/>\n      </g>\n     </g>\n     <g id=\"text_10\">\n      <!-- 250 -->\n      <g transform=\"translate(7.2 150.698438)scale(0.1 -0.1)\">\n       <use xlink:href=\"#DejaVuSans-50\"/>\n       <use x=\"63.623047\" xlink:href=\"#DejaVuSans-53\"/>\n       <use x=\"127.246094\" xlink:href=\"#DejaVuSans-48\"/>\n      </g>\n     </g>\n    </g>\n    <g id=\"ytick_7\">\n     <g id=\"line2d_11\">\n      <g>\n       <use style=\"stroke:#000000;stroke-width:0.8;\" x=\"33.2875\" xlink:href=\"#md6b154d412\" y=\"174.079219\"/>\n      </g>\n     </g>\n     <g id=\"text_11\">\n      <!-- 300 -->\n      <g transform=\"translate(7.2 177.878437)scale(0.1 -0.1)\">\n       <use xlink:href=\"#DejaVuSans-51\"/>\n       <use x=\"63.623047\" xlink:href=\"#DejaVuSans-48\"/>\n       <use x=\"127.246094\" xlink:href=\"#DejaVuSans-48\"/>\n      </g>\n     </g>\n    </g>\n    <g id=\"ytick_8\">\n     <g id=\"line2d_12\">\n      <g>\n       <use style=\"stroke:#000000;stroke-width:0.8;\" x=\"33.2875\" xlink:href=\"#md6b154d412\" y=\"201.259219\"/>\n      </g>\n     </g>\n     <g id=\"text_12\">\n      <!-- 350 -->\n      <g transform=\"translate(7.2 205.058437)scale(0.1 -0.1)\">\n       <use xlink:href=\"#DejaVuSans-51\"/>\n       <use x=\"63.623047\" xlink:href=\"#DejaVuSans-53\"/>\n       <use x=\"127.246094\" xlink:href=\"#DejaVuSans-48\"/>\n      </g>\n     </g>\n    </g>\n   </g>\n   <g id=\"patch_3\">\n    <path d=\"M 33.2875 228.167419 \nL 33.2875 10.727419 \n\" style=\"fill:none;stroke:#000000;stroke-linecap:square;stroke-linejoin:miter;stroke-width:0.8;\"/>\n   </g>\n   <g id=\"patch_4\">\n    <path d=\"M 250.7275 228.167419 \nL 250.7275 10.727419 \n\" style=\"fill:none;stroke:#000000;stroke-linecap:square;stroke-linejoin:miter;stroke-width:0.8;\"/>\n   </g>\n   <g id=\"patch_5\">\n    <path d=\"M 33.2875 228.167419 \nL 250.7275 228.167419 \n\" style=\"fill:none;stroke:#000000;stroke-linecap:square;stroke-linejoin:miter;stroke-width:0.8;\"/>\n   </g>\n   <g id=\"patch_6\">\n    <path d=\"M 33.2875 10.727419 \nL 250.7275 10.727419 \n\" style=\"fill:none;stroke:#000000;stroke-linecap:square;stroke-linejoin:miter;stroke-width:0.8;\"/>\n   </g>\n  </g>\n </g>\n <defs>\n  <clipPath id=\"p9ad2eb0b1a\">\n   <rect height=\"217.44\" width=\"217.44\" x=\"33.2875\" y=\"10.727419\"/>\n  </clipPath>\n </defs>\n</svg>\n",
      "image/png": "[encoded data removed]"
     },
     "metadata": {
      "needs_background": "light"
     }
    }
   ],
   "source": [
    "def mandelbrot(h, w, maxit=20):\n",
    "    y, x = np.ogrid[-1.4:1.4:h*1j, -2:0.8:w*1j]\n",
    "    c = x + y*1j\n",
    "    z = c\n",
    "    divtime = maxit + np.zeros(z.shape, dtype=int)\n",
    "\n",
    "    for i in range(maxit):\n",
    "        z = z**2 + c\n",
    "        diverge = z*np.conj(z) > 2**2\n",
    "        div_now = diverge & (divtime == maxit)\n",
    "        divtime[div_now] = i\n",
    "        z[diverge] = 2\n",
    "    \n",
    "    return divtime\n",
    "\n",
    "plt.imshow(mandelbrot(400, 400))"
   ]
  },
  {
   "source": [
    "### ix_()"
   ],
   "cell_type": "markdown",
   "metadata": {}
  },
  {
   "cell_type": "code",
   "execution_count": 29,
   "metadata": {},
   "outputs": [],
   "source": [
    "a = np.array([2, 3, 4, 5])\n",
    "b = np.array([8, 5, 4])\n",
    "c = np.array([5, 4, 6, 8, 3])\n",
    "ax, bx, cx = np.ix_(a, b, c)"
   ]
  },
  {
   "cell_type": "code",
   "execution_count": 30,
   "metadata": {},
   "outputs": [
    {
     "output_type": "execute_result",
     "data": {
      "text/plain": [
       "array([[[2]],\n",
       "\n",
       "       [[3]],\n",
       "\n",
       "       [[4]],\n",
       "\n",
       "       [[5]]])"
      ]
     },
     "metadata": {},
     "execution_count": 30
    }
   ],
   "source": [
    "ax"
   ]
  },
  {
   "cell_type": "code",
   "execution_count": 31,
   "metadata": {},
   "outputs": [
    {
     "output_type": "execute_result",
     "data": {
      "text/plain": [
       "array([[[8],\n",
       "        [5],\n",
       "        [4]]])"
      ]
     },
     "metadata": {},
     "execution_count": 31
    }
   ],
   "source": [
    "bx"
   ]
  },
  {
   "cell_type": "code",
   "execution_count": 33,
   "metadata": {},
   "outputs": [
    {
     "output_type": "execute_result",
     "data": {
      "text/plain": [
       "array([[[5, 4, 6, 8, 3]]])"
      ]
     },
     "metadata": {},
     "execution_count": 33
    }
   ],
   "source": [
    "cx"
   ]
  },
  {
   "cell_type": "code",
   "execution_count": 34,
   "metadata": {},
   "outputs": [
    {
     "output_type": "execute_result",
     "data": {
      "text/plain": [
       "((4, 1, 1), (1, 3, 1), (1, 1, 5))"
      ]
     },
     "metadata": {},
     "execution_count": 34
    }
   ],
   "source": [
    "ax.shape, bx.shape, cx.shape"
   ]
  },
  {
   "cell_type": "code",
   "execution_count": 35,
   "metadata": {},
   "outputs": [
    {
     "output_type": "execute_result",
     "data": {
      "text/plain": [
       "array([[[42, 34, 50, 66, 26],\n",
       "        [27, 22, 32, 42, 17],\n",
       "        [22, 18, 26, 34, 14]],\n",
       "\n",
       "       [[43, 35, 51, 67, 27],\n",
       "        [28, 23, 33, 43, 18],\n",
       "        [23, 19, 27, 35, 15]],\n",
       "\n",
       "       [[44, 36, 52, 68, 28],\n",
       "        [29, 24, 34, 44, 19],\n",
       "        [24, 20, 28, 36, 16]],\n",
       "\n",
       "       [[45, 37, 53, 69, 29],\n",
       "        [30, 25, 35, 45, 20],\n",
       "        [25, 21, 29, 37, 17]]])"
      ]
     },
     "metadata": {},
     "execution_count": 35
    }
   ],
   "source": [
    "result = ax + bx * cx\n",
    "result"
   ]
  },
  {
   "cell_type": "code",
   "execution_count": null,
   "metadata": {},
   "outputs": [],
   "source": []
  }
 ]
}