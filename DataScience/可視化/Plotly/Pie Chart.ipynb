{
 "metadata": {
  "language_info": {
   "codemirror_mode": {
    "name": "ipython",
    "version": 3
   },
   "file_extension": ".py",
   "mimetype": "text/x-python",
   "name": "python",
   "nbconvert_exporter": "python",
   "pygments_lexer": "ipython3",
   "version": 3
  },
  "orig_nbformat": 2
 },
 "nbformat": 4,
 "nbformat_minor": 2,
 "cells": [
  {
   "source": [
    "* [Pie Charts with Plotly](https://plotly.com/python/pie-charts/)\n",
    "* [Pie Chart Documentation](https://plotly.com/python-api-reference/generated/plotly.express.pie.html#plotly.express.pie)\n",
    "* [Pie Chart Layout Reference](https://plotly.com/python-api-reference/generated/plotly.graph_objects.Pie.html#plotly.graph_objects.Pie)"
   ],
   "cell_type": "markdown",
   "metadata": {}
  },
  {
   "cell_type": "code",
   "execution_count": null,
   "metadata": {},
   "outputs": [],
   "source": [
    "import pandas as pd     #(version 1.0.0)\n",
    "import plotly           #(version 4.5.4) #pip install plotly==4.5.4\n",
    "import plotly.express as px\n",
    "import plotly.io as pio\n",
    "\n",
    "#------------------------------------------------------------------------\n",
    "# Filter the data\n",
    "# Data from https://covidtracking.com/api/\n",
    "df = pd.read_csv(\"covid-19-states-daily.csv\")\n",
    "df['dateChecked'] = pd.to_datetime(df['dateChecked'])\n",
    "df = df[df['dateChecked'].dt.date.astype(str) == '2020-03-17']\n",
    "df = df[df['death']>=5]\n",
    "print (df)\n",
    "\n",
    "pie_chart = px.pie(\n",
    "        data_frame=df,\n",
    "        values='death',\n",
    "        names='state',\n",
    "        color='state',                      #differentiate markers (discrete) by color\n",
    "        color_discrete_sequence=[\"red\",\"green\",\"blue\",\"orange\"],     #set marker colors\n",
    "        # color_discrete_map={\"WA\":\"yellow\",\"CA\":\"red\",\"NY\":\"black\",\"FL\":\"brown\"},\n",
    "        hover_name='negative',              #values appear in bold in the hover tooltip\n",
    "        # hover_data=['positive'],            #values appear as extra data in the hover tooltip\n",
    "        # custom_data=['total'],              #values are extra data to be used in Dash callbacks\n",
    "        labels={\"state\":\"the State\"},       #map the labels\n",
    "        title='Coronavirus in the USA',     #figure title\n",
    "        template='presentation',            #'ggplot2', 'seaborn', 'simple_white', 'plotly',\n",
    "                                            #'plotly_white', 'plotly_dark', 'presentation',\n",
    "                                            #'xgridoff', 'ygridoff', 'gridon', 'none'\n",
    "        width=800,                          #figure width in pixels\n",
    "        height=600,                         #figure height in pixels\n",
    "        hole=0.5,                           #represents the hole in middle of pie\n",
    "        )\n",
    "\n",
    "# pie_chart.update_traces(textposition='outside', textinfo='percent+label',\n",
    "#                         marker=dict(line=dict(color='#000000', width=4)),\n",
    "#                         pull=[0, 0, 0.2, 0], opacity=0.7, rotation=180)\n",
    "\n",
    "\n",
    "\n",
    "pio.show(pie_chart)"
   ]
  }
 ]
}