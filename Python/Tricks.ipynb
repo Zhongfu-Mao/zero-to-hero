{
 "metadata": {
  "language_info": {
   "codemirror_mode": {
    "name": "ipython",
    "version": 3
   },
   "file_extension": ".py",
   "mimetype": "text/x-python",
   "name": "python",
   "nbconvert_exporter": "python",
   "pygments_lexer": "ipython3",
   "version": "3.8.6-final"
  },
  "orig_nbformat": 2,
  "kernelspec": {
   "name": "Python 3.8.6 64-bit",
   "display_name": "Python 3.8.6 64-bit",
   "metadata": {
    "interpreter": {
     "hash": "082e9a3bcad0a290d0001e938aa60b99250c6c2ef33a923c00b70f9826caf4b7"
    }
   }
  }
 },
 "nbformat": 4,
 "nbformat_minor": 2,
 "cells": [
  {
   "source": [
    "## 1.\"import this\"だけじゃない"
   ],
   "cell_type": "markdown",
   "metadata": {}
  },
  {
   "cell_type": "code",
   "execution_count": 1,
   "metadata": {},
   "outputs": [],
   "source": [
    "import antigravity"
   ]
  },
  {
   "cell_type": "code",
   "execution_count": 45,
   "metadata": {},
   "outputs": [
    {
     "output_type": "stream",
     "name": "stdout",
     "text": [
      "Hello world!\n"
     ]
    }
   ],
   "source": [
    "import __hello__"
   ]
  },
  {
   "cell_type": "code",
   "execution_count": 46,
   "metadata": {},
   "outputs": [
    {
     "output_type": "stream",
     "name": "stdout",
     "text": [
      "The Zen of Python, by Tim Peters\n\nBeautiful is better than ugly.\nExplicit is better than implicit.\nSimple is better than complex.\nComplex is better than complicated.\nFlat is better than nested.\nSparse is better than dense.\nReadability counts.\nSpecial cases aren't special enough to break the rules.\nAlthough practicality beats purity.\nErrors should never pass silently.\nUnless explicitly silenced.\nIn the face of ambiguity, refuse the temptation to guess.\nThere should be one-- and preferably only one --obvious way to do it.\nAlthough that way may not be obvious at first unless you're Dutch.\nNow is better than never.\nAlthough never is often better than *right* now.\nIf the implementation is hard to explain, it's a bad idea.\nIf the implementation is easy to explain, it may be a good idea.\nNamespaces are one honking great idea -- let's do more of those!\n"
     ]
    }
   ],
   "source": [
    "import this"
   ]
  },
  {
   "source": [
    "## 2. ..."
   ],
   "cell_type": "markdown",
   "metadata": {}
  },
  {
   "cell_type": "code",
   "execution_count": 3,
   "metadata": {},
   "outputs": [
    {
     "output_type": "execute_result",
     "data": {
      "text/plain": [
       "Ellipsis"
      ]
     },
     "metadata": {},
     "execution_count": 3
    }
   ],
   "source": [
    "..."
   ]
  },
  {
   "cell_type": "code",
   "execution_count": 7,
   "metadata": {},
   "outputs": [
    {
     "output_type": "stream",
     "name": "stdout",
     "text": [
      "<class 'ellipsis'>\n4352958848\n4352958848\n"
     ]
    }
   ],
   "source": [
    "print(type(...))\n",
    "print(id(...)) # ...はellipsisクラスのsingleton\n",
    "print(id(...))"
   ]
  },
  {
   "cell_type": "code",
   "execution_count": 8,
   "metadata": {},
   "outputs": [
    {
     "output_type": "execute_result",
     "data": {
      "text/plain": [
       "True"
      ]
     },
     "metadata": {},
     "execution_count": 8
    }
   ],
   "source": [
    "bool(...)"
   ]
  },
  {
   "source": [
    "### [使い道](https://stackoverflow.com/questions/772124/what-does-the-ellipsis-object-do)"
   ],
   "cell_type": "markdown",
   "metadata": {}
  },
  {
   "cell_type": "code",
   "execution_count": 10,
   "metadata": {},
   "outputs": [],
   "source": [
    "# passとして使う\n",
    "def foo():\n",
    "    pass\n",
    "\n",
    "def bar():\n",
    "    ...\n",
    "\n",
    "foo()\n",
    "bar()"
   ]
  },
  {
   "cell_type": "code",
   "execution_count": null,
   "metadata": {},
   "outputs": [],
   "source": [
    "# typingとして使う\n",
    "from typing import Callable\n",
    "\n",
    "def partial(func: Callable[..., str], *args) -> Callable[..., str]:\n",
    "    # Body"
   ]
  },
  {
   "source": [
    "[PEP484](https://www.python.org/dev/peps/pep-0484/#callable)"
   ],
   "cell_type": "markdown",
   "metadata": {}
  },
  {
   "cell_type": "code",
   "execution_count": 11,
   "metadata": {},
   "outputs": [
    {
     "output_type": "execute_result",
     "data": {
      "text/plain": [
       "array([[[ 0,  1,  2,  3],\n",
       "        [ 4,  5,  6,  7]],\n",
       "\n",
       "       [[ 8,  9, 10, 11],\n",
       "        [12, 13, 14, 15]]])"
      ]
     },
     "metadata": {},
     "execution_count": 11
    }
   ],
   "source": [
    "# Numpyでslice操作\n",
    "import numpy as np\n",
    "\n",
    "foo = np.arange(16).reshape(2, 2, 4)\n",
    "\n",
    "foo"
   ]
  },
  {
   "cell_type": "code",
   "execution_count": 14,
   "metadata": {},
   "outputs": [
    {
     "output_type": "execute_result",
     "data": {
      "text/plain": [
       "array([[ 2,  6],\n",
       "       [10, 14]])"
      ]
     },
     "metadata": {},
     "execution_count": 14
    }
   ],
   "source": [
    "foo[:, :, 2]"
   ]
  },
  {
   "cell_type": "code",
   "execution_count": 12,
   "metadata": {},
   "outputs": [
    {
     "output_type": "execute_result",
     "data": {
      "text/plain": [
       "array([[ 2,  6],\n",
       "       [10, 14]])"
      ]
     },
     "metadata": {},
     "execution_count": 12
    }
   ],
   "source": [
    "foo[..., 2] # 同じ結果"
   ]
  },
  {
   "cell_type": "code",
   "execution_count": null,
   "metadata": {},
   "outputs": [],
   "source": [
    "## 3. shellのendを真似したいなら...(使わないでください)"
   ]
  },
  {
   "cell_type": "code",
   "execution_count": 15,
   "metadata": {},
   "outputs": [
    {
     "output_type": "stream",
     "name": "stdout",
     "text": [
      "10\n10\n"
     ]
    }
   ],
   "source": [
    "__builtins__.end = None\n",
    "\n",
    "\n",
    "def my_abs(x):\n",
    "    if x > 0:\n",
    "        return x\n",
    "    else:\n",
    "        return -x\n",
    "    end\n",
    "end\n",
    "\n",
    "print(my_abs(10))\n",
    "print(my_abs(-10))"
   ]
  },
  {
   "source": [
    "## 4. promptを自分で定義する"
   ],
   "cell_type": "markdown",
   "metadata": {}
  },
  {
   "cell_type": "code",
   "execution_count": null,
   "metadata": {},
   "outputs": [],
   "source": [
    "```python\n",
    ">>> import sys\n",
    ">>> sys.ps1\n",
    "'>>> '\n",
    ">>> sys.ps2\n",
    "'... '\n",
    ">>> sys.ps3\n",
    "Traceback (most recent call last):\n",
    "  File \"<stdin>\", line 1, in <module>\n",
    "AttributeError: module 'sys' has no attribute 'ps3'\n",
    ">>> sys.ps1 = \"海賊王に俺はなる!>>>\"\n",
    "海賊王に俺はなる!>>>sys.ps2 = \"肉~\"\n",
    "海賊王に俺はなる!>>>for i in range(2):\n",
    "肉~     print(\"サンジ、腹減った\")\n",
    "肉~\n",
    "サンジ、腹減った\n",
    "サンジ、腹減った\n",
    "海賊王に俺はなる!>>>\n",
    "```"
   ]
  },
  {
   "source": [
    "## 5.and & or"
   ],
   "cell_type": "markdown",
   "metadata": {}
  },
  {
   "cell_type": "code",
   "execution_count": 18,
   "metadata": {},
   "outputs": [
    {
     "output_type": "execute_result",
     "data": {
      "text/plain": [
       "14"
      ]
     },
     "metadata": {},
     "execution_count": 18
    }
   ],
   "source": [
    "(2 or 3) * (5 and 6 and 7)"
   ]
  },
  {
   "cell_type": "code",
   "execution_count": 21,
   "metadata": {},
   "outputs": [
    {
     "output_type": "execute_result",
     "data": {
      "text/plain": [
       "''"
      ]
     },
     "metadata": {},
     "execution_count": 21
    }
   ],
   "source": [
    "\"\" and \"b\" # andは左から右へスキャンして、最初のFalseを戻る\n"
   ]
  },
  {
   "cell_type": "code",
   "execution_count": 22,
   "metadata": {},
   "outputs": [
    {
     "output_type": "execute_result",
     "data": {
      "text/plain": [
       "'b'"
      ]
     },
     "metadata": {},
     "execution_count": 22
    }
   ],
   "source": [
    "\"a\" and \"b\" # 全てTrueなら、最後の値を戻る"
   ]
  },
  {
   "cell_type": "code",
   "execution_count": 24,
   "metadata": {},
   "outputs": [
    {
     "output_type": "execute_result",
     "data": {
      "text/plain": [
       "'a'"
      ]
     },
     "metadata": {},
     "execution_count": 24
    }
   ],
   "source": [
    "\"\" or \"a\" # orは左から右へスキャンして、最初のTrueを戻る"
   ]
  },
  {
   "cell_type": "code",
   "execution_count": 26,
   "metadata": {},
   "outputs": [
    {
     "output_type": "execute_result",
     "data": {
      "text/plain": [
       "{}"
      ]
     },
     "metadata": {},
     "execution_count": 26
    }
   ],
   "source": [
    "\"\" or [] or None or {} # 全てFalseなら、最後の値を戻る"
   ]
  },
  {
   "source": [
    "## 6. リストを結合する"
   ],
   "cell_type": "markdown",
   "metadata": {}
  },
  {
   "cell_type": "code",
   "execution_count": 67,
   "metadata": {},
   "outputs": [
    {
     "output_type": "execute_result",
     "data": {
      "text/plain": [
       "[1, 2, 3, 4, 5, 6]"
      ]
     },
     "metadata": {},
     "execution_count": 67
    }
   ],
   "source": [
    "a = [1, 2]\n",
    "b = [3, 4]\n",
    "c = [5, 6]\n",
    "sum((a, b, c), [])"
   ]
  },
  {
   "cell_type": "code",
   "execution_count": 28,
   "metadata": {},
   "outputs": [
    {
     "output_type": "execute_result",
     "data": {
      "text/plain": [
       "[1, 2, 3, 4, 5, 6]"
      ]
     },
     "metadata": {},
     "execution_count": 28
    }
   ],
   "source": [
    "[*a, *b, *c]"
   ]
  },
  {
   "cell_type": "code",
   "execution_count": 29,
   "metadata": {},
   "outputs": [
    {
     "output_type": "execute_result",
     "data": {
      "text/plain": [
       "[1, 2, 3, 4, 5, 6]"
      ]
     },
     "metadata": {},
     "execution_count": 29
    }
   ],
   "source": [
    "from itertools import chain\n",
    "\n",
    "list(chain(a, b, c))"
   ]
  },
  {
   "source": [
    "## 7. \\[-5, 256]"
   ],
   "cell_type": "markdown",
   "metadata": {}
  },
  {
   "cell_type": "code",
   "execution_count": 30,
   "metadata": {},
   "outputs": [
    {
     "output_type": "stream",
     "name": "stdout",
     "text": [
      "False\nTrue\n"
     ]
    }
   ],
   "source": [
    "a = -6\n",
    "b = -6\n",
    "\n",
    "c = -5\n",
    "d = -5\n",
    "\n",
    "print(a is b)\n",
    "print(c is d)"
   ]
  },
  {
   "source": [
    "> CPythonでは、\\[-5, 256]間の整数は事前に定義されたオブジェクト  \n",
    "> 他の数字と違う"
   ],
   "cell_type": "markdown",
   "metadata": {}
  },
  {
   "source": [
    "## 8. 文字列のintern"
   ],
   "cell_type": "markdown",
   "metadata": {}
  },
  {
   "cell_type": "code",
   "execution_count": 33,
   "metadata": {},
   "outputs": [
    {
     "output_type": "execute_result",
     "data": {
      "text/plain": [
       "True"
      ]
     },
     "metadata": {},
     "execution_count": 33
    }
   ],
   "source": [
    "s1 = \"hello\" # internと言うのは同じ文字列はメモリにただ一つ保存され\n",
    "s2 = \"hello\"\n",
    "s1 is s2"
   ]
  },
  {
   "cell_type": "code",
   "execution_count": 34,
   "metadata": {},
   "outputs": [
    {
     "output_type": "execute_result",
     "data": {
      "text/plain": [
       "False"
      ]
     },
     "metadata": {},
     "execution_count": 34
    }
   ],
   "source": [
    "s3 = 'hell o' # スペースある場合は、internは起動しない\n",
    "s4 = 'hell o'\n",
    "s3 is s4"
   ]
  },
  {
   "source": [
    "## 9. dict()と{}"
   ],
   "cell_type": "markdown",
   "metadata": {}
  },
  {
   "cell_type": "code",
   "execution_count": 40,
   "metadata": {},
   "outputs": [
    {
     "output_type": "stream",
     "name": "stdout",
     "text": [
      "112 ns ± 4.2 ns per loop (mean ± std. dev. of 5 runs, 1000000 loops each)\n"
     ]
    }
   ],
   "source": [
    "timeit -n 1000000 -r 5 dict()"
   ]
  },
  {
   "cell_type": "code",
   "execution_count": 41,
   "metadata": {},
   "outputs": [
    {
     "output_type": "stream",
     "name": "stdout",
     "text": [
      "21.6 ns ± 1.42 ns per loop (mean ± std. dev. of 5 runs, 1000000 loops each)\n"
     ]
    }
   ],
   "source": [
    "timeit -n 1000000 -r 5 {}"
   ]
  },
  {
   "source": [
    "`{}`は`dict()`より早い"
   ],
   "cell_type": "markdown",
   "metadata": {}
  },
  {
   "cell_type": "code",
   "execution_count": 42,
   "metadata": {},
   "outputs": [
    {
     "output_type": "stream",
     "name": "stdout",
     "text": [
      "  1           0 BUILD_MAP                0\n              2 RETURN_VALUE\n"
     ]
    }
   ],
   "source": [
    "from dis import dis\n",
    "dis(\"{}\")"
   ]
  },
  {
   "cell_type": "code",
   "execution_count": 44,
   "metadata": {},
   "outputs": [
    {
     "output_type": "stream",
     "name": "stdout",
     "text": [
      "  1           0 LOAD_NAME                0 (dict)\n              2 CALL_FUNCTION            0\n              4 RETURN_VALUE\n"
     ]
    }
   ],
   "source": [
    "dis('dict()')"
   ]
  },
  {
   "source": [
    "## 10.\"e\"と\"е\""
   ],
   "cell_type": "markdown",
   "metadata": {}
  },
  {
   "cell_type": "code",
   "execution_count": 50,
   "metadata": {},
   "outputs": [
    {
     "output_type": "error",
     "ename": "NameError",
     "evalue": "name 'value' is not defined",
     "traceback": [
      "\u001b[0;31m---------------------------------------------------------------------------\u001b[0m",
      "\u001b[0;31mNameError\u001b[0m                                 Traceback (most recent call last)",
      "\u001b[0;32m<ipython-input-50-6b554beb183e>\u001b[0m in \u001b[0;36m<module>\u001b[0;34m\u001b[0m\n\u001b[1;32m      1\u001b[0m \u001b[0mvaluе\u001b[0m \u001b[0;34m=\u001b[0m \u001b[0;36m12\u001b[0m\u001b[0;34m\u001b[0m\u001b[0;34m\u001b[0m\u001b[0m\n\u001b[0;32m----> 2\u001b[0;31m \u001b[0mprint\u001b[0m\u001b[0;34m(\u001b[0m\u001b[0mvalue\u001b[0m\u001b[0;34m)\u001b[0m\u001b[0;34m\u001b[0m\u001b[0;34m\u001b[0m\u001b[0m\n\u001b[0m",
      "\u001b[0;31mNameError\u001b[0m: name 'value' is not defined"
     ]
    }
   ],
   "source": [
    "valuе = 12\n",
    "print(value)"
   ]
  },
  {
   "source": [
    "> 原因は上の\"valuе\"の\"е\"は普通の\"e\"ではない"
   ],
   "cell_type": "markdown",
   "metadata": {}
  },
  {
   "cell_type": "code",
   "execution_count": 52,
   "metadata": {},
   "outputs": [
    {
     "output_type": "execute_result",
     "data": {
      "text/plain": [
       "101"
      ]
     },
     "metadata": {},
     "execution_count": 52
    }
   ],
   "source": [
    "ord(\"e\")"
   ]
  },
  {
   "cell_type": "code",
   "execution_count": 53,
   "metadata": {},
   "outputs": [
    {
     "output_type": "execute_result",
     "data": {
      "text/plain": [
       "1077"
      ]
     },
     "metadata": {},
     "execution_count": 53
    }
   ],
   "source": [
    "ord(\"е\")"
   ]
  },
  {
   "source": [
    "> 使い道？  \n",
    "> いたずら！"
   ],
   "cell_type": "markdown",
   "metadata": {}
  },
  {
   "source": [
    "## 11. \"site\""
   ],
   "cell_type": "markdown",
   "metadata": {}
  },
  {
   "cell_type": "code",
   "execution_count": 55,
   "metadata": {},
   "outputs": [
    {
     "output_type": "execute_result",
     "data": {
      "text/plain": [
       "['/Users/maozhongfu/GitHub/Python',\n",
       " '/Users/maozhongfu/.vscode/extensions/ms-python.python-2020.10.332292344/pythonFiles',\n",
       " '/Users/maozhongfu/.vscode/extensions/ms-python.python-2020.10.332292344/pythonFiles/lib/python',\n",
       " '/Library/Frameworks/Python.framework/Versions/3.8/lib/python38.zip',\n",
       " '/Library/Frameworks/Python.framework/Versions/3.8/lib/python3.8',\n",
       " '/Library/Frameworks/Python.framework/Versions/3.8/lib/python3.8/lib-dynload',\n",
       " '',\n",
       " '/Users/maozhongfu/Library/Python/3.8/lib/python/site-packages',\n",
       " '/Library/Frameworks/Python.framework/Versions/3.8/lib/python3.8/site-packages',\n",
       " '/Library/Frameworks/Python.framework/Versions/3.8/lib/python3.8/site-packages/aeosa',\n",
       " '/Library/Frameworks/Python.framework/Versions/3.8/lib/python3.8/site-packages/IPython/extensions',\n",
       " '/Users/maozhongfu/.ipython',\n",
       " '/Users/maozhongfu/.vscode/extensions/ms-python.python-2020.10.332292344/pythonFiles/vscode_datascience_helpers/dataframes']"
      ]
     },
     "metadata": {},
     "execution_count": 55
    }
   ],
   "source": [
    "import sys\n",
    "\n",
    "sys.path"
   ]
  },
  {
   "cell_type": "code",
   "execution_count": 56,
   "metadata": {},
   "outputs": [
    {
     "output_type": "stream",
     "name": "stdout",
     "text": [
      "sys.path = [\n    '/Users/maozhongfu/GitHub/Python',\n    '/Users/maozhongfu/.vscode/extensions/ms-python.python-2020.10.332292344/pythonFiles',\n    '/Users/maozhongfu/.vscode/extensions/ms-python.python-2020.10.332292344/pythonFiles/lib/python',\n    '/Library/Frameworks/Python.framework/Versions/3.8/lib/python38.zip',\n    '/Library/Frameworks/Python.framework/Versions/3.8/lib/python3.8',\n    '/Library/Frameworks/Python.framework/Versions/3.8/lib/python3.8/lib-dynload',\n    '/Users/maozhongfu/Library/Python/3.8/lib/python/site-packages',\n    '/Library/Frameworks/Python.framework/Versions/3.8/lib/python3.8/site-packages',\n    '/Library/Frameworks/Python.framework/Versions/3.8/lib/python3.8/site-packages/aeosa',\n]\nUSER_BASE: '/Users/maozhongfu/Library/Python/3.8' (exists)\nUSER_SITE: '/Users/maozhongfu/Library/Python/3.8/lib/python/site-packages' (exists)\nENABLE_USER_SITE: True\n"
     ]
    }
   ],
   "source": [
    "!python3 -m site"
   ]
  },
  {
   "source": [
    "## 12. http server"
   ],
   "cell_type": "markdown",
   "metadata": {}
  },
  {
   "source": [
    "```shell\n",
    "cd <path> # シェアしたいフォルダまで移動\n",
    "ipconfig # 自分のipを把握他人に教える\n",
    "python3 -m http.server <port number> # port numberでサーバーを立ち上げる\n",
    "# その後 \"http://<ip adress>:<port number>\"でアクセルできる\n",
    "```"
   ],
   "cell_type": "markdown",
   "metadata": {}
  },
  {
   "source": [
    "## 13. pydoc"
   ],
   "cell_type": "markdown",
   "metadata": {}
  },
  {
   "source": [
    "```python\n",
    "python3 -m pydoc -p <port number>\n",
    "```"
   ],
   "cell_type": "markdown",
   "metadata": {}
  },
  {
   "source": [
    "## 14. \":=\" (python3.8以上)"
   ],
   "cell_type": "markdown",
   "metadata": {}
  },
  {
   "source": [
    "### if..else.."
   ],
   "cell_type": "markdown",
   "metadata": {}
  },
  {
   "cell_type": "code",
   "execution_count": 73,
   "metadata": {},
   "outputs": [
    {
     "output_type": "stream",
     "name": "stdout",
     "text": [
      "お酒を飲めてもいい\n"
     ]
    }
   ],
   "source": [
    "age = 22\n",
    "if age > 20:\n",
    "    print(\"お酒を飲めてもいい\")"
   ]
  },
  {
   "cell_type": "code",
   "execution_count": 74,
   "metadata": {},
   "outputs": [
    {
     "output_type": "stream",
     "name": "stdout",
     "text": [
      "お酒を飲めてもいい\n"
     ]
    }
   ],
   "source": [
    "if (age:=22) > 20:\n",
    "    print(\"お酒を飲めてもいい\")"
   ]
  },
  {
   "source": [
    "### while"
   ],
   "cell_type": "markdown",
   "metadata": {}
  },
  {
   "cell_type": "code",
   "execution_count": null,
   "metadata": {},
   "outputs": [],
   "source": [
    "file = open(\"demo.txt\", \"r\")\n",
    "while True:\n",
    "    line = file.readline()\n",
    "    if not line:\n",
    "        break\n",
    "    print(line.strip())"
   ]
  },
  {
   "cell_type": "code",
   "execution_count": null,
   "metadata": {},
   "outputs": [],
   "source": [
    "file = open(\"demo.txt\", \"r\")\n",
    "while (line := file.readline()):\n",
    "    print(line.strip())"
   ]
  },
  {
   "source": [
    "### comprehension"
   ],
   "cell_type": "markdown",
   "metadata": {}
  },
  {
   "cell_type": "code",
   "execution_count": null,
   "metadata": {},
   "outputs": [],
   "source": [
    "scores = [22,54,75,89]\n",
    "valid_scores = [\n",
    "   longFunction(n)\n",
    "   for n in scores\n",
    "   if longFunction(n) # longFunctionは2回実行される\n",
    "]"
   ]
  },
  {
   "cell_type": "code",
   "execution_count": null,
   "metadata": {},
   "outputs": [],
   "source": [
    "scores = [22,54,75,89]\n",
    "valid_scores = [\n",
    "   result for n in scores\n",
    "   result := longFunction(n) # 一回だけ\n",
    "]"
   ]
  },
  {
   "cell_type": "code",
   "execution_count": null,
   "metadata": {},
   "outputs": [],
   "source": [
    "## 15. "
   ]
  }
 ]
}