{
 "metadata": {
  "language_info": {
   "codemirror_mode": {
    "name": "ipython",
    "version": 3
   },
   "file_extension": ".py",
   "mimetype": "text/x-python",
   "name": "python",
   "nbconvert_exporter": "python",
   "pygments_lexer": "ipython3",
   "version": "3.8.6-final"
  },
  "orig_nbformat": 2,
  "kernelspec": {
   "name": "Python 3.8.6 64-bit",
   "display_name": "Python 3.8.6 64-bit",
   "metadata": {
    "interpreter": {
     "hash": "082e9a3bcad0a290d0001e938aa60b99250c6c2ef33a923c00b70f9826caf4b7"
    }
   }
  }
 },
 "nbformat": 4,
 "nbformat_minor": 2,
 "cells": [
  {
   "cell_type": "code",
   "execution_count": null,
   "metadata": {},
   "outputs": [],
   "source": [
    "from IPython.display import HTML"
   ]
  },
  {
   "cell_type": "code",
   "execution_count": 64,
   "metadata": {},
   "outputs": [
    {
     "output_type": "execute_result",
     "data": {
      "text/plain": [
       "<IPython.core.display.HTML object>"
      ],
      "text/html": "\n<table style=\"border: 2px solid black;\">\n    <tr>\n        <th style=\"text-align:center;\">分類</th>\n        <th style=\"text-align:center;\">コマンド</th>\n        <th style=\"text-align:center;\">説明</th>\n    </tr>\n    <tr>\n        <td rowspan=\"4\" style=\"text-align:center;\">サーチ</td>\n        <td style=\"text-align:left;\">pip list</td>\n        <td style=\"text-align:left;\">インストール済みパッケージ一覧</td>\n    </tr>\n    <tr>\n        <td style=\"text-align:left;\">pip search pkg</td>\n        <td style=\"text-align:left;\"><strong>pypi</strong>にて特定のpackageをサーチ</td>\n    </tr>\n    <tr>\n        <td style=\"text-align:left;\">pip show pkd</td>\n        <td style=\"text-align:left;\">パッケージの詳細</td>\n    </tr>\n    <tr>\n        <td style=\"text-align:left;\">pip list　--outdated</td>\n        <td style=\"text-align:left;\">アップデートできるパッケージ一覧</td>\n    </tr>\n    <tr>\n        <td rowspan=\"4\">ダウンロード</td>\n        <td style=\"text-align:left;\">pip download pkg</td>\n        <td style=\"text-align:left;\">現在のフォルダーに保存</td>\n    </tr>\n    <tr>\n        <td style=\"text-align:left;\">pip download pkg --destination-directory path</td>\n        <td style=\"text-align:left;\">パスを指定</td>\n    </tr>\n    <tr>\n        <td style=\"text-align:left;\">pip download -r requirements.txt</td>\n        <td style=\"text-align:left;\">配置ファイルを利用</td>\n    </tr>\n    <tr>\n        <td style=\"text-align:left;\">pip download --destination-directory path -r requirements.txt</td>\n        <td style=\"text-align:left;\">結合して利用</td>\n    </tr>\n    <tr>\n        <td rowspan=\"10\">インストール</td>\n        <td style=\"text-align:left;\">pip install pkg</td>\n        <td style=\"text-align:left;\">最新版をインストール</td>\n    </tr>\n    <tr>\n        <td style=\"text-align:left;\">pip install --no-index --find-links=path pkg</td>\n        <td style=\"text-align:left;\">ローカルからインストール</td>\n    </tr>\n    <tr>\n        <td style=\"text-align:left;\">pip install pkg==x.x.xx</td>\n        <td style=\"text-align:left;\">x.x.xxのバージョンを指定</td>\n    </tr>\n    <tr>\n        <td style=\"text-align:left;\">pip install pkg>=x.x.xx</td>\n        <td style=\"text-align:left;\">x.x.xx以上のバージョンを指定</td>\n    </tr>\n    <tr>\n        <td style=\"text-align:left;\">pip install pkg<=x.x.xx</td>\n        <td style=\"text-align:left;\">x.x.xx以下のバージョンを指定</td>\n    </tr>\n    <tr>\n        <td style=\"text-align:left;\">pip install -r requirement.txt</td>\n        <td style=\"text-align:left;\">配置ファイルを利用</td>\n    </tr>\n    <tr>\n        <td style=\"text-align:left;\">pip install pkg.zip</td>\n        <td style=\"text-align:left;\">wheelを使用しない</td>\n    </tr>\n    <tr>\n        <td style=\"text-align:left;\">pip install --user pkg</td>\n        <td style=\"text-align:left;\">現在のユーザーだけのためにインストール</td>\n    </tr>\n    <tr>\n        <td style=\"text-align:left;\">pip install --default-timeout=seconds pkg</td>\n        <td style=\"text-align:left;\">待つ時間を延長</td>\n    </tr>\n    <tr>\n        <td style=\"text-align:left;\">pip install --proxy [user:passwd]@http_server_ip:port <pkg name></td>\n        <td style=\"text-align:left;\">プロキシ</td>\n    </tr>\n    <tr>\n        <td style=\"text-align:center;\">アンインストール</td>\n        <td style=\"text-align:left;\">pip uninstall pkg</td>\n        <td style=\"text-align:left;\"></td>\n    </tr>\n    <tr>\n        <td style=\"text-align:center;\">アップグレード</td>\n        <td style=\"text-align:left;\">pip install --upgrade pkg</td>\n        <td style=\"text-align:left;\"></td>\n    </tr>\n</table>\n"
     },
     "metadata": {},
     "execution_count": 64
    }
   ],
   "source": [
    "HTML(\n",
    "\"\"\"\n",
    "<table style=\"border: 2px solid black;\">\n",
    "    <tr>\n",
    "        <th style=\"text-align:center;\">分類</th>\n",
    "        <th style=\"text-align:center;\">コマンド</th>\n",
    "        <th style=\"text-align:center;\">説明</th>\n",
    "    </tr>\n",
    "    <tr>\n",
    "        <td rowspan=\"4\" style=\"text-align:center;\">サーチ</td>\n",
    "        <td style=\"text-align:left;\">pip list</td>\n",
    "        <td style=\"text-align:left;\">インストール済みパッケージ一覧</td>\n",
    "    </tr>\n",
    "    <tr>\n",
    "        <td style=\"text-align:left;\">pip search pkg</td>\n",
    "        <td style=\"text-align:left;\"><strong>pypi</strong>にて特定のpackageをサーチ</td>\n",
    "    </tr>\n",
    "    <tr>\n",
    "        <td style=\"text-align:left;\">pip show pkd</td>\n",
    "        <td style=\"text-align:left;\">パッケージの詳細</td>\n",
    "    </tr>\n",
    "    <tr>\n",
    "        <td style=\"text-align:left;\">pip list　--outdated</td>\n",
    "        <td style=\"text-align:left;\">アップデートできるパッケージ一覧</td>\n",
    "    </tr>\n",
    "    <tr>\n",
    "        <td rowspan=\"4\">ダウンロード</td>\n",
    "        <td style=\"text-align:left;\">pip download pkg</td>\n",
    "        <td style=\"text-align:left;\">現在のフォルダーに保存</td>\n",
    "    </tr>\n",
    "    <tr>\n",
    "        <td style=\"text-align:left;\">pip download pkg --destination-directory path</td>\n",
    "        <td style=\"text-align:left;\">パスを指定</td>\n",
    "    </tr>\n",
    "    <tr>\n",
    "        <td style=\"text-align:left;\">pip download -r requirements.txt</td>\n",
    "        <td style=\"text-align:left;\">配置ファイルを利用</td>\n",
    "    </tr>\n",
    "    <tr>\n",
    "        <td style=\"text-align:left;\">pip download --destination-directory path -r requirements.txt</td>\n",
    "        <td style=\"text-align:left;\">結合して利用</td>\n",
    "    </tr>\n",
    "    <tr>\n",
    "        <td rowspan=\"10\">インストール</td>\n",
    "        <td style=\"text-align:left;\">pip install pkg</td>\n",
    "        <td style=\"text-align:left;\">最新版をインストール</td>\n",
    "    </tr>\n",
    "    <tr>\n",
    "        <td style=\"text-align:left;\">pip install --no-index --find-links=path pkg</td>\n",
    "        <td style=\"text-align:left;\">ローカルからインストール</td>\n",
    "    </tr>\n",
    "    <tr>\n",
    "        <td style=\"text-align:left;\">pip install pkg==x.x.xx</td>\n",
    "        <td style=\"text-align:left;\">x.x.xxのバージョンを指定</td>\n",
    "    </tr>\n",
    "    <tr>\n",
    "        <td style=\"text-align:left;\">pip install pkg>=x.x.xx</td>\n",
    "        <td style=\"text-align:left;\">x.x.xx以上のバージョンを指定</td>\n",
    "    </tr>\n",
    "    <tr>\n",
    "        <td style=\"text-align:left;\">pip install pkg<=x.x.xx</td>\n",
    "        <td style=\"text-align:left;\">x.x.xx以下のバージョンを指定</td>\n",
    "    </tr>\n",
    "    <tr>\n",
    "        <td style=\"text-align:left;\">pip install -r requirement.txt</td>\n",
    "        <td style=\"text-align:left;\">配置ファイルを利用</td>\n",
    "    </tr>\n",
    "    <tr>\n",
    "        <td style=\"text-align:left;\">pip install pkg.zip</td>\n",
    "        <td style=\"text-align:left;\">wheelを使用しない</td>\n",
    "    </tr>\n",
    "    <tr>\n",
    "        <td style=\"text-align:left;\">pip install --user pkg</td>\n",
    "        <td style=\"text-align:left;\">現在のユーザーだけのためにインストール</td>\n",
    "    </tr>\n",
    "    <tr>\n",
    "        <td style=\"text-align:left;\">pip install --default-timeout=seconds pkg</td>\n",
    "        <td style=\"text-align:left;\">待つ時間を延長</td>\n",
    "    </tr>\n",
    "    <tr>\n",
    "        <td style=\"text-align:left;\">pip install --proxy [user:passwd]@http_server_ip:port <pkg name></td>\n",
    "        <td style=\"text-align:left;\">プロキシ</td>\n",
    "    </tr>\n",
    "    <tr>\n",
    "        <td style=\"text-align:center;\">アンインストール</td>\n",
    "        <td style=\"text-align:left;\">pip uninstall pkg</td>\n",
    "        <td style=\"text-align:left;\"></td>\n",
    "    </tr>\n",
    "    <tr>\n",
    "        <td style=\"text-align:center;\">アップグレード</td>\n",
    "        <td style=\"text-align:left;\">pip install --upgrade pkg</td>\n",
    "        <td style=\"text-align:left;\"></td>\n",
    "    </tr>\n",
    "</table>\n",
    "\"\"\"\n",
    ")"
   ]
  },
  {
   "source": [
    "## コマンド一覧"
   ],
   "cell_type": "markdown",
   "metadata": {}
  },
  {
   "cell_type": "code",
   "execution_count": 48,
   "metadata": {},
   "outputs": [
    {
     "output_type": "stream",
     "name": "stdout",
     "text": [
      "\nUsage:   \n  pip <command> [options]\n\nCommands:\n  install                     Install packages.\n  download                    Download packages.\n  uninstall                   Uninstall packages.\n  freeze                      Output installed packages in requirements format.\n  list                        List installed packages.\n  show                        Show information about installed packages.\n  check                       Verify installed packages have compatible dependencies.\n  config                      Manage local and global configuration.\n  search                      Search PyPI for packages.\n  cache                       Inspect and manage pip's wheel cache.\n  wheel                       Build wheels from your requirements.\n  hash                        Compute hashes of package archives.\n  completion                  A helper command used for command completion.\n  debug                       Show information useful for debugging.\n  help                        Show help for commands.\n\nGeneral Options:\n  -h, --help                  Show help.\n  --isolated                  Run pip in an isolated mode, ignoring\n                              environment variables and user configuration.\n  -v, --verbose               Give more output. Option is additive, and can be\n                              used up to 3 times.\n  -V, --version               Show version and exit.\n  -q, --quiet                 Give less output. Option is additive, and can be\n                              used up to 3 times (corresponding to WARNING,\n                              ERROR, and CRITICAL logging levels).\n  --log <path>                Path to a verbose appending log.\n  --no-input                  Disable prompting for input.\n  --proxy <proxy>             Specify a proxy in the form\n                              [user:passwd@]proxy.server:port.\n  --retries <retries>         Maximum number of retries each connection should\n                              attempt (default 5 times).\n  --timeout <sec>             Set the socket timeout (default 15 seconds).\n  --exists-action <action>    Default action when a path already exists:\n                              (s)witch, (i)gnore, (w)ipe, (b)ackup, (a)bort.\n  --trusted-host <hostname>   Mark this host or host:port pair as trusted,\n                              even though it does not have valid or any HTTPS.\n  --cert <path>               Path to alternate CA bundle.\n  --client-cert <path>        Path to SSL client certificate, a single file\n                              containing the private key and the certificate\n                              in PEM format.\n  --cache-dir <dir>           Store the cache data in <dir>.\n  --no-cache-dir              Disable the cache.\n  --disable-pip-version-check\n                              Don't periodically check PyPI to determine\n                              whether a new version of pip is available for\n                              download. Implied with --no-index.\n  --no-color                  Suppress colored output\n  --no-python-version-warning\n                              Silence deprecation warnings for upcoming\n                              unsupported Pythons.\n  --use-feature <feature>     Enable new functionality, that may be backward\n                              incompatible.\n  --use-deprecated <feature>  Enable deprecated functionality, that will be\n                              removed in the future.\n"
     ]
    }
   ],
   "source": [
    "!pip"
   ]
  },
  {
   "source": [
    "## packageをサーチする"
   ],
   "cell_type": "markdown",
   "metadata": {}
  },
  {
   "source": [
    "### 現在の環境にインストールされるpackageの一覧表\n",
    "```python\n",
    "pip list\n",
    "```"
   ],
   "cell_type": "markdown",
   "metadata": {}
  },
  {
   "cell_type": "code",
   "execution_count": null,
   "metadata": {},
   "outputs": [],
   "source": [
    "!pip list"
   ]
  },
  {
   "source": [
    "### `pypi`にて特定のpackageをサーチする\n",
    "```python\n",
    "pip search <pkg name>\n",
    "```\n",
    "[pypi](https://pypi.org)"
   ],
   "cell_type": "markdown",
   "metadata": {}
  },
  {
   "cell_type": "code",
   "execution_count": null,
   "metadata": {},
   "outputs": [],
   "source": [
    "!pip search <pkg name>"
   ]
  },
  {
   "source": [
    "### 現在の環境にインストールされるpackageの中アップデートできるものの一覧\n",
    "```python\n",
    "pip list --out-dated\n",
    "```"
   ],
   "cell_type": "markdown",
   "metadata": {}
  },
  {
   "cell_type": "code",
   "execution_count": null,
   "metadata": {},
   "outputs": [],
   "source": [
    "!pip list --out-dated"
   ]
  },
  {
   "source": [
    "### packageの詳細を確認する\n",
    "```python\n",
    "pip show <pkg name>\n",
    "```"
   ],
   "cell_type": "markdown",
   "metadata": {}
  },
  {
   "cell_type": "code",
   "execution_count": null,
   "metadata": {},
   "outputs": [],
   "source": [
    "!pip show <pkg name>"
   ]
  },
  {
   "source": [
    "## packageをダウンロードする"
   ],
   "cell_type": "markdown",
   "metadata": {}
  },
  {
   "source": [
    "### packageをインストールせずにダウンロードする\n",
    "```python\n",
    "pip download <pkg name> # 現在のフォルダーに保存する\n",
    "pip download <pkg name> --destination-directory <path> # 指定のパスに保存する\n",
    "pip download -r requirements.txt # 配置ファイルを利用する\n",
    "pip download --destination-directory <path> -r requirements.txt # 結合して利用する\n",
    "```"
   ],
   "cell_type": "markdown",
   "metadata": {}
  },
  {
   "cell_type": "code",
   "execution_count": null,
   "metadata": {},
   "outputs": [],
   "source": [
    "!pip download <pkg name>"
   ]
  },
  {
   "cell_type": "code",
   "execution_count": null,
   "metadata": {},
   "outputs": [],
   "source": [
    "!pip download <pkg name> --destination-directory <path>"
   ]
  },
  {
   "cell_type": "code",
   "execution_count": null,
   "metadata": {},
   "outputs": [],
   "source": [
    "%%writefile requirements.txt\n",
    "pandas # 一つの例として"
   ]
  },
  {
   "cell_type": "code",
   "execution_count": null,
   "metadata": {},
   "outputs": [],
   "source": [
    "!pip download -r requirements.txt"
   ]
  },
  {
   "cell_type": "code",
   "execution_count": null,
   "metadata": {},
   "outputs": [],
   "source": [
    "!pip download <pkg name> --destination-directory <path> -r requirements.txt"
   ]
  },
  {
   "cell_type": "code",
   "execution_count": null,
   "metadata": {},
   "outputs": [],
   "source": [
    "!rm requirements.txt *.whl"
   ]
  },
  {
   "source": [
    "## [requirements.txtの書き方](https://note.nkmk.me/python-pip-install-requirements/)"
   ],
   "cell_type": "markdown",
   "metadata": {}
  },
  {
   "source": [
    "[pip install - Example Requirements File](https://pip.pypa.io/en/latest/reference/pip_install/#example-requirements-file)"
   ],
   "cell_type": "markdown",
   "metadata": {}
  },
  {
   "source": [
    "```python\n",
    "####### example-requirements.txt #######\n",
    "#\n",
    "###### Requirements without Version Specifiers ######\n",
    "nose\n",
    "nose-cov\n",
    "beautifulsoup4\n",
    "#\n",
    "###### Requirements with Version Specifiers ######\n",
    "#   See https://www.python.org/dev/peps/pep-0440/#version-specifiers\n",
    "docopt == 0.6.1             # Version Matching. Must be version 0.6.1\n",
    "keyring >= 4.1.1            # Minimum version 4.1.1\n",
    "coverage != 3.5             # Version Exclusion. Anything except version 3.5\n",
    "Mopidy-Dirble ~= 1.1        # Compatible release. Same as >= 1.1, == 1.*\n",
    "```"
   ],
   "cell_type": "markdown",
   "metadata": {}
  },
  {
   "source": [
    "* Pythonのコードと同じく#以降はコメント\n",
    "* ==や>, >=, <, <=などでバージョンを指定できる\n",
    "* バージョン指定を省略すると最新版がインストールされる\n",
    "* カンマ,で区切ると二つの条件をANDで指定できる"
   ],
   "cell_type": "markdown",
   "metadata": {}
  },
  {
   "source": [
    "`pip freeze`コマンドで現在の環境にインストールされたパッケージとバージョンが`pip install -r`で使える設定ファイルの形式で出力"
   ],
   "cell_type": "markdown",
   "metadata": {}
  },
  {
   "cell_type": "code",
   "execution_count": null,
   "metadata": {},
   "outputs": [],
   "source": [
    "!pip freeze"
   ]
  },
  {
   "source": [
    "したがって、`pip freeze`をリダイレクト`>`でファイルに出力すれば、  \n",
    "そのファイルを使って元の環境と同じバージョンのパッケージを別環境に一括でインストールできる"
   ],
   "cell_type": "markdown",
   "metadata": {}
  },
  {
   "cell_type": "code",
   "execution_count": null,
   "metadata": {},
   "outputs": [],
   "source": [
    "!pip freeze > requirements.txt"
   ]
  },
  {
   "source": [
    "## インストール"
   ],
   "cell_type": "markdown",
   "metadata": {}
  },
  {
   "source": [
    "普段の場合は、  `pip install <pkg name>`で`pypi`からサーチしてインストールできる"
   ],
   "cell_type": "markdown",
   "metadata": {}
  },
  {
   "source": [
    "### ローカルから\n",
    "```python\n",
    "pip install --no-index --find-links=<path> <pkg name>\n",
    "```"
   ],
   "cell_type": "markdown",
   "metadata": {}
  },
  {
   "cell_type": "code",
   "execution_count": null,
   "metadata": {},
   "outputs": [],
   "source": [
    "!pip install --no-index --find-links=<path> <pkg name>"
   ]
  },
  {
   "source": [
    "### バージョンを指定するのは上に`requirements.txtの書き方`の部分と同じ"
   ],
   "cell_type": "markdown",
   "metadata": {}
  },
  {
   "source": [
    "### バイナリファイルを利用しない(OSに依存しない)\n"
   ],
   "cell_type": "markdown",
   "metadata": {}
  },
  {
   "source": [
    "普通ダウンロードやインストールする時、`whl`ファイルを利用  \n",
    "`whl`ファイルの正体は`py`ファイルとコンパイル済みの`pyd`ファイルの**zip**ファイルである  \n",
    "[PEP427](https://www.python.org/dev/peps/pep-0427/)で定義された  \n",
    "コンパイル済みのため、プラットフォームに依存する  \n",
    "そこで、非バイナリファイルの登場"
   ],
   "cell_type": "markdown",
   "metadata": {}
  },
  {
   "source": [
    "例えば、自分は*MacOS*、*python3.8.6*で*numpy*をダウンロードしたら`pip download numpy`を実行後、  \n",
    "`numpy-1.19.3-cp38-cp38-macosx_10_9_x86_64.whl`というファイルをゲットする  \n",
    "このファイルは*Windows*や*Linux*にてインストールできない"
   ],
   "cell_type": "markdown",
   "metadata": {}
  },
  {
   "source": [
    "`pip download --no-binary=:all: numpy`を実行すると、\n",
    "```python\n",
    "Collecting numpy\n",
    "  Downloading numpy-1.19.3.zip (7.3 MB)\n",
    "     |████████████████████████████████| 7.3 MB 4.7 MB/s \n",
    "?25h  Installing build dependencies ... ?25ldone\n",
    "?25h  Getting requirements to build wheel ... ?25ldone\n",
    "?25h    Preparing wheel metadata ... ?25ldone\n",
    "?25h  Saved ./numpy-1.19.3.zip\n",
    "Successfully downloaded numpy\n",
    "```\n",
    "`num-1.19.3.zip`ファイルがダウンロードされる、解凍すると、中身は以下となる\n",
    "```bash\n",
    "INSTALL.rst.txt       benchmarks            runtests.py\n",
    "LICENSE.txt           doc                   setup.py\n",
    "MANIFEST.in           doc_requirements.txt  site.cfg.example\n",
    "PKG-INFO              numpy                 test_requirements.txt\n",
    "README.md             pyproject.toml        tools\n",
    "THANKS.txt            pytest.ini            tox.ini\n",
    "```\n",
    "インストールする時は、`pip install numpy-1.19.3.zip`のようにファイルを指定してインストール\n",
    "```python\n",
    "Processing ./numpy-1.19.3.zip\n",
    "  Installing build dependencies ... ?25ldone\n",
    "?25h  Getting requirements to build wheel ... ?25ldone\n",
    "?25h    Preparing wheel metadata ... ?25ldone\n",
    "?25hBuilding wheels for collected packages: numpy\n",
    "  Building wheel for numpy (PEP 517) ... ?25ldone\n",
    "?25h  Created wheel for numpy: filename=numpy-1.19.3-cp38-cp38-macosx_10_15_x86_64.whl size=4586582 sha256=e4e55141a3d91c9d00be8fe47493b9f1618c4445f0d02e9740c7ef148821f559\n",
    "  Stored in directory: /Users/maozhongfu/Library/Caches/pip/wheels/ba/78/20/049274e9c87361903181a8e143ab946747bb34f4b6fc63544a\n",
    "Successfully built numpy\n",
    "Installing collected packages: numpy\n",
    "  Attempting uninstall: numpy\n",
    "    Found existing installation: numpy 1.19.2\n",
    "    Uninstalling numpy-1.19.2:\n",
    "      Successfully uninstalled numpy-1.19.2\n",
    "ERROR: After October 2020 you may experience errors when installing or updating packages. This is because pip will change the way that it resolves dependency conflicts.\n",
    "\n",
    "We recommend you use --use-feature=2020-resolver to test your packages with the new resolver before it becomes the default.\n",
    "\n",
    "robotframework-ride 1.7.4.2 requires wxPython<=4.0.7.post2, but you'll have wxpython 4.1.0 which is incompatible.\n",
    "Successfully installed numpy-1.19.3\n",
    "```\n",
    "ご覧の通り、`Building wheels for collected packages: numpy`  \n",
    "コンパイルが必要(多少時間かかる)\n"
   ],
   "cell_type": "markdown",
   "metadata": {}
  },
  {
   "cell_type": "code",
   "execution_count": null,
   "metadata": {},
   "outputs": [],
   "source": [
    "### 特定のユーザに対してインストール(仮想環境の使用するいらない、これは普段使わない)\n",
    "```python\n",
    "pip install --user <pkg name>\n",
    "```"
   ]
  },
  {
   "cell_type": "code",
   "execution_count": null,
   "metadata": {},
   "outputs": [],
   "source": [
    "!pip install --user <pkg name>"
   ]
  },
  {
   "source": [
    "### 待つ時間を延長(ネットワークが不安定な時使用)\n",
    "```python\n",
    "pip install --default-timeout=<seconds> <pkg name>\n",
    "```"
   ],
   "cell_type": "markdown",
   "metadata": {}
  },
  {
   "cell_type": "code",
   "execution_count": null,
   "metadata": {},
   "outputs": [],
   "source": [
    "!pip install --default-timeout=<seconds> <pkg name>"
   ]
  },
  {
   "source": [
    "### プロキシを使用(外部のネットワークにアクセスできない時に使用)\n",
    "```python\n",
    "pip install --proxy [user:passwd]@http_server_ip:port <pkg name>\n",
    "```\n",
    "`SSL`の使用と同じ"
   ],
   "cell_type": "markdown",
   "metadata": {}
  },
  {
   "cell_type": "code",
   "execution_count": null,
   "metadata": {},
   "outputs": [],
   "source": [
    "!pip install --proxy [user:passwd]@http_server_ip:port <pkg name>"
   ]
  },
  {
   "source": [
    "## アンインストール"
   ],
   "cell_type": "markdown",
   "metadata": {}
  },
  {
   "cell_type": "code",
   "execution_count": null,
   "metadata": {},
   "outputs": [],
   "source": [
    "```python\n",
    "pip uninstall <pkg name>\n",
    "```"
   ]
  },
  {
   "cell_type": "code",
   "execution_count": null,
   "metadata": {},
   "outputs": [],
   "source": [
    "!pip uninstall <pkg name>"
   ]
  },
  {
   "source": [
    "## アップグレード"
   ],
   "cell_type": "markdown",
   "metadata": {}
  },
  {
   "cell_type": "code",
   "execution_count": null,
   "metadata": {},
   "outputs": [],
   "source": [
    "```python\n",
    "pip install --upgrade <pkg name>\n",
    "```"
   ]
  },
  {
   "cell_type": "code",
   "execution_count": null,
   "metadata": {},
   "outputs": [],
   "source": [
    "!pip install --upgrade <pkg name>"
   ]
  },
  {
   "cell_type": "code",
   "execution_count": null,
   "metadata": {},
   "outputs": [],
   "source": [
    "アップグレードの本質はアンインストールしてから最新版をインストール、  \n",
    "故にコマンドは`install`のまま、パラメータとして`--upgrade`を追加した  \n",
    "アップグレードする際、`--upgrade-strategy`というパラメータがある  \n",
    "選択肢は二つ\n",
    "* `eager`　依存パッケージ全部アップグレード\n",
    "* `only-if-need`(default)　必要な時だけ依存パッケージをアップグレード"
   ]
  },
  {
   "source": [
    "### バッチアップグレード\n"
   ],
   "cell_type": "markdown",
   "metadata": {}
  },
  {
   "source": [
    "方法１：`pip-review`を使用\n",
    "\n",
    "```bash\n",
    "# アップグレードできるパッケージ一覧を確認\n",
    "pip list  --outdated --format=columns\n",
    "# バッチ処理\n",
    "pip install pip-review\n",
    "pip-review --local --interactive\n",
    "```"
   ],
   "cell_type": "markdown",
   "metadata": {}
  },
  {
   "source": [
    "方法２：Pythonスクリプトを使用\n",
    "```python\n",
    "import pip\n",
    "from subprocess import call\n",
    "from pip._internal.utils.misc import get_installed_distributions\n",
    "\n",
    "for dist in get_installed_distributions():\n",
    "    call(\"pip install --upgrade \" + dist.project_name, shell=True)\n",
    "```\n"
   ],
   "cell_type": "markdown",
   "metadata": {}
  },
  {
   "source": [
    "## `pip.ini`ファイルを使用"
   ],
   "cell_type": "markdown",
   "metadata": {}
  },
  {
   "source": [
    "毎回コマンドを打つ時は、パラメータを入力する必要(例えばSSL対応のための`--trusted-host`)が面倒臭いと思うなら  \n",
    "`pip.ini`を利用すると便利\n",
    "\n",
    "手順：\n",
    "1. `win+r` -> `%APPDATA%`実行(C:\\Users\\xx\\AppData を開く)\n",
    "2. `pip`というフォルダがないなら、作る\n",
    "3. `pip`フォルダの中に、`pip.ini`というファイルを作る\n",
    "4. 編集する\n",
    "\n",
    "```ini\n",
    "[global]\n",
    "index-url = <url> 　# pypiにアクセスづらい時に設定\n",
    "proxy=<url> # 外部のネットワークにアクセスできない時に設定\n",
    "\n",
    "[https]\n",
    "verify=enable\n",
    "\n",
    "[install]\n",
    "trusted-host = pypi.python.org\n",
    "               pypi.org\n",
    "               files.pythonhosted.org　# SSL対応\n",
    "find-links = <path>\n",
    "```"
   ],
   "cell_type": "markdown",
   "metadata": {}
  },
  {
   "cell_type": "code",
   "execution_count": null,
   "metadata": {},
   "outputs": [],
   "source": []
  }
 ]
}