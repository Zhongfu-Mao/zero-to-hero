{
 "cells": [
  {
   "source": [
    "参考資料\n",
    "* [PyMOTW](https://pymotw.com/3/re/index.html)\n",
    "* [正規表現HOWTO](https://docs.python.org/ja/3/howto/regex.html)\n",
    "* [re](https://docs.python.org/ja/3/library/re.html)\n",
    "* [Pythonの正規表現モジュールreの使い方](https://note.nkmk.me/python-re-match-search-findall-etc/)\n",
    "* [前提知識](https://github.com/ziishaned/learn-regex/blob/master/translations/README-ja.md)"
   ],
   "cell_type": "markdown",
   "metadata": {}
  },
  {
   "source": [
    "## search()"
   ],
   "cell_type": "markdown",
   "metadata": {}
  },
  {
   "cell_type": "code",
   "execution_count": 7,
   "metadata": {},
   "outputs": [
    {
     "output_type": "stream",
     "name": "stdout",
     "text": [
      "Found \"this\"\n in \"Does this text match the pattern?\"\n from 5 to 9 (\"this\")\n"
     ]
    }
   ],
   "source": [
    "import re\n",
    "\n",
    "pattern = 'this'\n",
    "text = 'Does this text match the pattern?'\n",
    "\n",
    "match = re.search(pattern, text) # 見つからない場合は、Noneを戻す\n",
    "\n",
    "s = match.start()\n",
    "e = match.end()\n",
    "\n",
    "print(f'Found \"{match.re.pattern}\"\\n',\n",
    "      f'in \"{match.string}\"\\n', # 元の情報を持っている\n",
    "      f'from {s} to {e} (\"{text[s:e]}\")')"
   ]
  },
  {
   "source": [
    "## compile()"
   ],
   "cell_type": "markdown",
   "metadata": {}
  },
  {
   "cell_type": "code",
   "execution_count": 9,
   "metadata": {},
   "outputs": [
    {
     "output_type": "stream",
     "name": "stdout",
     "text": [
      "Text: 'Does this text match the pattern?'\n\nSeeking \"this\" -> match!\nSeeking \"that\" -> no match\n"
     ]
    }
   ],
   "source": [
    "import re\n",
    "\n",
    "# パターンを事前にコンパイルする\n",
    "regexes = [\n",
    "    re.compile(p) # RegexObject\n",
    "    for p in ['this', 'that']\n",
    "]\n",
    "text = 'Does this text match the pattern?'\n",
    "\n",
    "print(f'Text: {text!r}\\n')\n",
    "\n",
    "for regex in regexes:\n",
    "    print(f'Seeking \"{regex.pattern}\" ->', end=' ')\n",
    "\n",
    "    if regex.search(text):\n",
    "        print('match!')\n",
    "    else:\n",
    "        print('no match')"
   ]
  },
  {
   "source": [
    "## findall()"
   ],
   "cell_type": "markdown",
   "metadata": {}
  },
  {
   "cell_type": "code",
   "execution_count": 11,
   "metadata": {},
   "outputs": [
    {
     "output_type": "stream",
     "name": "stdout",
     "text": [
      "Found 'ab'\nFound 'ab'\n"
     ]
    }
   ],
   "source": [
    "import re\n",
    "\n",
    "text = 'abbaaabbbbaaaaa'\n",
    "\n",
    "pattern = 'ab'\n",
    "\n",
    "for match in re.findall(pattern, text):\n",
    "    print(f'Found {match!r}')"
   ]
  },
  {
   "source": [
    "## finditer()"
   ],
   "cell_type": "markdown",
   "metadata": {}
  },
  {
   "cell_type": "code",
   "execution_count": 18,
   "metadata": {},
   "outputs": [
    {
     "output_type": "stream",
     "name": "stdout",
     "text": [
      "Found 'ab' at 0:2\nFound 'ab' at 5:7\n"
     ]
    }
   ],
   "source": [
    "import re\n",
    "\n",
    "text = 'abbaaabbbbaaaaa'\n",
    "\n",
    "pattern = 'ab'\n",
    "\n",
    "for match in re.finditer(pattern, text):\n",
    "    s = match.start()\n",
    "    e = match.end()\n",
    "    print(f'Found {text[s:e]!r} at {s}:{e}')"
   ]
  },
  {
   "source": [
    "## パターンの文法"
   ],
   "cell_type": "markdown",
   "metadata": {}
  },
  {
   "source": [
    "### 重複"
   ],
   "cell_type": "markdown",
   "metadata": {}
  },
  {
   "cell_type": "code",
   "execution_count": 22,
   "metadata": {},
   "outputs": [
    {
     "output_type": "stream",
     "name": "stdout",
     "text": [
      "'ab*' (a followed by zero or more b)\n\n  'abbaabbba'\n  'abb'\n  ...'a'\n  ....'abbb'\n  ........'a'\n\n'ab+' (a followed by one or more b)\n\n  'abbaabbba'\n  'abb'\n  ....'abbb'\n\n'ab?' (a followed by zero or one b)\n\n  'abbaabbba'\n  'ab'\n  ...'a'\n  ....'ab'\n  ........'a'\n\n'ab{3}' (a followed by three b)\n\n  'abbaabbba'\n  ....'abbb'\n\n'ab{2,3}' (a followed by two to three b)\n\n  'abbaabbba'\n  'abb'\n  ....'abbb'\n\n"
     ]
    }
   ],
   "source": [
    "def test_patterns(text, patterns):\n",
    "    \"\"\"テキストからパターンに合わせるものをサーチして出力する\"\"\"\n",
    "    for pattern, desc in patterns:\n",
    "        print(f\"'{pattern}' ({desc})\\n\")\n",
    "        print(f\"  '{text}'\")\n",
    "        for match in re.finditer(pattern, text):\n",
    "            s = match.start()\n",
    "            e = match.end()\n",
    "            substr = text[s:e]\n",
    "            n_backslashes = text[:s].count('\\\\')\n",
    "            prefix = '.' * (s + n_backslashes)\n",
    "            print(f\"  {prefix}'{substr}'\")\n",
    "        print()\n",
    "    return\n",
    "\n",
    "\n",
    "test_patterns(\n",
    "    'abbaabbba',\n",
    "    [('ab*', 'a followed by zero or more b'),\n",
    "     ('ab+', 'a followed by one or more b'),\n",
    "     ('ab?', 'a followed by zero or one b'),\n",
    "     ('ab{3}', 'a followed by three b'),\n",
    "     ('ab{2,3}', 'a followed by two to three b')],\n",
    ")"
   ]
  },
  {
   "cell_type": "code",
   "execution_count": 23,
   "metadata": {},
   "outputs": [
    {
     "output_type": "stream",
     "name": "stdout",
     "text": [
      "'ab*?' (a followed by zero or more b)\n\n  'abbaabbba'\n  'a'\n  ...'a'\n  ....'a'\n  ........'a'\n\n'ab+?' (a followed by one or more b)\n\n  'abbaabbba'\n  'ab'\n  ....'ab'\n\n'ab??' (a followed by zero or one b)\n\n  'abbaabbba'\n  'a'\n  ...'a'\n  ....'a'\n  ........'a'\n\n'ab{3}?' (a followed by three b)\n\n  'abbaabbba'\n  ....'abbb'\n\n'ab{2,3}?' (a followed by two to three b)\n\n  'abbaabbba'\n  'abb'\n  ....'abb'\n\n"
     ]
    }
   ],
   "source": [
    "# 非貪欲版\n",
    "test_patterns(\n",
    "    'abbaabbba',\n",
    "    [('ab*?', 'a followed by zero or more b'),\n",
    "     ('ab+?', 'a followed by one or more b'),\n",
    "     ('ab??', 'a followed by zero or one b'),\n",
    "     ('ab{3}?', 'a followed by three b'),\n",
    "     ('ab{2,3}?', 'a followed by two to three b')],\n",
    ")"
   ]
  },
  {
   "source": [
    "### 文字セット"
   ],
   "cell_type": "markdown",
   "metadata": {}
  },
  {
   "cell_type": "code",
   "execution_count": 25,
   "metadata": {},
   "outputs": [
    {
     "output_type": "stream",
     "name": "stdout",
     "text": [
      "'[ab]' (either a or b)\n\n  'abbaabbba'\n  'a'\n  .'b'\n  ..'b'\n  ...'a'\n  ....'a'\n  .....'b'\n  ......'b'\n  .......'b'\n  ........'a'\n\n'a[ab]+' (a followed by 1 or more a or b)\n\n  'abbaabbba'\n  'abbaabbba'\n\n'a[ab]+?' (a followed by 1 or more a or b, not greedy)\n\n  'abbaabbba'\n  'ab'\n  ...'aa'\n\n"
     ]
    }
   ],
   "source": [
    "test_patterns(\n",
    "    'abbaabbba',\n",
    "    [('[ab]', 'either a or b'),\n",
    "     ('a[ab]+', 'a followed by 1 or more a or b'),\n",
    "     ('a[ab]+?', 'a followed by 1 or more a or b, not greedy')],\n",
    ")"
   ]
  },
  {
   "cell_type": "code",
   "execution_count": 26,
   "metadata": {},
   "outputs": [
    {
     "output_type": "stream",
     "name": "stdout",
     "text": [
      "'[^-. ]+' (sequences without -, ., or space)\n\n  'This is some text -- with punctuation.'\n  'This'\n  .....'is'\n  ........'some'\n  .............'text'\n  .....................'with'\n  ..........................'punctuation'\n\n"
     ]
    }
   ],
   "source": [
    "test_patterns(\n",
    "    'This is some text -- with punctuation.',\n",
    "    [('[^-. ]+', 'sequences without -, ., or space')],\n",
    ")"
   ]
  },
  {
   "cell_type": "code",
   "execution_count": 27,
   "metadata": {},
   "outputs": [
    {
     "output_type": "stream",
     "name": "stdout",
     "text": [
      "'[a-z]+' (sequences of lowercase letters)\n\n  'This is some text -- with punctuation.'\n  .'his'\n  .....'is'\n  ........'some'\n  .............'text'\n  .....................'with'\n  ..........................'punctuation'\n\n'[A-Z]+' (sequences of uppercase letters)\n\n  'This is some text -- with punctuation.'\n  'T'\n\n'[a-zA-Z]+' (sequences of letters of either case)\n\n  'This is some text -- with punctuation.'\n  'This'\n  .....'is'\n  ........'some'\n  .............'text'\n  .....................'with'\n  ..........................'punctuation'\n\n'[A-Z][a-z]+' (one uppercase followed by lowercase)\n\n  'This is some text -- with punctuation.'\n  'This'\n\n"
     ]
    }
   ],
   "source": [
    "test_patterns(\n",
    "    'This is some text -- with punctuation.',\n",
    "    [('[a-z]+', 'sequences of lowercase letters'),\n",
    "     ('[A-Z]+', 'sequences of uppercase letters'),\n",
    "     ('[a-zA-Z]+', 'sequences of letters of either case'),\n",
    "     ('[A-Z][a-z]+', 'one uppercase followed by lowercase')],\n",
    ")"
   ]
  },
  {
   "cell_type": "code",
   "execution_count": 28,
   "metadata": {},
   "outputs": [
    {
     "output_type": "stream",
     "name": "stdout",
     "text": [
      "'a.' (a followed by any one character)\n\n  'abbaabbba'\n  'ab'\n  ...'aa'\n\n'b.' (b followed by any one character)\n\n  'abbaabbba'\n  .'bb'\n  .....'bb'\n  .......'ba'\n\n'a.*b' (a followed by anything, ending in b)\n\n  'abbaabbba'\n  'abbaabbb'\n\n'a.*?b' (a followed by anything, ending in b)\n\n  'abbaabbba'\n  'ab'\n  ...'aab'\n\n"
     ]
    }
   ],
   "source": [
    "test_patterns(\n",
    "    'abbaabbba',\n",
    "    [('a.', 'a followed by any one character'),\n",
    "     ('b.', 'b followed by any one character'),\n",
    "     ('a.*b', 'a followed by anything, ending in b'),\n",
    "     ('a.*?b', 'a followed by anything, ending in b')],\n",
    ")"
   ]
  },
  {
   "source": [
    "### エスケープコード"
   ],
   "cell_type": "markdown",
   "metadata": {}
  },
  {
   "source": [
    "|コード|意味|\n",
    "| --- | --- |\n",
    "|\\d|数字|\n",
    "|\\D|数字以外|\n",
    "|\\s|ホワイトスペース|\n",
    "|\\S|ホワイトスペース以外|\n",
    "|\\w|アルファベットと数字|\n",
    "|\\W|アルファベットと数字以外|"
   ],
   "cell_type": "markdown",
   "metadata": {}
  },
  {
   "cell_type": "code",
   "execution_count": 30,
   "metadata": {},
   "outputs": [
    {
     "output_type": "stream",
     "name": "stdout",
     "text": [
      "'\\d+' (sequence of digits)\n\n  'A prime #1 example!'\n  .........'1'\n\n'\\D+' (sequence of non-digits)\n\n  'A prime #1 example!'\n  'A prime #'\n  ..........' example!'\n\n'\\s+' (sequence of whitespace)\n\n  'A prime #1 example!'\n  .' '\n  .......' '\n  ..........' '\n\n'\\S+' (sequence of non-whitespace)\n\n  'A prime #1 example!'\n  'A'\n  ..'prime'\n  ........'#1'\n  ...........'example!'\n\n'\\w+' (alphanumeric characters)\n\n  'A prime #1 example!'\n  'A'\n  ..'prime'\n  .........'1'\n  ...........'example'\n\n'\\W+' (non-alphanumeric)\n\n  'A prime #1 example!'\n  .' '\n  .......' #'\n  ..........' '\n  ..................'!'\n\n"
     ]
    }
   ],
   "source": [
    "test_patterns(\n",
    "    'A prime #1 example!',\n",
    "    [(r'\\d+', 'sequence of digits'),\n",
    "     (r'\\D+', 'sequence of non-digits'),\n",
    "     (r'\\s+', 'sequence of whitespace'),\n",
    "     (r'\\S+', 'sequence of non-whitespace'),\n",
    "     (r'\\w+', 'alphanumeric characters'),\n",
    "     (r'\\W+', 'non-alphanumeric')],\n",
    ")"
   ]
  },
  {
   "cell_type": "code",
   "execution_count": 31,
   "metadata": {},
   "outputs": [
    {
     "output_type": "stream",
     "name": "stdout",
     "text": [
      "'\\\\.\\+' (escape code)\n\n  '\\d+ \\D+ \\s+'\n  '\\d+'\n  .....'\\D+'\n  ..........'\\s+'\n\n"
     ]
    }
   ],
   "source": [
    "test_patterns(\n",
    "    r'\\d+ \\D+ \\s+',\n",
    "    [(r'\\\\.\\+', 'escape code')],\n",
    ")"
   ]
  },
  {
   "source": [
    "### 定着"
   ],
   "cell_type": "markdown",
   "metadata": {}
  },
  {
   "source": [
    "|コード|意味|\n",
    "| --- | --- |\n",
    "| ^ | 文字列や一行のスタート |\n",
    "| $ | 文字列や一行のエンド |\n",
    "| \\A | 文字列のスタート |\n",
    "| \\Z | 文字列のエンド |\n",
    "| \\b | 単語の先頭か末尾の空文字列 |\n",
    "| \\B | 単語の先頭か末尾以外の空文字列 |"
   ],
   "cell_type": "markdown",
   "metadata": {}
  },
  {
   "cell_type": "code",
   "execution_count": 33,
   "metadata": {},
   "outputs": [
    {
     "output_type": "stream",
     "name": "stdout",
     "text": [
      "'^\\w+' (word at start of string)\n\n  'This is some text -- with punctuation.'\n  'This'\n\n'\\A\\w+' (word at start of string)\n\n  'This is some text -- with punctuation.'\n  'This'\n\n'\\w+\\S*$' (word near end of string)\n\n  'This is some text -- with punctuation.'\n  ..........................'punctuation.'\n\n'\\w+\\S*\\Z' (word near end of string)\n\n  'This is some text -- with punctuation.'\n  ..........................'punctuation.'\n\n'\\w*t\\w*' (word containing t)\n\n  'This is some text -- with punctuation.'\n  .............'text'\n  .....................'with'\n  ..........................'punctuation'\n\n'\\bt\\w+' (t at start of word)\n\n  'This is some text -- with punctuation.'\n  .............'text'\n\n'\\w+t\\b' (t at end of word)\n\n  'This is some text -- with punctuation.'\n  .............'text'\n\n'\\Bt\\B' (t, not start or end of word)\n\n  'This is some text -- with punctuation.'\n  .......................'t'\n  ..............................'t'\n  .................................'t'\n\n"
     ]
    }
   ],
   "source": [
    "test_patterns(\n",
    "    'This is some text -- with punctuation.',\n",
    "    [(r'^\\w+', 'word at start of string'),\n",
    "     (r'\\A\\w+', 'word at start of string'),\n",
    "     (r'\\w+\\S*$', 'word near end of string'),\n",
    "     (r'\\w+\\S*\\Z', 'word near end of string'),\n",
    "     (r'\\w*t\\w*', 'word containing t'),\n",
    "     (r'\\bt\\w+', 't at start of word'),\n",
    "     (r'\\w+t\\b', 't at end of word'),\n",
    "     (r'\\Bt\\B', 't, not start or end of word')],\n",
    ")"
   ]
  },
  {
   "source": [
    "## Groups"
   ],
   "cell_type": "markdown",
   "metadata": {}
  },
  {
   "cell_type": "code",
   "execution_count": 35,
   "metadata": {},
   "outputs": [
    {
     "output_type": "stream",
     "name": "stdout",
     "text": [
      "'a(ab)' (a followed by literal ab)\n\n  'abbaaabbbbaaaaa'\n  ....'aab'\n\n'a(a*b*)' (a followed by 0-n a and 0-n b)\n\n  'abbaaabbbbaaaaa'\n  'abb'\n  ...'aaabbbb'\n  ..........'aaaaa'\n\n'a(ab)*' (a followed by 0-n ab)\n\n  'abbaaabbbbaaaaa'\n  'a'\n  ...'a'\n  ....'aab'\n  ..........'a'\n  ...........'a'\n  ............'a'\n  .............'a'\n  ..............'a'\n\n'a(ab)+' (a followed by 1-n ab)\n\n  'abbaaabbbbaaaaa'\n  ....'aab'\n\n"
     ]
    }
   ],
   "source": [
    "test_patterns(\n",
    "    'abbaaabbbbaaaaa',\n",
    "    [('a(ab)', 'a followed by literal ab'),\n",
    "     ('a(a*b*)', 'a followed by 0-n a and 0-n b'),\n",
    "     ('a(ab)*', 'a followed by 0-n ab'),\n",
    "     ('a(ab)+', 'a followed by 1-n ab')],\n",
    ")"
   ]
  },
  {
   "cell_type": "code",
   "execution_count": 36,
   "metadata": {},
   "outputs": [
    {
     "output_type": "stream",
     "name": "stdout",
     "text": [
      "This is some text -- with punctuation.\n\n'^(\\w+)' (word at start of string)\n\n   ('This',)\n\n'(\\w+)\\S*$' (word at end, with optional punctuation)\n\n   ('punctuation',)\n\n'(\\bt\\w+)\\W+(\\w+)' (word starting with t, another word)\n\n   ('text', 'with')\n\n'(\\w+t)\\b' (word ending with t)\n\n   ('text',)\n\n"
     ]
    }
   ],
   "source": [
    "import re\n",
    "\n",
    "text = 'This is some text -- with punctuation.'\n",
    "\n",
    "print(text)\n",
    "print()\n",
    "\n",
    "patterns = [\n",
    "    (r'^(\\w+)', 'word at start of string'),\n",
    "    (r'(\\w+)\\S*$', 'word at end, with optional punctuation'),\n",
    "    (r'(\\bt\\w+)\\W+(\\w+)', 'word starting with t, another word'),\n",
    "    (r'(\\w+t)\\b', 'word ending with t'),\n",
    "]\n",
    "\n",
    "for pattern, desc in patterns:\n",
    "    regex = re.compile(pattern)\n",
    "    match = regex.search(text)\n",
    "    print(f\"'{pattern}' ({desc})\\n\")\n",
    "    print('  ', match.groups())\n",
    "    print()"
   ]
  },
  {
   "cell_type": "code",
   "execution_count": 37,
   "metadata": {},
   "outputs": [
    {
     "output_type": "stream",
     "name": "stdout",
     "text": [
      "Input text            : This is some text -- with punctuation.\nPattern               : (\\bt\\w+)\\W+(\\w+)\nEntire match          : text -- with\nWord starting with \"t\": text\nWord after \"t\" word   : with\n"
     ]
    }
   ],
   "source": [
    "import re\n",
    "\n",
    "text = 'This is some text -- with punctuation.'\n",
    "\n",
    "print('Input text            :', text)\n",
    "\n",
    "regex = re.compile(r'(\\bt\\w+)\\W+(\\w+)')\n",
    "print('Pattern               :', regex.pattern)\n",
    "\n",
    "match = regex.search(text)\n",
    "print('Entire match          :', match.group(0))\n",
    "print('Word starting with \"t\":', match.group(1))\n",
    "print('Word after \"t\" word   :', match.group(2))"
   ]
  },
  {
   "cell_type": "code",
   "execution_count": 39,
   "metadata": {},
   "outputs": [
    {
     "output_type": "stream",
     "name": "stdout",
     "text": [
      "This is some text -- with punctuation.\n\n'^(?P<first_word>\\w+)'\n   ('This',)\n   {'first_word': 'This'}\n\n'(?P<last_word>\\w+)\\S*$'\n   ('punctuation',)\n   {'last_word': 'punctuation'}\n\n'(?P<t_word>\\bt\\w+)\\W+(?P<other_word>\\w+)'\n   ('text', 'with')\n   {'t_word': 'text', 'other_word': 'with'}\n\n'(?P<ends_with_t>\\w+t)\\b'\n   ('text',)\n   {'ends_with_t': 'text'}\n\n"
     ]
    }
   ],
   "source": [
    "import re\n",
    "\n",
    "text = 'This is some text -- with punctuation.'\n",
    "\n",
    "print(text)\n",
    "print()\n",
    "\n",
    "patterns = [\n",
    "    r'^(?P<first_word>\\w+)',\n",
    "    r'(?P<last_word>\\w+)\\S*$',\n",
    "    r'(?P<t_word>\\bt\\w+)\\W+(?P<other_word>\\w+)',\n",
    "    r'(?P<ends_with_t>\\w+t)\\b',\n",
    "]\n",
    "\n",
    "for pattern in patterns:\n",
    "    regex = re.compile(pattern)\n",
    "    match = regex.search(text)\n",
    "    print(f\"'{pattern}'\")\n",
    "    print('  ', match.groups())\n",
    "    print('  ', match.groupdict())\n",
    "    print()"
   ]
  },
  {
   "cell_type": "code",
   "execution_count": 41,
   "metadata": {},
   "outputs": [],
   "source": [
    "def test_patterns(text, patterns):\n",
    "    \"\"\"テキストからパターンに合わせるものをサーチして出力する\"\"\"\n",
    "    for pattern, desc in patterns:\n",
    "        print(f'{pattern!r} ({desc})\\n')\n",
    "        print(f'  {text!r}')\n",
    "        for match in re.finditer(pattern, text):\n",
    "            s = match.start()\n",
    "            e = match.end()\n",
    "            prefix = ' ' * (s)\n",
    "            print(\n",
    "                f'  {prefix}{text[s:e]!r}{\" \" * (len(text) - e)} ',\n",
    "                end=' ',\n",
    "            )\n",
    "            print(match.groups())\n",
    "            if match.groupdict():\n",
    "                print(f'{\" \" * (len(text) - s)}{match.groupdict()}')\n",
    "        print()\n",
    "    return"
   ]
  },
  {
   "cell_type": "code",
   "execution_count": 42,
   "metadata": {},
   "outputs": [
    {
     "output_type": "stream",
     "name": "stdout",
     "text": [
      "'a((a*)(b*))' (a followed by 0-n a and 0-n b)\n\n  'abbaabbba'\n  'abb'        ('bb', '', 'bb')\n     'aabbb'   ('abbb', 'a', 'bbb')\n          'a'  ('', '', '')\n\n"
     ]
    }
   ],
   "source": [
    "test_patterns(\n",
    "    'abbaabbba',\n",
    "    [(r'a((a*)(b*))', 'a followed by 0-n a and 0-n b')],\n",
    ")"
   ]
  },
  {
   "cell_type": "code",
   "execution_count": 43,
   "metadata": {},
   "outputs": [
    {
     "output_type": "stream",
     "name": "stdout",
     "text": [
      "'a((a+)|(b+))' (a then seq. of a or seq. of b)\n\n  'abbaabbba'\n  'abb'        ('bb', None, 'bb')\n     'aa'      ('a', 'a', None)\n\n'a((a|b)+)' (a then seq. of [ab])\n\n  'abbaabbba'\n  'abbaabbba'  ('bbaabbba', 'a')\n\n"
     ]
    }
   ],
   "source": [
    "test_patterns(\n",
    "    'abbaabbba',\n",
    "    [(r'a((a+)|(b+))', 'a then seq. of a or seq. of b'),\n",
    "     (r'a((a|b)+)', 'a then seq. of [ab]')],\n",
    ")"
   ]
  },
  {
   "cell_type": "code",
   "execution_count": 44,
   "metadata": {},
   "outputs": [
    {
     "output_type": "stream",
     "name": "stdout",
     "text": [
      "'a((a+)|(b+))' (capturing form)\n\n  'abbaabbba'\n  'abb'        ('bb', None, 'bb')\n     'aa'      ('a', 'a', None)\n\n'a((?:a+)|(?:b+))' (noncapturing)\n\n  'abbaabbba'\n  'abb'        ('bb',)\n     'aa'      ('a',)\n\n"
     ]
    }
   ],
   "source": [
    "test_patterns(\n",
    "    'abbaabbba',\n",
    "    [(r'a((a+)|(b+))', 'capturing form'),\n",
    "     (r'a((?:a+)|(?:b+))', 'noncapturing')],\n",
    ")"
   ]
  },
  {
   "source": [
    "## サーチの選択肢"
   ],
   "cell_type": "markdown",
   "metadata": {}
  },
  {
   "source": [
    "### 大文字小文字非敏感"
   ],
   "cell_type": "markdown",
   "metadata": {}
  },
  {
   "cell_type": "code",
   "execution_count": 47,
   "metadata": {},
   "outputs": [
    {
     "output_type": "stream",
     "name": "stdout",
     "text": [
      "Text:\n  'This is some text -- with punctuation.'\nPattern:\n  \\bT\\w+\nCase-sensitive:\n  'This'\nCase-insensitive:\n  'This'\n  'text'\n"
     ]
    }
   ],
   "source": [
    "import re\n",
    "\n",
    "text = 'This is some text -- with punctuation.'\n",
    "pattern = r'\\bT\\w+'\n",
    "with_case = re.compile(pattern)\n",
    "without_case = re.compile(pattern, re.IGNORECASE)\n",
    "\n",
    "print(f'Text:\\n  {text!r}')\n",
    "print(f'Pattern:\\n  {pattern}')\n",
    "print('Case-sensitive:')\n",
    "for match in with_case.findall(text):\n",
    "    print(f'  {match!r}')\n",
    "print('Case-insensitive:')\n",
    "for match in without_case.findall(text):\n",
    "    print(f'  {match!r}')"
   ]
  },
  {
   "source": [
    "### 複数行"
   ],
   "cell_type": "markdown",
   "metadata": {}
  },
  {
   "cell_type": "code",
   "execution_count": 49,
   "metadata": {},
   "outputs": [
    {
     "output_type": "stream",
     "name": "stdout",
     "text": [
      "Text:\n  'This is some text -- with punctuation.\\nA second line.'\nPattern:\n  (^\\w+)|(\\w+\\S*$)\nSingle Line :\n  ('This', '')\n  ('', 'line.')\nMultline    :\n  ('This', '')\n  ('', 'punctuation.')\n  ('A', '')\n  ('', 'line.')\n"
     ]
    }
   ],
   "source": [
    "import re\n",
    "\n",
    "text = 'This is some text -- with punctuation.\\nA second line.'\n",
    "pattern = r'(^\\w+)|(\\w+\\S*$)'\n",
    "single_line = re.compile(pattern)\n",
    "multiline = re.compile(pattern, re.MULTILINE)\n",
    "\n",
    "print(f'Text:\\n  {text!r}')\n",
    "print(f'Pattern:\\n  {pattern}')\n",
    "print('Single Line :')\n",
    "for match in single_line.findall(text):\n",
    "    print(f'  {match!r}')\n",
    "print('Multline    :')\n",
    "for match in multiline.findall(text):\n",
    "    print(f'  {match!r}')"
   ]
  },
  {
   "cell_type": "code",
   "execution_count": 50,
   "metadata": {},
   "outputs": [
    {
     "output_type": "stream",
     "name": "stdout",
     "text": [
      "Text:\n  'This is some text -- with punctuation.\\nA second line.'\nPattern:\n  .+\nNo newlines :\n  'This is some text -- with punctuation.'\n  'A second line.'\nDotall      :\n  'This is some text -- with punctuation.\\nA second line.'\n"
     ]
    }
   ],
   "source": [
    "import re\n",
    "\n",
    "text = 'This is some text -- with punctuation.\\nA second line.'\n",
    "pattern = r'.+'\n",
    "no_newlines = re.compile(pattern)\n",
    "dotall = re.compile(pattern, re.DOTALL)\n",
    "\n",
    "print(f'Text:\\n  {text!r}')\n",
    "print(f'Pattern:\\n  {pattern}')\n",
    "print('No newlines :')\n",
    "for match in no_newlines.findall(text):\n",
    "    print(f'  {match!r}')\n",
    "print('Dotall      :')\n",
    "for match in dotall.findall(text):\n",
    "    print(f'  {match!r}')"
   ]
  },
  {
   "source": [
    "### Unicode"
   ],
   "cell_type": "markdown",
   "metadata": {}
  },
  {
   "cell_type": "code",
   "execution_count": 52,
   "metadata": {},
   "outputs": [
    {
     "output_type": "stream",
     "name": "stdout",
     "text": [
      "Text    : Français złoty Österreich\nPattern : \\w+\nASCII   : ['Fran', 'ais', 'z', 'oty', 'sterreich']\nUnicode : ['Français', 'złoty', 'Österreich']\n"
     ]
    }
   ],
   "source": [
    "import re\n",
    "\n",
    "text = u'Français złoty Österreich'\n",
    "pattern = r'\\w+'\n",
    "ascii_pattern = re.compile(pattern, re.ASCII)\n",
    "unicode_pattern = re.compile(pattern)\n",
    "\n",
    "print('Text    :', text)\n",
    "print('Pattern :', pattern)\n",
    "print('ASCII   :', list(ascii_pattern.findall(text)))\n",
    "print('Unicode :', list(unicode_pattern.findall(text)))"
   ]
  },
  {
   "source": [
    "### 冗長な表現"
   ],
   "cell_type": "markdown",
   "metadata": {}
  },
  {
   "cell_type": "code",
   "execution_count": 57,
   "metadata": {},
   "outputs": [
    {
     "output_type": "stream",
     "name": "stdout",
     "text": [
      "first.last@example.com          Matches\nfirst.last+category@gmail.com   Matches\nvalid-address@mail.example.com  Matches\nnot-valid@example.foo           No match\n"
     ]
    }
   ],
   "source": [
    "import re\n",
    "\n",
    "address = re.compile('[\\w\\d.+-]+@([\\w\\d.]+\\.)+(com|org|edu)')\n",
    "\n",
    "candidates = [\n",
    "    'first.last@example.com',\n",
    "    'first.last+category@gmail.com',\n",
    "    'valid-address@mail.example.com',\n",
    "    'not-valid@example.foo',\n",
    "]\n",
    "\n",
    "for candidate in candidates:\n",
    "    match = address.search(candidate)\n",
    "    print(f\"{candidate:<30}  {'Matches' if match else 'No match'}\")"
   ]
  },
  {
   "cell_type": "code",
   "execution_count": 58,
   "metadata": {},
   "outputs": [
    {
     "output_type": "stream",
     "name": "stdout",
     "text": [
      "first.last@example.com          Matches\nfirst.last+category@gmail.com   Matches\nvalid-address@mail.example.com  Matches\nnot-valid@example.foo           No match\n"
     ]
    }
   ],
   "source": [
    "import re\n",
    "\n",
    "address = re.compile(\n",
    "    '''\n",
    "    [\\w\\d.+-]+       # username\n",
    "    @\n",
    "    ([\\w\\d.]+\\.)+    # domain name prefix\n",
    "    (com|org|edu)    # TODO: support more top-level domains\n",
    "    ''',\n",
    "    re.VERBOSE)\n",
    "\n",
    "candidates = [\n",
    "    'first.last@example.com',\n",
    "    'first.last+category@gmail.com',\n",
    "    'valid-address@mail.example.com',\n",
    "    'not-valid@example.foo',\n",
    "]\n",
    "\n",
    "for candidate in candidates:\n",
    "    match = address.search(candidate)\n",
    "    print(f\"{candidate:<30}  {'Matches' if match else 'No match'}\")"
   ]
  },
  {
   "cell_type": "code",
   "execution_count": 59,
   "metadata": {},
   "outputs": [
    {
     "output_type": "stream",
     "name": "stdout",
     "text": [
      "Candidate: first.last@example.com\n  Name : None\n  Email: first.last@example.com\nCandidate: first.last+category@gmail.com\n  Name : None\n  Email: first.last+category@gmail.com\nCandidate: valid-address@mail.example.com\n  Name : None\n  Email: valid-address@mail.example.com\nCandidate: not-valid@example.foo\n  No match\nCandidate: First Last <first.last@example.com>\n  Name : First Last\n  Email: first.last@example.com\nCandidate: No Brackets first.last@example.com\n  Name : None\n  Email: first.last@example.com\nCandidate: First Last\n  No match\nCandidate: First Middle Last <first.last@example.com>\n  Name : First Middle Last\n  Email: first.last@example.com\nCandidate: First M. Last <first.last@example.com>\n  Name : First M. Last\n  Email: first.last@example.com\nCandidate: <first.last@example.com>\n  Name : None\n  Email: first.last@example.com\n"
     ]
    }
   ],
   "source": [
    "import re\n",
    "\n",
    "address = re.compile(\n",
    "    '''\n",
    "\n",
    "    # A name is made up of letters, and may include \".\"\n",
    "    # for title abbreviations and middle initials.\n",
    "    ((?P<name>\n",
    "       ([\\w.,]+\\s+)*[\\w.,]+)\n",
    "       \\s*\n",
    "       # Email addresses are wrapped in angle\n",
    "       # brackets < >, but only if a name is\n",
    "       # found, so keep the start bracket in this\n",
    "       # group.\n",
    "       <\n",
    "    )? # the entire name is optional\n",
    "\n",
    "    # The address itself: username@domain.tld\n",
    "    (?P<email>\n",
    "      [\\w\\d.+-]+       # username\n",
    "      @\n",
    "      ([\\w\\d.]+\\.)+    # domain name prefix\n",
    "      (com|org|edu)    # limit the allowed top-level domains\n",
    "    )\n",
    "\n",
    "    >? # optional closing angle bracket\n",
    "    ''',\n",
    "    re.VERBOSE)\n",
    "\n",
    "candidates = [\n",
    "    'first.last@example.com',\n",
    "    'first.last+category@gmail.com',\n",
    "    'valid-address@mail.example.com',\n",
    "    'not-valid@example.foo',\n",
    "    'First Last <first.last@example.com>',\n",
    "    'No Brackets first.last@example.com',\n",
    "    'First Last',\n",
    "    'First Middle Last <first.last@example.com>',\n",
    "    'First M. Last <first.last@example.com>',\n",
    "    '<first.last@example.com>',\n",
    "]\n",
    "\n",
    "for candidate in candidates:\n",
    "    print('Candidate:', candidate)\n",
    "    match = address.search(candidate)\n",
    "    if match:\n",
    "        print('  Name :', match.groupdict()['name'])\n",
    "        print('  Email:', match.groupdict()['email'])\n",
    "    else:\n",
    "        print('  No match')"
   ]
  },
  {
   "source": [
    "### フラグを埋める"
   ],
   "cell_type": "markdown",
   "metadata": {}
  },
  {
   "cell_type": "code",
   "execution_count": 61,
   "metadata": {},
   "outputs": [
    {
     "output_type": "stream",
     "name": "stdout",
     "text": [
      "Text      : This is some text -- with punctuation.\nPattern   : (?i)\\bT\\w+\nMatches   : ['This', 'text']\n"
     ]
    }
   ],
   "source": [
    "import re\n",
    "\n",
    "text = 'This is some text -- with punctuation.'\n",
    "pattern = r'(?i)\\bT\\w+'\n",
    "regex = re.compile(pattern)\n",
    "\n",
    "print('Text      :', text)\n",
    "print('Pattern   :', pattern)\n",
    "print('Matches   :', regex.findall(text))"
   ]
  },
  {
   "source": [
    "|フラグ|略称|\n",
    "| --- | --- |\n",
    "| ASCII | a |\n",
    "| IGNORECASE | i |\n",
    "| MULTILINE | m |\n",
    "| DOTALL | s |\n",
    "| VERBOSE | x |"
   ],
   "cell_type": "markdown",
   "metadata": {}
  },
  {
   "source": [
    "## 自己言及"
   ],
   "cell_type": "markdown",
   "metadata": {}
  },
  {
   "cell_type": "code",
   "execution_count": 63,
   "metadata": {},
   "outputs": [
    {
     "output_type": "stream",
     "name": "stdout",
     "text": [
      "Candidate: First Last <first.last@example.com>\n  Match name : First Last\n  Match email: first.last@example.com\nCandidate: Different Name <first.last@example.com>\n  No match\nCandidate: First Middle Last <first.last@example.com>\n  Match name : First Last\n  Match email: first.last@example.com\nCandidate: First M. Last <first.last@example.com>\n  Match name : First Last\n  Match email: first.last@example.com\n"
     ]
    }
   ],
   "source": [
    "import re\n",
    "\n",
    "address = re.compile(\n",
    "    r'''\n",
    "\n",
    "    # The regular name\n",
    "    (\\w+)               # first name\n",
    "    \\s+\n",
    "    (([\\w.]+)\\s+)?      # optional middle name or initial\n",
    "    (\\w+)               # last name\n",
    "\n",
    "    \\s+\n",
    "\n",
    "    <\n",
    "\n",
    "    # The address: first_name.last_name@domain.tld\n",
    "    (?P<email>\n",
    "      \\1               # first name\n",
    "      \\.\n",
    "      \\4               # last name\n",
    "      @\n",
    "      ([\\w\\d.]+\\.)+    # domain name prefix\n",
    "      (com|org|edu)    # limit the allowed top-level domains\n",
    "    )\n",
    "\n",
    "    >\n",
    "    ''',\n",
    "    re.VERBOSE | re.IGNORECASE)\n",
    "\n",
    "candidates = [\n",
    "    'First Last <first.last@example.com>',\n",
    "    'Different Name <first.last@example.com>',\n",
    "    'First Middle Last <first.last@example.com>',\n",
    "    'First M. Last <first.last@example.com>',\n",
    "]\n",
    "\n",
    "for candidate in candidates:\n",
    "    print('Candidate:', candidate)\n",
    "    match = address.search(candidate)\n",
    "    if match:\n",
    "        print('  Match name :', match.group(1), match.group(4))\n",
    "        print('  Match email:', match.group(5))\n",
    "    else:\n",
    "        print('  No match')"
   ]
  },
  {
   "source": [
    "## 文字列を修正"
   ],
   "cell_type": "markdown",
   "metadata": {}
  },
  {
   "cell_type": "code",
   "execution_count": 65,
   "metadata": {},
   "outputs": [
    {
     "output_type": "stream",
     "name": "stdout",
     "text": [
      "Text: Make this **bold**.  This **too**.\nBold: Make this <b>bold</b>.  This <b>too</b>.\n"
     ]
    }
   ],
   "source": [
    "import re\n",
    "\n",
    "bold = re.compile(r'\\*{2}(.*?)\\*{2}')\n",
    "\n",
    "text = 'Make this **bold**.  This **too**.'\n",
    "\n",
    "print('Text:', text)\n",
    "print('Bold:', bold.sub(r'<b>\\1</b>', text))"
   ]
  },
  {
   "cell_type": "code",
   "execution_count": 66,
   "metadata": {},
   "outputs": [
    {
     "output_type": "stream",
     "name": "stdout",
     "text": [
      "Text: Make this **bold**.  This **too**.\nBold: Make this <b>bold</b>.  This <b>too</b>.\n"
     ]
    }
   ],
   "source": [
    "import re\n",
    "\n",
    "bold = re.compile(r'\\*{2}(?P<bold_text>.*?)\\*{2}')\n",
    "\n",
    "text = 'Make this **bold**.  This **too**.'\n",
    "\n",
    "print('Text:', text)\n",
    "print('Bold:', bold.sub(r'<b>\\g<bold_text></b>', text))"
   ]
  },
  {
   "cell_type": "code",
   "execution_count": 67,
   "metadata": {},
   "outputs": [
    {
     "output_type": "stream",
     "name": "stdout",
     "text": [
      "Text: Make this **bold**.  This **too**.\nBold: Make this <b>bold</b>.  This **too**.\n"
     ]
    }
   ],
   "source": [
    "import re\n",
    "\n",
    "bold = re.compile(r'\\*{2}(.*?)\\*{2}')\n",
    "\n",
    "text = 'Make this **bold**.  This **too**.'\n",
    "\n",
    "print('Text:', text)\n",
    "print('Bold:', bold.sub(r'<b>\\1</b>', text, count=1))"
   ]
  },
  {
   "cell_type": "code",
   "execution_count": 68,
   "metadata": {},
   "outputs": [
    {
     "output_type": "stream",
     "name": "stdout",
     "text": [
      "Text: Make this **bold**.  This **too**.\nBold: ('Make this <b>bold</b>.  This <b>too</b>.', 2)\n"
     ]
    }
   ],
   "source": [
    "import re\n",
    "\n",
    "bold = re.compile(r'\\*{2}(.*?)\\*{2}')\n",
    "\n",
    "text = 'Make this **bold**.  This **too**.'\n",
    "\n",
    "print('Text:', text)\n",
    "print('Bold:', bold.subn(r'<b>\\1</b>', text))"
   ]
  },
  {
   "source": [
    "## splitting"
   ],
   "cell_type": "markdown",
   "metadata": {}
  },
  {
   "cell_type": "code",
   "execution_count": 70,
   "metadata": {},
   "outputs": [
    {
     "output_type": "stream",
     "name": "stdout",
     "text": [
      "0 'Paragraph one\\non two lines.'\n\n1 'Paragraph two.'\n\n"
     ]
    }
   ],
   "source": [
    "import re\n",
    "\n",
    "text = '''Paragraph one\n",
    "on two lines.\n",
    "\n",
    "Paragraph two.\n",
    "\n",
    "\n",
    "Paragraph three.'''\n",
    "\n",
    "for num, para in enumerate(re.findall(r'(.+?)\\n{2,}',\n",
    "                                      text,\n",
    "                                      flags=re.DOTALL)\n",
    "                           ):\n",
    "    print(num, repr(para))\n",
    "    print()"
   ]
  },
  {
   "cell_type": "code",
   "execution_count": 71,
   "metadata": {},
   "outputs": [
    {
     "output_type": "stream",
     "name": "stdout",
     "text": [
      "With findall:\n0 ('Paragraph one\\non two lines.', '\\n\\n')\n\n1 ('Paragraph two.', '\\n\\n\\n')\n\n2 ('Paragraph three.', '')\n\n\nWith split:\n0 'Paragraph one\\non two lines.'\n\n1 'Paragraph two.'\n\n2 'Paragraph three.'\n\n"
     ]
    }
   ],
   "source": [
    "import re\n",
    "\n",
    "text = '''Paragraph one\n",
    "on two lines.\n",
    "\n",
    "Paragraph two.\n",
    "\n",
    "\n",
    "Paragraph three.'''\n",
    "\n",
    "print('With findall:')\n",
    "for num, para in enumerate(re.findall(r'(.+?)(\\n{2,}|$)',\n",
    "                                      text,\n",
    "                                      flags=re.DOTALL)):\n",
    "    print(num, repr(para))\n",
    "    print()\n",
    "\n",
    "print()\n",
    "print('With split:')\n",
    "for num, para in enumerate(re.split(r'\\n{2,}', text)):\n",
    "    print(num, repr(para))\n",
    "    print()"
   ]
  },
  {
   "cell_type": "code",
   "execution_count": 72,
   "metadata": {},
   "outputs": [
    {
     "output_type": "stream",
     "name": "stdout",
     "text": [
      "With split:\n0 'Paragraph one\\non two lines.'\n\n1 '\\n\\n'\n\n2 'Paragraph two.'\n\n3 '\\n\\n\\n'\n\n4 'Paragraph three.'\n\n"
     ]
    }
   ],
   "source": [
    "import re\n",
    "\n",
    "text = '''Paragraph one\n",
    "on two lines.\n",
    "\n",
    "Paragraph two.\n",
    "\n",
    "\n",
    "Paragraph three.'''\n",
    "\n",
    "print('With split:')\n",
    "for num, para in enumerate(re.split(r'(\\n{2,})', text)):\n",
    "    print(num, repr(para))\n",
    "    print()\n"
   ]
  },
  {
   "cell_type": "code",
   "execution_count": null,
   "metadata": {},
   "outputs": [],
   "source": []
  }
 ],
 "metadata": {
  "language_info": {
   "codemirror_mode": {
    "name": "ipython",
    "version": 3
   },
   "file_extension": ".py",
   "mimetype": "text/x-python",
   "name": "python",
   "nbconvert_exporter": "python",
   "pygments_lexer": "ipython3",
   "version": "3.8.6-final"
  },
  "orig_nbformat": 2,
  "kernelspec": {
   "name": "Python 3.8.6 64-bit",
   "display_name": "Python 3.8.6 64-bit",
   "metadata": {
    "interpreter": {
     "hash": "082e9a3bcad0a290d0001e938aa60b99250c6c2ef33a923c00b70f9826caf4b7"
    }
   }
  }
 },
 "nbformat": 4,
 "nbformat_minor": 2
}