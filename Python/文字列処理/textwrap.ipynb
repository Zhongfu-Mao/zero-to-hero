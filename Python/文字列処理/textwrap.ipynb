{
 "metadata": {
  "language_info": {
   "codemirror_mode": {
    "name": "ipython",
    "version": 3
   },
   "file_extension": ".py",
   "mimetype": "text/x-python",
   "name": "python",
   "nbconvert_exporter": "python",
   "pygments_lexer": "ipython3",
   "version": "3.8.6-final"
  },
  "orig_nbformat": 2,
  "kernelspec": {
   "name": "Python 3.8.6 64-bit",
   "display_name": "Python 3.8.6 64-bit",
   "metadata": {
    "interpreter": {
     "hash": "082e9a3bcad0a290d0001e938aa60b99250c6c2ef33a923c00b70f9826caf4b7"
    }
   }
  }
 },
 "nbformat": 4,
 "nbformat_minor": 2,
 "cells": [
  {
   "cell_type": "code",
   "execution_count": 6,
   "metadata": {},
   "outputs": [],
   "source": [
    "import textwrap\n",
    "\n",
    "sample_text = '''\n",
    "    The textwrap module can be used to format text for output in\n",
    "    situations where pretty-printing is desired.  It offers\n",
    "    programmatic functionality similar to the paragraph wrapping\n",
    "    or filling features found in many text editors.\n",
    "    '''"
   ]
  },
  {
   "source": [
    "## fill()"
   ],
   "cell_type": "markdown",
   "metadata": {}
  },
  {
   "cell_type": "code",
   "execution_count": 7,
   "metadata": {},
   "outputs": [
    {
     "output_type": "stream",
     "name": "stdout",
     "text": [
      "     The textwrap module can be used to format\ntext for output in     situations where pretty-\nprinting is desired.  It offers     programmatic\nfunctionality similar to the paragraph wrapping\nor filling features found in many text editors.\n"
     ]
    }
   ],
   "source": [
    "print(textwrap.fill(sample_text, width=50))"
   ]
  },
  {
   "source": [
    "## dedent()"
   ],
   "cell_type": "markdown",
   "metadata": {}
  },
  {
   "cell_type": "code",
   "execution_count": 8,
   "metadata": {},
   "outputs": [
    {
     "output_type": "stream",
     "name": "stdout",
     "text": [
      "Dedented:\n\nThe textwrap module can be used to format text for output in\nsituations where pretty-printing is desired.  It offers\nprogrammatic functionality similar to the paragraph wrapping\nor filling features found in many text editors.\n\n"
     ]
    }
   ],
   "source": [
    "dedented_text = textwrap.dedent(sample_text)\n",
    "\n",
    "print(\"Dedented:\")\n",
    "print(dedented_text)"
   ]
  },
  {
   "source": [
    "## fill()とdedent()を結合する"
   ],
   "cell_type": "markdown",
   "metadata": {}
  },
  {
   "cell_type": "code",
   "execution_count": 11,
   "metadata": {},
   "outputs": [
    {
     "output_type": "stream",
     "name": "stdout",
     "text": [
      "45 Columns:\n\nThe textwrap module can be used to format\ntext for output in situations where pretty-\nprinting is desired.  It offers programmatic\nfunctionality similar to the paragraph\nwrapping or filling features found in many\ntext editors.\n\n60 Columns:\n\nThe textwrap module can be used to format text for output in\nsituations where pretty-printing is desired.  It offers\nprogrammatic functionality similar to the paragraph wrapping\nor filling features found in many text editors.\n\n"
     ]
    }
   ],
   "source": [
    "dedented_text = textwrap.dedent(sample_text).strip()\n",
    "for width in [45, 60]:\n",
    "    print(f\"{width} Columns:\\n\")\n",
    "    print(textwrap.fill(dedented_text, width=width))\n",
    "    print()"
   ]
  },
  {
   "source": [
    "## indent()"
   ],
   "cell_type": "markdown",
   "metadata": {}
  },
  {
   "cell_type": "code",
   "execution_count": 13,
   "metadata": {},
   "outputs": [
    {
     "output_type": "stream",
     "name": "stdout",
     "text": [
      "Quoted block:\n\n>  The textwrap module can be used to format text\n> for output in situations where pretty-printing is\n> desired.  It offers programmatic functionality\n> similar to the paragraph wrapping or filling\n> features found in many text editors.\n\n> Second paragraph after a blank line.\n"
     ]
    }
   ],
   "source": [
    "dedented_text = textwrap.dedent(sample_text)\n",
    "wrapped = textwrap.fill(dedented_text, width=50)\n",
    "wrapped += '\\n\\nSecond paragraph after a blank line.'\n",
    "final = textwrap.indent(wrapped, '> ')\n",
    "\n",
    "print('Quoted block:\\n')\n",
    "print(final)"
   ]
  },
  {
   "cell_type": "code",
   "execution_count": 15,
   "metadata": {},
   "outputs": [
    {
     "output_type": "stream",
     "name": "stdout",
     "text": [
      "Indent ' The textwrap module can be used to format text\\n'?\nIndent 'for output in situations where pretty-printing is\\n'?\nIndent 'desired.  It offers programmatic functionality\\n'?\nIndent 'similar to the paragraph wrapping or filling\\n'?\nIndent 'features found in many text editors.'?\n\nQuoted block:\n\nEVEN  The textwrap module can be used to format text\nfor output in situations where pretty-printing is\nEVEN desired.  It offers programmatic functionality\nEVEN similar to the paragraph wrapping or filling\nEVEN features found in many text editors.\n"
     ]
    }
   ],
   "source": [
    "def should_indent(line):\n",
    "    print(f'Indent {line!r}?')\n",
    "    return len(line.strip()) % 2 == 0\n",
    "\n",
    "\n",
    "dedented_text = textwrap.dedent(sample_text)\n",
    "wrapped = textwrap.fill(dedented_text, width=50)\n",
    "final = textwrap.indent(wrapped, 'EVEN ',\n",
    "                        predicate=should_indent) # 条件をつける\n",
    "\n",
    "print('\\nQuoted block:\\n')\n",
    "print(final)"
   ]
  },
  {
   "cell_type": "code",
   "execution_count": 16,
   "metadata": {},
   "outputs": [
    {
     "output_type": "stream",
     "name": "stdout",
     "text": [
      "The textwrap module can be used to format text for\n    output in situations where pretty-printing is\n    desired.  It offers programmatic functionality\n    similar to the paragraph wrapping or filling\n    features found in many text editors.\n"
     ]
    }
   ],
   "source": [
    "dedented_text = textwrap.dedent(sample_text).strip()\n",
    "print(textwrap.fill(dedented_text,\n",
    "                    initial_indent='', # 最初のインデント\n",
    "                    subsequent_indent=' ' * 4, # 続いてのインデント\n",
    "                    width=50,\n",
    "                    ))"
   ]
  },
  {
   "source": [
    "## shorten()"
   ],
   "cell_type": "markdown",
   "metadata": {}
  },
  {
   "cell_type": "code",
   "execution_count": 18,
   "metadata": {},
   "outputs": [
    {
     "output_type": "stream",
     "name": "stdout",
     "text": [
      "Original:\n\n The textwrap module can be used to format text\nfor output in situations where pretty-printing is\ndesired.  It offers programmatic functionality\nsimilar to the paragraph wrapping or filling\nfeatures found in many text editors.\n\nShortened:\n\nThe textwrap module can be used to format text for\noutput in situations where pretty-printing [...]\n"
     ]
    }
   ],
   "source": [
    "dedented_text = textwrap.dedent(sample_text)\n",
    "original = textwrap.fill(dedented_text, width=50)\n",
    "\n",
    "print('Original:\\n')\n",
    "print(original)\n",
    "\n",
    "shortened = textwrap.shorten(original, 100)\n",
    "shortened_wrapped = textwrap.fill(shortened, width=50)\n",
    "\n",
    "print('\\nShortened:\\n')\n",
    "print(shortened_wrapped)"
   ]
  },
  {
   "cell_type": "code",
   "execution_count": null,
   "metadata": {},
   "outputs": [],
   "source": []
  }
 ]
}