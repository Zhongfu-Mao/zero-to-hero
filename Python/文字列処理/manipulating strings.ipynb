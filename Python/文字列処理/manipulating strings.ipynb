{
 "metadata": {
  "language_info": {
   "codemirror_mode": {
    "name": "ipython",
    "version": 3
   },
   "file_extension": ".py",
   "mimetype": "text/x-python",
   "name": "python",
   "nbconvert_exporter": "python",
   "pygments_lexer": "ipython3",
   "version": "3.8.6-final"
  },
  "orig_nbformat": 2,
  "kernelspec": {
   "name": "Python 3.8.6 64-bit",
   "display_name": "Python 3.8.6 64-bit",
   "metadata": {
    "interpreter": {
     "hash": "082e9a3bcad0a290d0001e938aa60b99250c6c2ef33a923c00b70f9826caf4b7"
    }
   }
  }
 },
 "nbformat": 4,
 "nbformat_minor": 2,
 "cells": [
  {
   "cell_type": "code",
   "execution_count": 1,
   "metadata": {},
   "outputs": [],
   "source": [
    "foo = \"hello, world\""
   ]
  },
  {
   "cell_type": "code",
   "execution_count": 2,
   "metadata": {},
   "outputs": [
    {
     "output_type": "execute_result",
     "data": {
      "text/plain": [
       "['capitalize',\n",
       " 'casefold',\n",
       " 'center',\n",
       " 'count',\n",
       " 'encode',\n",
       " 'endswith',\n",
       " 'expandtabs',\n",
       " 'find',\n",
       " 'format',\n",
       " 'format_map',\n",
       " 'index',\n",
       " 'isalnum',\n",
       " 'isalpha',\n",
       " 'isascii',\n",
       " 'isdecimal',\n",
       " 'isdigit',\n",
       " 'isidentifier',\n",
       " 'islower',\n",
       " 'isnumeric',\n",
       " 'isprintable',\n",
       " 'isspace',\n",
       " 'istitle',\n",
       " 'isupper',\n",
       " 'join',\n",
       " 'ljust',\n",
       " 'lower',\n",
       " 'lstrip',\n",
       " 'maketrans',\n",
       " 'partition',\n",
       " 'replace',\n",
       " 'rfind',\n",
       " 'rindex',\n",
       " 'rjust',\n",
       " 'rpartition',\n",
       " 'rsplit',\n",
       " 'rstrip',\n",
       " 'split',\n",
       " 'splitlines',\n",
       " 'startswith',\n",
       " 'strip',\n",
       " 'swapcase',\n",
       " 'title',\n",
       " 'translate',\n",
       " 'upper',\n",
       " 'zfill']"
      ]
     },
     "metadata": {},
     "execution_count": 2
    }
   ],
   "source": [
    "[ e for e in dir(foo) if not e.startswith('_')]"
   ]
  },
  {
   "source": [
    "[公式ドキュメント: string methods](https://docs.python.org/ja/3/library/stdtypes.html#string-methods)"
   ],
   "cell_type": "markdown",
   "metadata": {}
  },
  {
   "source": [
    "## 大文字小文字変換"
   ],
   "cell_type": "markdown",
   "metadata": {}
  },
  {
   "cell_type": "code",
   "execution_count": 3,
   "metadata": {},
   "outputs": [
    {
     "output_type": "stream",
     "name": "stdout",
     "text": [
      "'abc XYZ'.lower()='abc xyz'\n'abc XYZ'.upper()='ABC XYZ'\n'abc XYZ'.title()='Abc Xyz'\n'abc XYZ'.capitalize()='Abc xyz'\n'abc XYZ'.swapcase()='ABC xyz'\n'abc XYZ'.casefold()='abc xyz'\n"
     ]
    }
   ],
   "source": [
    "print(f\"{'abc XYZ'.lower()=}\")\n",
    "print(f\"{'abc XYZ'.upper()=}\")\n",
    "print(f\"{'abc XYZ'.title()=}\")\n",
    "print(f\"{'abc XYZ'.capitalize()=}\")\n",
    "print(f\"{'abc XYZ'.swapcase()=}\")\n",
    "print(f\"{'abc XYZ'.casefold()=}\")"
   ]
  },
  {
   "source": [
    "## isXXX判断"
   ],
   "cell_type": "markdown",
   "metadata": {}
  },
  {
   "cell_type": "code",
   "execution_count": 4,
   "metadata": {},
   "outputs": [
    {
     "output_type": "stream",
     "name": "stdout",
     "text": [
      "'42xyz'.isalnum()=True\n'google.com'.isalnum()=False\n"
     ]
    }
   ],
   "source": [
    "print(f\"{'42xyz'.isalnum()=}\")\n",
    "print(f\"{'google.com'.isalnum()=}\")"
   ]
  },
  {
   "cell_type": "code",
   "execution_count": 5,
   "metadata": {},
   "outputs": [
    {
     "output_type": "stream",
     "name": "stdout",
     "text": [
      "'abc'.isalpha()=True\n'42'.isalpha()=False\n"
     ]
    }
   ],
   "source": [
    "print(f\"{'abc'.isalpha()=}\")\n",
    "print(f\"{'42'.isalpha()=}\")"
   ]
  },
  {
   "cell_type": "code",
   "execution_count": 6,
   "metadata": {},
   "outputs": [
    {
     "output_type": "stream",
     "name": "stdout",
     "text": [
      "string.ascii_letters.isascii()=True\n'うずまきナルト'.isascii()=False\n"
     ]
    }
   ],
   "source": [
    "import string\n",
    "\n",
    "print(f\"{string.ascii_letters.isascii()=}\")\n",
    "print(f\"{'うずまきナルト'.isascii()=}\")"
   ]
  },
  {
   "cell_type": "code",
   "execution_count": 7,
   "metadata": {},
   "outputs": [
    {
     "output_type": "stream",
     "name": "stdout",
     "text": [
      "'1234567890'.isdecimal()=True\n"
     ]
    },
    {
     "output_type": "execute_result",
     "data": {
      "text/plain": [
       "False"
      ]
     },
     "metadata": {},
     "execution_count": 7
    }
   ],
   "source": [
    "print(f\"{'1234567890'.isdecimal()=}\")\n",
    "'\\u00B2'.isdecimal() # ²"
   ]
  },
  {
   "cell_type": "code",
   "execution_count": 8,
   "metadata": {},
   "outputs": [
    {
     "output_type": "stream",
     "name": "stdout",
     "text": [
      "'1234567890ABCDEF'.isdigit()=False\n"
     ]
    },
    {
     "output_type": "execute_result",
     "data": {
      "text/plain": [
       "True"
      ]
     },
     "metadata": {},
     "execution_count": 8
    }
   ],
   "source": [
    "print(f\"{'1234567890ABCDEF'.isdigit()=}\")\n",
    "'\\u00B2'.isdigit()"
   ]
  },
  {
   "cell_type": "code",
   "execution_count": 9,
   "metadata": {},
   "outputs": [
    {
     "output_type": "stream",
     "name": "stdout",
     "text": [
      "'hello'.isidentifier()=True\n'123hao'.isidentifier()=False\n"
     ]
    }
   ],
   "source": [
    "print(f\"{'hello'.isidentifier()=}\")\n",
    "print(f\"{'123hao'.isidentifier()=}\")"
   ]
  },
  {
   "cell_type": "code",
   "execution_count": 10,
   "metadata": {},
   "outputs": [
    {
     "output_type": "stream",
     "name": "stdout",
     "text": [
      "'普通の文字列の間にアルファベットがあったらislowerが認識する'.islower()=True\n'この場合はFalseね'.islower()=False\n'同じくISUPPERメソッドも'.isupper()=True\n'これはFalseになる'.isupper()=False\n'istitleをテストしてみよう'.istitle()=False\n'Falseちょうどタイトルの形'.istitle()=True\n"
     ]
    }
   ],
   "source": [
    "print(f\"{'普通の文字列の間にアルファベットがあったらislowerが認識する'.islower()=}\")\n",
    "print(f\"{'この場合はFalseね'.islower()=}\")\n",
    "print(f\"{'同じくISUPPERメソッドも'.isupper()=}\")\n",
    "print(f\"{'これはFalseになる'.isupper()=}\")\n",
    "print(f\"{'istitleをテストしてみよう'.istitle()=}\")\n",
    "print(f\"{'Falseちょうどタイトルの形'.istitle()=}\")\n"
   ]
  },
  {
   "cell_type": "code",
   "execution_count": 11,
   "metadata": {},
   "outputs": [
    {
     "output_type": "stream",
     "name": "stdout",
     "text": [
      "True\nTrue\nTrue\nTrue\nFalse\n"
     ]
    }
   ],
   "source": [
    "#s = '²3455'\n",
    "s = '\\u00B23455'\n",
    "print(s.isnumeric())\n",
    "# s = '½'\n",
    "s = '\\u00BD'\n",
    "print(s.isnumeric())\n",
    "\n",
    "a = \"\\u0030\" #unicode for 0\n",
    "print(a.isnumeric())\n",
    "\n",
    "b = \"\\u00B2\" #unicode for ²\n",
    "print(b.isnumeric())\n",
    "\n",
    "c = \"10km2\"\n",
    "print(c.isnumeric())"
   ]
  },
  {
   "source": [
    "### s.isdigit、isdecimal と s.isnumeric の違い\n",
    "\n",
    "* `isdigit()`\n",
    "\n",
    "    - True: Unicode数字，byte数字（1 Byte），全角数字（2 Bytes）\n",
    "    - False: 漢字の数字，ローマ数字，小数\n",
    "    - Error: 無し\n",
    "\n",
    "* `isdecimal()`\n",
    "\n",
    "    - True: Unicode数字，，全角数字（2 Bytes）\n",
    "    - False: ローマ数字，漢字の数字，小数\n",
    "    - Error: byte数字（1 Byte）\n",
    "\n",
    "* `isnumeric()`\n",
    "\n",
    "    - True: Unicode 数字，全角数字（2 Bytes），漢字の数字\n",
    "    - False: 小数，ローマ数字\n",
    "    - Error: byte数字（1 Byte）"
   ],
   "cell_type": "markdown",
   "metadata": {}
  },
  {
   "cell_type": "code",
   "execution_count": 12,
   "metadata": {},
   "outputs": [
    {
     "output_type": "stream",
     "name": "stdout",
     "text": [
      "num='½'\nnum.isdigit()=False\nnum.isdecimal()=False\nnum.isnumeric()=True\nnum='1'\nnum.isdigit()=True\nnum.isdecimal()=True\nnum.isnumeric()=True\nnum=b'1'\nnum.isdigit()=True\nnum='IV'\nnum.isdigit()=False\nnum.isdecimal()=False\nnum.isnumeric()=False\nnum='四'\nnum.isdigit()=False\nnum.isdecimal()=False\nnum.isnumeric()=True\n"
     ]
    }
   ],
   "source": [
    "num = \"\\u00BD\"  #unicode\n",
    "print(f\"{num=}\")\n",
    "print(f\"{num.isdigit()=}\")   # True\n",
    "print(f\"{num.isdecimal()=}\") # True\n",
    "print(f\"{num.isnumeric()=}\") # True\n",
    "\n",
    "num = \"1\" # 全角\n",
    "print(f\"{num=}\")\n",
    "print(f\"{num.isdigit()=}\")   # True\n",
    "print(f\"{num.isdecimal()=}\") # True\n",
    "print(f\"{num.isnumeric()=}\") # True\n",
    "\n",
    "num = b\"1\" # byte\n",
    "print(f\"{num=}\")\n",
    "print(f\"{num.isdigit()=}\")   # True\n",
    "# num.isdecimal() # AttributeError 'bytes' object has no attribute 'isdecimal'\n",
    "# num.isnumeric() # AttributeError 'bytes' object has no attribute 'isnumeric'\n",
    "\n",
    "num = \"IV\" # ローマ数字\n",
    "print(f\"{num=}\")\n",
    "print(f\"{num.isdigit()=}\")   # False\n",
    "print(f\"{num.isdecimal()=}\") # False\n",
    "print(f\"{num.isnumeric()=}\") # False\n",
    "\n",
    "num = \"四\" # 漢字\n",
    "print(f\"{num=}\")\n",
    "print(f\"{num.isdigit()=}\")   # False\n",
    "print(f\"{num.isdecimal()=}\") # False\n",
    "print(f\"{num.isnumeric()=}\") # True"
   ]
  },
  {
   "source": [
    "[Unicode Separator](https://www.compart.com/en/unicode/category/Zs)"
   ],
   "cell_type": "markdown",
   "metadata": {}
  },
  {
   "cell_type": "code",
   "execution_count": 13,
   "metadata": {},
   "outputs": [
    {
     "output_type": "execute_result",
     "data": {
      "text/plain": [
       "False"
      ]
     },
     "metadata": {},
     "execution_count": 13
    }
   ],
   "source": [
    "'\\u2028'.isprintable()"
   ]
  },
  {
   "cell_type": "code",
   "execution_count": 14,
   "metadata": {},
   "outputs": [
    {
     "output_type": "execute_result",
     "data": {
      "text/plain": [
       "True"
      ]
     },
     "metadata": {},
     "execution_count": 14
    }
   ],
   "source": [
    "'   '.isspace()"
   ]
  },
  {
   "source": [
    "## 分割"
   ],
   "cell_type": "markdown",
   "metadata": {}
  },
  {
   "cell_type": "code",
   "execution_count": 15,
   "metadata": {},
   "outputs": [
    {
     "output_type": "stream",
     "name": "stdout",
     "text": [
      "('Hello, ', 'w', 'orld!')\n('Hello, ', 'world', '!')\n('Hell', 'o', ', world!')\n('Hello, w', 'o', 'rld!')\n('Hello, world!', '', '')\n"
     ]
    }
   ],
   "source": [
    "print('Hello, world!'.partition('w'))\n",
    "print('Hello, world!'.partition('world'))\n",
    "print('Hello, world!'.partition('o'))\n",
    "print('Hello, world!'.rpartition('o'))\n",
    "print('Hello, world!'.partition('XYZ'))"
   ]
  },
  {
   "cell_type": "code",
   "execution_count": 16,
   "metadata": {},
   "outputs": [
    {
     "output_type": "stream",
     "name": "stdout",
     "text": [
      "before='Hello,' sep=' ' after='world!'\n"
     ]
    }
   ],
   "source": [
    "before, sep, after = 'Hello, world!'.partition(' ')\n",
    "print(f'{before=} {sep=} {after=}')"
   ]
  },
  {
   "cell_type": "code",
   "execution_count": 17,
   "metadata": {},
   "outputs": [
    {
     "output_type": "stream",
     "name": "stdout",
     "text": [
      "'月,火,水,木,金,土,日'.split(',')=['月', '火', '水', '木', '金', '土', '日']\n'月,火,水,木,金,土,日'.split(',', 1)=['月', '火,水,木,金,土,日']\n"
     ]
    }
   ],
   "source": [
    "print(f\"{'月,火,水,木,金,土,日'.split(',')=}\")\n",
    "print(f\"{'月,火,水,木,金,土,日'.split(',', 1)=}\")"
   ]
  },
  {
   "cell_type": "code",
   "execution_count": 18,
   "metadata": {},
   "outputs": [
    {
     "output_type": "execute_result",
     "data": {
      "text/plain": [
       "['<hello>', '<world>']"
      ]
     },
     "metadata": {},
     "execution_count": 18
    }
   ],
   "source": [
    "\"<hello><><world>\".split(\"<>\")"
   ]
  },
  {
   "cell_type": "code",
   "execution_count": 19,
   "metadata": {},
   "outputs": [
    {
     "output_type": "execute_result",
     "data": {
      "text/plain": [
       "['ab c', '', 'de fg', 'kl']"
      ]
     },
     "metadata": {},
     "execution_count": 19
    }
   ],
   "source": [
    "\"ab c\\n\\nde fg\\rkl\\r\\n\".splitlines()"
   ]
  },
  {
   "cell_type": "code",
   "execution_count": 20,
   "metadata": {},
   "outputs": [
    {
     "output_type": "execute_result",
     "data": {
      "text/plain": [
       "['ab c\\n', '\\n', 'de fg\\r', 'kl\\r\\n']"
      ]
     },
     "metadata": {},
     "execution_count": 20
    }
   ],
   "source": [
    "\"ab c\\n\\nde fg\\rkl\\r\\n\".splitlines(keepends=True)"
   ]
  },
  {
   "source": [
    "## 組み合わせ"
   ],
   "cell_type": "markdown",
   "metadata": {}
  },
  {
   "cell_type": "code",
   "execution_count": 21,
   "metadata": {},
   "outputs": [
    {
     "output_type": "stream",
     "name": "stdout",
     "text": [
      "'_'.join('python')='p_y_t_h_o_n'\n'_'.join(('1', '2' ,'3'))='1_2_3'\n'_'.join(set('python'))='o_n_h_p_t_y'\n'_'.join(['py', 't', 'h', 'on'])='py_t_h_on'\n'_'.join({'name': 'python', 'age': 29})='name_age'\n"
     ]
    }
   ],
   "source": [
    "print(f\"{'_'.join('python')=}\")\n",
    "print(f\"{'_'.join(('1', '2' ,'3'))=}\")\n",
    "print(f\"{'_'.join(set('python'))=}\")\n",
    "print(f\"{'_'.join(['py', 't', 'h', 'on'])=}\")\n",
    "print(f\"{'_'.join({'name': 'python', 'age': 29})=}\")"
   ]
  },
  {
   "cell_type": "code",
   "execution_count": 22,
   "metadata": {},
   "outputs": [
    {
     "output_type": "error",
     "ename": "TypeError",
     "evalue": "sequence item 0: expected str instance, int found",
     "traceback": [
      "\u001b[0;31m---------------------------------------------------------------------------\u001b[0m",
      "\u001b[0;31mTypeError\u001b[0m                                 Traceback (most recent call last)",
      "\u001b[0;32m<ipython-input-22-2b5a4c7dccb5>\u001b[0m in \u001b[0;36m<module>\u001b[0;34m\u001b[0m\n\u001b[1;32m      1\u001b[0m \u001b[0;31m# joinのパラメータは文字列が必要\u001b[0m\u001b[0;34m\u001b[0m\u001b[0;34m\u001b[0m\u001b[0;34m\u001b[0m\u001b[0m\n\u001b[0;32m----> 2\u001b[0;31m \u001b[0;34m\"_\"\u001b[0m\u001b[0;34m.\u001b[0m\u001b[0mjoin\u001b[0m\u001b[0;34m(\u001b[0m\u001b[0;34m(\u001b[0m\u001b[0;36m1\u001b[0m\u001b[0;34m,\u001b[0m \u001b[0;36m2\u001b[0m\u001b[0;34m,\u001b[0m \u001b[0;36m3\u001b[0m\u001b[0;34m)\u001b[0m\u001b[0;34m)\u001b[0m\u001b[0;34m\u001b[0m\u001b[0;34m\u001b[0m\u001b[0m\n\u001b[0m",
      "\u001b[0;31mTypeError\u001b[0m: sequence item 0: expected str instance, int found"
     ]
    }
   ],
   "source": [
    "# joinのパラメータは文字列が必要\n",
    "\"_\".join((1, 2, 3))"
   ]
  },
  {
   "source": [
    "## padding"
   ],
   "cell_type": "markdown",
   "metadata": {}
  },
  {
   "cell_type": "code",
   "execution_count": 23,
   "metadata": {},
   "outputs": [
    {
     "output_type": "stream",
     "name": "stdout",
     "text": [
      "'Hello'.ljust(20, '*')='Hello***************'\n'Hello'.rjust(20, '-')='---------------Hello'\n'Hello'.center(20, '=')='=======Hello========'\n"
     ]
    }
   ],
   "source": [
    "print(f\"{'Hello'.ljust(20, '*')=}\")\n",
    "print(f\"{'Hello'.rjust(20, '-')=}\")\n",
    "print(f\"{'Hello'.center(20, '=')=}\")"
   ]
  },
  {
   "cell_type": "code",
   "execution_count": 24,
   "metadata": {},
   "outputs": [
    {
     "output_type": "stream",
     "name": "stdout",
     "text": [
      "'Hello'.ljust(3, '*')='Hello'\n'Hello'.rjust(3, '-')='Hello'\n'Hello'.center(3, '=')='Hello'\n"
     ]
    }
   ],
   "source": [
    "print(f\"{'Hello'.ljust(3, '*')=}\")\n",
    "print(f\"{'Hello'.rjust(3, '-')=}\")\n",
    "print(f\"{'Hello'.center(3, '=')=}\")"
   ]
  },
  {
   "cell_type": "code",
   "execution_count": 25,
   "metadata": {},
   "outputs": [
    {
     "output_type": "stream",
     "name": "stdout",
     "text": [
      "'abc'.zfill(5)='00abc'\n'-abc'.zfill(5)='-0abc'\n'+abc'.zfill(5)='+0abc'\n'42'.zfill(5)='00042'\n'-42'.zfill(5)='-0042'\n'+42'.zfill(5)='+0042'\n"
     ]
    }
   ],
   "source": [
    "print(f\"{'abc'.zfill(5)=}\")\n",
    "print(f\"{'-abc'.zfill(5)=}\")\n",
    "print(f\"{'+abc'.zfill(5)=}\")\n",
    "print(f\"{'42'.zfill(5)=}\")\n",
    "print(f\"{'-42'.zfill(5)=}\")\n",
    "print(f\"{'+42'.zfill(5)=}\")"
   ]
  },
  {
   "source": [
    "## 刈り込む"
   ],
   "cell_type": "markdown",
   "metadata": {}
  },
  {
   "cell_type": "code",
   "execution_count": 26,
   "metadata": {},
   "outputs": [
    {
     "output_type": "stream",
     "name": "stdout",
     "text": [
      "spam.strip()='Hello, World'\nspam.lstrip()='Hello, World  '\nspam.rstrip()='  Hello, World'\n"
     ]
    }
   ],
   "source": [
    "spam = '  Hello, World  '\n",
    "print(f'{spam.strip()=}')\n",
    "print(f'{spam.lstrip()=}')\n",
    "print(f'{spam.rstrip()=}')"
   ]
  },
  {
   "cell_type": "code",
   "execution_count": 27,
   "metadata": {},
   "outputs": [
    {
     "output_type": "execute_result",
     "data": {
      "text/plain": [
       "'BaconSpamEggs'"
      ]
     },
     "metadata": {},
     "execution_count": 27
    }
   ],
   "source": [
    "spam = 'SpamSpamBaconSpamEggsSpamSpam'\n",
    "spam.strip('ampS')"
   ]
  },
  {
   "source": [
    "## 探索"
   ],
   "cell_type": "markdown",
   "metadata": {}
  },
  {
   "cell_type": "code",
   "execution_count": 28,
   "metadata": {},
   "outputs": [
    {
     "output_type": "stream",
     "name": "stdout",
     "text": [
      "'abcxyz'.endswith('xyz')=True\n'abcxyz'.endswith('xyz', 4)=False\n'abcxyz'.endswith('xyz', 0, 5)=False\n'abcxyz'.endswith('xyz', 0, 6)=True\n"
     ]
    }
   ],
   "source": [
    "print(f\"{'abcxyz'.endswith('xyz')=}\")\n",
    "print(f\"{'abcxyz'.endswith('xyz', 4)=}\")\n",
    "print(f\"{'abcxyz'.endswith('xyz', 0, 5)=}\")\n",
    "print(f\"{'abcxyz'.endswith('xyz', 0, 6)=}\")"
   ]
  },
  {
   "cell_type": "code",
   "execution_count": 29,
   "metadata": {},
   "outputs": [
    {
     "output_type": "stream",
     "name": "stdout",
     "text": [
      "'abcxyz'.startswith(('xyz', 'abc'))=True\n"
     ]
    }
   ],
   "source": [
    "print(f\"{'abcxyz'.startswith(('xyz', 'abc'))=}\")\n"
   ]
  },
  {
   "cell_type": "code",
   "execution_count": 30,
   "metadata": {},
   "outputs": [
    {
     "output_type": "stream",
     "name": "stdout",
     "text": [
      "'xy' in 'abxycd'=True\n"
     ]
    }
   ],
   "source": [
    "print(f\"{'xy' in 'abxycd'=}\")"
   ]
  },
  {
   "cell_type": "code",
   "execution_count": 31,
   "metadata": {},
   "outputs": [
    {
     "output_type": "stream",
     "name": "stdout",
     "text": [
      "'abcxyzXY'.find('xy')=3\n'abcxyzXY'.find('xy', 4)=-1\n'abcxyzXY'.find('Xy')=-1\n"
     ]
    }
   ],
   "source": [
    "print(f\"{'abcxyzXY'.find('xy')=}\")\n",
    "print(f\"{'abcxyzXY'.find('xy', 4)=}\")\n",
    "print(f\"{'abcxyzXY'.find('Xy')=}\")"
   ]
  },
  {
   "cell_type": "code",
   "execution_count": 32,
   "metadata": {},
   "outputs": [
    {
     "output_type": "stream",
     "name": "stdout",
     "text": [
      "'abcxyzabc'.find('abc')=0\n'abcxyzabc'.rfind('abc')=6\n"
     ]
    }
   ],
   "source": [
    "print(f\"{'abcxyzabc'.find('abc')=}\")\n",
    "print(f\"{'abcxyzabc'.rfind('abc')=}\")\n"
   ]
  },
  {
   "source": [
    "## 入れ替え"
   ],
   "cell_type": "markdown",
   "metadata": {}
  },
  {
   "cell_type": "code",
   "execution_count": 33,
   "metadata": {},
   "outputs": [
    {
     "output_type": "stream",
     "name": "stdout",
     "text": [
      "'abcxyzoxy'.replace('xy', 'XY')='abcXYzoXY'\n'abcxyzoxy'.replace('xy', 'XY', 1)='abcXYzoxy'\n'abcxyzoxy'.replace('mn', 'XY', 1)='abcxyzoxy'\n"
     ]
    }
   ],
   "source": [
    "print(f\"{'abcxyzoxy'.replace('xy', 'XY')=}\")\n",
    "print(f\"{'abcxyzoxy'.replace('xy', 'XY', 1)=}\")\n",
    "print(f\"{'abcxyzoxy'.replace('mn', 'XY', 1)=}\")"
   ]
  },
  {
   "cell_type": "code",
   "execution_count": 34,
   "metadata": {},
   "outputs": [
    {
     "output_type": "execute_result",
     "data": {
      "text/plain": [
       "'01  012 0123    01234'"
      ]
     },
     "metadata": {},
     "execution_count": 34
    }
   ],
   "source": [
    "'01\\t012\\t0123\\t01234'.expandtabs(4) # 2 1 4"
   ]
  },
  {
   "cell_type": "code",
   "execution_count": 35,
   "metadata": {},
   "outputs": [
    {
     "output_type": "execute_result",
     "data": {
      "text/plain": [
       "'01      012     0123    01234'"
      ]
     },
     "metadata": {},
     "execution_count": 35
    }
   ],
   "source": [
    "'01\\t012\\t0123\\t01234'.expandtabs(8) # 6 5 4"
   ]
  },
  {
   "cell_type": "code",
   "execution_count": 36,
   "metadata": {},
   "outputs": [
    {
     "output_type": "execute_result",
     "data": {
      "text/plain": [
       "'N qtAj dtz'"
      ]
     },
     "metadata": {},
     "execution_count": 36
    }
   ],
   "source": [
    "input = string.ascii_letters\n",
    "output = input[5:] + input[:5]\n",
    "\n",
    "map_table = str.maketrans(input, output)\n",
    "\n",
    "'I love You'.translate(map_table)"
   ]
  },
  {
   "source": [
    "## Format"
   ],
   "cell_type": "markdown",
   "metadata": {}
  },
  {
   "cell_type": "code",
   "execution_count": 37,
   "metadata": {},
   "outputs": [
    {
     "output_type": "execute_result",
     "data": {
      "text/plain": [
       "'The sum of 1 + 2 is 3'"
      ]
     },
     "metadata": {},
     "execution_count": 37
    }
   ],
   "source": [
    "\"The sum of 1 + 2 is {0}\".format(1 + 2)"
   ]
  },
  {
   "source": [
    "[書式指定文字列の文法](https://docs.python.org/ja/3/library/string.html#formatstrings)"
   ],
   "cell_type": "markdown",
   "metadata": {}
  },
  {
   "source": [
    "format_spec     ::=  [[fill]align][sign][#][0][width][grouping_option][.precision][type]\n",
    "fill            ::=  <any character>\n",
    "align           ::=  \"<\" | \">\" | \"=\" | \"^\"\n",
    "sign            ::=  \"+\" | \"-\" | \" \"\n",
    "width           ::=  digit+\n",
    "grouping_option ::=  \"_\" | \",\"\n",
    "precision       ::=  digit+\n",
    "type            ::=  \"b\" | \"c\" | \"d\" | \"e\" | \"E\" | \"f\" | \"F\" | \"g\" | \"G\" | \"n\" | \"o\" | \"s\" | \"x\" | \"X\" | \"%\""
   ],
   "cell_type": "code",
   "metadata": {},
   "execution_count": null,
   "outputs": []
  },
  {
   "cell_type": "code",
   "execution_count": 38,
   "metadata": {},
   "outputs": [
    {
     "output_type": "execute_result",
     "data": {
      "text/plain": [
       "'B2 7C 9B 0D'"
      ]
     },
     "metadata": {},
     "execution_count": 38
    }
   ],
   "source": [
    "ip_address = [int(x) for x in \"178.124.155.13\".split(\".\")]\n",
    "\"{:02X} {:02X} {:02X} {:02X}\".format(*ip_address)"
   ]
  },
  {
   "source": [
    "## ClipBoard"
   ],
   "cell_type": "markdown",
   "metadata": {}
  },
  {
   "source": [
    "pip install pyperclip"
   ],
   "cell_type": "markdown",
   "metadata": {}
  },
  {
   "cell_type": "code",
   "execution_count": 39,
   "metadata": {},
   "outputs": [],
   "source": [
    "import pyperclip\n"
   ]
  },
  {
   "cell_type": "code",
   "execution_count": 40,
   "metadata": {},
   "outputs": [
    {
     "output_type": "execute_result",
     "data": {
      "text/plain": [
       "'Hello, World'"
      ]
     },
     "metadata": {},
     "execution_count": 40
    }
   ],
   "source": [
    "pyperclip.copy('Hello, World')\n",
    "pyperclip.paste()"
   ]
  },
  {
   "cell_type": "code",
   "execution_count": null,
   "metadata": {},
   "outputs": [],
   "source": []
  }
 ]
}