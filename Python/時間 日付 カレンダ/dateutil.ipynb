{
 "metadata": {
  "language_info": {
   "codemirror_mode": {
    "name": "ipython",
    "version": 3
   },
   "file_extension": ".py",
   "mimetype": "text/x-python",
   "name": "python",
   "nbconvert_exporter": "python",
   "pygments_lexer": "ipython3",
   "version": "3.8.6-final"
  },
  "orig_nbformat": 2,
  "kernelspec": {
   "name": "Python 3.8.6 64-bit",
   "display_name": "Python 3.8.6 64-bit",
   "metadata": {
    "interpreter": {
     "hash": "082e9a3bcad0a290d0001e938aa60b99250c6c2ef33a923c00b70f9826caf4b7"
    }
   }
  }
 },
 "nbformat": 4,
 "nbformat_minor": 2,
 "cells": [
  {
   "cell_type": "code",
   "execution_count": 1,
   "metadata": {},
   "outputs": [
    {
     "output_type": "stream",
     "name": "stdout",
     "text": [
      "Name: pandas\n",
      "Version: 1.1.3\n",
      "Summary: Powerful data structures for data analysis, time series, and statistics\n",
      "Home-page: https://pandas.pydata.org\n",
      "Author: None\n",
      "Author-email: None\n",
      "License: BSD\n",
      "Location: /Library/Frameworks/Python.framework/Versions/3.8/lib/python3.8/site-packages\n",
      "Requires: pytz, numpy, python-dateutil\n",
      "Required-by: seaborn\n"
     ]
    }
   ],
   "source": [
    "!pip show pandas"
   ]
  },
  {
   "source": [
    "> pandasに依存されるモジュール"
   ],
   "cell_type": "markdown",
   "metadata": {}
  },
  {
   "source": [
    "## relativedelta"
   ],
   "cell_type": "markdown",
   "metadata": {}
  },
  {
   "cell_type": "code",
   "execution_count": 4,
   "metadata": {},
   "outputs": [],
   "source": [
    "import datetime as dt\n",
    "import calendar\n",
    "from dateutil.relativedelta import *"
   ]
  },
  {
   "cell_type": "code",
   "execution_count": 6,
   "metadata": {},
   "outputs": [
    {
     "output_type": "stream",
     "name": "stdout",
     "text": [
      "NOW=datetime.datetime(2020, 11, 8, 22, 17, 0, 181993)\nTODAY=datetime.date(2020, 11, 8)\n"
     ]
    }
   ],
   "source": [
    "NOW = dt.datetime.now()\n",
    "TODAY = dt.date.today()\n",
    "\n",
    "print(f\"{NOW=}\")\n",
    "print(f\"{TODAY=}\")"
   ]
  },
  {
   "cell_type": "code",
   "execution_count": 7,
   "metadata": {},
   "outputs": [
    {
     "output_type": "execute_result",
     "data": {
      "text/plain": [
       "datetime.datetime(2020, 12, 8, 22, 17, 0, 181993)"
      ]
     },
     "metadata": {},
     "execution_count": 7
    }
   ],
   "source": [
    "NOW + relativedelta(months=+1) # 翌月"
   ]
  },
  {
   "cell_type": "code",
   "execution_count": 8,
   "metadata": {},
   "outputs": [
    {
     "output_type": "execute_result",
     "data": {
      "text/plain": [
       "datetime.datetime(2020, 12, 15, 22, 17, 0, 181993)"
      ]
     },
     "metadata": {},
     "execution_count": 8
    }
   ],
   "source": [
    "NOW + relativedelta(months=+1, weeks=+1) # 翌月プラス一週間"
   ]
  },
  {
   "cell_type": "code",
   "execution_count": 9,
   "metadata": {},
   "outputs": [
    {
     "output_type": "execute_result",
     "data": {
      "text/plain": [
       "datetime.datetime(2020, 12, 15, 10, 0)"
      ]
     },
     "metadata": {},
     "execution_count": 9
    }
   ],
   "source": [
    "TODAY + relativedelta(months=+1, weeks=+1, hour=10) # 翌月プラス一週間、朝10時"
   ]
  },
  {
   "cell_type": "code",
   "execution_count": 10,
   "metadata": {},
   "outputs": [
    {
     "output_type": "execute_result",
     "data": {
      "text/plain": [
       "datetime.datetime(1, 1, 8, 22, 17, 0, 181993)"
      ]
     },
     "metadata": {},
     "execution_count": 10
    }
   ],
   "source": [
    "NOW + relativedelta(year=1, month=1) # 年、月が取り替えられた"
   ]
  },
  {
   "cell_type": "code",
   "execution_count": 11,
   "metadata": {},
   "outputs": [
    {
     "output_type": "execute_result",
     "data": {
      "text/plain": [
       "relativedelta(months=+1, days=+24)"
      ]
     },
     "metadata": {},
     "execution_count": 11
    }
   ],
   "source": [
    "relativedelta(dt.date(2021, 1, 1), TODAY) # 差分"
   ]
  },
  {
   "cell_type": "code",
   "execution_count": 12,
   "metadata": {},
   "outputs": [
    {
     "output_type": "execute_result",
     "data": {
      "text/plain": [
       "datetime.datetime(2021, 10, 8, 22, 17, 0, 181993)"
      ]
     },
     "metadata": {},
     "execution_count": 12
    }
   ],
   "source": [
    "NOW + relativedelta(years=+1, months=-1) # 11ヶ月後"
   ]
  },
  {
   "cell_type": "code",
   "execution_count": 13,
   "metadata": {},
   "outputs": [
    {
     "output_type": "execute_result",
     "data": {
      "text/plain": [
       "datetime.date(2020, 2, 29)"
      ]
     },
     "metadata": {},
     "execution_count": 13
    }
   ],
   "source": [
    "dt.date(2020, 1, 31) + relativedelta(months=+1) # 限界を超えない"
   ]
  },
  {
   "cell_type": "code",
   "execution_count": 14,
   "metadata": {},
   "outputs": [
    {
     "output_type": "execute_result",
     "data": {
      "text/plain": [
       "datetime.date(2021, 2, 28)"
      ]
     },
     "metadata": {},
     "execution_count": 14
    }
   ],
   "source": [
    "dt.date(2020, 2, 29) + relativedelta(years=1) # 閏年も"
   ]
  },
  {
   "cell_type": "code",
   "execution_count": 15,
   "metadata": {},
   "outputs": [
    {
     "output_type": "execute_result",
     "data": {
      "text/plain": [
       "datetime.date(2020, 11, 13)"
      ]
     },
     "metadata": {},
     "execution_count": 15
    }
   ],
   "source": [
    "TODAY + relativedelta(weekday=FR) # 来週の金曜日"
   ]
  },
  {
   "cell_type": "code",
   "execution_count": 17,
   "metadata": {},
   "outputs": [
    {
     "output_type": "execute_result",
     "data": {
      "text/plain": [
       "datetime.date(2020, 11, 13)"
      ]
     },
     "metadata": {},
     "execution_count": 17
    }
   ],
   "source": [
    "TODAY + relativedelta(weekday=calendar.FRIDAY) # 同じ"
   ]
  },
  {
   "cell_type": "code",
   "execution_count": 18,
   "metadata": {},
   "outputs": [
    {
     "output_type": "execute_result",
     "data": {
      "text/plain": [
       "datetime.date(2020, 11, 27)"
      ]
     },
     "metadata": {},
     "execution_count": 18
    }
   ],
   "source": [
    "TODAY + relativedelta(day=30, weekday=FR(-1)) # 今月の最後の金曜日"
   ]
  },
  {
   "cell_type": "code",
   "execution_count": 19,
   "metadata": {},
   "outputs": [
    {
     "output_type": "execute_result",
     "data": {
      "text/plain": [
       "datetime.date(2020, 11, 11)"
      ]
     },
     "metadata": {},
     "execution_count": 19
    }
   ],
   "source": [
    "TODAY + relativedelta(weekday=WE(+1)) # 次の水曜日"
   ]
  },
  {
   "cell_type": "code",
   "execution_count": 21,
   "metadata": {},
   "outputs": [
    {
     "output_type": "execute_result",
     "data": {
      "text/plain": [
       "datetime.date(2020, 11, 8)"
      ]
     },
     "metadata": {},
     "execution_count": 21
    }
   ],
   "source": [
    "dt.date(2020, 1, 1) + relativedelta(yearday=313) # 何日過ぎたで日付取得"
   ]
  },
  {
   "source": [
    "## rrule"
   ],
   "cell_type": "markdown",
   "metadata": {}
  },
  {
   "cell_type": "code",
   "execution_count": 1,
   "metadata": {},
   "outputs": [],
   "source": [
    "from dateutil.rrule import *\n",
    "from dateutil.parser import *\n",
    "from datetime import *"
   ]
  },
  {
   "cell_type": "code",
   "execution_count": 2,
   "metadata": {},
   "outputs": [
    {
     "output_type": "execute_result",
     "data": {
      "text/plain": [
       "[datetime.datetime(2020, 8, 8, 8, 0),\n",
       " datetime.datetime(2020, 8, 9, 8, 0),\n",
       " datetime.datetime(2020, 8, 10, 8, 0),\n",
       " datetime.datetime(2020, 8, 11, 8, 0),\n",
       " datetime.datetime(2020, 8, 12, 8, 0),\n",
       " datetime.datetime(2020, 8, 13, 8, 0),\n",
       " datetime.datetime(2020, 8, 14, 8, 0)]"
      ]
     },
     "metadata": {},
     "execution_count": 2
    }
   ],
   "source": [
    "# 日ごと、7回\n",
    "list(rrule(DAILY, count=7, dtstart=parse(\"20200808T080000\")))"
   ]
  },
  {
   "cell_type": "code",
   "execution_count": 3,
   "metadata": {},
   "outputs": [
    {
     "output_type": "execute_result",
     "data": {
      "text/plain": [
       "[datetime.datetime(2020, 11, 9, 0, 0),\n",
       " datetime.datetime(2020, 11, 10, 0, 0),\n",
       " datetime.datetime(2020, 11, 11, 0, 0),\n",
       " datetime.datetime(2020, 11, 12, 0, 0),\n",
       " datetime.datetime(2020, 11, 13, 0, 0),\n",
       " datetime.datetime(2020, 11, 14, 0, 0),\n",
       " datetime.datetime(2020, 11, 15, 0, 0),\n",
       " datetime.datetime(2020, 11, 16, 0, 0),\n",
       " datetime.datetime(2020, 11, 17, 0, 0),\n",
       " datetime.datetime(2020, 11, 18, 0, 0),\n",
       " datetime.datetime(2020, 11, 19, 0, 0),\n",
       " datetime.datetime(2020, 11, 20, 0, 0),\n",
       " datetime.datetime(2020, 11, 21, 0, 0),\n",
       " datetime.datetime(2020, 11, 22, 0, 0),\n",
       " datetime.datetime(2020, 11, 23, 0, 0),\n",
       " datetime.datetime(2020, 11, 24, 0, 0),\n",
       " datetime.datetime(2020, 11, 25, 0, 0),\n",
       " datetime.datetime(2020, 11, 26, 0, 0),\n",
       " datetime.datetime(2020, 11, 27, 0, 0),\n",
       " datetime.datetime(2020, 11, 28, 0, 0),\n",
       " datetime.datetime(2020, 11, 29, 0, 0),\n",
       " datetime.datetime(2020, 11, 30, 0, 0),\n",
       " datetime.datetime(2020, 12, 1, 0, 0),\n",
       " datetime.datetime(2020, 12, 2, 0, 0),\n",
       " datetime.datetime(2020, 12, 3, 0, 0),\n",
       " datetime.datetime(2020, 12, 4, 0, 0),\n",
       " datetime.datetime(2020, 12, 5, 0, 0),\n",
       " datetime.datetime(2020, 12, 6, 0, 0),\n",
       " datetime.datetime(2020, 12, 7, 0, 0),\n",
       " datetime.datetime(2020, 12, 8, 0, 0),\n",
       " datetime.datetime(2020, 12, 9, 0, 0),\n",
       " datetime.datetime(2020, 12, 10, 0, 0),\n",
       " datetime.datetime(2020, 12, 11, 0, 0),\n",
       " datetime.datetime(2020, 12, 12, 0, 0),\n",
       " datetime.datetime(2020, 12, 13, 0, 0),\n",
       " datetime.datetime(2020, 12, 14, 0, 0),\n",
       " datetime.datetime(2020, 12, 15, 0, 0),\n",
       " datetime.datetime(2020, 12, 16, 0, 0),\n",
       " datetime.datetime(2020, 12, 17, 0, 0),\n",
       " datetime.datetime(2020, 12, 18, 0, 0),\n",
       " datetime.datetime(2020, 12, 19, 0, 0),\n",
       " datetime.datetime(2020, 12, 20, 0, 0),\n",
       " datetime.datetime(2020, 12, 21, 0, 0),\n",
       " datetime.datetime(2020, 12, 22, 0, 0),\n",
       " datetime.datetime(2020, 12, 23, 0, 0),\n",
       " datetime.datetime(2020, 12, 24, 0, 0),\n",
       " datetime.datetime(2020, 12, 25, 0, 0)]"
      ]
     },
     "metadata": {},
     "execution_count": 3
    }
   ],
   "source": [
    "# クリスマスまで\n",
    "list(rrule(\n",
    "    DAILY,\n",
    "    dtstart=parse(\"20201109\"),\n",
    "    until=parse(\"20201225\")\n",
    "))"
   ]
  },
  {
   "cell_type": "code",
   "execution_count": 4,
   "metadata": {},
   "outputs": [
    {
     "output_type": "execute_result",
     "data": {
      "text/plain": [
       "[datetime.datetime(2021, 1, 1, 0, 0),\n",
       " datetime.datetime(2021, 1, 3, 0, 0),\n",
       " datetime.datetime(2021, 1, 5, 0, 0),\n",
       " datetime.datetime(2021, 1, 7, 0, 0),\n",
       " datetime.datetime(2021, 1, 9, 0, 0)]"
      ]
     },
     "metadata": {},
     "execution_count": 4
    }
   ],
   "source": [
    "# 1日おき、5回\n",
    "list(rrule(\n",
    "    DAILY,\n",
    "    interval=2,\n",
    "    count=5,\n",
    "    dtstart=parse(\"20210101\")\n",
    "))"
   ]
  },
  {
   "cell_type": "code",
   "execution_count": 7,
   "metadata": {},
   "outputs": [
    {
     "output_type": "execute_result",
     "data": {
      "text/plain": [
       "[datetime.datetime(2020, 1, 5, 0, 0),\n",
       " datetime.datetime(2020, 1, 12, 0, 0),\n",
       " datetime.datetime(2020, 1, 19, 0, 0),\n",
       " datetime.datetime(2020, 1, 26, 0, 0),\n",
       " datetime.datetime(2021, 1, 3, 0, 0),\n",
       " datetime.datetime(2021, 1, 10, 0, 0),\n",
       " datetime.datetime(2021, 1, 17, 0, 0),\n",
       " datetime.datetime(2021, 1, 24, 0, 0),\n",
       " datetime.datetime(2021, 1, 31, 0, 0)]"
      ]
     },
     "metadata": {},
     "execution_count": 7
    }
   ],
   "source": [
    "# 2020年1月1日から2021年1月31日まで一月の全ての日曜日\n",
    "list(rrule(\n",
    "    YEARLY,\n",
    "    bymonth=1,\n",
    "    byweekday=SU,\n",
    "    dtstart=parse(\"20200101\"),\n",
    "    until=parse(\"20210131\")\n",
    "))"
   ]
  },
  {
   "cell_type": "code",
   "execution_count": 11,
   "metadata": {},
   "outputs": [
    {
     "output_type": "execute_result",
     "data": {
      "text/plain": [
       "[datetime.datetime(2021, 1, 2, 0, 0),\n",
       " datetime.datetime(2021, 1, 3, 0, 0),\n",
       " datetime.datetime(2021, 2, 6, 0, 0),\n",
       " datetime.datetime(2021, 2, 7, 0, 0),\n",
       " datetime.datetime(2021, 3, 6, 0, 0),\n",
       " datetime.datetime(2021, 3, 7, 0, 0),\n",
       " datetime.datetime(2021, 4, 3, 0, 0),\n",
       " datetime.datetime(2021, 4, 4, 0, 0),\n",
       " datetime.datetime(2021, 5, 1, 0, 0),\n",
       " datetime.datetime(2021, 5, 2, 0, 0),\n",
       " datetime.datetime(2021, 6, 5, 0, 0),\n",
       " datetime.datetime(2021, 6, 6, 0, 0),\n",
       " datetime.datetime(2021, 7, 3, 0, 0),\n",
       " datetime.datetime(2021, 7, 4, 0, 0),\n",
       " datetime.datetime(2021, 8, 1, 0, 0),\n",
       " datetime.datetime(2021, 8, 7, 0, 0),\n",
       " datetime.datetime(2021, 9, 4, 0, 0),\n",
       " datetime.datetime(2021, 9, 5, 0, 0),\n",
       " datetime.datetime(2021, 10, 2, 0, 0),\n",
       " datetime.datetime(2021, 10, 3, 0, 0),\n",
       " datetime.datetime(2021, 11, 6, 0, 0),\n",
       " datetime.datetime(2021, 11, 7, 0, 0),\n",
       " datetime.datetime(2021, 12, 4, 0, 0),\n",
       " datetime.datetime(2021, 12, 5, 0, 0)]"
      ]
     },
     "metadata": {},
     "execution_count": 11
    }
   ],
   "source": [
    "# 年間の毎月最初の土日\n",
    "list(rrule(\n",
    "    MONTHLY,\n",
    "    count=24,\n",
    "    byweekday=(SA(1),SU(1)),\n",
    "    dtstart=parse(\"20210101\")\n",
    "))"
   ]
  },
  {
   "cell_type": "code",
   "execution_count": 12,
   "metadata": {},
   "outputs": [
    {
     "output_type": "execute_result",
     "data": {
      "text/plain": [
       "[datetime.datetime(2021, 1, 3, 0, 0),\n",
       " datetime.datetime(2021, 1, 31, 0, 0),\n",
       " datetime.datetime(2021, 3, 7, 0, 0),\n",
       " datetime.datetime(2021, 3, 28, 0, 0),\n",
       " datetime.datetime(2021, 5, 2, 0, 0),\n",
       " datetime.datetime(2021, 5, 30, 0, 0),\n",
       " datetime.datetime(2021, 7, 4, 0, 0),\n",
       " datetime.datetime(2021, 7, 25, 0, 0),\n",
       " datetime.datetime(2021, 9, 5, 0, 0),\n",
       " datetime.datetime(2021, 9, 26, 0, 0)]"
      ]
     },
     "metadata": {},
     "execution_count": 12
    }
   ],
   "source": [
    "# 一ヶ月おき、毎月の最初と最後の日曜日、10回カウント\n",
    "list(rrule(\n",
    "    MONTHLY,\n",
    "    interval=2,\n",
    "    count=10,\n",
    "    byweekday=(SU(1), SU(-1)),\n",
    "    dtstart=parse(\"20210101\")\n",
    "))"
   ]
  },
  {
   "cell_type": "code",
   "execution_count": 13,
   "metadata": {},
   "outputs": [
    {
     "output_type": "execute_result",
     "data": {
      "text/plain": [
       "[datetime.datetime(2021, 1, 2, 0, 0),\n",
       " datetime.datetime(2021, 1, 15, 0, 0),\n",
       " datetime.datetime(2021, 2, 2, 0, 0),\n",
       " datetime.datetime(2021, 2, 15, 0, 0),\n",
       " datetime.datetime(2021, 3, 2, 0, 0)]"
      ]
     },
     "metadata": {},
     "execution_count": 13
    }
   ],
   "source": [
    "# 毎月の2日と15日、5回カウント\n",
    "list(rrule(\n",
    "    MONTHLY,\n",
    "    count=5,\n",
    "    bymonthday=(2, 15),\n",
    "    dtstart=parse(\"20201225\")\n",
    "))"
   ]
  },
  {
   "cell_type": "code",
   "execution_count": 14,
   "metadata": {},
   "outputs": [
    {
     "output_type": "execute_result",
     "data": {
      "text/plain": [
       "[datetime.datetime(2020, 11, 30, 0, 0),\n",
       " datetime.datetime(2020, 12, 1, 0, 0),\n",
       " datetime.datetime(2020, 12, 31, 0, 0),\n",
       " datetime.datetime(2021, 1, 1, 0, 0),\n",
       " datetime.datetime(2021, 1, 31, 0, 0)]"
      ]
     },
     "metadata": {},
     "execution_count": 14
    }
   ],
   "source": [
    "list(rrule(\n",
    "    MONTHLY,\n",
    "    count=5,\n",
    "    bymonthday=(-1, 1, ), # 月の最初と最後の日\n",
    "    dtstart=parse(\"20201111\")\n",
    "))"
   ]
  },
  {
   "cell_type": "code",
   "execution_count": 15,
   "metadata": {},
   "outputs": [
    {
     "output_type": "execute_result",
     "data": {
      "text/plain": [
       "[datetime.datetime(2020, 6, 1, 0, 0),\n",
       " datetime.datetime(2020, 7, 1, 0, 0),\n",
       " datetime.datetime(2021, 6, 1, 0, 0),\n",
       " datetime.datetime(2021, 7, 1, 0, 0)]"
      ]
     },
     "metadata": {},
     "execution_count": 15
    }
   ],
   "source": [
    "list(rrule(\n",
    "    YEARLY,\n",
    "    count=4,\n",
    "    bymonth=(6, 7), # 6月、７月\n",
    "    dtstart=parse(\"20200401\")\n",
    "))"
   ]
  },
  {
   "cell_type": "code",
   "execution_count": 16,
   "metadata": {},
   "outputs": [
    {
     "output_type": "execute_result",
     "data": {
      "text/plain": [
       "[datetime.datetime(2020, 4, 9, 22, 22, 22),\n",
       " datetime.datetime(2020, 7, 18, 22, 22, 22),\n",
       " datetime.datetime(2020, 10, 26, 22, 22, 22),\n",
       " datetime.datetime(2023, 1, 1, 22, 22, 22)]"
      ]
     },
     "metadata": {},
     "execution_count": 16
    }
   ],
   "source": [
    "list(rrule(\n",
    "    YEARLY,\n",
    "    count=4,\n",
    "    interval=3,\n",
    "    byyearday=(1, 100, 200, 300), # 1年の1日目、100日目、200日目、300日目\n",
    "    dtstart=parse(\"20200131T222222\")\n",
    "))"
   ]
  },
  {
   "cell_type": "code",
   "execution_count": 17,
   "metadata": {},
   "outputs": [
    {
     "output_type": "execute_result",
     "data": {
      "text/plain": [
       "[datetime.datetime(2021, 5, 17, 0, 0),\n",
       " datetime.datetime(2022, 5, 16, 0, 0),\n",
       " datetime.datetime(2023, 5, 15, 0, 0)]"
      ]
     },
     "metadata": {},
     "execution_count": 17
    }
   ],
   "source": [
    "list(rrule(\n",
    "    YEARLY,\n",
    "    count=3,\n",
    "    byweekday=MO(20), # 20番目の月曜日\n",
    "    dtstart=parse(\"20210105\")\n",
    "))"
   ]
  },
  {
   "cell_type": "code",
   "execution_count": 18,
   "metadata": {},
   "outputs": [
    {
     "output_type": "execute_result",
     "data": {
      "text/plain": [
       "[datetime.datetime(2020, 12, 28, 0, 0),\n",
       " datetime.datetime(2026, 12, 28, 0, 0),\n",
       " datetime.datetime(2032, 12, 27, 0, 0)]"
      ]
     },
     "metadata": {},
     "execution_count": 18
    }
   ],
   "source": [
    "list(rrule(\n",
    "    WEEKLY,\n",
    "    count=3,\n",
    "    byweekno=53, #53週目\n",
    "    byweekday=MO,\n",
    "    dtstart=parse(\"20201111\")\n",
    "))"
   ]
  }
 ]
}