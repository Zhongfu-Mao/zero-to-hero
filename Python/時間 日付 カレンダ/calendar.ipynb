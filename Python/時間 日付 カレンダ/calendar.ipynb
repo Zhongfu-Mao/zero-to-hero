{
 "metadata": {
  "language_info": {
   "codemirror_mode": {
    "name": "ipython",
    "version": 3
   },
   "file_extension": ".py",
   "mimetype": "text/x-python",
   "name": "python",
   "nbconvert_exporter": "python",
   "pygments_lexer": "ipython3",
   "version": "3.8.6-final"
  },
  "orig_nbformat": 2,
  "kernelspec": {
   "name": "Python 3.8.6 64-bit",
   "display_name": "Python 3.8.6 64-bit",
   "metadata": {
    "interpreter": {
     "hash": "082e9a3bcad0a290d0001e938aa60b99250c6c2ef33a923c00b70f9826caf4b7"
    }
   }
  }
 },
 "nbformat": 4,
 "nbformat_minor": 2,
 "cells": [
  {
   "source": [
    "参考資料\n",
    "* [Pythonのcalendarでカレンダーを取得・出力（テキスト、HTMLなど）](https://note.nkmk.me/python-calendar-text-html-list/)\n",
    "* [PYMOTW](https://pymotw.com/3/calendar/index.html)"
   ],
   "cell_type": "markdown",
   "metadata": {}
  },
  {
   "source": [
    "## 月間カレンダー"
   ],
   "cell_type": "markdown",
   "metadata": {}
  },
  {
   "source": [
    "### month()"
   ],
   "cell_type": "markdown",
   "metadata": {}
  },
  {
   "cell_type": "code",
   "execution_count": 2,
   "metadata": {},
   "outputs": [
    {
     "output_type": "stream",
     "name": "stdout",
     "text": [
      "   November 2020\nMo Tu We Th Fr Sa Su\n                   1\n 2  3  4  5  6  7  8\n 9 10 11 12 13 14 15\n16 17 18 19 20 21 22\n23 24 25 26 27 28 29\n30\n\n"
     ]
    }
   ],
   "source": [
    "import calendar\n",
    "\n",
    "print(calendar.month(2020, 11)) # 戻り値は文字列"
   ]
  },
  {
   "cell_type": "code",
   "execution_count": 3,
   "metadata": {},
   "outputs": [
    {
     "output_type": "stream",
     "name": "stdout",
     "text": [
      "                     November 2020\n\n  Mon     Tue     Wed     Thu     Fri     Sat     Sun\n\n                                                    1\n\n    2       3       4       5       6       7       8\n\n    9      10      11      12      13      14      15\n\n   16      17      18      19      20      21      22\n\n   23      24      25      26      27      28      29\n\n   30\n\n\n"
     ]
    }
   ],
   "source": [
    "# 引数wで列幅、引数lで行幅を指定可能\n",
    "print(calendar.month(2020, 11, w=7, l=2))"
   ]
  },
  {
   "source": [
    "### prmonth()"
   ],
   "cell_type": "markdown",
   "metadata": {}
  },
  {
   "cell_type": "code",
   "execution_count": 2,
   "metadata": {},
   "outputs": [
    {
     "output_type": "stream",
     "name": "stdout",
     "text": [
      "   November 2020\nSu Mo Tu We Th Fr Sa\n 1  2  3  4  5  6  7\n 8  9 10 11 12 13 14\n15 16 17 18 19 20 21\n22 23 24 25 26 27 28\n29 30\n"
     ]
    }
   ],
   "source": [
    "import calendar\n",
    "\n",
    "c = calendar.TextCalendar(calendar.SUNDAY) # 日曜日を一週間のスタートとする(デフォルトは月曜日)\n",
    "c.prmonth(2020, 11)"
   ]
  },
  {
   "source": [
    "> `prmonth()`はフォーマットずみの月間カレンダーを出力する  \n",
    "> 一方、`month()`は文字列を戻る"
   ],
   "cell_type": "markdown",
   "metadata": {}
  },
  {
   "source": [
    "## 年間カレンダー"
   ],
   "cell_type": "markdown",
   "metadata": {}
  },
  {
   "source": [
    "### calendar()"
   ],
   "cell_type": "markdown",
   "metadata": {}
  },
  {
   "cell_type": "code",
   "execution_count": 10,
   "metadata": {},
   "outputs": [
    {
     "output_type": "stream",
     "name": "stdout",
     "text": [
      "                                  2020\n\n      January                   February                   March\nMo Tu We Th Fr Sa Su      Mo Tu We Th Fr Sa Su      Mo Tu We Th Fr Sa Su\n       1  2  3  4  5                      1  2                         1\n 6  7  8  9 10 11 12       3  4  5  6  7  8  9       2  3  4  5  6  7  8\n13 14 15 16 17 18 19      10 11 12 13 14 15 16       9 10 11 12 13 14 15\n20 21 22 23 24 25 26      17 18 19 20 21 22 23      16 17 18 19 20 21 22\n27 28 29 30 31            24 25 26 27 28 29         23 24 25 26 27 28 29\n                                                    30 31\n\n       April                      May                       June\nMo Tu We Th Fr Sa Su      Mo Tu We Th Fr Sa Su      Mo Tu We Th Fr Sa Su\n       1  2  3  4  5                   1  2  3       1  2  3  4  5  6  7\n 6  7  8  9 10 11 12       4  5  6  7  8  9 10       8  9 10 11 12 13 14\n13 14 15 16 17 18 19      11 12 13 14 15 16 17      15 16 17 18 19 20 21\n20 21 22 23 24 25 26      18 19 20 21 22 23 24      22 23 24 25 26 27 28\n27 28 29 30               25 26 27 28 29 30 31      29 30\n\n        July                     August                  September\nMo Tu We Th Fr Sa Su      Mo Tu We Th Fr Sa Su      Mo Tu We Th Fr Sa Su\n       1  2  3  4  5                      1  2          1  2  3  4  5  6\n 6  7  8  9 10 11 12       3  4  5  6  7  8  9       7  8  9 10 11 12 13\n13 14 15 16 17 18 19      10 11 12 13 14 15 16      14 15 16 17 18 19 20\n20 21 22 23 24 25 26      17 18 19 20 21 22 23      21 22 23 24 25 26 27\n27 28 29 30 31            24 25 26 27 28 29 30      28 29 30\n                          31\n\n      October                   November                  December\nMo Tu We Th Fr Sa Su      Mo Tu We Th Fr Sa Su      Mo Tu We Th Fr Sa Su\n          1  2  3  4                         1          1  2  3  4  5  6\n 5  6  7  8  9 10 11       2  3  4  5  6  7  8       7  8  9 10 11 12 13\n12 13 14 15 16 17 18       9 10 11 12 13 14 15      14 15 16 17 18 19 20\n19 20 21 22 23 24 25      16 17 18 19 20 21 22      21 22 23 24 25 26 27\n26 27 28 29 30 31         23 24 25 26 27 28 29      28 29 30 31\n                          30\n\n"
     ]
    }
   ],
   "source": [
    "print(calendar.calendar(2020))"
   ]
  },
  {
   "cell_type": "code",
   "execution_count": 11,
   "metadata": {},
   "outputs": [
    {
     "output_type": "stream",
     "name": "stdout",
     "text": [
      "                                           2020\n\n      January                February                March                  April\nMo Tu We Th Fr Sa Su   Mo Tu We Th Fr Sa Su   Mo Tu We Th Fr Sa Su   Mo Tu We Th Fr Sa Su\n       1  2  3  4  5                   1  2                      1          1  2  3  4  5\n 6  7  8  9 10 11 12    3  4  5  6  7  8  9    2  3  4  5  6  7  8    6  7  8  9 10 11 12\n13 14 15 16 17 18 19   10 11 12 13 14 15 16    9 10 11 12 13 14 15   13 14 15 16 17 18 19\n20 21 22 23 24 25 26   17 18 19 20 21 22 23   16 17 18 19 20 21 22   20 21 22 23 24 25 26\n27 28 29 30 31         24 25 26 27 28 29      23 24 25 26 27 28 29   27 28 29 30\n                                              30 31\n\n        May                    June                   July                  August\nMo Tu We Th Fr Sa Su   Mo Tu We Th Fr Sa Su   Mo Tu We Th Fr Sa Su   Mo Tu We Th Fr Sa Su\n             1  2  3    1  2  3  4  5  6  7          1  2  3  4  5                   1  2\n 4  5  6  7  8  9 10    8  9 10 11 12 13 14    6  7  8  9 10 11 12    3  4  5  6  7  8  9\n11 12 13 14 15 16 17   15 16 17 18 19 20 21   13 14 15 16 17 18 19   10 11 12 13 14 15 16\n18 19 20 21 22 23 24   22 23 24 25 26 27 28   20 21 22 23 24 25 26   17 18 19 20 21 22 23\n25 26 27 28 29 30 31   29 30                  27 28 29 30 31         24 25 26 27 28 29 30\n                                                                     31\n\n     September               October                November               December\nMo Tu We Th Fr Sa Su   Mo Tu We Th Fr Sa Su   Mo Tu We Th Fr Sa Su   Mo Tu We Th Fr Sa Su\n    1  2  3  4  5  6             1  2  3  4                      1       1  2  3  4  5  6\n 7  8  9 10 11 12 13    5  6  7  8  9 10 11    2  3  4  5  6  7  8    7  8  9 10 11 12 13\n14 15 16 17 18 19 20   12 13 14 15 16 17 18    9 10 11 12 13 14 15   14 15 16 17 18 19 20\n21 22 23 24 25 26 27   19 20 21 22 23 24 25   16 17 18 19 20 21 22   21 22 23 24 25 26 27\n28 29 30               26 27 28 29 30 31      23 24 25 26 27 28 29   28 29 30 31\n                                              30\n\n"
     ]
    }
   ],
   "source": [
    "print(calendar.calendar(\n",
    "    2020,\n",
    "    c=3, # 月の間のスペースの数\n",
    "    m=4  # 1行に出力する月の数\n",
    "))"
   ]
  },
  {
   "source": [
    "### prcal()"
   ],
   "cell_type": "markdown",
   "metadata": {}
  },
  {
   "cell_type": "code",
   "execution_count": 12,
   "metadata": {},
   "outputs": [
    {
     "output_type": "stream",
     "name": "stdout",
     "text": [
      "                                  2020\n\n      January                   February                   March\nMo Tu We Th Fr Sa Su      Mo Tu We Th Fr Sa Su      Mo Tu We Th Fr Sa Su\n       1  2  3  4  5                      1  2                         1\n 6  7  8  9 10 11 12       3  4  5  6  7  8  9       2  3  4  5  6  7  8\n13 14 15 16 17 18 19      10 11 12 13 14 15 16       9 10 11 12 13 14 15\n20 21 22 23 24 25 26      17 18 19 20 21 22 23      16 17 18 19 20 21 22\n27 28 29 30 31            24 25 26 27 28 29         23 24 25 26 27 28 29\n                                                    30 31\n\n       April                      May                       June\nMo Tu We Th Fr Sa Su      Mo Tu We Th Fr Sa Su      Mo Tu We Th Fr Sa Su\n       1  2  3  4  5                   1  2  3       1  2  3  4  5  6  7\n 6  7  8  9 10 11 12       4  5  6  7  8  9 10       8  9 10 11 12 13 14\n13 14 15 16 17 18 19      11 12 13 14 15 16 17      15 16 17 18 19 20 21\n20 21 22 23 24 25 26      18 19 20 21 22 23 24      22 23 24 25 26 27 28\n27 28 29 30               25 26 27 28 29 30 31      29 30\n\n        July                     August                  September\nMo Tu We Th Fr Sa Su      Mo Tu We Th Fr Sa Su      Mo Tu We Th Fr Sa Su\n       1  2  3  4  5                      1  2          1  2  3  4  5  6\n 6  7  8  9 10 11 12       3  4  5  6  7  8  9       7  8  9 10 11 12 13\n13 14 15 16 17 18 19      10 11 12 13 14 15 16      14 15 16 17 18 19 20\n20 21 22 23 24 25 26      17 18 19 20 21 22 23      21 22 23 24 25 26 27\n27 28 29 30 31            24 25 26 27 28 29 30      28 29 30\n                          31\n\n      October                   November                  December\nMo Tu We Th Fr Sa Su      Mo Tu We Th Fr Sa Su      Mo Tu We Th Fr Sa Su\n          1  2  3  4                         1          1  2  3  4  5  6\n 5  6  7  8  9 10 11       2  3  4  5  6  7  8       7  8  9 10 11 12 13\n12 13 14 15 16 17 18       9 10 11 12 13 14 15      14 15 16 17 18 19 20\n19 20 21 22 23 24 25      16 17 18 19 20 21 22      21 22 23 24 25 26 27\n26 27 28 29 30 31         23 24 25 26 27 28 29      28 29 30 31\n                          30\n"
     ]
    }
   ],
   "source": [
    "import calendar\n",
    "\n",
    "calendar.prcal(2020)"
   ]
  },
  {
   "source": [
    "## monthcalendar"
   ],
   "cell_type": "markdown",
   "metadata": {}
  },
  {
   "cell_type": "code",
   "execution_count": 16,
   "metadata": {},
   "outputs": [
    {
     "output_type": "execute_result",
     "data": {
      "text/plain": [
       "[[0, 0, 0, 0, 0, 0, 1],\n",
       " [2, 3, 4, 5, 6, 7, 8],\n",
       " [9, 10, 11, 12, 13, 14, 15],\n",
       " [16, 17, 18, 19, 20, 21, 22],\n",
       " [23, 24, 25, 26, 27, 28, 29],\n",
       " [30, 0, 0, 0, 0, 0, 0]]"
      ]
     },
     "metadata": {},
     "execution_count": 16
    }
   ],
   "source": [
    "import calendar\n",
    "\n",
    "calendar.monthcalendar(2020, 11)"
   ]
  },
  {
   "source": [
    "> 長さは一ヶ月何週間あるのを示す  \n",
    "> 月曜日は一週間のスタート  \n",
    "> ない日は0で表示"
   ],
   "cell_type": "markdown",
   "metadata": {}
  },
  {
   "source": [
    "## 週の始まりの曜日を設定"
   ],
   "cell_type": "markdown",
   "metadata": {}
  },
  {
   "cell_type": "code",
   "execution_count": 14,
   "metadata": {},
   "outputs": [
    {
     "output_type": "stream",
     "name": "stdout",
     "text": [
      "   December 2020\nSu Mo Tu We Th Fr Sa\n       1  2  3  4  5\n 6  7  8  9 10 11 12\n13 14 15 16 17 18 19\n20 21 22 23 24 25 26\n27 28 29 30 31\n\n"
     ]
    }
   ],
   "source": [
    "import calendar\n",
    "\n",
    "calendar.setfirstweekday(calendar.SUNDAY)\n",
    "print(calendar.month(2020, 12))"
   ]
  },
  {
   "source": [
    "## ロケールを変更して曜日の文字列を変更"
   ],
   "cell_type": "markdown",
   "metadata": {}
  },
  {
   "cell_type": "code",
   "execution_count": 20,
   "metadata": {},
   "outputs": [
    {
     "output_type": "stream",
     "name": "stdout",
     "text": [
      "             11月 2020\n 月    火    水    木    金    土    日\n                                1\n  2    3    4    5    6    7    8\n  9   10   11   12   13   14   15\n 16   17   18   19   20   21   22\n 23   24   25   26   27   28   29\n 30\n\n"
     ]
    }
   ],
   "source": [
    "ltc_ja = calendar.LocaleTextCalendar(locale=\"ja_JP\") # 全角文字の幅は考慮されておらず、日本語の場合はレイアウトが崩れてしまう\n",
    "print(ltc_ja.formatmonth(2020, 11, w=4))"
   ]
  },
  {
   "source": [
    "## HTMLCalendar"
   ],
   "cell_type": "markdown",
   "metadata": {}
  },
  {
   "cell_type": "code",
   "execution_count": 22,
   "metadata": {},
   "outputs": [
    {
     "output_type": "stream",
     "name": "stdout",
     "text": [
      "<table border=\"0\" cellpadding=\"0\" cellspacing=\"0\" class=\"month\">\n<tr><th colspan=\"7\" class=\"month\">December 2020</th></tr>\n<tr><th class=\"mon\">Mon</th><th class=\"tue\">Tue</th><th class=\"wed\">Wed</th><th class=\"thu\">Thu</th><th class=\"fri\">Fri</th><th class=\"sat\">Sat</th><th class=\"sun\">Sun</th></tr>\n<tr><td class=\"noday\">&nbsp;</td><td class=\"tue\">1</td><td class=\"wed\">2</td><td class=\"thu\">3</td><td class=\"fri\">4</td><td class=\"sat\">5</td><td class=\"sun\">6</td></tr>\n<tr><td class=\"mon\">7</td><td class=\"tue\">8</td><td class=\"wed\">9</td><td class=\"thu\">10</td><td class=\"fri\">11</td><td class=\"sat\">12</td><td class=\"sun\">13</td></tr>\n<tr><td class=\"mon\">14</td><td class=\"tue\">15</td><td class=\"wed\">16</td><td class=\"thu\">17</td><td class=\"fri\">18</td><td class=\"sat\">19</td><td class=\"sun\">20</td></tr>\n<tr><td class=\"mon\">21</td><td class=\"tue\">22</td><td class=\"wed\">23</td><td class=\"thu\">24</td><td class=\"fri\">25</td><td class=\"sat\">26</td><td class=\"sun\">27</td></tr>\n<tr><td class=\"mon\">28</td><td class=\"tue\">29</td><td class=\"wed\">30</td><td class=\"thu\">31</td><td class=\"noday\">&nbsp;</td><td class=\"noday\">&nbsp;</td><td class=\"noday\">&nbsp;</td></tr>\n</table>\n\n"
     ]
    }
   ],
   "source": [
    "import calendar\n",
    "\n",
    "c = calendar.HTMLCalendar()\n",
    "print(c.formatmonth(2020, 12))"
   ]
  },
  {
   "source": [
    "## タプルのリスト"
   ],
   "cell_type": "markdown",
   "metadata": {}
  },
  {
   "cell_type": "code",
   "execution_count": 24,
   "metadata": {},
   "outputs": [
    {
     "output_type": "execute_result",
     "data": {
      "text/plain": [
       "[[(0, 0), (0, 1), (0, 2), (0, 3), (0, 4), (0, 5), (1, 6)],\n",
       " [(2, 0), (3, 1), (4, 2), (5, 3), (6, 4), (7, 5), (8, 6)],\n",
       " [(9, 0), (10, 1), (11, 2), (12, 3), (13, 4), (14, 5), (15, 6)],\n",
       " [(16, 0), (17, 1), (18, 2), (19, 3), (20, 4), (21, 5), (22, 6)],\n",
       " [(23, 0), (24, 1), (25, 2), (26, 3), (27, 4), (28, 5), (29, 6)],\n",
       " [(30, 0), (0, 1), (0, 2), (0, 3), (0, 4), (0, 5), (0, 6)]]"
      ]
     },
     "metadata": {},
     "execution_count": 24
    }
   ],
   "source": [
    "import calendar\n",
    "\n",
    "c = calendar.TextCalendar()\n",
    "c.monthdays2calendar(2020, 11) # 各タプルは(日付, 曜日)の値を持つ,存在しない日付は0"
   ]
  },
  {
   "cell_type": "code",
   "execution_count": 25,
   "metadata": {},
   "outputs": [
    {
     "output_type": "execute_result",
     "data": {
      "text/plain": [
       "[[[[(0, 0), (0, 1), (1, 2), (2, 3), (3, 4), (4, 5), (5, 6)],\n",
       "   [(6, 0), (7, 1), (8, 2), (9, 3), (10, 4), (11, 5), (12, 6)],\n",
       "   [(13, 0), (14, 1), (15, 2), (16, 3), (17, 4), (18, 5), (19, 6)],\n",
       "   [(20, 0), (21, 1), (22, 2), (23, 3), (24, 4), (25, 5), (26, 6)],\n",
       "   [(27, 0), (28, 1), (29, 2), (30, 3), (31, 4), (0, 5), (0, 6)]],\n",
       "  [[(0, 0), (0, 1), (0, 2), (0, 3), (0, 4), (1, 5), (2, 6)],\n",
       "   [(3, 0), (4, 1), (5, 2), (6, 3), (7, 4), (8, 5), (9, 6)],\n",
       "   [(10, 0), (11, 1), (12, 2), (13, 3), (14, 4), (15, 5), (16, 6)],\n",
       "   [(17, 0), (18, 1), (19, 2), (20, 3), (21, 4), (22, 5), (23, 6)],\n",
       "   [(24, 0), (25, 1), (26, 2), (27, 3), (28, 4), (29, 5), (0, 6)]],\n",
       "  [[(0, 0), (0, 1), (0, 2), (0, 3), (0, 4), (0, 5), (1, 6)],\n",
       "   [(2, 0), (3, 1), (4, 2), (5, 3), (6, 4), (7, 5), (8, 6)],\n",
       "   [(9, 0), (10, 1), (11, 2), (12, 3), (13, 4), (14, 5), (15, 6)],\n",
       "   [(16, 0), (17, 1), (18, 2), (19, 3), (20, 4), (21, 5), (22, 6)],\n",
       "   [(23, 0), (24, 1), (25, 2), (26, 3), (27, 4), (28, 5), (29, 6)],\n",
       "   [(30, 0), (31, 1), (0, 2), (0, 3), (0, 4), (0, 5), (0, 6)]]],\n",
       " [[[(0, 0), (0, 1), (1, 2), (2, 3), (3, 4), (4, 5), (5, 6)],\n",
       "   [(6, 0), (7, 1), (8, 2), (9, 3), (10, 4), (11, 5), (12, 6)],\n",
       "   [(13, 0), (14, 1), (15, 2), (16, 3), (17, 4), (18, 5), (19, 6)],\n",
       "   [(20, 0), (21, 1), (22, 2), (23, 3), (24, 4), (25, 5), (26, 6)],\n",
       "   [(27, 0), (28, 1), (29, 2), (30, 3), (0, 4), (0, 5), (0, 6)]],\n",
       "  [[(0, 0), (0, 1), (0, 2), (0, 3), (1, 4), (2, 5), (3, 6)],\n",
       "   [(4, 0), (5, 1), (6, 2), (7, 3), (8, 4), (9, 5), (10, 6)],\n",
       "   [(11, 0), (12, 1), (13, 2), (14, 3), (15, 4), (16, 5), (17, 6)],\n",
       "   [(18, 0), (19, 1), (20, 2), (21, 3), (22, 4), (23, 5), (24, 6)],\n",
       "   [(25, 0), (26, 1), (27, 2), (28, 3), (29, 4), (30, 5), (31, 6)]],\n",
       "  [[(1, 0), (2, 1), (3, 2), (4, 3), (5, 4), (6, 5), (7, 6)],\n",
       "   [(8, 0), (9, 1), (10, 2), (11, 3), (12, 4), (13, 5), (14, 6)],\n",
       "   [(15, 0), (16, 1), (17, 2), (18, 3), (19, 4), (20, 5), (21, 6)],\n",
       "   [(22, 0), (23, 1), (24, 2), (25, 3), (26, 4), (27, 5), (28, 6)],\n",
       "   [(29, 0), (30, 1), (0, 2), (0, 3), (0, 4), (0, 5), (0, 6)]]],\n",
       " [[[(0, 0), (0, 1), (1, 2), (2, 3), (3, 4), (4, 5), (5, 6)],\n",
       "   [(6, 0), (7, 1), (8, 2), (9, 3), (10, 4), (11, 5), (12, 6)],\n",
       "   [(13, 0), (14, 1), (15, 2), (16, 3), (17, 4), (18, 5), (19, 6)],\n",
       "   [(20, 0), (21, 1), (22, 2), (23, 3), (24, 4), (25, 5), (26, 6)],\n",
       "   [(27, 0), (28, 1), (29, 2), (30, 3), (31, 4), (0, 5), (0, 6)]],\n",
       "  [[(0, 0), (0, 1), (0, 2), (0, 3), (0, 4), (1, 5), (2, 6)],\n",
       "   [(3, 0), (4, 1), (5, 2), (6, 3), (7, 4), (8, 5), (9, 6)],\n",
       "   [(10, 0), (11, 1), (12, 2), (13, 3), (14, 4), (15, 5), (16, 6)],\n",
       "   [(17, 0), (18, 1), (19, 2), (20, 3), (21, 4), (22, 5), (23, 6)],\n",
       "   [(24, 0), (25, 1), (26, 2), (27, 3), (28, 4), (29, 5), (30, 6)],\n",
       "   [(31, 0), (0, 1), (0, 2), (0, 3), (0, 4), (0, 5), (0, 6)]],\n",
       "  [[(0, 0), (1, 1), (2, 2), (3, 3), (4, 4), (5, 5), (6, 6)],\n",
       "   [(7, 0), (8, 1), (9, 2), (10, 3), (11, 4), (12, 5), (13, 6)],\n",
       "   [(14, 0), (15, 1), (16, 2), (17, 3), (18, 4), (19, 5), (20, 6)],\n",
       "   [(21, 0), (22, 1), (23, 2), (24, 3), (25, 4), (26, 5), (27, 6)],\n",
       "   [(28, 0), (29, 1), (30, 2), (0, 3), (0, 4), (0, 5), (0, 6)]]],\n",
       " [[[(0, 0), (0, 1), (0, 2), (1, 3), (2, 4), (3, 5), (4, 6)],\n",
       "   [(5, 0), (6, 1), (7, 2), (8, 3), (9, 4), (10, 5), (11, 6)],\n",
       "   [(12, 0), (13, 1), (14, 2), (15, 3), (16, 4), (17, 5), (18, 6)],\n",
       "   [(19, 0), (20, 1), (21, 2), (22, 3), (23, 4), (24, 5), (25, 6)],\n",
       "   [(26, 0), (27, 1), (28, 2), (29, 3), (30, 4), (31, 5), (0, 6)]],\n",
       "  [[(0, 0), (0, 1), (0, 2), (0, 3), (0, 4), (0, 5), (1, 6)],\n",
       "   [(2, 0), (3, 1), (4, 2), (5, 3), (6, 4), (7, 5), (8, 6)],\n",
       "   [(9, 0), (10, 1), (11, 2), (12, 3), (13, 4), (14, 5), (15, 6)],\n",
       "   [(16, 0), (17, 1), (18, 2), (19, 3), (20, 4), (21, 5), (22, 6)],\n",
       "   [(23, 0), (24, 1), (25, 2), (26, 3), (27, 4), (28, 5), (29, 6)],\n",
       "   [(30, 0), (0, 1), (0, 2), (0, 3), (0, 4), (0, 5), (0, 6)]],\n",
       "  [[(0, 0), (1, 1), (2, 2), (3, 3), (4, 4), (5, 5), (6, 6)],\n",
       "   [(7, 0), (8, 1), (9, 2), (10, 3), (11, 4), (12, 5), (13, 6)],\n",
       "   [(14, 0), (15, 1), (16, 2), (17, 3), (18, 4), (19, 5), (20, 6)],\n",
       "   [(21, 0), (22, 1), (23, 2), (24, 3), (25, 4), (26, 5), (27, 6)],\n",
       "   [(28, 0), (29, 1), (30, 2), (31, 3), (0, 4), (0, 5), (0, 6)]]]]"
      ]
     },
     "metadata": {},
     "execution_count": 25
    }
   ],
   "source": [
    "c.yeardays2calendar(2020) # 年間"
   ]
  },
  {
   "source": [
    "## datetime.dateのリスト"
   ],
   "cell_type": "markdown",
   "metadata": {}
  },
  {
   "cell_type": "code",
   "execution_count": 27,
   "metadata": {},
   "outputs": [
    {
     "output_type": "execute_result",
     "data": {
      "text/plain": [
       "[[datetime.date(2020, 11, 30),\n",
       "  datetime.date(2020, 12, 1),\n",
       "  datetime.date(2020, 12, 2),\n",
       "  datetime.date(2020, 12, 3),\n",
       "  datetime.date(2020, 12, 4),\n",
       "  datetime.date(2020, 12, 5),\n",
       "  datetime.date(2020, 12, 6)],\n",
       " [datetime.date(2020, 12, 7),\n",
       "  datetime.date(2020, 12, 8),\n",
       "  datetime.date(2020, 12, 9),\n",
       "  datetime.date(2020, 12, 10),\n",
       "  datetime.date(2020, 12, 11),\n",
       "  datetime.date(2020, 12, 12),\n",
       "  datetime.date(2020, 12, 13)],\n",
       " [datetime.date(2020, 12, 14),\n",
       "  datetime.date(2020, 12, 15),\n",
       "  datetime.date(2020, 12, 16),\n",
       "  datetime.date(2020, 12, 17),\n",
       "  datetime.date(2020, 12, 18),\n",
       "  datetime.date(2020, 12, 19),\n",
       "  datetime.date(2020, 12, 20)],\n",
       " [datetime.date(2020, 12, 21),\n",
       "  datetime.date(2020, 12, 22),\n",
       "  datetime.date(2020, 12, 23),\n",
       "  datetime.date(2020, 12, 24),\n",
       "  datetime.date(2020, 12, 25),\n",
       "  datetime.date(2020, 12, 26),\n",
       "  datetime.date(2020, 12, 27)],\n",
       " [datetime.date(2020, 12, 28),\n",
       "  datetime.date(2020, 12, 29),\n",
       "  datetime.date(2020, 12, 30),\n",
       "  datetime.date(2020, 12, 31),\n",
       "  datetime.date(2021, 1, 1),\n",
       "  datetime.date(2021, 1, 2),\n",
       "  datetime.date(2021, 1, 3)]]"
      ]
     },
     "metadata": {},
     "execution_count": 27
    }
   ],
   "source": [
    "import calendar\n",
    "\n",
    "c = calendar.Calendar()\n",
    "c.monthdatescalendar(2020, 12)"
   ]
  },
  {
   "source": [
    "## コマンドライン"
   ],
   "cell_type": "markdown",
   "metadata": {}
  },
  {
   "cell_type": "code",
   "execution_count": null,
   "metadata": {},
   "outputs": [],
   "source": [
    "```python\n",
    ">>> python3 -m calendar 2020 12\n",
    "   December 2020\n",
    "Mo Tu We Th Fr Sa Su\n",
    "    1  2  3  4  5  6\n",
    " 7  8  9 10 11 12 13\n",
    "14 15 16 17 18 19 20\n",
    "21 22 23 24 25 26 27\n",
    "28 29 30 31\n",
    "```"
   ]
  }
 ]
}