{
 "metadata": {
  "language_info": {
   "codemirror_mode": {
    "name": "ipython",
    "version": 3
   },
   "file_extension": ".py",
   "mimetype": "text/x-python",
   "name": "python",
   "nbconvert_exporter": "python",
   "pygments_lexer": "ipython3",
   "version": "3.8.6-final"
  },
  "orig_nbformat": 2,
  "kernelspec": {
   "name": "Python 3.8.6 64-bit",
   "display_name": "Python 3.8.6 64-bit",
   "metadata": {
    "interpreter": {
     "hash": "082e9a3bcad0a290d0001e938aa60b99250c6c2ef33a923c00b70f9826caf4b7"
    }
   }
  }
 },
 "nbformat": 4,
 "nbformat_minor": 2,
 "cells": [
  {
   "source": [
    "## Times"
   ],
   "cell_type": "markdown",
   "metadata": {}
  },
  {
   "cell_type": "code",
   "execution_count": 2,
   "metadata": {},
   "outputs": [
    {
     "output_type": "stream",
     "name": "stdout",
     "text": [
      "01:02:03\nhour       : 1\nminute     : 2\nsecond     : 3\nmicrosecond: 0\ntzinfo     : None\n"
     ]
    }
   ],
   "source": [
    "import datetime as dt\n",
    "\n",
    "t = dt.time(1, 2, 3)\n",
    "print(t)\n",
    "print('hour       :', t.hour)\n",
    "print('minute     :', t.minute)\n",
    "print('second     :', t.second)\n",
    "print('microsecond:', t.microsecond)\n",
    "print('tzinfo     :', t.tzinfo)"
   ]
  },
  {
   "cell_type": "code",
   "execution_count": 3,
   "metadata": {},
   "outputs": [
    {
     "output_type": "stream",
     "name": "stdout",
     "text": [
      "Earliest  : 00:00:00\nLatest    : 23:59:59.999999\nResolution: 0:00:00.000001\n"
     ]
    }
   ],
   "source": [
    "import datetime as dt\n",
    "\n",
    "print('Earliest  :', dt.time.min)\n",
    "print('Latest    :', dt.time.max)\n",
    "print('Resolution:', dt.time.resolution)"
   ]
  },
  {
   "source": [
    "## Dates"
   ],
   "cell_type": "markdown",
   "metadata": {}
  },
  {
   "cell_type": "code",
   "execution_count": 6,
   "metadata": {},
   "outputs": [
    {
     "output_type": "stream",
     "name": "stdout",
     "text": [
      "2020-11-08\nctime  : Sun Nov  8 00:00:00 2020\ntuple  : tm_year  = 2020\n         tm_mon   = 11\n         tm_mday  = 8\n         tm_hour  = 0\n         tm_min   = 0\n         tm_sec   = 0\n         tm_wday  = 6\n         tm_yday  = 313\n         tm_isdst = -1\nYear   : 2020\nMon    : 11\nDay    : 8\n"
     ]
    }
   ],
   "source": [
    "import datetime as dt\n",
    "\n",
    "today = dt.date.today()\n",
    "print(today)\n",
    "print('ctime  :', today.ctime())\n",
    "tt = today.timetuple()\n",
    "print('tuple  : tm_year  =', tt.tm_year)\n",
    "print('         tm_mon   =', tt.tm_mon)\n",
    "print('         tm_mday  =', tt.tm_mday)\n",
    "print('         tm_hour  =', tt.tm_hour)\n",
    "print('         tm_min   =', tt.tm_min)\n",
    "print('         tm_sec   =', tt.tm_sec)\n",
    "print('         tm_wday  =', tt.tm_wday) # [0,6]の間の数、月曜が 0\n",
    "print('         tm_yday  =', tt.tm_yday)\n",
    "print('         tm_isdst =', tt.tm_isdst) # 夏時間であるかどうか\n",
    "print('Year   :', today.year)\n",
    "print('Mon    :', today.month)\n",
    "print('Day    :', today.day)\n"
   ]
  },
  {
   "cell_type": "code",
   "execution_count": 1,
   "metadata": {},
   "outputs": [
    {
     "output_type": "stream",
     "name": "stdout",
     "text": [
      "timestamp       : 1604822120.369205\nfromtimestamp(t): 2020-11-08\n"
     ]
    }
   ],
   "source": [
    "import datetime as dt\n",
    "import time\n",
    "\n",
    "t = time.time()\n",
    "print('timestamp       :', t)\n",
    "print('fromtimestamp(t):', dt.date.fromtimestamp(t))"
   ]
  },
  {
   "cell_type": "code",
   "execution_count": 2,
   "metadata": {},
   "outputs": [
    {
     "output_type": "stream",
     "name": "stdout",
     "text": [
      "Earliest  : 0001-01-01\nLatest    : 9999-12-31\nResolution: 1 day, 0:00:00\n"
     ]
    }
   ],
   "source": [
    "import datetime as dt\n",
    "\n",
    "print('Earliest  :', dt.date.min)\n",
    "print('Latest    :', dt.date.max)\n",
    "print('Resolution:', dt.date.resolution)"
   ]
  },
  {
   "cell_type": "code",
   "execution_count": 3,
   "metadata": {},
   "outputs": [
    {
     "output_type": "stream",
     "name": "stdout",
     "text": [
      "d1: Fri Aug  8 00:00:00 2008\nd2: Sat Aug  8 00:00:00 2020\n"
     ]
    }
   ],
   "source": [
    "import datetime as dt\n",
    "\n",
    "d1 = dt.date(2008, 8, 8)\n",
    "print('d1:', d1.ctime())\n",
    "\n",
    "d2 = d1.replace(year=2020)\n",
    "print('d2:', d2.ctime())"
   ]
  },
  {
   "source": [
    "## timedeltas"
   ],
   "cell_type": "markdown",
   "metadata": {}
  },
  {
   "cell_type": "code",
   "execution_count": 5,
   "metadata": {},
   "outputs": [
    {
     "output_type": "stream",
     "name": "stdout",
     "text": [
      "microseconds: 0:00:00.000001\nmilliseconds: 0:00:00.001000\nseconds     : 0:00:01\nminutes     : 0:01:00\nhours       : 1:00:00\ndays        : 1 day, 0:00:00\nweeks       : 7 days, 0:00:00\n"
     ]
    }
   ],
   "source": [
    "import datetime as dt\n",
    "\n",
    "print('microseconds:', dt.timedelta(microseconds=1))\n",
    "print('milliseconds:', dt.timedelta(milliseconds=1))\n",
    "print('seconds     :', dt.timedelta(seconds=1))\n",
    "print('minutes     :', dt.timedelta(minutes=1))\n",
    "print('hours       :', dt.timedelta(hours=1))\n",
    "print('days        :', dt.timedelta(days=1))\n",
    "print('weeks       :', dt.timedelta(weeks=1))"
   ]
  },
  {
   "cell_type": "code",
   "execution_count": 7,
   "metadata": {},
   "outputs": [
    {
     "output_type": "stream",
     "name": "stdout",
     "text": [
      "0:00:00.000001  =    1e-06 seconds\n0:00:00.001000  =    0.001 seconds\n0:00:01         =      1.0 seconds\n0:01:00         =     60.0 seconds\n1:00:00         =   3600.0 seconds\n1 day, 0:00:00  =  86400.0 seconds\n7 days, 0:00:00 = 604800.0 seconds\n"
     ]
    }
   ],
   "source": [
    "import datetime as dt\n",
    "\n",
    "for delta in [dt.timedelta(microseconds=1),\n",
    "              dt.timedelta(milliseconds=1),\n",
    "              dt.timedelta(seconds=1),\n",
    "              dt.timedelta(minutes=1),\n",
    "              dt.timedelta(hours=1),\n",
    "              dt.timedelta(days=1),\n",
    "              dt.timedelta(weeks=1),\n",
    "              ]:\n",
    "    print(f'{str(delta):15} = {delta.total_seconds():8} seconds')"
   ]
  },
  {
   "source": [
    "## 日付計算"
   ],
   "cell_type": "markdown",
   "metadata": {}
  },
  {
   "cell_type": "code",
   "execution_count": 9,
   "metadata": {},
   "outputs": [
    {
     "output_type": "stream",
     "name": "stdout",
     "text": [
      "Today    : 2020-11-08\nOne day  : 1 day, 0:00:00\nYesterday: 2020-11-07\nTomorrow : 2020-11-09\n\ntomorrow - yesterday: 2 days, 0:00:00\nyesterday - tomorrow: -2 days, 0:00:00\n"
     ]
    }
   ],
   "source": [
    "import datetime as dt\n",
    "\n",
    "today = dt.date.today()\n",
    "print('Today    :', today)\n",
    "\n",
    "one_day = dt.timedelta(days=1)\n",
    "print('One day  :', one_day)\n",
    "\n",
    "yesterday = today - one_day\n",
    "print('Yesterday:', yesterday)\n",
    "\n",
    "tomorrow = today + one_day\n",
    "print('Tomorrow :', tomorrow)\n",
    "\n",
    "print()\n",
    "print('tomorrow - yesterday:', tomorrow - yesterday)\n",
    "print('yesterday - tomorrow:', yesterday - tomorrow)"
   ]
  },
  {
   "cell_type": "code",
   "execution_count": 10,
   "metadata": {},
   "outputs": [
    {
     "output_type": "stream",
     "name": "stdout",
     "text": [
      "1 day    : 1 day, 0:00:00\n5 days   : 5 days, 0:00:00\n1.5 days : 1 day, 12:00:00\n1/4 day  : 6:00:00\n"
     ]
    }
   ],
   "source": [
    "import datetime as dt\n",
    "\n",
    "one_day = dt.timedelta(days=1)\n",
    "print('1 day    :', one_day)\n",
    "print('5 days   :', one_day * 5)\n",
    "print('1.5 days :', one_day * 1.5)\n",
    "print('1/4 day  :', one_day / 4)"
   ]
  },
  {
   "source": [
    "## 比較"
   ],
   "cell_type": "markdown",
   "metadata": {}
  },
  {
   "cell_type": "code",
   "execution_count": 12,
   "metadata": {},
   "outputs": [
    {
     "output_type": "stream",
     "name": "stdout",
     "text": [
      "Times:\n  t1: 12:55:00\n  t2: 13:05:00\n  t1 < t2: True\n\nDates:\n  d1: 2020-11-08\n  d2: 2020-11-09\n  d1 > d2: False\n"
     ]
    }
   ],
   "source": [
    "import datetime as dt\n",
    "\n",
    "print('Times:')\n",
    "t1 = dt.time(12, 55, 0)\n",
    "print('  t1:', t1)\n",
    "t2 = dt.time(13, 5, 0)\n",
    "print('  t2:', t2)\n",
    "print('  t1 < t2:', t1 < t2)\n",
    "\n",
    "print()\n",
    "print('Dates:')\n",
    "d1 = dt.date.today()\n",
    "print('  d1:', d1)\n",
    "d2 = dt.date.today() + datetime.timedelta(days=1)\n",
    "print('  d2:', d2)\n",
    "print('  d1 > d2:', d1 > d2)"
   ]
  },
  {
   "source": [
    "## 日付と時間を結合"
   ],
   "cell_type": "markdown",
   "metadata": {}
  },
  {
   "cell_type": "code",
   "execution_count": 14,
   "metadata": {},
   "outputs": [
    {
     "output_type": "stream",
     "name": "stdout",
     "text": [
      "Now    : 2020-11-08 17:09:54.786659\nToday  : 2020-11-08 17:09:54.786994\nUTC Now: 2020-11-08 08:09:54.787114\n\nyear           : 2020\nmonth          : 11\nday            : 8\nhour           : 17\nminute         : 9\nsecond         : 54\nmicrosecond    : 787375\n"
     ]
    }
   ],
   "source": [
    "import datetime as dt\n",
    "\n",
    "print('Now    :', dt.datetime.now())\n",
    "print('Today  :', dt.datetime.today())\n",
    "print('UTC Now:', dt.datetime.utcnow()) # 9時間の差\n",
    "print()\n",
    "\n",
    "FIELDS = [\n",
    "    'year', 'month', 'day',\n",
    "    'hour', 'minute', 'second',\n",
    "    'microsecond',\n",
    "]\n",
    "\n",
    "d = dt.datetime.now()\n",
    "for attr in FIELDS:\n",
    "    print(f'{attr:15}: {getattr(d, attr)}')"
   ]
  },
  {
   "cell_type": "code",
   "execution_count": 19,
   "metadata": {},
   "outputs": [
    {
     "output_type": "stream",
     "name": "stdout",
     "text": [
      "time : 01:02:03\ndate : 2020-11-08\ndatetime: 2020-11-08 01:02:03\n"
     ]
    }
   ],
   "source": [
    "import datetime as dt\n",
    "\n",
    "time = dt.time(1, 2, 3)\n",
    "print('time :', time)\n",
    "\n",
    "date = dt.date.today()\n",
    "print('date :', date)\n",
    "\n",
    "datetime = dt.datetime.combine(date, time)\n",
    "print('datetime:', datetime)"
   ]
  },
  {
   "source": [
    "## 書式化と解析"
   ],
   "cell_type": "markdown",
   "metadata": {}
  },
  {
   "cell_type": "code",
   "execution_count": 21,
   "metadata": {},
   "outputs": [
    {
     "output_type": "stream",
     "name": "stdout",
     "text": [
      "ISO     : 2020-11-08 17:18:45.292055\nstrftime: Sun Nov 08 17:18:45 2020\nstrptime: Sun Nov 08 17:18:45 2020\n"
     ]
    }
   ],
   "source": [
    "import datetime as dt\n",
    "\n",
    "format = \"%a %b %d %H:%M:%S %Y\"\n",
    "\n",
    "today = dt.datetime.today()\n",
    "print('ISO     :', today)\n",
    "\n",
    "s = today.strftime(format)\n",
    "print('strftime:', s)\n",
    "\n",
    "d = dt.datetime.strptime(s, format)\n",
    "print('strptime:', d.strftime(format))"
   ]
  },
  {
   "source": [
    "[書式コード](https://docs.python.org/ja/3/library/datetime.html#strftime-and-strptime-format-codes)"
   ],
   "cell_type": "markdown",
   "metadata": {}
  },
  {
   "source": [
    "* %d : 0埋めした10進数で表記した月中の日にち\n",
    "* %m : 0埋めした10進数で表記した月\n",
    "* %y : 0埋めした10進数で表記した西暦の下2桁\n",
    "* %Y : 0埋めした10進数で表記した西暦4桁\n",
    "* %H : 0埋めした10進数で表記した時 （24時間表記）\n",
    "* %I : 0埋めした10進数で表記した時 （12時間表記）\n",
    "* %M : 0埋めした10進数で表記した分\n",
    "* %S : 0埋めした10進数で表記した秒\n",
    "* %f : 0埋めした10進数で表記したマイクロ秒（6桁）\n",
    "* %A : ロケールの曜日名\n",
    "* %a : ロケールの曜日名（短縮形）\n",
    "* %B : ロケールの月名\n",
    "* %b : ロケールの月名（短縮形）\n",
    "* %j : 0埋めした10進数で表記した年中の日にち（正月が'001'）\n",
    "* %U : 0埋めした10進数で表記した年中の週番号 （週の始まりは日曜日）\n",
    "* %W : 0埋めした10進数で表記した年中の週番号 （週の始まりは月曜日）\n"
   ],
   "cell_type": "markdown",
   "metadata": {}
  }
 ]
}