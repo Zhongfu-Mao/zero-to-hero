{
 "metadata": {
  "language_info": {
   "codemirror_mode": {
    "name": "ipython",
    "version": 3
   },
   "file_extension": ".py",
   "mimetype": "text/x-python",
   "name": "python",
   "nbconvert_exporter": "python",
   "pygments_lexer": "ipython3",
   "version": "3.8.6-final"
  },
  "orig_nbformat": 2,
  "kernelspec": {
   "name": "Python 3.8.6 64-bit",
   "display_name": "Python 3.8.6 64-bit",
   "metadata": {
    "interpreter": {
     "hash": "082e9a3bcad0a290d0001e938aa60b99250c6c2ef33a923c00b70f9826caf4b7"
    }
   }
  }
 },
 "nbformat": 4,
 "nbformat_minor": 2,
 "cells": [
  {
   "cell_type": "markdown",
   "source": [
    "## 参考資料\n",
    "\n",
    "* [公式ドキュメント](https://docs.python.org/ja/3/library/time.html)\n",
    "* [PyMOTW3](https://pymotw.com/3/time/index.html)\n",
    "* [关于时间的知识](https://mp.weixin.qq.com/s/XeoQGtvfgwm79C0UlsmRTw)"
   ],
   "metadata": {}
  },
  {
   "cell_type": "markdown",
   "source": [
    "## 用語の説明と慣習\n",
    "\n",
    "* [エポック (epoch)](https://en.wikipedia.org/wiki/Epoch_(computing)) : 時刻の起点、プラットフォーム依存。\n",
    "    * *Unix*では(UTC で) 1970年1月1日0時0分0秒を指す\n",
    "    * *Excel*では(UTC で) 1900年1月**0**日0時0分0秒を指す\n",
    "* エポック秒 (seconds since the epoch) : エポックからの総経過秒数、たいていはうるう秒 (leap seconds) は含まれていない\n",
    "* UTC: [協定世界時 (Coordinated Universal Time)](https://ja.wikipedia.org/wiki/協定世界時)\n",
    "* DST: [夏時間 (Daylight Saving Time)](https://ja.wikipedia.org/wiki/夏時間) のことで、一年のうちの一定期間に 1 時間タイムゾーンを修正\n"
   ],
   "metadata": {}
  },
  {
   "cell_type": "markdown",
   "source": [
    "1. 人类的早期生活，依靠观测「天文现象」来测量时间，基于地球自转规律，定义了一套时间标准：「世界时」。\n",
    "2. 后来人们发现，由于地球公转轨道是一个椭圆，并且地球自转还受到地球内部的影响，自转速度越来越慢，人们发现世界时测算出的时间「不准」。\n",
    "3. 科学家们开始从「微观世界」寻找更稳定的周期运动，最终确定以「铯原子」的振动频率为基准，制造出了「原子钟」，确立了「世界原子时」，并重新定义了「秒」长度，时长高度精确。\n",
    "4. 但由于人类社会活动已高度依赖「世界时」，所以科学家们基于「原子时」和「世界时」，最终确立出新的时间标准：「世界协调时」，把它定义成了全球的时间标准，至此，世界标准时间诞生。\n",
    "5. 中国基于「世界协调时」再加上 8 小时时区之差，确立了「北京时间」，并广播给整个中国大地使用。\n",
    "6. 「国家授时中心」把北京时间广播给全国的「时间服务器」，我们生活中使用的时间，例如计算机，就是通过时间服务器自动同步校准的。\n",
    "7. 计算机通过 NTP 完成和时间服务器的「自动校准」，我们的应用程序基于此，才得以获取到准确的时间。\n",
    "8. NTP 服务应该采用润物细无声的方式同步时间，避免时间发生「倒流」。"
   ],
   "metadata": {}
  },
  {
   "cell_type": "markdown",
   "source": [
    "> 注意：このモジュールの中の関数は、エポック以前あるいは遠い未来の日付や時刻を扱うことができません"
   ],
   "metadata": {}
  },
  {
   "cell_type": "code",
   "execution_count": 2,
   "source": [
    "import textwrap\n",
    "import time\n",
    "\n",
    "available_clocks = [\n",
    "    ('monotonic', time.monotonic),\n",
    "    ('perf_counter', time.perf_counter),\n",
    "    ('process_time', time.process_time),\n",
    "    ('time', time.time),\n",
    "]\n",
    "\n",
    "for clock_name, func in available_clocks:\n",
    "    print(textwrap.dedent('''\\\n",
    "    {name}:\n",
    "        adjustable    : {info.adjustable}\n",
    "        implementation: {info.implementation}\n",
    "        monotonic     : {info.monotonic}\n",
    "        resolution    : {info.resolution}\n",
    "        current       : {current}\n",
    "    ''').format(\n",
    "        name=clock_name,\n",
    "        info=time.get_clock_info(clock_name),\n",
    "        current=func())\n",
    "    )"
   ],
   "outputs": [
    {
     "output_type": "stream",
     "name": "stdout",
     "text": [
      "monotonic:\n",
      "    adjustable    : False\n",
      "    implementation: mach_absolute_time()\n",
      "    monotonic     : True\n",
      "    resolution    : 1e-09\n",
      "    current       : 920.109969304\n",
      "\n",
      "perf_counter:\n",
      "    adjustable    : False\n",
      "    implementation: mach_absolute_time()\n",
      "    monotonic     : True\n",
      "    resolution    : 1e-09\n",
      "    current       : 920.110805048\n",
      "\n",
      "process_time:\n",
      "    adjustable    : False\n",
      "    implementation: getrusage(RUSAGE_SELF)\n",
      "    monotonic     : True\n",
      "    resolution    : 1e-06\n",
      "    current       : 0.848872\n",
      "\n",
      "time:\n",
      "    adjustable    : True\n",
      "    implementation: gettimeofday()\n",
      "    monotonic     : False\n",
      "    resolution    : 1e-06\n",
      "    current       : 1604588233.9574778\n",
      "\n"
     ]
    }
   ],
   "metadata": {}
  },
  {
   "cell_type": "markdown",
   "source": [
    "## Wall Clock Time"
   ],
   "metadata": {}
  },
  {
   "cell_type": "code",
   "execution_count": 4,
   "source": [
    "import time\n",
    "\n",
    "print(\"The time is:\", time.time())"
   ],
   "outputs": [
    {
     "output_type": "stream",
     "name": "stdout",
     "text": [
      "The time is: 1604588370.425008\n"
     ]
    }
   ],
   "metadata": {}
  },
  {
   "cell_type": "markdown",
   "source": [
    "`time.time()`はエポック以来の秒数を戻る"
   ],
   "metadata": {}
  },
  {
   "cell_type": "code",
   "execution_count": 5,
   "source": [
    "import time\n",
    "\n",
    "print('The time is      :', time.ctime())\n",
    "later = time.time() + 15\n",
    "print('15 secs from now :', time.ctime(later))"
   ],
   "outputs": [
    {
     "output_type": "stream",
     "name": "stdout",
     "text": [
      "The time is      : Fri Nov  6 00:02:30 2020\n",
      "15 secs from now : Fri Nov  6 00:02:45 2020\n"
     ]
    }
   ],
   "metadata": {}
  },
  {
   "cell_type": "code",
   "execution_count": null,
   "source": [
    "`time.ctime(seconds)`はエポック以来の秒数を人間が読める形で時間を表示する"
   ],
   "outputs": [],
   "metadata": {}
  },
  {
   "cell_type": "markdown",
   "source": [
    "## Monotonic Clocks"
   ],
   "metadata": {}
  },
  {
   "cell_type": "markdown",
   "source": [
    "> `time()`はシステム時間を利用していて、システム時間はユーザー或いはシステム同期サービスで  \n",
    "> 変えられる。もし時間を測っているならこの影響を受けたくない、そこで登場するのは`monotonic()`"
   ],
   "metadata": {}
  },
  {
   "cell_type": "code",
   "execution_count": 10,
   "source": [
    "import time\n",
    "\n",
    "start = time.monotonic()\n",
    "time.sleep(0.1)\n",
    "end = time.monotonic()\n",
    "print(f'start : {start:>9.2f}')\n",
    "print(f'end   : {end:>9.2f}')\n",
    "print(f'span  : {end - start:>9.2f}')"
   ],
   "outputs": [
    {
     "output_type": "stream",
     "name": "stdout",
     "text": [
      "start :   1908.15\n",
      "end   :   1908.25\n",
      "span  :      0.10\n"
     ]
    }
   ],
   "metadata": {}
  },
  {
   "cell_type": "markdown",
   "source": [
    "`monotonic()`のスタートポイントは定義されていない、ゆえに計算した結果だけ意味ある"
   ],
   "metadata": {}
  },
  {
   "cell_type": "markdown",
   "source": [
    "## Processor Clock Time"
   ],
   "metadata": {}
  },
  {
   "cell_type": "code",
   "execution_count": 20,
   "source": [
    "%%writefile foo.py\n",
    "\n",
    "import hashlib\n",
    "import time\n",
    "\n",
    "data = open(__file__, 'rb').read()\n",
    "\n",
    "for i in range(20):\n",
    "    h = hashlib.sha1()\n",
    "    print(time.ctime(), f': {time.time():0.3f} {time.process_time():0.3f}')\n",
    "    for i in range(300000):\n",
    "        h.update(data)\n",
    "    cksum = h.digest()"
   ],
   "outputs": [
    {
     "output_type": "stream",
     "name": "stdout",
     "text": [
      "Writing foo.py\n"
     ]
    }
   ],
   "metadata": {}
  },
  {
   "cell_type": "code",
   "execution_count": 21,
   "source": [
    "%run foo.py"
   ],
   "outputs": [
    {
     "output_type": "stream",
     "name": "stdout",
     "text": [
      "Fri Nov  6 00:25:12 2020 : 1604589912.435 10.900\n",
      "Fri Nov  6 00:25:12 2020 : 1604589912.584 11.043\n",
      "Fri Nov  6 00:25:12 2020 : 1604589912.732 11.182\n",
      "Fri Nov  6 00:25:12 2020 : 1604589912.867 11.316\n",
      "Fri Nov  6 00:25:13 2020 : 1604589913.008 11.453\n",
      "Fri Nov  6 00:25:13 2020 : 1604589913.147 11.589\n",
      "Fri Nov  6 00:25:13 2020 : 1604589913.298 11.736\n",
      "Fri Nov  6 00:25:13 2020 : 1604589913.440 11.875\n",
      "Fri Nov  6 00:25:13 2020 : 1604589913.592 12.024\n",
      "Fri Nov  6 00:25:13 2020 : 1604589913.735 12.164\n",
      "Fri Nov  6 00:25:13 2020 : 1604589913.875 12.302\n",
      "Fri Nov  6 00:25:14 2020 : 1604589914.011 12.436\n",
      "Fri Nov  6 00:25:14 2020 : 1604589914.156 12.578\n",
      "Fri Nov  6 00:25:14 2020 : 1604589914.305 12.724\n",
      "Fri Nov  6 00:25:14 2020 : 1604589914.454 12.869\n",
      "Fri Nov  6 00:25:14 2020 : 1604589914.595 13.007\n",
      "Fri Nov  6 00:25:14 2020 : 1604589914.758 13.160\n",
      "Fri Nov  6 00:25:14 2020 : 1604589914.913 13.304\n",
      "Fri Nov  6 00:25:15 2020 : 1604589915.052 13.440\n",
      "Fri Nov  6 00:25:15 2020 : 1604589915.184 13.570\n"
     ]
    }
   ],
   "metadata": {}
  },
  {
   "cell_type": "code",
   "execution_count": 22,
   "source": [
    "!rm foo.py"
   ],
   "outputs": [],
   "metadata": {}
  },
  {
   "cell_type": "markdown",
   "source": [
    "`process_time()`は名の通り、プロセスが掛かる時間を測る"
   ],
   "metadata": {}
  },
  {
   "cell_type": "code",
   "execution_count": 23,
   "source": [
    "import time\n",
    "\n",
    "template = '{} - {:0.2f} - {:0.2f}'\n",
    "\n",
    "print(template.format(\n",
    "    time.ctime(), time.time(), time.process_time())\n",
    ")\n",
    "\n",
    "for i in range(3, 0, -1):\n",
    "    print('Sleeping', i)\n",
    "    time.sleep(i)\n",
    "    print(template.format(\n",
    "        time.ctime(), time.time(), time.process_time())\n",
    "    )"
   ],
   "outputs": [
    {
     "output_type": "stream",
     "name": "stdout",
     "text": [
      "Fri Nov  6 00:29:22 2020 - 1604590162.28 - 14.85\n",
      "Sleeping 3\n",
      "Fri Nov  6 00:29:25 2020 - 1604590165.29 - 14.85\n",
      "Sleeping 2\n",
      "Fri Nov  6 00:29:27 2020 - 1604590167.29 - 14.85\n",
      "Sleeping 1\n",
      "Fri Nov  6 00:29:28 2020 - 1604590168.30 - 14.85\n"
     ]
    }
   ],
   "metadata": {}
  },
  {
   "cell_type": "markdown",
   "source": [
    "> プログラムが何もしていないならプロセスクロックは測らない"
   ],
   "metadata": {}
  },
  {
   "cell_type": "markdown",
   "source": [
    "## Performance Counter"
   ],
   "metadata": {}
  },
  {
   "cell_type": "code",
   "execution_count": 25,
   "source": [
    "%%writefile bar.py\n",
    "\n",
    "import hashlib\n",
    "import time\n",
    "\n",
    "data = open(__file__, 'rb').read()\n",
    "\n",
    "loop_start = time.perf_counter()\n",
    "\n",
    "for i in range(5):\n",
    "    iter_start = time.perf_counter()\n",
    "    h = hashlib.sha1()\n",
    "    for i in range(300000):\n",
    "        h.update(data)\n",
    "    cksum = h.digest()\n",
    "    now = time.perf_counter()\n",
    "    loop_elapsed = now - loop_start\n",
    "    iter_elapsed = now - iter_start\n",
    "    print(time.ctime(), f': {iter_elapsed:0.3f} {loop_elapsed:0.3f}')"
   ],
   "outputs": [
    {
     "output_type": "stream",
     "name": "stdout",
     "text": [
      "Writing bar.py\n"
     ]
    }
   ],
   "metadata": {}
  },
  {
   "cell_type": "code",
   "execution_count": 26,
   "source": [
    "%run bar.py"
   ],
   "outputs": [
    {
     "output_type": "stream",
     "name": "stdout",
     "text": [
      "Fri Nov  6 00:47:11 2020 : 0.188 0.188\n",
      "Fri Nov  6 00:47:11 2020 : 0.186 0.374\n",
      "Fri Nov  6 00:47:11 2020 : 0.188 0.561\n",
      "Fri Nov  6 00:47:11 2020 : 0.181 0.743\n",
      "Fri Nov  6 00:47:12 2020 : 0.188 0.931\n"
     ]
    }
   ],
   "metadata": {}
  },
  {
   "cell_type": "code",
   "execution_count": 27,
   "source": [
    "!rm bar.py"
   ],
   "outputs": [],
   "metadata": {}
  },
  {
   "cell_type": "markdown",
   "source": [
    "> プログラムの性能を測る際、高解析度のmonotonic clockが大事  \n",
    "> `perf_counter`はそのために誕生される\n",
    "\n",
    "※`monotonic()`と同じ、絶対値は意味なく、相対値を利用すべき"
   ],
   "metadata": {}
  },
  {
   "cell_type": "markdown",
   "source": [
    "## Time Components"
   ],
   "metadata": {}
  },
  {
   "cell_type": "code",
   "execution_count": 29,
   "source": [
    "import time\n",
    "\n",
    "\n",
    "def show_struct(s):\n",
    "    print('  tm_year :', s.tm_year)\n",
    "    print('  tm_mon  :', s.tm_mon)\n",
    "    print('  tm_mday :', s.tm_mday)\n",
    "    print('  tm_hour :', s.tm_hour)\n",
    "    print('  tm_min  :', s.tm_min)\n",
    "    print('  tm_sec  :', s.tm_sec)\n",
    "    print('  tm_wday :', s.tm_wday) # [0,6]の間の数、月曜が 0\n",
    "    print('  tm_yday :', s.tm_yday) # [1, 366]の間の数  \n",
    "    print('  tm_isdst:', s.tm_isdst) # 夏時間であるかどうか\n",
    "\n",
    "\n",
    "print('gmtime:')\n",
    "show_struct(time.gmtime())\n",
    "print('\\nlocaltime:')\n",
    "show_struct(time.localtime())\n",
    "print('\\nmktime:', time.mktime(time.localtime()))"
   ],
   "outputs": [
    {
     "output_type": "stream",
     "name": "stdout",
     "text": [
      "gmtime:\n",
      "  tm_year : 2020\n",
      "  tm_mon  : 11\n",
      "  tm_mday : 5\n",
      "  tm_hour : 15\n",
      "  tm_min  : 55\n",
      "  tm_sec  : 11\n",
      "  tm_wday : 3\n",
      "  tm_yday : 310\n",
      "  tm_isdst: 0\n",
      "\n",
      "localtime:\n",
      "  tm_year : 2020\n",
      "  tm_mon  : 11\n",
      "  tm_mday : 6\n",
      "  tm_hour : 0\n",
      "  tm_min  : 55\n",
      "  tm_sec  : 11\n",
      "  tm_wday : 4\n",
      "  tm_yday : 311\n",
      "  tm_isdst: 0\n",
      "\n",
      "mktime: 1604591711.0\n"
     ]
    }
   ],
   "metadata": {}
  },
  {
   "cell_type": "markdown",
   "source": [
    "## Working with Time Zones"
   ],
   "metadata": {}
  },
  {
   "cell_type": "code",
   "execution_count": 30,
   "source": [
    "import time\n",
    "import os\n",
    "\n",
    "\n",
    "def show_zone_info():\n",
    "    print('  TZ    :', os.environ.get('TZ', '(not set)'))\n",
    "    print('  tzname:', time.tzname)\n",
    "    print('  Zone  : {} ({})'.format(\n",
    "        time.timezone, (time.timezone / 3600)))\n",
    "    print('  DST   :', time.daylight)\n",
    "    print('  Time  :', time.ctime())\n",
    "    print()\n",
    "\n",
    "\n",
    "print('Default :')\n",
    "show_zone_info()\n",
    "\n",
    "ZONES = [\n",
    "    'GMT',\n",
    "    'Europe/Amsterdam',\n",
    "]\n",
    "\n",
    "for zone in ZONES:\n",
    "    os.environ['TZ'] = zone\n",
    "    time.tzset()\n",
    "    print(zone, ':')\n",
    "    show_zone_info()"
   ],
   "outputs": [
    {
     "output_type": "stream",
     "name": "stdout",
     "text": [
      "Default :\n",
      "  TZ    : (not set)\n",
      "  tzname: ('JST', 'JST')\n",
      "  Zone  : -32400 (-9.0)\n",
      "  DST   : 0\n",
      "  Time  : Fri Nov  6 01:02:09 2020\n",
      "\n",
      "GMT :\n",
      "  TZ    : GMT\n",
      "  tzname: ('GMT', 'GMT')\n",
      "  Zone  : 0 (0.0)\n",
      "  DST   : 0\n",
      "  Time  : Thu Nov  5 16:02:09 2020\n",
      "\n",
      "Europe/Amsterdam :\n",
      "  TZ    : Europe/Amsterdam\n",
      "  tzname: ('CET', 'CEST')\n",
      "  Zone  : -3600 (-1.0)\n",
      "  DST   : 1\n",
      "  Time  : Thu Nov  5 17:02:09 2020\n",
      "\n"
     ]
    }
   ],
   "metadata": {}
  },
  {
   "cell_type": "markdown",
   "source": [
    "## Parsing and Formatting Times"
   ],
   "metadata": {}
  },
  {
   "cell_type": "code",
   "execution_count": 33,
   "source": [
    "import time\n",
    "\n",
    "\n",
    "def show_struct(s):\n",
    "    print('  tm_year :', s.tm_year)\n",
    "    print('  tm_mon  :', s.tm_mon)\n",
    "    print('  tm_mday :', s.tm_mday)\n",
    "    print('  tm_hour :', s.tm_hour)\n",
    "    print('  tm_min  :', s.tm_min)\n",
    "    print('  tm_sec  :', s.tm_sec)\n",
    "    print('  tm_wday :', s.tm_wday)\n",
    "    print('  tm_yday :', s.tm_yday)\n",
    "    print('  tm_isdst:', s.tm_isdst)\n",
    "\n",
    "\n",
    "now = time.ctime()\n",
    "print('Now:', now)\n",
    "\n",
    "parsed = time.strptime(now)\n",
    "print('\\nParsed:')\n",
    "show_struct(parsed)\n",
    "\n",
    "print('\\nFormatted:',\n",
    "      time.strftime(\"%a %b %d %H:%M:%S %Y\", parsed))"
   ],
   "outputs": [
    {
     "output_type": "stream",
     "name": "stdout",
     "text": [
      "Now: Thu Nov  5 17:03:21 2020\n",
      "\n",
      "Parsed:\n",
      "  tm_year : 2020\n",
      "  tm_mon  : 11\n",
      "  tm_mday : 5\n",
      "  tm_hour : 17\n",
      "  tm_min  : 3\n",
      "  tm_sec  : 21\n",
      "  tm_wday : 3\n",
      "  tm_yday : 310\n",
      "  tm_isdst: -1\n",
      "\n",
      "Formatted: Thu Nov 05 17:03:21 2020\n"
     ]
    }
   ],
   "metadata": {}
  },
  {
   "cell_type": "code",
   "execution_count": null,
   "source": [],
   "outputs": [],
   "metadata": {}
  }
 ]
}