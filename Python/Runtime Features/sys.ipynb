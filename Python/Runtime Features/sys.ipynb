{
 "metadata": {
  "language_info": {
   "codemirror_mode": {
    "name": "ipython",
    "version": 3
   },
   "file_extension": ".py",
   "mimetype": "text/x-python",
   "name": "python",
   "nbconvert_exporter": "python",
   "pygments_lexer": "ipython3",
   "version": "3.8.6-final"
  },
  "orig_nbformat": 2,
  "kernelspec": {
   "name": "Python 3.8.6 64-bit",
   "display_name": "Python 3.8.6 64-bit",
   "metadata": {
    "interpreter": {
     "hash": "082e9a3bcad0a290d0001e938aa60b99250c6c2ef33a923c00b70f9826caf4b7"
    }
   }
  }
 },
 "nbformat": 4,
 "nbformat_minor": 2,
 "cells": [
  {
   "source": [
    "参考資料\n",
    "* [標準ライブラリ](https://docs.python.org/ja/3/library/sys.html)\n",
    "* [PyMOTW-3](https://pymotw.com/3/sys/index.html)"
   ],
   "cell_type": "markdown",
   "metadata": {}
  },
  {
   "source": [
    "> このモジュールでは、インタプリタで使用・管理している変数や、インタプリタの動作に深く関連する関数を定義しています。  \n",
    "> このモジュールは常に利用可能です。"
   ],
   "cell_type": "markdown",
   "metadata": {}
  },
  {
   "source": [
    "## インタプリタ設定"
   ],
   "cell_type": "markdown",
   "metadata": {}
  },
  {
   "source": [
    "### バージョン情報"
   ],
   "cell_type": "markdown",
   "metadata": {}
  },
  {
   "cell_type": "code",
   "execution_count": 1,
   "metadata": {},
   "outputs": [
    {
     "output_type": "stream",
     "name": "stdout",
     "text": [
      "Version info:\n\nsys.version      = '3.8.6 (v3.8.6:db455296be, Sep 23 2020, 13:31:39) \\n[Clang 6.0 (clang-600.0.57)]'\nsys.version_info = sys.version_info(major=3, minor=8, micro=6, releaselevel='final', serial=0)\nsys.hexversion   = 0x30806f0\nsys.api_version  = 1013\n"
     ]
    }
   ],
   "source": [
    "import sys\n",
    "\n",
    "print('Version info:')\n",
    "print()\n",
    "print('sys.version      =', repr(sys.version))\n",
    "print('sys.version_info =', sys.version_info)\n",
    "print('sys.hexversion   =', hex(sys.hexversion)) # 単精度整数にエンコードされたバージョン番号\n",
    "print('sys.api_version  =', sys.api_version) # C API バージョン"
   ]
  },
  {
   "source": [
    "```bash\n",
    "Python 3.8.6 (v3.8.6:db455296be, Sep 23 2020, 13:31:39) \n",
    "[Clang 6.0 (clang-600.0.57)] on darwin\n",
    "Type \"help\", \"copyright\", \"credits\" or \"license\" for more information.\n",
    ">>> \n",
    "```\n",
    "pythonを起動する時、表示するバーション情報は`sys.version`"
   ],
   "cell_type": "markdown",
   "metadata": {}
  },
  {
   "source": [
    "sys.version_info\n",
    "* major\n",
    "* minor\n",
    "* micro\n",
    "* releaselevel\n",
    "* serial\n",
    "\n",
    "`major.minor.micro`はPythonのバーションを示す  \n",
    "`releaselevel`は'alpha', 'beta', 'candidate', 'final'の一つ"
   ],
   "cell_type": "markdown",
   "metadata": {}
  },
  {
   "cell_type": "code",
   "execution_count": 2,
   "metadata": {},
   "outputs": [
    {
     "output_type": "stream",
     "name": "stdout",
     "text": [
      "This interpreter was built for: darwin\n"
     ]
    }
   ],
   "source": [
    "import sys\n",
    "\n",
    "print('This interpreter was built for:', sys.platform)"
   ]
  },
  {
   "source": [
    "|システム|platform の値|\n",
    "|:-:|:-:|\n",
    "|Linux|'linux'|\n",
    "|MacOS|'darwin'|\n",
    "|Windows|'win32'|"
   ],
   "cell_type": "markdown",
   "metadata": {}
  },
  {
   "source": [
    "### インタプリタ実装"
   ],
   "cell_type": "markdown",
   "metadata": {}
  },
  {
   "cell_type": "code",
   "execution_count": 4,
   "metadata": {},
   "outputs": [
    {
     "output_type": "stream",
     "name": "stdout",
     "text": [
      "Name: cpython\nVersion: sys.version_info(major=3, minor=8, micro=6, releaselevel='final', serial=0)\nCache tag: cpython-38\n"
     ]
    }
   ],
   "source": [
    "import sys\n",
    "\n",
    "\n",
    "print('Name:', sys.implementation.name)\n",
    "print('Version:', sys.implementation.version) # CPython以外の場合は\"sys.version_info\"と違う\n",
    "print('Cache tag:', sys.implementation.cache_tag)"
   ]
  },
  {
   "source": [
    "### コマンドライン選択肢"
   ],
   "cell_type": "markdown",
   "metadata": {}
  },
  {
   "cell_type": "code",
   "execution_count": 6,
   "metadata": {},
   "outputs": [
    {
     "output_type": "stream",
     "name": "stdout",
     "text": [
      "usage: /Library/Frameworks/Python.framework/Versions/3.8/bin/python3 [option] ... [-c cmd | -m mod | file | -] [arg] ...\nOptions and arguments (and corresponding environment variables):\n-b     : issue warnings about str(bytes_instance), str(bytearray_instance)\n         and comparing bytes/bytearray with str. (-bb: issue errors)\n-B     : don't write .pyc files on import; also PYTHONDONTWRITEBYTECODE=x\n-c cmd : program passed in as string (terminates option list)\n-d     : debug output from parser; also PYTHONDEBUG=x\n-E     : ignore PYTHON* environment variables (such as PYTHONPATH)\n-h     : print this help message and exit (also --help)\n-i     : inspect interactively after running script; forces a prompt even\n         if stdin does not appear to be a terminal; also PYTHONINSPECT=x\n-I     : isolate Python from the user's environment (implies -E and -s)\n-m mod : run library module as a script (terminates option list)\n-O     : remove assert and __debug__-dependent statements; add .opt-1 before\n         .pyc extension; also PYTHONOPTIMIZE=x\n-OO    : do -O changes and also discard docstrings; add .opt-2 before\n         .pyc extension\n-q     : don't print version and copyright messages on interactive startup\n-s     : don't add user site directory to sys.path; also PYTHONNOUSERSITE\n-S     : don't imply 'import site' on initialization\n-u     : force the stdout and stderr streams to be unbuffered;\n         this option has no effect on stdin; also PYTHONUNBUFFERED=x\n-v     : verbose (trace import statements); also PYTHONVERBOSE=x\n         can be supplied multiple times to increase verbosity\n-V     : print the Python version number and exit (also --version)\n         when given twice, print more information about the build\n-W arg : warning control; arg is action:message:category:module:lineno\n         also PYTHONWARNINGS=arg\n-x     : skip first line of source, allowing use of non-Unix forms of #!cmd\n-X opt : set implementation-specific option. The following options are available:\n\n         -X faulthandler: enable faulthandler\n         -X showrefcount: output the total reference count and number of used\n             memory blocks when the program finishes or after each statement in the\n             interactive interpreter. This only works on debug builds\n         -X tracemalloc: start tracing Python memory allocations using the\n             tracemalloc module. By default, only the most recent frame is stored in a\n             traceback of a trace. Use -X tracemalloc=NFRAME to start tracing with a\n             traceback limit of NFRAME frames\n         -X showalloccount: output the total count of allocated objects for each\n             type when the program finishes. This only works when Python was built with\n             COUNT_ALLOCS defined\n         -X importtime: show how long each import takes. It shows module name,\n             cumulative time (including nested imports) and self time (excluding\n             nested imports). Note that its output may be broken in multi-threaded\n             application. Typical usage is python3 -X importtime -c 'import asyncio'\n         -X dev: enable CPython's \"development mode\", introducing additional runtime\n             checks which are too expensive to be enabled by default. Effect of the\n             developer mode:\n                * Add default warning filter, as -W default\n                * Install debug hooks on memory allocators: see the PyMem_SetupDebugHooks() C function\n                * Enable the faulthandler module to dump the Python traceback on a crash\n                * Enable asyncio debug mode\n                * Set the dev_mode attribute of sys.flags to True\n                * io.IOBase destructor logs close() exceptions\n         -X utf8: enable UTF-8 mode for operating system interfaces, overriding the default\n             locale-aware mode. -X utf8=0 explicitly disables UTF-8 mode (even when it would\n             otherwise activate automatically)\n         -X pycache_prefix=PATH: enable writing .pyc files to a parallel tree rooted at the\n             given directory instead of to the code tree\n\n--check-hash-based-pycs always|default|never:\n    control how Python invalidates hash-based .pyc files\nfile   : program read from script file\n-      : program read from stdin (default; interactive mode if a tty)\narg ...: arguments passed to program in sys.argv[1:]\n\nOther environment variables:\nPYTHONSTARTUP: file executed on interactive startup (no default)\nPYTHONPATH   : ':'-separated list of directories prefixed to the\n               default module search path.  The result is sys.path.\nPYTHONHOME   : alternate <prefix> directory (or <prefix>:<exec_prefix>).\n               The default module search path uses <prefix>/lib/pythonX.X.\nPYTHONCASEOK : ignore case in 'import' statements (Windows).\nPYTHONUTF8: if set to 1, enable the UTF-8 mode.\nPYTHONIOENCODING: Encoding[:errors] used for stdin/stdout/stderr.\nPYTHONFAULTHANDLER: dump the Python traceback on fatal errors.\nPYTHONHASHSEED: if this variable is set to 'random', a random value is used\n   to seed the hashes of str and bytes objects.  It can also be set to an\n   integer in the range [0,4294967295] to get hash values with a\n   predictable seed.\nPYTHONMALLOC: set the Python memory allocators and/or install debug hooks\n   on Python memory allocators. Use PYTHONMALLOC=debug to install debug\n   hooks.\nPYTHONCOERCECLOCALE: if this variable is set to 0, it disables the locale\n   coercion behavior. Use PYTHONCOERCECLOCALE=warn to request display of\n   locale coercion and locale compatibility warnings on stderr.\nPYTHONBREAKPOINT: if this variable is set to 0, it disables the default\n   debugger. It can be set to the callable of your debugger of choice.\nPYTHONDEVMODE: enable the development mode.\nPYTHONPYCACHEPREFIX: root directory for bytecode cache (pyc) files.\n"
     ]
    }
   ],
   "source": [
    "!python3 -h"
   ]
  },
  {
   "source": [
    "### Unicodeデフォルト"
   ],
   "cell_type": "markdown",
   "metadata": {}
  },
  {
   "cell_type": "code",
   "execution_count": 13,
   "metadata": {},
   "outputs": [
    {
     "output_type": "stream",
     "name": "stdout",
     "text": [
      "Default encoding     : utf-8\nFile system encoding : utf-8\n"
     ]
    }
   ],
   "source": [
    "import sys\n",
    "\n",
    "print('Default encoding     :', sys.getdefaultencoding())\n",
    "print('File system encoding :', sys.getfilesystemencoding())"
   ]
  },
  {
   "source": [
    "### 対話的プロンプト"
   ],
   "cell_type": "markdown",
   "metadata": {}
  },
  {
   "source": [
    "```python\n",
    ">>> import sys\n",
    ">>> sys.ps1\n",
    "'>>> '\n",
    ">>> sys.ps2\n",
    "'... '\n",
    "```"
   ],
   "cell_type": "code",
   "metadata": {},
   "execution_count": null,
   "outputs": []
  },
  {
   "source": [
    "> 任意の`__str__`を定義したオブジェクトはプロンプトに利用できる"
   ],
   "cell_type": "markdown",
   "metadata": {}
  },
  {
   "cell_type": "code",
   "execution_count": null,
   "metadata": {},
   "outputs": [],
   "source": [
    "```python\n",
    ">>> import sys\n",
    ">>> class IPythonStyle:\n",
    "...     def __init__(self):\n",
    "...         self.count = 0\n",
    "...     \n",
    "...     def __str__(self):\n",
    "...         self.count += 1\n",
    "...         return f\"In [{self.count}]:\"\n",
    "... \n",
    ">>> sys.ps1=IPythonStyle()\n",
    "In [1]:\n",
    "In [2]:\n",
    "In [3]:\n",
    "```"
   ]
  },
  {
   "source": [
    "### Install Location"
   ],
   "cell_type": "markdown",
   "metadata": {}
  },
  {
   "cell_type": "code",
   "execution_count": 22,
   "metadata": {},
   "outputs": [
    {
     "output_type": "stream",
     "name": "stdout",
     "text": [
      "Interpreter executable:\n/Library/Frameworks/Python.framework/Versions/3.8/bin/python3\n\nInstallation prefix:\n/Library/Frameworks/Python.framework/Versions/3.8\n"
     ]
    }
   ],
   "source": [
    "import sys\n",
    "\n",
    "print('Interpreter executable:')\n",
    "# プロンプトの場所、特に仮想環境を利用する際正しいプロンプトを利用しているかどうか確認できる\n",
    "print(sys.executable)\n",
    "print('\\nInstallation prefix:')\n",
    "# プロンプトがインストールされる場所\n",
    "print(sys.prefix)"
   ]
  },
  {
   "source": [
    "## Runtime Environment"
   ],
   "cell_type": "markdown",
   "metadata": {}
  },
  {
   "source": [
    "### コマンドラインパラメータ"
   ],
   "cell_type": "markdown",
   "metadata": {}
  },
  {
   "cell_type": "code",
   "execution_count": 25,
   "metadata": {},
   "outputs": [
    {
     "output_type": "stream",
     "name": "stdout",
     "text": [
      "Writing foo.py\n"
     ]
    }
   ],
   "source": [
    "%%writefile foo.py\n",
    "\n",
    "import sys\n",
    "\n",
    "print(\"Arguments: \", sys.argv)"
   ]
  },
  {
   "cell_type": "code",
   "execution_count": 29,
   "metadata": {},
   "outputs": [
    {
     "output_type": "stream",
     "name": "stdout",
     "text": [
      "Arguments:  ['foo.py']\n"
     ]
    }
   ],
   "source": [
    "%run foo.py"
   ]
  },
  {
   "cell_type": "code",
   "execution_count": 30,
   "metadata": {},
   "outputs": [
    {
     "output_type": "stream",
     "name": "stdout",
     "text": [
      "Arguments:  ['foo.py', '-v', 'foo', 'blabababa']\n"
     ]
    }
   ],
   "source": [
    "%run foo.py -v foo blabababa"
   ]
  },
  {
   "cell_type": "code",
   "execution_count": 31,
   "metadata": {},
   "outputs": [],
   "source": [
    "!rm foo.py"
   ]
  },
  {
   "source": [
    "### Input and Output Streams"
   ],
   "cell_type": "markdown",
   "metadata": {}
  },
  {
   "cell_type": "code",
   "execution_count": 33,
   "metadata": {},
   "outputs": [
    {
     "output_type": "stream",
     "name": "stdout",
     "text": [
      "Writing foo.py\n"
     ]
    }
   ],
   "source": [
    "%%writefile foo.py\n",
    "\n",
    "import sys\n",
    "\n",
    "print('STATUS: Reading from stdin', file=sys.stderr)\n",
    " # stdinは普通input,でもpipelineを経由で他のプログラムから取得できる\n",
    "data = sys.stdin.read()\n",
    "\n",
    "print('STATUS: Writing data to stdout', file=sys.stderr)\n",
    "\n",
    "sys.stdout.write(data)　# pipelineへ渡ることができる\n",
    "sys.stdout.flush()\n",
    "\n",
    "print('STATUS: Done', file=sys.stderr)"
   ]
  },
  {
   "cell_type": "code",
   "execution_count": 35,
   "metadata": {},
   "outputs": [
    {
     "output_type": "stream",
     "name": "stdout",
     "text": [
      "STATUS: Reading from stdin\nSTATUS: Writing data to stdout\n\nimport sys\n\nprint('STATUS: Reading from stdin', file=sys.stderr)\n\ndata = sys.stdin.read()\n\nprint('STATUS: Writing data to stdout', file=sys.stderr)\n\nsys.stdout.write(data)\nsys.stdout.flush()\n\nprint('STATUS: Done', file=sys.stderr)\nSTATUS: Done\n"
     ]
    }
   ],
   "source": [
    "!cat foo.py | python3 -u foo.py"
   ]
  },
  {
   "cell_type": "code",
   "execution_count": 36,
   "metadata": {},
   "outputs": [],
   "source": [
    "!rm foo.py"
   ]
  },
  {
   "source": [
    "### Returning Status"
   ],
   "cell_type": "markdown",
   "metadata": {}
  },
  {
   "cell_type": "code",
   "execution_count": 38,
   "metadata": {},
   "outputs": [
    {
     "output_type": "stream",
     "name": "stdout",
     "text": [
      "Writing foo.py\n"
     ]
    }
   ],
   "source": [
    "%%writefile foo.py\n",
    "\n",
    "import sys\n",
    "\n",
    "exit_code = int(sys.argv[1])\n",
    "sys.exit(exit_code)"
   ]
  },
  {
   "cell_type": "code",
   "execution_count": 39,
   "metadata": {},
   "outputs": [
    {
     "output_type": "stream",
     "name": "stdout",
     "text": [
      "Exited 0\n"
     ]
    }
   ],
   "source": [
    "!python3 foo.py 0; echo \"Exited $?\""
   ]
  },
  {
   "cell_type": "code",
   "execution_count": 40,
   "metadata": {},
   "outputs": [
    {
     "output_type": "stream",
     "name": "stdout",
     "text": [
      "Exited 1\n"
     ]
    }
   ],
   "source": [
    "!python3 foo.py 1; echo \"Exited $?\""
   ]
  },
  {
   "cell_type": "code",
   "execution_count": 41,
   "metadata": {},
   "outputs": [],
   "source": [
    "!rm foo.py"
   ]
  },
  {
   "source": [
    "## メモリ管理と限界値"
   ],
   "cell_type": "markdown",
   "metadata": {}
  },
  {
   "source": [
    "### 参照カウント"
   ],
   "cell_type": "markdown",
   "metadata": {}
  },
  {
   "cell_type": "code",
   "execution_count": 44,
   "metadata": {},
   "outputs": [
    {
     "output_type": "stream",
     "name": "stdout",
     "text": [
      "At start         : 2\nSecond reference : 3\nAfter del        : 2\n"
     ]
    }
   ],
   "source": [
    "import sys\n",
    "\n",
    "one = []\n",
    "print('At start         :', sys.getrefcount(one))\n",
    "\n",
    "two = one\n",
    "\n",
    "print('Second reference :', sys.getrefcount(one))\n",
    "\n",
    "del two\n",
    "\n",
    "print('After del        :', sys.getrefcount(one))"
   ]
  },
  {
   "source": [
    "> 0になったら`garbage collector(gc)`によりメモリから削除される"
   ],
   "cell_type": "markdown",
   "metadata": {}
  },
  {
   "source": [
    "### オブジェクト大きさ"
   ],
   "cell_type": "markdown",
   "metadata": {}
  },
  {
   "cell_type": "code",
   "execution_count": 46,
   "metadata": {},
   "outputs": [
    {
     "output_type": "stream",
     "name": "stdout",
     "text": [
      "      list : 56\n     tuple : 40\n      dict : 64\n       str : 50\n       str : 55\n     bytes : 38\n       int : 28\n     float : 24\n      type : 1064\n   MyClass : 48\n"
     ]
    }
   ],
   "source": [
    "import sys\n",
    "\n",
    "\n",
    "class MyClass:\n",
    "    pass\n",
    "\n",
    "\n",
    "objects = [\n",
    "    [], (), {}, 'c', 'string', b'bytes', 1, 2.3,\n",
    "    MyClass, MyClass(),\n",
    "]\n",
    "\n",
    "for obj in objects:\n",
    "    print(f'{type(obj).__name__:>10} : {sys.getsizeof(obj)}') # 単位: Bytes"
   ]
  },
  {
   "cell_type": "code",
   "execution_count": 47,
   "metadata": {},
   "outputs": [
    {
     "output_type": "stream",
     "name": "stdout",
     "text": [
      "WithoutAttributes: 48\nWithAttributes: 48\n"
     ]
    }
   ],
   "source": [
    "import sys\n",
    "\n",
    "\n",
    "class WithoutAttributes:\n",
    "    pass\n",
    "\n",
    "\n",
    "class WithAttributes:\n",
    "    def __init__(self):\n",
    "        self.a = 'a'\n",
    "        self.b = 'b'\n",
    "        return\n",
    "\n",
    "\n",
    "without_attrs = WithoutAttributes()\n",
    "print('WithoutAttributes:', sys.getsizeof(without_attrs))\n",
    "\n",
    "with_attrs = WithAttributes()\n",
    "print('WithAttributes:', sys.getsizeof(with_attrs))"
   ]
  },
  {
   "source": [
    "> 属性は計算されていないのため間違った結果となる"
   ],
   "cell_type": "markdown",
   "metadata": {}
  },
  {
   "cell_type": "code",
   "execution_count": 49,
   "metadata": {},
   "outputs": [
    {
     "output_type": "stream",
     "name": "stdout",
     "text": [
      "148\n"
     ]
    }
   ],
   "source": [
    "import sys\n",
    "\n",
    "\n",
    "class WithAttributes:\n",
    "    def __init__(self):\n",
    "        self.a = 'a'\n",
    "        self.b = 'b'\n",
    "        return\n",
    "\n",
    "    def __sizeof__(self):\n",
    "        return object.__sizeof__(self) + \\\n",
    "            sum(sys.getsizeof(v) for v in self.__dict__.values())\n",
    "\n",
    "my_inst = WithAttributes()\n",
    "print(sys.getsizeof(my_inst))"
   ]
  },
  {
   "source": [
    "### 再帰"
   ],
   "cell_type": "markdown",
   "metadata": {}
  },
  {
   "cell_type": "code",
   "execution_count": 1,
   "metadata": {},
   "outputs": [
    {
     "output_type": "stream",
     "name": "stdout",
     "text": [
      "Initial limit: 3000\nModified limit: 56\ngenerate_recursion_error(1)\ngenerate_recursion_error(2)\ngenerate_recursion_error(3)\ngenerate_recursion_error(4)\ngenerate_recursion_error(5)\ngenerate_recursion_error(6)\ngenerate_recursion_error(7)\ngenerate_recursion_error(8)\ngenerate_recursion_error(9)\ngenerate_recursion_error(10)\ngenerate_recursion_error(11)\ngenerate_recursion_error(12)\ngenerate_recursion_error(13)\nCaught exception: maximum recursion depth exceeded while calling a Python object\n"
     ]
    }
   ],
   "source": [
    "import sys\n",
    "\n",
    "print('Initial limit:', sys.getrecursionlimit())\n",
    "\n",
    "sys.setrecursionlimit(56)\n",
    "\n",
    "print('Modified limit:', sys.getrecursionlimit())\n",
    "\n",
    "\n",
    "def generate_recursion_error(i):\n",
    "    print(f'generate_recursion_error({i})')\n",
    "    generate_recursion_error(i + 1)\n",
    "\n",
    "\n",
    "try:\n",
    "    generate_recursion_error(1)\n",
    "except RuntimeError as err:\n",
    "    print('Caught exception:', err)"
   ]
  },
  {
   "source": [
    "### 最大値"
   ],
   "cell_type": "markdown",
   "metadata": {}
  },
  {
   "cell_type": "code",
   "execution_count": 3,
   "metadata": {},
   "outputs": [
    {
     "output_type": "stream",
     "name": "stdout",
     "text": [
      "maxsize   : 9223372036854775807\nmaxunicode: 1114111\n"
     ]
    }
   ],
   "source": [
    "import sys\n",
    "\n",
    "print('maxsize   :', sys.maxsize)\n",
    "print('maxunicode:', sys.maxunicode)"
   ]
  },
  {
   "source": [
    "### Floating Point Values"
   ],
   "cell_type": "markdown",
   "metadata": {}
  },
  {
   "cell_type": "code",
   "execution_count": 5,
   "metadata": {},
   "outputs": [
    {
     "output_type": "stream",
     "name": "stdout",
     "text": [
      "Smallest difference (epsilon): 2.220446049250313e-16\n\nDigits (dig)              : 15\nMantissa digits (mant_dig): 53\n\nMaximum (max): 1.7976931348623157e+308\nMinimum (min): 2.2250738585072014e-308\n\nRadix of exponents (radix): 2\n\nMaximum exponent for radix (max_exp): 1024\nMinimum exponent for radix (min_exp): -1021\n\nMax. exponent power of 10 (max_10_exp): 308\nMin. exponent power of 10 (min_10_exp): -307\n\nRounding for addition (rounds): 1\n"
     ]
    }
   ],
   "source": [
    "import sys\n",
    "\n",
    "print('Smallest difference (epsilon):', sys.float_info.epsilon)\n",
    "print()\n",
    "print('Digits (dig)              :', sys.float_info.dig)\n",
    "print('Mantissa digits (mant_dig):', sys.float_info.mant_dig)\n",
    "print()\n",
    "print('Maximum (max):', sys.float_info.max)\n",
    "print('Minimum (min):', sys.float_info.min)\n",
    "print()\n",
    "print('Radix of exponents (radix):', sys.float_info.radix)\n",
    "print()\n",
    "print('Maximum exponent for radix (max_exp):',\n",
    "      sys.float_info.max_exp)\n",
    "print('Minimum exponent for radix (min_exp):',\n",
    "      sys.float_info.min_exp)\n",
    "print()\n",
    "print('Max. exponent power of 10 (max_10_exp):',\n",
    "      sys.float_info.max_10_exp)\n",
    "print('Min. exponent power of 10 (min_10_exp):',\n",
    "      sys.float_info.min_10_exp)\n",
    "print()\n",
    "print('Rounding for addition (rounds):', sys.float_info.rounds)"
   ]
  },
  {
   "source": [
    "### 整数値"
   ],
   "cell_type": "markdown",
   "metadata": {}
  },
  {
   "cell_type": "code",
   "execution_count": 7,
   "metadata": {},
   "outputs": [
    {
     "output_type": "stream",
     "name": "stdout",
     "text": [
      "Number of bits used to hold each digit: 30\nSize in bytes of C type used to hold each digit: 4\n"
     ]
    }
   ],
   "source": [
    "import sys\n",
    "\n",
    "print('Number of bits used to hold each digit:',\n",
    "      sys.int_info.bits_per_digit)\n",
    "print('Size in bytes of C type used to hold each digit:',\n",
    "      sys.int_info.sizeof_digit)"
   ]
  },
  {
   "source": [
    "## Modules and Imports"
   ],
   "cell_type": "markdown",
   "metadata": {}
  },
  {
   "source": [
    "### Imported Modules"
   ],
   "cell_type": "markdown",
   "metadata": {}
  },
  {
   "cell_type": "code",
   "execution_count": 8,
   "metadata": {},
   "outputs": [
    {
     "output_type": "stream",
     "name": "stdout",
     "text": [
      "IPython, IPython.core, IPython.core.alias,\nIPython.core.application, IPython.core.async_helpers,\nIPython.core.autocall, IPython.core.builtin_trap,\nIPython.core.compilerop, IPython.core.completer,\nIPython.core.completerlib, IPython.core.crashhandler,\nIPython.core.debugger, IPython.core.display,\nIPython.core.display_trap, IPython.core.displayhook,\nIPython.core.displaypub, IPython.core.error,\nIPython.core.events, IPython.core.excolors,\nIPython.core.extensions, IPython.core.formatters,\nIPython.core.getipython, IPython.core.history,\nIPython.core.hooks, IPython.core.inputtransformer2,\nIPython.core.interactiveshell, IPython.core.latex_symbols,\nIPython.core.logger, IPython.core.macro, IPython.core.magic,\nIPython.core.magic_arguments, IPython.core.magics,\nIPython.core.magics.auto, IPython.core.magics.basic,\nIPython.core.magics.code, IPython.core.magics.config,\nIPython.core.magics.display, IPython.core.magics.execution,\nIPython.core.magics.extension, IPython.core.magics.history,\nIPython.core.magics.logging, IPython.core.magics.namespace,\nIPython.core.magics.osm, IPython.core.magics.packaging,\nIPython.core.magics.pylab, IPython.core.magics.script,\nIPython.core.oinspect, IPython.core.page, IPython.core.payload,\nIPython.core.payloadpage, IPython.core.prefilter,\nIPython.core.profiledir, IPython.core.pylabtools,\nIPython.core.release, IPython.core.shellapp,\nIPython.core.splitinput, IPython.core.ultratb,\nIPython.core.usage, IPython.display, IPython.extensions,\nIPython.extensions.storemagic, IPython.lib,\nIPython.lib.backgroundjobs, IPython.lib.clipboard,\nIPython.lib.display, IPython.lib.pretty, IPython.lib.security,\nIPython.paths, IPython.terminal, IPython.terminal.debugger,\nIPython.terminal.embed, IPython.terminal.interactiveshell,\nIPython.terminal.ipapp, IPython.terminal.magics,\nIPython.terminal.prompts, IPython.terminal.pt_inputhooks,\nIPython.terminal.ptutils, IPython.terminal.shortcuts,\nIPython.testing, IPython.testing.skipdoctest, IPython.utils,\nIPython.utils.PyColorize, IPython.utils._process_common,\nIPython.utils._process_posix, IPython.utils._sysinfo,\nIPython.utils.capture, IPython.utils.colorable,\nIPython.utils.coloransi, IPython.utils.contexts,\nIPython.utils.data, IPython.utils.decorators,\nIPython.utils.dir2, IPython.utils.encoding, IPython.utils.frame,\nIPython.utils.generics, IPython.utils.importstring,\nIPython.utils.io, IPython.utils.ipstruct,\nIPython.utils.module_paths, IPython.utils.openpy,\nIPython.utils.path, IPython.utils.process,\nIPython.utils.py3compat, IPython.utils.sentinel,\nIPython.utils.strdispatch, IPython.utils.sysinfo,\nIPython.utils.syspathcontext, IPython.utils.tempdir,\nIPython.utils.terminal, IPython.utils.text,\nIPython.utils.timing, IPython.utils.tokenutil,\nIPython.utils.wildcard, __future__, __main__, _abc, _ast,\n_asyncio, _bisect, _blake2, _bootlocale, _bz2, _codecs,\n_collections, _collections_abc, _compat_pickle, _compression,\n_contextvars, _ctypes, _curses, _cython_0_29_21, _datetime,\n_decimal, _frozen_importlib, _frozen_importlib_external,\n_functools, _hashlib, _heapq, _imp, _io, _json, _locale,\n_lsprof, _lzma, _opcode, _operator, _osx_support, _pickle,\n_posixsubprocess, _queue, _random, _scproxy, _sha3, _sha512,\n_signal, _sitebuiltins, _socket, _sqlite3, _sre, _ssl, _stat,\n_string, _strptime, _struct, _sysconfigdata__darwin_darwin,\n_thread, _uuid, _warnings, _weakref, _weakrefset, abc, appnope,\nappnope._nope, argparse, array, ast, asyncio,\nasyncio.base_events, asyncio.base_futures,\nasyncio.base_subprocess, asyncio.base_tasks, asyncio.constants,\nasyncio.coroutines, asyncio.events, asyncio.exceptions,\nasyncio.format_helpers, asyncio.futures, asyncio.locks,\nasyncio.log, asyncio.protocols, asyncio.queues, asyncio.runners,\nasyncio.selector_events, asyncio.sslproto, asyncio.staggered,\nasyncio.streams, asyncio.subprocess, asyncio.tasks,\nasyncio.transports, asyncio.trsock, asyncio.unix_events, atexit,\nbackcall, backcall.backcall, base64, bdb, binascii, bisect,\nbuiltins, bz2, cProfile, calendar, cmd, code, codecs, codeop,\ncollections, collections.abc, colorsys, concurrent,\nconcurrent.futures, concurrent.futures._base, contextlib,\ncontextvars, copy, copyreg, ctypes, ctypes._endian,\nctypes.macholib, ctypes.macholib.dyld, ctypes.macholib.dylib,\nctypes.macholib.framework, ctypes.util, curses, cython_runtime,\ndatetime, dateutil, dateutil._common, dateutil._version,\ndateutil.parser, dateutil.parser._parser,\ndateutil.parser.isoparser, dateutil.relativedelta, dateutil.tz,\ndateutil.tz._common, dateutil.tz._factories, dateutil.tz.tz,\ndecimal, decorator, difflib, dis, distutils, distutils.debug,\ndistutils.dep_util, distutils.errors, distutils.log,\ndistutils.spawn, distutils.util, distutils.version, email,\nemail._encoded_words, email._parseaddr, email._policybase,\nemail.base64mime, email.charset, email.encoders, email.errors,\nemail.feedparser, email.header, email.iterators, email.message,\nemail.parser, email.quoprimime, email.utils, encodings,\nencodings.aliases, encodings.latin_1, encodings.utf_8, enum,\nerrno, faulthandler, fcntl, filecmp, fnmatch, functools, gc,\ngenericpath, getopt, getpass, gettext, glob, grp, hashlib,\nheapq, hmac, html, html.entities, http, http.client, imp,\nimportlib, importlib._bootstrap, importlib._bootstrap_external,\nimportlib.abc, importlib.machinery, importlib.util, inspect, io,\nipykernel, ipykernel._version, ipykernel.codeutil,\nipykernel.comm, ipykernel.comm.comm, ipykernel.comm.manager,\nipykernel.connect, ipykernel.datapub, ipykernel.displayhook,\nipykernel.eventloops, ipykernel.heartbeat, ipykernel.iostream,\nipykernel.ipkernel, ipykernel.jsonutil, ipykernel.kernelapp,\nipykernel.kernelbase, ipykernel.parentpoller,\nipykernel.pickleutil, ipykernel.serialize, ipykernel.zmqshell,\nipython_genutils, ipython_genutils._version,\nipython_genutils.encoding, ipython_genutils.importstring,\nipython_genutils.path, ipython_genutils.py3compat,\nipython_genutils.text, itertools, jedi, jedi._compatibility,\njedi.api, jedi.api.classes, jedi.api.completion,\njedi.api.completion_cache, jedi.api.environment,\njedi.api.errors, jedi.api.exceptions, jedi.api.file_name,\njedi.api.helpers, jedi.api.interpreter, jedi.api.keywords,\njedi.api.project, jedi.api.refactoring,\njedi.api.refactoring.extract, jedi.api.strings, jedi.cache,\njedi.common, jedi.debug, jedi.file_io, jedi.inference,\njedi.inference.analysis, jedi.inference.arguments,\njedi.inference.base_value, jedi.inference.cache,\njedi.inference.compiled, jedi.inference.compiled.access,\njedi.inference.compiled.getattr_static,\njedi.inference.compiled.mixed,\njedi.inference.compiled.subprocess,\njedi.inference.compiled.subprocess.functions,\njedi.inference.compiled.value, jedi.inference.context,\njedi.inference.docstrings, jedi.inference.filters,\njedi.inference.flow_analysis, jedi.inference.gradual,\njedi.inference.gradual.annotation, jedi.inference.gradual.base,\njedi.inference.gradual.conversion,\njedi.inference.gradual.generics,\njedi.inference.gradual.stub_value,\njedi.inference.gradual.type_var,\njedi.inference.gradual.typeshed, jedi.inference.gradual.typing,\njedi.inference.gradual.utils, jedi.inference.helpers,\njedi.inference.imports, jedi.inference.lazy_value,\njedi.inference.names, jedi.inference.param,\njedi.inference.parser_cache, jedi.inference.recursion,\njedi.inference.references, jedi.inference.signature,\njedi.inference.syntax_tree, jedi.inference.sys_path,\njedi.inference.utils, jedi.inference.value,\njedi.inference.value.decorator,\njedi.inference.value.dynamic_arrays,\njedi.inference.value.function, jedi.inference.value.instance,\njedi.inference.value.iterable, jedi.inference.value.klass,\njedi.inference.value.module, jedi.parser_utils, jedi.plugins,\njedi.plugins.django, jedi.plugins.flask, jedi.plugins.pytest,\njedi.plugins.registry, jedi.plugins.stdlib, jedi.settings, json,\njson.decoder, json.encoder, json.scanner, jupyter_client,\njupyter_client._version, jupyter_client.adapter,\njupyter_client.asynchronous,\njupyter_client.asynchronous.channels,\njupyter_client.asynchronous.client, jupyter_client.blocking,\njupyter_client.blocking.channels,\njupyter_client.blocking.client, jupyter_client.channels,\njupyter_client.channelsabc, jupyter_client.client,\njupyter_client.clientabc, jupyter_client.connect,\njupyter_client.jsonutil, jupyter_client.kernelspec,\njupyter_client.launcher, jupyter_client.localinterfaces,\njupyter_client.manager, jupyter_client.managerabc,\njupyter_client.multikernelmanager, jupyter_client.session,\njupyter_core, jupyter_core.paths, jupyter_core.version, keyword,\nlinecache, locale, logging, logging.handlers, lzma, marshal,\nmath, mimetypes, mpl_toolkits, ntpath, numbers, opcode,\noperator, os, os.path, parso, parso._compatibility, parso.cache,\nparso.file_io, parso.grammar, parso.normalizer, parso.parser,\nparso.pgen2, parso.pgen2.generator, parso.pgen2.grammar_parser,\nparso.python, parso.python.diff, parso.python.errors,\nparso.python.parser, parso.python.pep8, parso.python.prefix,\nparso.python.token, parso.python.tokenize, parso.python.tree,\nparso.tree, parso.utils, pathlib, pdb, pexpect,\npexpect.exceptions, pexpect.expect, pexpect.pty_spawn,\npexpect.run, pexpect.spawnbase, pexpect.utils, pickle,\npickleshare, pkgutil, platform, plistlib, posix, posixpath,\npprint, profile, prompt_toolkit, prompt_toolkit.application,\nprompt_toolkit.application.application,\nprompt_toolkit.application.current,\nprompt_toolkit.application.dummy,\nprompt_toolkit.application.run_in_terminal,\nprompt_toolkit.auto_suggest, prompt_toolkit.buffer,\nprompt_toolkit.cache, prompt_toolkit.clipboard,\nprompt_toolkit.clipboard.base,\nprompt_toolkit.clipboard.in_memory, prompt_toolkit.completion,\nprompt_toolkit.completion.base,\nprompt_toolkit.completion.filesystem,\nprompt_toolkit.completion.fuzzy_completer,\nprompt_toolkit.completion.nested,\nprompt_toolkit.completion.word_completer,\nprompt_toolkit.data_structures, prompt_toolkit.document,\nprompt_toolkit.enums, prompt_toolkit.eventloop,\nprompt_toolkit.eventloop.async_generator,\nprompt_toolkit.eventloop.inputhook,\nprompt_toolkit.eventloop.utils, prompt_toolkit.filters,\nprompt_toolkit.filters.app, prompt_toolkit.filters.base,\nprompt_toolkit.filters.cli, prompt_toolkit.filters.utils,\nprompt_toolkit.formatted_text,\nprompt_toolkit.formatted_text.ansi,\nprompt_toolkit.formatted_text.base,\nprompt_toolkit.formatted_text.html,\nprompt_toolkit.formatted_text.pygments,\nprompt_toolkit.formatted_text.utils, prompt_toolkit.history,\nprompt_toolkit.input,\nprompt_toolkit.input.ansi_escape_sequences,\nprompt_toolkit.input.base, prompt_toolkit.input.defaults,\nprompt_toolkit.input.typeahead,\nprompt_toolkit.input.vt100_parser, prompt_toolkit.key_binding,\nprompt_toolkit.key_binding.bindings,\nprompt_toolkit.key_binding.bindings.auto_suggest,\nprompt_toolkit.key_binding.bindings.basic,\nprompt_toolkit.key_binding.bindings.completion,\nprompt_toolkit.key_binding.bindings.cpr,\nprompt_toolkit.key_binding.bindings.emacs,\nprompt_toolkit.key_binding.bindings.focus,\nprompt_toolkit.key_binding.bindings.mouse,\nprompt_toolkit.key_binding.bindings.named_commands,\nprompt_toolkit.key_binding.bindings.open_in_editor,\nprompt_toolkit.key_binding.bindings.page_navigation,\nprompt_toolkit.key_binding.bindings.scroll,\nprompt_toolkit.key_binding.bindings.vi,\nprompt_toolkit.key_binding.defaults,\nprompt_toolkit.key_binding.digraphs,\nprompt_toolkit.key_binding.emacs_state,\nprompt_toolkit.key_binding.key_bindings,\nprompt_toolkit.key_binding.key_processor,\nprompt_toolkit.key_binding.vi_state, prompt_toolkit.keys,\nprompt_toolkit.layout, prompt_toolkit.layout.containers,\nprompt_toolkit.layout.controls, prompt_toolkit.layout.dimension,\nprompt_toolkit.layout.dummy, prompt_toolkit.layout.layout,\nprompt_toolkit.layout.margins, prompt_toolkit.layout.menus,\nprompt_toolkit.layout.mouse_handlers,\nprompt_toolkit.layout.processors, prompt_toolkit.layout.screen,\nprompt_toolkit.layout.utils, prompt_toolkit.lexers,\nprompt_toolkit.lexers.base, prompt_toolkit.lexers.pygments,\nprompt_toolkit.mouse_events, prompt_toolkit.output,\nprompt_toolkit.output.base, prompt_toolkit.output.color_depth,\nprompt_toolkit.output.defaults, prompt_toolkit.output.vt100,\nprompt_toolkit.patch_stdout, prompt_toolkit.renderer,\nprompt_toolkit.search, prompt_toolkit.selection,\nprompt_toolkit.shortcuts, prompt_toolkit.shortcuts.dialogs,\nprompt_toolkit.shortcuts.progress_bar,\nprompt_toolkit.shortcuts.progress_bar.base,\nprompt_toolkit.shortcuts.progress_bar.formatters,\nprompt_toolkit.shortcuts.prompt, prompt_toolkit.shortcuts.utils,\nprompt_toolkit.styles, prompt_toolkit.styles.base,\nprompt_toolkit.styles.defaults,\nprompt_toolkit.styles.named_colors,\nprompt_toolkit.styles.pygments, prompt_toolkit.styles.style,\nprompt_toolkit.styles.style_transformation,\nprompt_toolkit.utils, prompt_toolkit.validation,\nprompt_toolkit.widgets, prompt_toolkit.widgets.base,\nprompt_toolkit.widgets.dialogs, prompt_toolkit.widgets.menus,\nprompt_toolkit.widgets.toolbars, pstats, pty, ptyprocess,\nptyprocess.ptyprocess, ptyprocess.util, pwd, pydoc, pydoc_data,\npydoc_data.topics, pyexpat, pyexpat.errors, pyexpat.model,\npygments, pygments.filter, pygments.filters, pygments.formatter,\npygments.formatters, pygments.formatters._mapping,\npygments.formatters.html, pygments.lexer, pygments.lexers,\npygments.lexers._mapping, pygments.lexers.python,\npygments.modeline, pygments.plugin, pygments.regexopt,\npygments.style, pygments.styles, pygments.token,\npygments.unistring, pygments.util, queue, quopri, random, re,\nreprlib, resource, runpy, select, selectors, shlex, shutil,\nsignal, site, six, six.moves, socket, sqlite3, sqlite3.dbapi2,\nsre_compile, sre_constants, sre_parse, ssl, stat, storemagic,\nstring, struct, subprocess, sys, sysconfig, tempfile, termios,\ntextwrap, threading, time, timeit, token, tokenize, tornado,\ntornado.concurrent, tornado.escape, tornado.gen, tornado.ioloop,\ntornado.locks, tornado.log, tornado.platform,\ntornado.platform.asyncio, tornado.queues, tornado.speedups,\ntornado.util, traceback, traitlets, traitlets._version,\ntraitlets.config, traitlets.config.application,\ntraitlets.config.configurable, traitlets.config.loader,\ntraitlets.log, traitlets.traitlets, traitlets.utils,\ntraitlets.utils.bunch, traitlets.utils.decorators,\ntraitlets.utils.descriptions, traitlets.utils.getargspec,\ntraitlets.utils.importstring, traitlets.utils.sentinel, tty,\ntypes, typing, typing.io, typing.re, unicodedata, urllib,\nurllib.error, urllib.parse, urllib.request, urllib.response, uu,\nuuid, warnings, wcwidth, wcwidth.table_wide, wcwidth.table_zero,\nwcwidth.unicode_versions, wcwidth.wcwidth, weakref, xml,\nxml.dom, xml.dom.NodeFilter, xml.dom.domreg, xml.dom.minicompat,\nxml.dom.minidom, xml.dom.xmlbuilder, xml.parsers,\nxml.parsers.expat, xml.parsers.expat.errors,\nxml.parsers.expat.model, zipimport, zlib, zmq, zmq._future,\nzmq.asyncio, zmq.backend, zmq.backend.cython,\nzmq.backend.cython._device, zmq.backend.cython._poll,\nzmq.backend.cython._proxy_steerable,\nzmq.backend.cython._version, zmq.backend.cython.constants,\nzmq.backend.cython.context, zmq.backend.cython.error,\nzmq.backend.cython.message, zmq.backend.cython.socket,\nzmq.backend.cython.utils, zmq.backend.select, zmq.error,\nzmq.eventloop, zmq.eventloop.ioloop, zmq.eventloop.zmqstream,\nzmq.libzmq, zmq.sugar, zmq.sugar.attrsettr, zmq.sugar.constants,\nzmq.sugar.context, zmq.sugar.frame, zmq.sugar.poll,\nzmq.sugar.socket, zmq.sugar.stopwatch, zmq.sugar.tracker,\nzmq.sugar.version, zmq.utils, zmq.utils.constant_names,\nzmq.utils.jsonapi, zmq.utils.strtypes\n"
     ]
    }
   ],
   "source": [
    "import sys\n",
    "import textwrap\n",
    "\n",
    "names = sorted(sys.modules.keys())\n",
    "name_text = ', '.join(names)\n",
    "\n",
    "print(textwrap.fill(name_text, width=64))"
   ]
  },
  {
   "source": [
    "### Built-in Modules"
   ],
   "cell_type": "markdown",
   "metadata": {}
  },
  {
   "cell_type": "code",
   "execution_count": 11,
   "metadata": {},
   "outputs": [
    {
     "output_type": "stream",
     "name": "stdout",
     "text": [
      "_abc, _ast, _codecs, _collections, _functools, _imp, _io,\n_locale, _operator, _signal, _sre, _stat, _string, _symtable,\n_thread, _tracemalloc, _warnings, _weakref, atexit, builtins,\nerrno, faulthandler, gc, itertools, marshal, posix, pwd, sys,\ntime, xxsubtype\n"
     ]
    }
   ],
   "source": [
    "import sys\n",
    "import textwrap\n",
    "\n",
    "name_text = ', '.join(sorted(sys.builtin_module_names))\n",
    "\n",
    "print(textwrap.fill(name_text, width=64))"
   ]
  },
  {
   "source": [
    "### Import Path"
   ],
   "cell_type": "markdown",
   "metadata": {}
  },
  {
   "cell_type": "code",
   "execution_count": 13,
   "metadata": {},
   "outputs": [
    {
     "output_type": "stream",
     "name": "stdout",
     "text": [
      "/Users/maozhongfu/GitHub/Python/Runtime Features\n/Users/maozhongfu/.vscode/extensions/ms-python.python-2020.10.332292344/pythonFiles\n/Users/maozhongfu/.vscode/extensions/ms-python.python-2020.10.332292344/pythonFiles/lib/python\n/Library/Frameworks/Python.framework/Versions/3.8/lib/python38.zip\n/Library/Frameworks/Python.framework/Versions/3.8/lib/python3.8\n/Library/Frameworks/Python.framework/Versions/3.8/lib/python3.8/lib-dynload\n\n/Users/maozhongfu/Library/Python/3.8/lib/python/site-packages\n/Library/Frameworks/Python.framework/Versions/3.8/lib/python3.8/site-packages\n/Library/Frameworks/Python.framework/Versions/3.8/lib/python3.8/site-packages/aeosa\n/Library/Frameworks/Python.framework/Versions/3.8/lib/python3.8/site-packages/IPython/extensions\n/Users/maozhongfu/.ipython\n"
     ]
    }
   ],
   "source": [
    "import sys\n",
    "\n",
    "for d in sys.path:\n",
    "    print(d)"
   ]
  },
  {
   "cell_type": "code",
   "execution_count": null,
   "metadata": {},
   "outputs": [],
   "source": []
  }
 ]
}