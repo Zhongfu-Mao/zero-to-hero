{
 "metadata": {
  "language_info": {
   "codemirror_mode": {
    "name": "ipython",
    "version": 3
   },
   "file_extension": ".py",
   "mimetype": "text/x-python",
   "name": "python",
   "nbconvert_exporter": "python",
   "pygments_lexer": "ipython3",
   "version": "3.8.6-final"
  },
  "orig_nbformat": 2,
  "kernelspec": {
   "name": "python3",
   "display_name": "Python 3.8.6 64-bit",
   "metadata": {
    "interpreter": {
     "hash": "082e9a3bcad0a290d0001e938aa60b99250c6c2ef33a923c00b70f9826caf4b7"
    }
   }
  }
 },
 "nbformat": 4,
 "nbformat_minor": 2,
 "cells": [
  {
   "source": [
    "[参考資料](http://magic.iswbm.com/zh/latest/)"
   ],
   "cell_type": "markdown",
   "metadata": {}
  },
  {
   "source": [
    "## 1.\"import this\"だけじゃない"
   ],
   "cell_type": "markdown",
   "metadata": {}
  },
  {
   "cell_type": "code",
   "execution_count": 1,
   "metadata": {},
   "outputs": [],
   "source": [
    "import antigravity"
   ]
  },
  {
   "cell_type": "code",
   "execution_count": 45,
   "metadata": {},
   "outputs": [
    {
     "output_type": "stream",
     "name": "stdout",
     "text": [
      "Hello world!\n"
     ]
    }
   ],
   "source": [
    "import __hello__"
   ]
  },
  {
   "cell_type": "code",
   "execution_count": 46,
   "metadata": {},
   "outputs": [
    {
     "output_type": "stream",
     "name": "stdout",
     "text": [
      "The Zen of Python, by Tim Peters\n\nBeautiful is better than ugly.\nExplicit is better than implicit.\nSimple is better than complex.\nComplex is better than complicated.\nFlat is better than nested.\nSparse is better than dense.\nReadability counts.\nSpecial cases aren't special enough to break the rules.\nAlthough practicality beats purity.\nErrors should never pass silently.\nUnless explicitly silenced.\nIn the face of ambiguity, refuse the temptation to guess.\nThere should be one-- and preferably only one --obvious way to do it.\nAlthough that way may not be obvious at first unless you're Dutch.\nNow is better than never.\nAlthough never is often better than *right* now.\nIf the implementation is hard to explain, it's a bad idea.\nIf the implementation is easy to explain, it may be a good idea.\nNamespaces are one honking great idea -- let's do more of those!\n"
     ]
    }
   ],
   "source": [
    "import this"
   ]
  },
  {
   "source": [
    "## 2. ..."
   ],
   "cell_type": "markdown",
   "metadata": {}
  },
  {
   "cell_type": "code",
   "execution_count": 3,
   "metadata": {},
   "outputs": [
    {
     "output_type": "execute_result",
     "data": {
      "text/plain": [
       "Ellipsis"
      ]
     },
     "metadata": {},
     "execution_count": 3
    }
   ],
   "source": [
    "..."
   ]
  },
  {
   "cell_type": "code",
   "execution_count": 7,
   "metadata": {},
   "outputs": [
    {
     "output_type": "stream",
     "name": "stdout",
     "text": [
      "<class 'ellipsis'>\n4352958848\n4352958848\n"
     ]
    }
   ],
   "source": [
    "print(type(...))\n",
    "print(id(...)) # ...はellipsisクラスのsingleton\n",
    "print(id(...))"
   ]
  },
  {
   "cell_type": "code",
   "execution_count": 8,
   "metadata": {},
   "outputs": [
    {
     "output_type": "execute_result",
     "data": {
      "text/plain": [
       "True"
      ]
     },
     "metadata": {},
     "execution_count": 8
    }
   ],
   "source": [
    "bool(...)"
   ]
  },
  {
   "source": [
    "### [使い道](https://stackoverflow.com/questions/772124/what-does-the-ellipsis-object-do)"
   ],
   "cell_type": "markdown",
   "metadata": {}
  },
  {
   "cell_type": "code",
   "execution_count": 10,
   "metadata": {},
   "outputs": [],
   "source": [
    "# passとして使う\n",
    "def foo():\n",
    "    pass\n",
    "\n",
    "def bar():\n",
    "    ...\n",
    "\n",
    "foo()\n",
    "bar()"
   ]
  },
  {
   "cell_type": "code",
   "execution_count": null,
   "metadata": {},
   "outputs": [],
   "source": [
    "# typingとして使う\n",
    "from typing import Callable\n",
    "\n",
    "def partial(func: Callable[..., str], *args) -> Callable[..., str]:\n",
    "    # Body"
   ]
  },
  {
   "source": [
    "[PEP484](https://www.python.org/dev/peps/pep-0484/#callable)"
   ],
   "cell_type": "markdown",
   "metadata": {}
  },
  {
   "cell_type": "code",
   "execution_count": 11,
   "metadata": {},
   "outputs": [
    {
     "output_type": "execute_result",
     "data": {
      "text/plain": [
       "array([[[ 0,  1,  2,  3],\n",
       "        [ 4,  5,  6,  7]],\n",
       "\n",
       "       [[ 8,  9, 10, 11],\n",
       "        [12, 13, 14, 15]]])"
      ]
     },
     "metadata": {},
     "execution_count": 11
    }
   ],
   "source": [
    "# Numpyでslice操作\n",
    "import numpy as np\n",
    "\n",
    "foo = np.arange(16).reshape(2, 2, 4)\n",
    "\n",
    "foo"
   ]
  },
  {
   "cell_type": "code",
   "execution_count": 14,
   "metadata": {},
   "outputs": [
    {
     "output_type": "execute_result",
     "data": {
      "text/plain": [
       "array([[ 2,  6],\n",
       "       [10, 14]])"
      ]
     },
     "metadata": {},
     "execution_count": 14
    }
   ],
   "source": [
    "foo[:, :, 2]"
   ]
  },
  {
   "cell_type": "code",
   "execution_count": 12,
   "metadata": {},
   "outputs": [
    {
     "output_type": "execute_result",
     "data": {
      "text/plain": [
       "array([[ 2,  6],\n",
       "       [10, 14]])"
      ]
     },
     "metadata": {},
     "execution_count": 12
    }
   ],
   "source": [
    "foo[..., 2] # 同じ結果"
   ]
  },
  {
   "source": [
    "## 3. shellのendを真似したいなら...(使わないでください)"
   ],
   "cell_type": "markdown",
   "metadata": {}
  },
  {
   "cell_type": "code",
   "execution_count": 15,
   "metadata": {},
   "outputs": [
    {
     "output_type": "stream",
     "name": "stdout",
     "text": [
      "10\n10\n"
     ]
    }
   ],
   "source": [
    "__builtins__.end = None\n",
    "\n",
    "\n",
    "def my_abs(x):\n",
    "    if x > 0:\n",
    "        return x\n",
    "    else:\n",
    "        return -x\n",
    "    end\n",
    "end\n",
    "\n",
    "print(my_abs(10))\n",
    "print(my_abs(-10))"
   ]
  },
  {
   "source": [
    "## 4. promptを自分で定義する"
   ],
   "cell_type": "markdown",
   "metadata": {}
  },
  {
   "cell_type": "code",
   "execution_count": null,
   "metadata": {},
   "outputs": [],
   "source": [
    "```python\n",
    ">>> import sys\n",
    ">>> sys.ps1\n",
    "'>>> '\n",
    ">>> sys.ps2\n",
    "'... '\n",
    ">>> sys.ps3\n",
    "Traceback (most recent call last):\n",
    "  File \"<stdin>\", line 1, in <module>\n",
    "AttributeError: module 'sys' has no attribute 'ps3'\n",
    ">>> sys.ps1 = \"海賊王に俺はなる!>>>\"\n",
    "海賊王に俺はなる!>>>sys.ps2 = \"肉~\"\n",
    "海賊王に俺はなる!>>>for i in range(2):\n",
    "肉~     print(\"サンジ、腹減った\")\n",
    "肉~\n",
    "サンジ、腹減った\n",
    "サンジ、腹減った\n",
    "海賊王に俺はなる!>>>\n",
    "```"
   ]
  },
  {
   "source": [
    "## 5.and & or"
   ],
   "cell_type": "markdown",
   "metadata": {}
  },
  {
   "cell_type": "code",
   "execution_count": 18,
   "metadata": {},
   "outputs": [
    {
     "output_type": "execute_result",
     "data": {
      "text/plain": [
       "14"
      ]
     },
     "metadata": {},
     "execution_count": 18
    }
   ],
   "source": [
    "(2 or 3) * (5 and 6 and 7)"
   ]
  },
  {
   "cell_type": "code",
   "execution_count": 21,
   "metadata": {},
   "outputs": [
    {
     "output_type": "execute_result",
     "data": {
      "text/plain": [
       "''"
      ]
     },
     "metadata": {},
     "execution_count": 21
    }
   ],
   "source": [
    "\"\" and \"b\" # andは左から右へスキャンして、最初のFalseを戻る\n"
   ]
  },
  {
   "cell_type": "code",
   "execution_count": 22,
   "metadata": {},
   "outputs": [
    {
     "output_type": "execute_result",
     "data": {
      "text/plain": [
       "'b'"
      ]
     },
     "metadata": {},
     "execution_count": 22
    }
   ],
   "source": [
    "\"a\" and \"b\" # 全てTrueなら、最後の値を戻る"
   ]
  },
  {
   "cell_type": "code",
   "execution_count": 24,
   "metadata": {},
   "outputs": [
    {
     "output_type": "execute_result",
     "data": {
      "text/plain": [
       "'a'"
      ]
     },
     "metadata": {},
     "execution_count": 24
    }
   ],
   "source": [
    "\"\" or \"a\" # orは左から右へスキャンして、最初のTrueを戻る"
   ]
  },
  {
   "cell_type": "code",
   "execution_count": 26,
   "metadata": {},
   "outputs": [
    {
     "output_type": "execute_result",
     "data": {
      "text/plain": [
       "{}"
      ]
     },
     "metadata": {},
     "execution_count": 26
    }
   ],
   "source": [
    "\"\" or [] or None or {} # 全てFalseなら、最後の値を戻る"
   ]
  },
  {
   "source": [
    "## 6. リストを結合する"
   ],
   "cell_type": "markdown",
   "metadata": {}
  },
  {
   "cell_type": "code",
   "execution_count": 67,
   "metadata": {},
   "outputs": [
    {
     "output_type": "execute_result",
     "data": {
      "text/plain": [
       "[1, 2, 3, 4, 5, 6]"
      ]
     },
     "metadata": {},
     "execution_count": 67
    }
   ],
   "source": [
    "a = [1, 2]\n",
    "b = [3, 4]\n",
    "c = [5, 6]\n",
    "sum((a, b, c), [])"
   ]
  },
  {
   "cell_type": "code",
   "execution_count": 28,
   "metadata": {},
   "outputs": [
    {
     "output_type": "execute_result",
     "data": {
      "text/plain": [
       "[1, 2, 3, 4, 5, 6]"
      ]
     },
     "metadata": {},
     "execution_count": 28
    }
   ],
   "source": [
    "[*a, *b, *c]"
   ]
  },
  {
   "cell_type": "code",
   "execution_count": 29,
   "metadata": {},
   "outputs": [
    {
     "output_type": "execute_result",
     "data": {
      "text/plain": [
       "[1, 2, 3, 4, 5, 6]"
      ]
     },
     "metadata": {},
     "execution_count": 29
    }
   ],
   "source": [
    "from itertools import chain\n",
    "\n",
    "list(chain(a, b, c))"
   ]
  },
  {
   "source": [
    "## 7. \\[-5, 256]"
   ],
   "cell_type": "markdown",
   "metadata": {}
  },
  {
   "cell_type": "code",
   "execution_count": 30,
   "metadata": {},
   "outputs": [
    {
     "output_type": "stream",
     "name": "stdout",
     "text": [
      "False\nTrue\n"
     ]
    }
   ],
   "source": [
    "a = -6\n",
    "b = -6\n",
    "\n",
    "c = -5\n",
    "d = -5\n",
    "\n",
    "print(a is b)\n",
    "print(c is d)"
   ]
  },
  {
   "source": [
    "> CPythonでは、\\[-5, 256]間の整数は事前に定義されたオブジェクト  \n",
    "> 他の数字と違う"
   ],
   "cell_type": "markdown",
   "metadata": {}
  },
  {
   "source": [
    "## 8. 文字列のintern"
   ],
   "cell_type": "markdown",
   "metadata": {}
  },
  {
   "cell_type": "code",
   "execution_count": 33,
   "metadata": {},
   "outputs": [
    {
     "output_type": "execute_result",
     "data": {
      "text/plain": [
       "True"
      ]
     },
     "metadata": {},
     "execution_count": 33
    }
   ],
   "source": [
    "s1 = \"hello\" # internと言うのは同じ文字列はメモリにただ一つ保存され\n",
    "s2 = \"hello\"\n",
    "s1 is s2"
   ]
  },
  {
   "cell_type": "code",
   "execution_count": 34,
   "metadata": {},
   "outputs": [
    {
     "output_type": "execute_result",
     "data": {
      "text/plain": [
       "False"
      ]
     },
     "metadata": {},
     "execution_count": 34
    }
   ],
   "source": [
    "s3 = 'hell o' # スペースある場合は、internは起動しない\n",
    "s4 = 'hell o'\n",
    "s3 is s4"
   ]
  },
  {
   "source": [
    "## 9. dict()と{}"
   ],
   "cell_type": "markdown",
   "metadata": {}
  },
  {
   "cell_type": "code",
   "execution_count": 40,
   "metadata": {},
   "outputs": [
    {
     "output_type": "stream",
     "name": "stdout",
     "text": [
      "112 ns ± 4.2 ns per loop (mean ± std. dev. of 5 runs, 1000000 loops each)\n"
     ]
    }
   ],
   "source": [
    "timeit -n 1000000 -r 5 dict()"
   ]
  },
  {
   "cell_type": "code",
   "execution_count": 41,
   "metadata": {},
   "outputs": [
    {
     "output_type": "stream",
     "name": "stdout",
     "text": [
      "21.6 ns ± 1.42 ns per loop (mean ± std. dev. of 5 runs, 1000000 loops each)\n"
     ]
    }
   ],
   "source": [
    "timeit -n 1000000 -r 5 {}"
   ]
  },
  {
   "source": [
    "`{}`は`dict()`より早い"
   ],
   "cell_type": "markdown",
   "metadata": {}
  },
  {
   "cell_type": "code",
   "execution_count": 42,
   "metadata": {},
   "outputs": [
    {
     "output_type": "stream",
     "name": "stdout",
     "text": [
      "  1           0 BUILD_MAP                0\n              2 RETURN_VALUE\n"
     ]
    }
   ],
   "source": [
    "from dis import dis\n",
    "dis(\"{}\")"
   ]
  },
  {
   "cell_type": "code",
   "execution_count": 44,
   "metadata": {},
   "outputs": [
    {
     "output_type": "stream",
     "name": "stdout",
     "text": [
      "  1           0 LOAD_NAME                0 (dict)\n              2 CALL_FUNCTION            0\n              4 RETURN_VALUE\n"
     ]
    }
   ],
   "source": [
    "dis('dict()')"
   ]
  },
  {
   "source": [
    "## 10.\"e\"と\"е\""
   ],
   "cell_type": "markdown",
   "metadata": {}
  },
  {
   "cell_type": "code",
   "execution_count": 50,
   "metadata": {},
   "outputs": [
    {
     "output_type": "error",
     "ename": "NameError",
     "evalue": "name 'value' is not defined",
     "traceback": [
      "\u001b[0;31m---------------------------------------------------------------------------\u001b[0m",
      "\u001b[0;31mNameError\u001b[0m                                 Traceback (most recent call last)",
      "\u001b[0;32m<ipython-input-50-6b554beb183e>\u001b[0m in \u001b[0;36m<module>\u001b[0;34m\u001b[0m\n\u001b[1;32m      1\u001b[0m \u001b[0mvaluе\u001b[0m \u001b[0;34m=\u001b[0m \u001b[0;36m12\u001b[0m\u001b[0;34m\u001b[0m\u001b[0;34m\u001b[0m\u001b[0m\n\u001b[0;32m----> 2\u001b[0;31m \u001b[0mprint\u001b[0m\u001b[0;34m(\u001b[0m\u001b[0mvalue\u001b[0m\u001b[0;34m)\u001b[0m\u001b[0;34m\u001b[0m\u001b[0;34m\u001b[0m\u001b[0m\n\u001b[0m",
      "\u001b[0;31mNameError\u001b[0m: name 'value' is not defined"
     ]
    }
   ],
   "source": [
    "valuе = 12\n",
    "print(value)"
   ]
  },
  {
   "source": [
    "> 原因は上の\"valuе\"の\"е\"は普通の\"e\"ではない"
   ],
   "cell_type": "markdown",
   "metadata": {}
  },
  {
   "cell_type": "code",
   "execution_count": 52,
   "metadata": {},
   "outputs": [
    {
     "output_type": "execute_result",
     "data": {
      "text/plain": [
       "101"
      ]
     },
     "metadata": {},
     "execution_count": 52
    }
   ],
   "source": [
    "ord(\"e\")"
   ]
  },
  {
   "cell_type": "code",
   "execution_count": 53,
   "metadata": {},
   "outputs": [
    {
     "output_type": "execute_result",
     "data": {
      "text/plain": [
       "1077"
      ]
     },
     "metadata": {},
     "execution_count": 53
    }
   ],
   "source": [
    "ord(\"е\")"
   ]
  },
  {
   "source": [
    "> 使い道？  \n",
    "> いたずら！"
   ],
   "cell_type": "markdown",
   "metadata": {}
  },
  {
   "source": [
    "## 11. \"site\""
   ],
   "cell_type": "markdown",
   "metadata": {}
  },
  {
   "cell_type": "code",
   "execution_count": 55,
   "metadata": {},
   "outputs": [
    {
     "output_type": "execute_result",
     "data": {
      "text/plain": [
       "['/Users/maozhongfu/GitHub/Python',\n",
       " '/Users/maozhongfu/.vscode/extensions/ms-python.python-2020.10.332292344/pythonFiles',\n",
       " '/Users/maozhongfu/.vscode/extensions/ms-python.python-2020.10.332292344/pythonFiles/lib/python',\n",
       " '/Library/Frameworks/Python.framework/Versions/3.8/lib/python38.zip',\n",
       " '/Library/Frameworks/Python.framework/Versions/3.8/lib/python3.8',\n",
       " '/Library/Frameworks/Python.framework/Versions/3.8/lib/python3.8/lib-dynload',\n",
       " '',\n",
       " '/Users/maozhongfu/Library/Python/3.8/lib/python/site-packages',\n",
       " '/Library/Frameworks/Python.framework/Versions/3.8/lib/python3.8/site-packages',\n",
       " '/Library/Frameworks/Python.framework/Versions/3.8/lib/python3.8/site-packages/aeosa',\n",
       " '/Library/Frameworks/Python.framework/Versions/3.8/lib/python3.8/site-packages/IPython/extensions',\n",
       " '/Users/maozhongfu/.ipython',\n",
       " '/Users/maozhongfu/.vscode/extensions/ms-python.python-2020.10.332292344/pythonFiles/vscode_datascience_helpers/dataframes']"
      ]
     },
     "metadata": {},
     "execution_count": 55
    }
   ],
   "source": [
    "import sys\n",
    "\n",
    "sys.path"
   ]
  },
  {
   "cell_type": "code",
   "execution_count": 56,
   "metadata": {},
   "outputs": [
    {
     "output_type": "stream",
     "name": "stdout",
     "text": [
      "sys.path = [\n    '/Users/maozhongfu/GitHub/Python',\n    '/Users/maozhongfu/.vscode/extensions/ms-python.python-2020.10.332292344/pythonFiles',\n    '/Users/maozhongfu/.vscode/extensions/ms-python.python-2020.10.332292344/pythonFiles/lib/python',\n    '/Library/Frameworks/Python.framework/Versions/3.8/lib/python38.zip',\n    '/Library/Frameworks/Python.framework/Versions/3.8/lib/python3.8',\n    '/Library/Frameworks/Python.framework/Versions/3.8/lib/python3.8/lib-dynload',\n    '/Users/maozhongfu/Library/Python/3.8/lib/python/site-packages',\n    '/Library/Frameworks/Python.framework/Versions/3.8/lib/python3.8/site-packages',\n    '/Library/Frameworks/Python.framework/Versions/3.8/lib/python3.8/site-packages/aeosa',\n]\nUSER_BASE: '/Users/maozhongfu/Library/Python/3.8' (exists)\nUSER_SITE: '/Users/maozhongfu/Library/Python/3.8/lib/python/site-packages' (exists)\nENABLE_USER_SITE: True\n"
     ]
    }
   ],
   "source": [
    "!python3 -m site"
   ]
  },
  {
   "source": [
    "## 12. http server"
   ],
   "cell_type": "markdown",
   "metadata": {}
  },
  {
   "source": [
    "```shell\n",
    "cd <path> # シェアしたいフォルダまで移動\n",
    "ipconfig # 自分のipを把握他人に教える\n",
    "python3 -m http.server <port number> # port numberでサーバーを立ち上げる\n",
    "# その後 \"http://<ip adress>:<port number>\"でアクセルできる\n",
    "```"
   ],
   "cell_type": "markdown",
   "metadata": {}
  },
  {
   "source": [
    "## 13. pydoc"
   ],
   "cell_type": "markdown",
   "metadata": {}
  },
  {
   "source": [
    "```python\n",
    "python3 -m pydoc -p <port number>\n",
    "```"
   ],
   "cell_type": "markdown",
   "metadata": {}
  },
  {
   "source": [
    "## 14. \":=\" (python3.8以上)"
   ],
   "cell_type": "markdown",
   "metadata": {}
  },
  {
   "source": [
    "### if..else.."
   ],
   "cell_type": "markdown",
   "metadata": {}
  },
  {
   "cell_type": "code",
   "execution_count": 73,
   "metadata": {},
   "outputs": [
    {
     "output_type": "stream",
     "name": "stdout",
     "text": [
      "お酒を飲めてもいい\n"
     ]
    }
   ],
   "source": [
    "age = 22\n",
    "if age > 20:\n",
    "    print(\"お酒を飲めてもいい\")"
   ]
  },
  {
   "cell_type": "code",
   "execution_count": 74,
   "metadata": {},
   "outputs": [
    {
     "output_type": "stream",
     "name": "stdout",
     "text": [
      "お酒を飲めてもいい\n"
     ]
    }
   ],
   "source": [
    "if (age:=22) > 20:\n",
    "    print(\"お酒を飲めてもいい\")"
   ]
  },
  {
   "source": [
    "### while"
   ],
   "cell_type": "markdown",
   "metadata": {}
  },
  {
   "cell_type": "code",
   "execution_count": null,
   "metadata": {},
   "outputs": [],
   "source": [
    "file = open(\"demo.txt\", \"r\")\n",
    "while True:\n",
    "    line = file.readline()\n",
    "    if not line:\n",
    "        break\n",
    "    print(line.strip())"
   ]
  },
  {
   "cell_type": "code",
   "execution_count": null,
   "metadata": {},
   "outputs": [],
   "source": [
    "file = open(\"demo.txt\", \"r\")\n",
    "while (line := file.readline()):\n",
    "    print(line.strip())"
   ]
  },
  {
   "source": [
    "### comprehension"
   ],
   "cell_type": "markdown",
   "metadata": {}
  },
  {
   "cell_type": "code",
   "execution_count": null,
   "metadata": {},
   "outputs": [],
   "source": [
    "scores = [22,54,75,89]\n",
    "valid_scores = [\n",
    "   longFunction(n)\n",
    "   for n in scores\n",
    "   if longFunction(n) # longFunctionは2回実行される\n",
    "]"
   ]
  },
  {
   "cell_type": "code",
   "execution_count": null,
   "metadata": {},
   "outputs": [],
   "source": [
    "scores = [22,54,75,89]\n",
    "valid_scores = [\n",
    "   result for n in scores\n",
    "   result := longFunction(n) # 一回だけ\n",
    "]"
   ]
  },
  {
   "source": [
    "## 15. decorator"
   ],
   "cell_type": "markdown",
   "metadata": {}
  },
  {
   "source": [
    "### \bパラメータありの関数のdecorator"
   ],
   "cell_type": "markdown",
   "metadata": {}
  },
  {
   "cell_type": "code",
   "execution_count": 3,
   "metadata": {},
   "outputs": [],
   "source": [
    "def say_hello(country:str = None):\n",
    "    def wrapper(func):\n",
    "        def deco(*args, **kwargs):\n",
    "            if country == \"China\":\n",
    "                print(\"你好!\")\n",
    "            elif country == \"Japan\":\n",
    "                print(\"こんにちは！\")\n",
    "            else:\n",
    "                print(\"Winter is Coming!\")\n",
    "            \n",
    "            func(*args, **kwargs)\n",
    "        \n",
    "        return deco\n",
    "    return wrapper\n",
    "\n",
    "@say_hello(\"China\")\n",
    "def 诸葛孔明():\n",
    "    ...\n",
    "\n",
    "@say_hello(\"Japan\")\n",
    "def 桃太郎():\n",
    "    pass\n",
    "\n",
    "@say_hello()\n",
    "def JonSnow():\n",
    "    pass"
   ]
  },
  {
   "cell_type": "code",
   "execution_count": 4,
   "metadata": {},
   "outputs": [
    {
     "output_type": "stream",
     "name": "stdout",
     "text": [
      "你好!\nこんにちは！\nWinter is Coming!\n"
     ]
    }
   ],
   "source": [
    "诸葛孔明()\n",
    "桃太郎()\n",
    "JonSnow()"
   ]
  },
  {
   "source": [
    "### パラメータ無しのクラスdecorator"
   ],
   "cell_type": "markdown",
   "metadata": {}
  },
  {
   "cell_type": "code",
   "execution_count": 6,
   "metadata": {},
   "outputs": [
    {
     "output_type": "stream",
     "name": "stdout",
     "text": [
      "[INFO]: function say is running\nsay Hello\n"
     ]
    }
   ],
   "source": [
    "class logger(object):\n",
    "    def __init__(self, func):\n",
    "        self._func = func\n",
    "    \n",
    "    def __call__(self, *args, **kwargs):\n",
    "        print(f\"[INFO]: function {self._func.__name__} is running\")\n",
    "        return self._func(*args, **kwargs)\n",
    "\n",
    "@logger\n",
    "def say(something):\n",
    "    print(f\"say {something}\")\n",
    "\n",
    "say(\"Hello\")"
   ]
  },
  {
   "source": [
    "### パラメータありのクラスdecorator"
   ],
   "cell_type": "markdown",
   "metadata": {}
  },
  {
   "cell_type": "code",
   "execution_count": 9,
   "metadata": {},
   "outputs": [
    {
     "output_type": "stream",
     "name": "stdout",
     "text": [
      "[DEBUG]: function say is running\nsay Hello\n"
     ]
    }
   ],
   "source": [
    "class logger(object):\n",
    "    def __init__(self, level=\"INFO\"):\n",
    "        self._level = level\n",
    "    \n",
    "    def __call__(self, func):\n",
    "        def wrapper(*args, **kwargs):\n",
    "            print(f\"[{self._level}]: function {func.__name__} is running\")\n",
    "            func(*args, **kwargs)\n",
    "        \n",
    "        return wrapper\n",
    "\n",
    "@logger(level=\"DEBUG\")\n",
    "def say(something):\n",
    "    print(f\"say {something}\")\n",
    "\n",
    "say(\"Hello\") "
   ]
  },
  {
   "source": [
    "### クラスのdecorator"
   ],
   "cell_type": "markdown",
   "metadata": {}
  },
  {
   "cell_type": "code",
   "execution_count": 11,
   "metadata": {},
   "outputs": [
    {
     "output_type": "stream",
     "name": "stdout",
     "text": [
      "True\n"
     ]
    }
   ],
   "source": [
    "def singleton(cls):\n",
    "    _instance = {}\n",
    "\n",
    "    def inner():\n",
    "        if cls not in _instance:\n",
    "            _instance[cls] = cls()\n",
    "        return _instance[cls]\n",
    "    return inner\n",
    "\n",
    "@singleton\n",
    "class Test(object):\n",
    "    def __init__(self):\n",
    "        pass\n",
    "\n",
    "foo = Test()\n",
    "bar = Test()\n",
    "print(id(foo) == id(bar))"
   ]
  },
  {
   "source": [
    "## 16.[lru_cache](https://docs.python.org/ja/3/library/functools.html#functools.lru_cache)"
   ],
   "cell_type": "markdown",
   "metadata": {}
  },
  {
   "cell_type": "code",
   "execution_count": 15,
   "metadata": {},
   "outputs": [],
   "source": [
    "def fib(n):\n",
    "    if n < 2:\n",
    "        return n\n",
    "    return fib(n - 2) + fib(n - 1)"
   ]
  },
  {
   "cell_type": "code",
   "execution_count": 16,
   "metadata": {},
   "outputs": [],
   "source": [
    "from functools import lru_cache\n",
    "\n",
    "@lru_cache()\n",
    "def fib_with_cache(n):\n",
    "    if n < 2:\n",
    "        return n\n",
    "    return fib_with_cache(n - 2) + fib_with_cache(n - 1)"
   ]
  },
  {
   "cell_type": "code",
   "execution_count": 19,
   "metadata": {},
   "outputs": [
    {
     "output_type": "stream",
     "name": "stdout",
     "text": [
      "CPU times: user 2.65 ms, sys: 35 µs, total: 2.69 ms\nWall time: 2.75 ms\n"
     ]
    },
    {
     "output_type": "execute_result",
     "data": {
      "text/plain": [
       "6765"
      ]
     },
     "metadata": {},
     "execution_count": 19
    }
   ],
   "source": [
    "time fib(20)"
   ]
  },
  {
   "cell_type": "code",
   "execution_count": 22,
   "metadata": {},
   "outputs": [
    {
     "output_type": "stream",
     "name": "stdout",
     "text": [
      "CPU times: user 1.35 ms, sys: 8 µs, total: 1.35 ms\nWall time: 1.38 ms\n"
     ]
    },
    {
     "output_type": "execute_result",
     "data": {
      "text/plain": [
       "4224696333392304878706725602341482782579852840250681098010280137314308584370130707224123599639141511088446087538909603607640194711643596029271983312598737326253555802606991585915229492453904998722256795316982874482472992263901833716778060607011615497886719879858311468870876264597369086722884023654422295243347964480139515349562972087652656069529806499841977448720155612802665404554171717881930324025204312082516817125"
      ]
     },
     "metadata": {},
     "execution_count": 22
    }
   ],
   "source": [
    "time fib_with_cache(2000)"
   ]
  },
  {
   "source": [
    "## 17.print to file"
   ],
   "cell_type": "markdown",
   "metadata": {}
  },
  {
   "cell_type": "code",
   "execution_count": 24,
   "metadata": {},
   "outputs": [],
   "source": [
    "with open(\"test.txt\", mode=\"w\") as f:\n",
    "    print(\"hello world\", file=f)"
   ]
  },
  {
   "cell_type": "code",
   "execution_count": 25,
   "metadata": {},
   "outputs": [
    {
     "output_type": "stream",
     "name": "stdout",
     "text": [
      "hello world\n"
     ]
    }
   ],
   "source": [
    "!cat test.txt"
   ]
  },
  {
   "cell_type": "code",
   "execution_count": 26,
   "metadata": {},
   "outputs": [],
   "source": [
    "!rm test.txt"
   ]
  },
  {
   "source": [
    "## 18. for..else.., try..else.."
   ],
   "cell_type": "markdown",
   "metadata": {}
  },
  {
   "cell_type": "code",
   "execution_count": 28,
   "metadata": {},
   "outputs": [],
   "source": [
    "def check_item(source:list, target:str):\n",
    "    for item in source:\n",
    "        if item == target:\n",
    "            print(\"あった！\")\n",
    "            break\n",
    "    else:\n",
    "        print(\"無かった\")\n",
    "\n",
    "source=[\"Apple\", \"Huawei\", \"Xiaomi\"]"
   ]
  },
  {
   "cell_type": "code",
   "execution_count": 29,
   "metadata": {},
   "outputs": [
    {
     "output_type": "stream",
     "name": "stdout",
     "text": [
      "あった！\n"
     ]
    }
   ],
   "source": [
    "check_item(source, \"Huawei\")"
   ]
  },
  {
   "cell_type": "code",
   "execution_count": 30,
   "metadata": {},
   "outputs": [
    {
     "output_type": "stream",
     "name": "stdout",
     "text": [
      "無かった\n"
     ]
    }
   ],
   "source": [
    "check_item(source, \"Sharp\")"
   ]
  },
  {
   "cell_type": "code",
   "execution_count": 31,
   "metadata": {},
   "outputs": [],
   "source": [
    "def test_try_else(attr1 = None):\n",
    "    try:\n",
    "        if attr1:\n",
    "            pass\n",
    "        else:\n",
    "            raise\n",
    "    except:\n",
    "        print(\"Exception occurred...\")\n",
    "    else:\n",
    "        print(\"No Exception occurred...\")"
   ]
  },
  {
   "cell_type": "code",
   "execution_count": 32,
   "metadata": {},
   "outputs": [
    {
     "output_type": "stream",
     "name": "stdout",
     "text": [
      "Exception occurred...\n"
     ]
    }
   ],
   "source": [
    "test_try_else()"
   ]
  },
  {
   "cell_type": "code",
   "execution_count": 33,
   "metadata": {},
   "outputs": [
    {
     "output_type": "stream",
     "name": "stdout",
     "text": [
      "No Exception occurred...\n"
     ]
    }
   ],
   "source": [
    "test_try_else(\"~\")"
   ]
  },
  {
   "source": [
    "## 19.numba"
   ],
   "cell_type": "markdown",
   "metadata": {}
  },
  {
   "cell_type": "code",
   "execution_count": 35,
   "metadata": {},
   "outputs": [
    {
     "output_type": "stream",
     "name": "stdout",
     "text": [
      "Collecting numba\n",
      "  Downloading numba-0.51.2-cp38-cp38-macosx_10_14_x86_64.whl (2.2 MB)\n",
      "\u001b[K     |████████████████████████████████| 2.2 MB 3.8 MB/s \n",
      "\u001b[?25hCollecting llvmlite<0.35,>=0.34.0.dev0\n",
      "  Downloading llvmlite-0.34.0-cp38-cp38-macosx_10_9_x86_64.whl (18.4 MB)\n",
      "\u001b[K     |████████████████████████████████| 18.4 MB 19.5 MB/s \n",
      "\u001b[?25hRequirement already satisfied: setuptools in /Library/Frameworks/Python.framework/Versions/3.8/lib/python3.8/site-packages (from numba) (50.3.2)\n",
      "Requirement already satisfied: numpy>=1.15 in /Library/Frameworks/Python.framework/Versions/3.8/lib/python3.8/site-packages (from numba) (1.19.0)\n",
      "Installing collected packages: llvmlite, numba\n",
      "Successfully installed llvmlite-0.34.0 numba-0.51.2\n"
     ]
    }
   ],
   "source": [
    "!pip install numba"
   ]
  },
  {
   "cell_type": "code",
   "execution_count": 43,
   "metadata": {},
   "outputs": [],
   "source": [
    "import numba as nb\n",
    "\n",
    "@nb.jit()\n",
    "def nb_sum(a):\n",
    "    Sum = 0\n",
    "    for i in range(len(a)):\n",
    "        Sum += a[i]\n",
    "    return Sum\n",
    "\n",
    "def py_sum(a):\n",
    "    Sum = 0\n",
    "    for i in range(len(a)):\n",
    "        Sum += a[i]\n",
    "    return Sum"
   ]
  },
  {
   "cell_type": "code",
   "execution_count": 44,
   "metadata": {},
   "outputs": [
    {
     "output_type": "stream",
     "name": "stdout",
     "text": [
      "4.1 µs ± 106 ns per loop (mean ± std. dev. of 7 runs, 100000 loops each)\n",
      "17.8 µs ± 193 ns per loop (mean ± std. dev. of 7 runs, 10000 loops each)\n",
      "372 ns ± 0.67 ns per loop (mean ± std. dev. of 7 runs, 1000000 loops each)\n",
      "23.8 µs ± 475 ns per loop (mean ± std. dev. of 7 runs, 10000 loops each)\n"
     ]
    }
   ],
   "source": [
    "import numpy as np\n",
    "a = np.linspace(0,100,100)\n",
    "\n",
    "%timeit np.sum(a) # numpy\n",
    "%timeit sum(a) # pythonのsum関数\n",
    "%timeit nb_sum(a) # numba\n",
    "%timeit py_sum(a) # 上のやつ"
   ]
  },
  {
   "source": [
    "## 20. 里程標日付\n",
    "\n",
    "* Python 1.0 1994\n",
    "* Python 2.Xの最期 2020/1/1\n",
    "* Python 3.0 2008/12/3"
   ],
   "cell_type": "markdown",
   "metadata": {}
  },
  {
   "source": [
    "## 21.PEP\n",
    "\n",
    "* [PEP 0](https://www.python.org/dev/peps/): 全てのPEPのIndex\n",
    "* [PEP 1](https://www.python.org/dev/peps/pep-0001/): PEPの目標とガイドライン\n",
    "* [PEP 8](https://www.python.org/dev/peps/pep-0008/): スタイルガイド\n",
    "* [PEP 20](https://www.python.org/dev/peps/pep-0020/): Pythonの禅\n",
    "* [PEP 404](https://www.python.org/dev/peps/pep-0404/): 永遠に来ないPython 2.8\n",
    "* [PEP 484](https://www.python.org/dev/peps/pep-0484/): 型ヒント\n",
    "* [PEP 498](https://www.python.org/dev/peps/pep-0498/): f-string"
   ],
   "cell_type": "markdown",
   "metadata": {}
  },
  {
   "source": [
    "## 22.CPythonだけじゃない\n",
    "\n",
    "* [Stackless Python](https://stackless.readthedocs.io/en/3.6-slp/stackless-python.html)\n",
    "* [Jython](https://www.jython.org) -> もう死んだ同然\n",
    "* [IronPython](https://ironpython.net)\n",
    "* [PyPy](https://www.pypy.org)\n",
    "* [MicroPython](https://micropython.org)\n",
    "* [Cython](https://cython.org)"
   ],
   "cell_type": "markdown",
   "metadata": {}
  },
  {
   "source": [
    "## 23.拡張子"
   ],
   "cell_type": "markdown",
   "metadata": {}
  },
  {
   "source": [
    "* `.py` ->　ソースコード\n",
    "* `.pyc` -> バイトコンパイル済ファイル\n",
    "* `.pyo` -> 最適化(-O)されたバイトコード\n",
    "* `.pyd` -> Pythonスクリプトから*Windows DLL*を作ったもの\n",
    "* `.py3` -> Python3 スクリプト\n",
    "* `.pyw` -> Windows用のPythonスクリプトファイル, `pythonw.exe`で実行\n",
    "* `.pyx` -> ソースを*C/C++*へコンバートしたもの"
   ],
   "cell_type": "markdown",
   "metadata": {}
  },
  {
   "source": [
    "[pythonw.exe or python.exe](https://stackoverflow.com/questions/9705982/pythonw-exe-or-python-exe)"
   ],
   "cell_type": "markdown",
   "metadata": {}
  },
  {
   "source": [
    "## 24. [Guido van Rossum(Python BDFL)](https://ja.wikipedia.org/wiki/優しい終身の独裁者)"
   ],
   "cell_type": "markdown",
   "metadata": {}
  },
  {
   "source": [
    "## 25.Position-only parameters(>=python 3.8)"
   ],
   "cell_type": "markdown",
   "metadata": {}
  },
  {
   "cell_type": "code",
   "execution_count": 2,
   "metadata": {},
   "outputs": [
    {
     "output_type": "stream",
     "text": [
      "\u001b[0;31mSignature:\u001b[0m \u001b[0mmath\u001b[0m\u001b[0;34m.\u001b[0m\u001b[0msin\u001b[0m\u001b[0;34m(\u001b[0m\u001b[0mx\u001b[0m\u001b[0;34m,\u001b[0m \u001b[0;34m/\u001b[0m\u001b[0;34m)\u001b[0m\u001b[0;34m\u001b[0m\u001b[0;34m\u001b[0m\u001b[0m\n",
      "\u001b[0;31mDocstring:\u001b[0m Return the sine of x (measured in radians).\n",
      "\u001b[0;31mType:\u001b[0m      builtin_function_or_method\n"
     ],
     "name": "stdout"
    }
   ],
   "source": [
    "import math\n",
    "\n",
    "math.sin?"
   ]
  },
  {
   "source": [
    "> '/'前のパラメータは位置限定で、キーワードで指定するのはできない  \n",
    "> '*'以後のパラメータはキーワード限定"
   ],
   "cell_type": "markdown",
   "metadata": {}
  },
  {
   "cell_type": "code",
   "execution_count": 3,
   "metadata": {},
   "outputs": [
    {
     "output_type": "error",
     "ename": "TypeError",
     "evalue": "sin() takes no keyword arguments",
     "traceback": [
      "\u001b[0;31m---------------------------------------------------------------------------\u001b[0m",
      "\u001b[0;31mTypeError\u001b[0m                                 Traceback (most recent call last)",
      "\u001b[0;32m<ipython-input-3-5993719a7116>\u001b[0m in \u001b[0;36m<module>\u001b[0;34m\u001b[0m\n\u001b[1;32m      1\u001b[0m \u001b[0;32mimport\u001b[0m \u001b[0mmath\u001b[0m\u001b[0;34m\u001b[0m\u001b[0;34m\u001b[0m\u001b[0m\n\u001b[1;32m      2\u001b[0m \u001b[0;34m\u001b[0m\u001b[0m\n\u001b[0;32m----> 3\u001b[0;31m \u001b[0mmath\u001b[0m\u001b[0;34m.\u001b[0m\u001b[0msin\u001b[0m\u001b[0;34m(\u001b[0m\u001b[0mx\u001b[0m\u001b[0;34m=\u001b[0m\u001b[0;36m1\u001b[0m\u001b[0;34m)\u001b[0m\u001b[0;34m\u001b[0m\u001b[0;34m\u001b[0m\u001b[0m\n\u001b[0m",
      "\u001b[0;31mTypeError\u001b[0m: sin() takes no keyword arguments"
     ]
    }
   ],
   "source": [
    "import math\n",
    "\n",
    "math.sin(x=1)"
   ]
  },
  {
   "source": [
    "## 26.typing"
   ],
   "cell_type": "markdown",
   "metadata": {}
  },
  {
   "cell_type": "code",
   "execution_count": null,
   "metadata": {},
   "outputs": [],
   "source": [
    "from typing import Tuple\n",
    "\n",
    "RGB = Tuple[int, int, int]\n",
    "HSL = Tuple[float, float, float]\n",
    "def rgb_to_hsl(color: RGB) -> HSL:\n",
    "def hsl_complement(color: HSL) -> HSL:\n",
    "def hsl_to_rgb(color: HSL) -> RGB:"
   ]
  },
  {
   "cell_type": "code",
   "execution_count": null,
   "metadata": {},
   "outputs": [],
   "source": [
    "from typing import NamedTuple, Union\n",
    "\n",
    "class RGB(NamedTuple):\n",
    "    red: int\n",
    "    green: int\n",
    "    blue: int\n",
    "\n",
    "def hex_to_rgb2(hx_int: Union[int, str]) -> RGB:"
   ]
  },
  {
   "cell_type": "code",
   "execution_count": null,
   "metadata": {},
   "outputs": [],
   "source": [
    "from typing import Optional, Tuple\n",
    "\n",
    "def polydice(n: Optional[int] = None, sides: int = 6) -> Tuple[int, ...]:\n",
    "    if n is None:\n",
    "        n = 2 if sides == 6 else 1\n",
    "    return tuple(random.randint(1, sides) for _ in range(n))"
   ]
  },
  {
   "source": [
    "## 27.Exeを作る"
   ],
   "cell_type": "markdown",
   "metadata": {}
  },
  {
   "source": [
    "**exe**ファイルを作るにはいくつかのツールがある\n",
    "* PyInstaller　-> Windows, MacOS対応, *おすすめ*\n",
    "* BriefCase　-> Windows, MacOS対応\n",
    "* py2exe\n",
    "* cx_freeze\n",
    "* Nuitka -> exeファイルを作る前にまずCコードに変換する"
   ],
   "cell_type": "markdown",
   "metadata": {}
  },
  {
   "source": [
    "### Windows"
   ],
   "cell_type": "markdown",
   "metadata": {}
  },
  {
   "cell_type": "code",
   "execution_count": 3,
   "metadata": {},
   "outputs": [
    {
     "output_type": "stream",
     "name": "stdout",
     "text": [
      "Collecting pyinstaller\n",
      "  Downloading pyinstaller-4.1.tar.gz (3.5 MB)\n",
      "\u001b[K     |████████████████████████████████| 3.5 MB 7.8 MB/s \n",
      "\u001b[?25h  Installing build dependencies ... \u001b[?25ldone\n",
      "\u001b[?25h  Getting requirements to build wheel ... \u001b[?25ldone\n",
      "\u001b[?25h    Preparing wheel metadata ... \u001b[?25ldone\n",
      "\u001b[?25hCollecting pyinstaller-hooks-contrib>=2020.6\n",
      "  Downloading pyinstaller_hooks_contrib-2020.10-py2.py3-none-any.whl (166 kB)\n",
      "\u001b[K     |████████████████████████████████| 166 kB 14.2 MB/s \n",
      "\u001b[?25hCollecting macholib>=1.8; sys_platform == \"darwin\"\n",
      "  Downloading macholib-1.14-py2.py3-none-any.whl (37 kB)\n",
      "Collecting altgraph\n",
      "  Downloading altgraph-0.17-py2.py3-none-any.whl (21 kB)\n",
      "Requirement already satisfied: setuptools in /Library/Frameworks/Python.framework/Versions/3.8/lib/python3.8/site-packages (from pyinstaller) (50.3.2)\n",
      "Building wheels for collected packages: pyinstaller\n",
      "  Building wheel for pyinstaller (PEP 517) ... \u001b[?25ldone\n",
      "\u001b[?25h  Created wheel for pyinstaller: filename=pyinstaller-4.1-py3-none-any.whl size=2790248 sha256=b79a93485851db867f7f2f885330faa8e3d832ce0179768b80bc1b2f16e76d2f\n",
      "  Stored in directory: /Users/maozhongfu/Library/Caches/pip/wheels/ae/7a/1e/e42202ec16f036e6c25592c6bc63d3c26e6a6addd6a25f053a\n",
      "Successfully built pyinstaller\n",
      "Installing collected packages: pyinstaller-hooks-contrib, altgraph, macholib, pyinstaller\n",
      "Successfully installed altgraph-0.17 macholib-1.14 pyinstaller-4.1 pyinstaller-hooks-contrib-2020.10\n"
     ]
    }
   ],
   "source": [
    "!pip install pyinstaller"
   ]
  },
  {
   "source": [
    "#### commandline"
   ],
   "cell_type": "markdown",
   "metadata": {}
  },
  {
   "cell_type": "code",
   "execution_count": 4,
   "metadata": {},
   "outputs": [
    {
     "output_type": "stream",
     "name": "stdout",
     "text": [
      "Writing pysearch.py\n"
     ]
    }
   ],
   "source": [
    "%%writefile pysearch.py\n",
    "\n",
    "import argparse\n",
    "import pathlib\n",
    "\n",
    "\n",
    "def search_folder(path, extension, file_size=None):\n",
    "    \"\"\"\n",
    "    Search folder for files\n",
    "    \"\"\"\n",
    "    folder = pathlib.Path(path)\n",
    "    files = list(folder.rglob(f'*.{extension}'))\n",
    "\n",
    "    if not files:\n",
    "        print(f'No files found with {extension=}')\n",
    "        return\n",
    "\n",
    "    if file_size is not None:\n",
    "        files = [f for f in files\n",
    "                 if f.stat().st_size > file_size]\n",
    "\n",
    "    print(f'{len(files)} *.{extension} files found:')\n",
    "    for file_path in files:\n",
    "        print(file_path)\n",
    "\n",
    "\n",
    "def main():\n",
    "    parser = argparse.ArgumentParser(\n",
    "        'PySearch',\n",
    "        description='PySearch - The Python Powered File Searcher')\n",
    "    parser.add_argument('-p', '--path',\n",
    "                        help='The path to search for files',\n",
    "                        required=True,\n",
    "                        dest='path')\n",
    "    parser.add_argument('-e', '--ext',\n",
    "                        help='The extension to search for',\n",
    "                        required=True,\n",
    "                        dest='extension')\n",
    "    parser.add_argument('-s', '--size',\n",
    "                        help='The file size to filter on in bytes',\n",
    "                        type=int,\n",
    "                        dest='size',\n",
    "                        default=None)\n",
    "\n",
    "    args = parser.parse_args()\n",
    "    search_folder(args.path, args.extension, args.size)\n",
    "\n",
    "if __name__ == '__main__':\n",
    "    main()"
   ]
  },
  {
   "cell_type": "code",
   "execution_count": null,
   "metadata": {},
   "outputs": [],
   "source": [
    "!pyinstaller pysearch.py"
   ]
  },
  {
   "source": [
    "#### GUI"
   ],
   "cell_type": "markdown",
   "metadata": {}
  },
  {
   "cell_type": "code",
   "execution_count": null,
   "metadata": {},
   "outputs": [],
   "source": [
    "%%writefile image_viewer.py\n",
    "\n",
    "import wx\n",
    "\n",
    "class ImagePanel(wx.Panel):\n",
    "\n",
    "    def __init__(self, parent, image_size):\n",
    "        super().__init__(parent)\n",
    "        self.max_size = 240\n",
    "\n",
    "        img = wx.Image(*image_size)\n",
    "        self.image_ctrl = wx.StaticBitmap(self, \n",
    "                                          bitmap=wx.Bitmap(img))\n",
    "\n",
    "        browse_btn = wx.Button(self, label='Browse')\n",
    "        browse_btn.Bind(wx.EVT_BUTTON, self.on_browse)\n",
    "\n",
    "        self.photo_txt = wx.TextCtrl(self, size=(200, -1))\n",
    "\n",
    "        main_sizer = wx.BoxSizer(wx.VERTICAL)\n",
    "        hsizer = wx.BoxSizer(wx.HORIZONTAL)\n",
    "\n",
    "        main_sizer.Add(self.image_ctrl, 0, wx.ALL, 5)\n",
    "        hsizer.Add(browse_btn, 0, wx.ALL, 5)\n",
    "        hsizer.Add(self.photo_txt, 0, wx.ALL, 5)\n",
    "        main_sizer.Add(hsizer, 0, wx.ALL, 5)\n",
    "\n",
    "        self.SetSizer(main_sizer)\n",
    "        main_sizer.Fit(parent)\n",
    "        self.Layout()\n",
    "\n",
    "    def on_browse(self, event):\n",
    "        \"\"\"\n",
    "        Browse for an image file\n",
    "        @param event: The event object\n",
    "        \"\"\"\n",
    "        wildcard = \"JPEG files (*.jpg)|*.jpg\"\n",
    "        with wx.FileDialog(None, \"Choose a file\",\n",
    "                           wildcard=wildcard,\n",
    "                           style=wx.ID_OPEN) as dialog:\n",
    "            if dialog.ShowModal() == wx.ID_OK:\n",
    "                self.photo_txt.SetValue(dialog.GetPath())\n",
    "                self.load_image()\n",
    "\n",
    "    def load_image(self):\n",
    "        \"\"\"\n",
    "        Load the image and display it to the user\n",
    "        \"\"\"\n",
    "        filepath = self.photo_txt.GetValue()\n",
    "        img = wx.Image(filepath, wx.BITMAP_TYPE_ANY)\n",
    "\n",
    "        # scale the image, preserving the aspect ratio\n",
    "        W = img.GetWidth()\n",
    "        H = img.GetHeight()\n",
    "        if W > H:\n",
    "            NewW = self.max_size\n",
    "            NewH = self.max_size * H / W\n",
    "        else:\n",
    "            NewH = self.max_size\n",
    "            NewW = self.max_size * W / H\n",
    "        img = img.Scale(NewW,NewH)\n",
    "\n",
    "        self.image_ctrl.SetBitmap(wx.Bitmap(img))\n",
    "        self.Refresh()\n",
    "\n",
    "\n",
    "class MainFrame(wx.Frame):\n",
    "\n",
    "    def __init__(self):\n",
    "        super().__init__(None, title='Image Viewer')\n",
    "        panel = ImagePanel(self, image_size=(240,240))\n",
    "        self.Show()\n",
    "\n",
    "\n",
    "if __name__ == '__main__':\n",
    "    app = wx.App(redirect=False)\n",
    "    frame = MainFrame()\n",
    "    app.MainLoop()"
   ]
  },
  {
   "source": [
    "```python\n",
    "pyinstaller.exe image_viewer.py --noconsole\n",
    "```"
   ],
   "cell_type": "markdown",
   "metadata": {}
  },
  {
   "source": [
    "### Mac"
   ],
   "cell_type": "markdown",
   "metadata": {}
  },
  {
   "source": [
    "Macの場合は、選択肢は以下となる\n",
    "* [PyInstaller](https://www.pyinstaller.org/)\n",
    "* [Briefcase](https://beeware.org/project/projects/tools/briefcase/)\n",
    "* [py2app](https://py2app.readthedocs.io/en/latest/)"
   ],
   "cell_type": "markdown",
   "metadata": {}
  },
  {
   "source": [
    "```python\n",
    "pyinstaller image_viewer.py --windowed\n",
    "```"
   ],
   "cell_type": "markdown",
   "metadata": {}
  }
 ]
}