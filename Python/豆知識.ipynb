{
 "metadata": {
  "language_info": {
   "codemirror_mode": {
    "name": "ipython",
    "version": 3
   },
   "file_extension": ".py",
   "mimetype": "text/x-python",
   "name": "python",
   "nbconvert_exporter": "python",
   "pygments_lexer": "ipython3",
   "version": "3.8.6-final"
  },
  "orig_nbformat": 2,
  "kernelspec": {
   "name": "Python 3.8.6 64-bit",
   "display_name": "Python 3.8.6 64-bit",
   "metadata": {
    "interpreter": {
     "hash": "082e9a3bcad0a290d0001e938aa60b99250c6c2ef33a923c00b70f9826caf4b7"
    }
   }
  }
 },
 "nbformat": 4,
 "nbformat_minor": 2,
 "cells": [
  {
   "source": [
    "## 里程標日付\n",
    "\n",
    "* Python 1.0 1994\n",
    "* Python 2.Xの最期 2020/1/1\n",
    "* Python 3.0 2008/12/3"
   ],
   "cell_type": "markdown",
   "metadata": {}
  },
  {
   "source": [
    "## PEP\n",
    "\n",
    "* [PEP 0](https://www.python.org/dev/peps/): 全てのPEPのIndex\n",
    "* [PEP 1](https://www.python.org/dev/peps/pep-0001/): PEPの目標とガイドライン\n",
    "* [PEP 8](https://www.python.org/dev/peps/pep-0008/): スタイルガイド\n",
    "* [PEP 20](https://www.python.org/dev/peps/pep-0020/): Pythonの禅\n",
    "* [PEP 404](https://www.python.org/dev/peps/pep-0404/): 永遠に来ないPython 2.8\n",
    "* [PEP 484](https://www.python.org/dev/peps/pep-0484/): 型ヒント"
   ],
   "cell_type": "markdown",
   "metadata": {}
  },
  {
   "source": [
    "## CPythonだけじゃない\n",
    "\n",
    "* [Stackless Python](https://stackless.readthedocs.io/en/3.6-slp/stackless-python.html)\n",
    "* [Jython](https://www.jython.org) -> もう死んだ同然\n",
    "* [IronPython](https://ironpython.net)\n",
    "* [PyPy](https://www.pypy.org)\n",
    "* [MicroPython](https://micropython.org)\n",
    "* [Cython](https://cython.org)"
   ],
   "cell_type": "markdown",
   "metadata": {}
  }
 ]
}