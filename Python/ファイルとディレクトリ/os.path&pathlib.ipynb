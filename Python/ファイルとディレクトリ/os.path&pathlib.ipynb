{
 "metadata": {
  "language_info": {
   "codemirror_mode": {
    "name": "ipython",
    "version": 3
   },
   "file_extension": ".py",
   "mimetype": "text/x-python",
   "name": "python",
   "nbconvert_exporter": "python",
   "pygments_lexer": "ipython3",
   "version": "3.8.6-final"
  },
  "orig_nbformat": 2,
  "kernelspec": {
   "name": "Python 3.8.6 64-bit",
   "display_name": "Python 3.8.6 64-bit",
   "metadata": {
    "interpreter": {
     "hash": "082e9a3bcad0a290d0001e938aa60b99250c6c2ef33a923c00b70f9826caf4b7"
    }
   }
  }
 },
 "nbformat": 4,
 "nbformat_minor": 2,
 "cells": [
  {
   "cell_type": "markdown",
   "source": [
    "|処理内容| os及びos.path | pathlib | \n",
    "| :-- | :-- | :-- | \n",
    "|絶対パスへ変換| os.path.abspath() | Path.resolve() |\n",
    "|絶対パスか判定| os.path.isabs() | PurePath.is_absolute() |\n",
    "|権限を変えkる| os.chmod() | Path.chmod() |\n",
    "|フォルダを作成| os.mkdir(), os.makedirs() | Path.mkdir() |\n",
    "|フォルダを削除| os.rmdir() | Path.rmdir() |\n",
    "|名前を変更| os.rename() | Path.rename() |\n",
    "|ファイルまたはディレクトリ名前変更| os.replace() | Path.replace() |\n",
    "|ファイルを削除| os.remove(), os.unlink() | Path.unlink() |\n",
    "|カレントディレクトリ取得| os.getcwd() | Path.cwd() |\n",
    "|パスの存在確認| os.path.exists() | Path.exists() |\n",
    "|先頭の`~`をホームディレクトリに置換| os.path.expanduser() | Path.expanduser(), Path.home() |\n",
    "|ディレクトリか判定| os.path.isdir() | Path.is_dir() |\n",
    "|ファイルか判定| os.path.isfile() | Path.is_file() |\n",
    "|シンボリックリンクか判定| os.path.islink() | Path.is_symlink() |\n",
    "|ステータス取得| os.stat() | Path.stat(), Path.owner(), Path.group() |\n",
    "|パスを結合| os.path.join() | PurePath.joinpath() |\n",
    "|ファイル名を取得| os.path.basename() | PurePath.name |\n",
    "|親ディレクトリを取得| os.path.dirname() | PurePath.parent |\n",
    "|同じファイルか判定| os.path.samefile() | Path.samefile() |\n",
    "|拡張子を取得| os.path.splitext() | PurePath.suffix |"
   ],
   "metadata": {}
  },
  {
   "cell_type": "markdown",
   "source": [
    "# os.path"
   ],
   "metadata": {}
  },
  {
   "cell_type": "markdown",
   "source": [
    "パスの解析は以下の変数に依存する\n",
    "* `os.sep`: パスの各部分を分離する記号\n",
    "* `os.extsep`: ファイル名と拡張子を結合する記号\n",
    "* `os.pardir`: 上の階層を表す記号\n",
    "* `os.curdir`: 現在の階層を表す記号\n"
   ],
   "metadata": {}
  },
  {
   "cell_type": "code",
   "execution_count": 1,
   "source": [
    "import os\n",
    "print(f\"{os.sep=}\") # windowsの場合は\"\\\"\n",
    "print(f\"{os.extsep=}\")\n",
    "print(f\"{os.pardir=}\")\n",
    "print(f\"{os.curdir=}\")"
   ],
   "outputs": [
    {
     "output_type": "stream",
     "name": "stdout",
     "text": [
      "os.sep='/'\n",
      "os.extsep='.'\n",
      "os.pardir='..'\n",
      "os.curdir='.'\n"
     ]
    }
   ],
   "metadata": {}
  },
  {
   "cell_type": "markdown",
   "source": [
    "## split()"
   ],
   "metadata": {}
  },
  {
   "cell_type": "code",
   "execution_count": 3,
   "source": [
    "import os.path\n",
    "\n",
    "PATHS = [\n",
    "    '/one/two/three',\n",
    "    '/one/two/three',\n",
    "    '/',\n",
    "    '.',\n",
    "    ''\n",
    "]\n",
    "\n",
    "for path in PATHS:\n",
    "    print(f\"{path!r:>17} : {os.path.split(path)}\")"
   ],
   "outputs": [
    {
     "output_type": "stream",
     "name": "stdout",
     "text": [
      " '/one/two/three' : ('/one/two', 'three')\n",
      " '/one/two/three' : ('/one/two', 'three')\n",
      "              '/' : ('/', '')\n",
      "              '.' : ('', '.')\n",
      "               '' : ('', '')\n"
     ]
    }
   ],
   "metadata": {}
  },
  {
   "cell_type": "markdown",
   "source": [
    "戻り値はtuple, 二番目の要素はパスの最後の部分、そして一番目の要素は残りの部分"
   ],
   "metadata": {}
  },
  {
   "cell_type": "markdown",
   "source": [
    "## basename()"
   ],
   "metadata": {}
  },
  {
   "cell_type": "code",
   "execution_count": 5,
   "source": [
    "import os.path\n",
    "\n",
    "PATHS = [\n",
    "    '/one/two/three',\n",
    "    '/one/two/three',\n",
    "    '/',\n",
    "    '.',\n",
    "    ''\n",
    "]\n",
    "\n",
    "for path in PATHS:\n",
    "    print(f\"{path!r:>17} : {os.path.basename(path)!r}\")"
   ],
   "outputs": [
    {
     "output_type": "stream",
     "name": "stdout",
     "text": [
      " '/one/two/three' : 'three'\n",
      " '/one/two/three' : 'three'\n",
      "              '/' : ''\n",
      "              '.' : '.'\n",
      "               '' : ''\n"
     ]
    }
   ],
   "metadata": {}
  },
  {
   "cell_type": "markdown",
   "source": [
    "`split()[1]`に相当"
   ],
   "metadata": {}
  },
  {
   "cell_type": "markdown",
   "source": [
    "## dirname()"
   ],
   "metadata": {}
  },
  {
   "cell_type": "code",
   "execution_count": 7,
   "source": [
    "import os.path\n",
    "\n",
    "PATHS = [\n",
    "    '/one/two/three',\n",
    "    '/one/two/three',\n",
    "    '/',\n",
    "    '.',\n",
    "    ''\n",
    "]\n",
    "\n",
    "for path in PATHS:\n",
    "    print(f\"{path!r:>17} : {os.path.dirname(path)!r}\")"
   ],
   "outputs": [
    {
     "output_type": "stream",
     "name": "stdout",
     "text": [
      " '/one/two/three' : '/one/two'\n",
      " '/one/two/three' : '/one/two'\n",
      "              '/' : '/'\n",
      "              '.' : ''\n",
      "               '' : ''\n"
     ]
    }
   ],
   "metadata": {}
  },
  {
   "cell_type": "markdown",
   "source": [
    "`split()[0]`に相当"
   ],
   "metadata": {}
  },
  {
   "cell_type": "markdown",
   "source": [
    "## splittext()"
   ],
   "metadata": {}
  },
  {
   "cell_type": "code",
   "execution_count": 10,
   "source": [
    "import os.path\n",
    "\n",
    "PATHS = [\n",
    "    'filename.txt',\n",
    "    'filename',\n",
    "    '/path/to/filename.txt',\n",
    "    '/',\n",
    "    '',\n",
    "    'my-archive.tar.gz',\n",
    "    'no-extension.',\n",
    "]\n",
    "\n",
    "for path in PATHS:\n",
    "    print(f'{path!r:>25} : {os.path.splitext(path)!r}')"
   ],
   "outputs": [
    {
     "output_type": "stream",
     "name": "stdout",
     "text": [
      "           'filename.txt' : ('filename', '.txt')\n",
      "               'filename' : ('filename', '')\n",
      "  '/path/to/filename.txt' : ('/path/to/filename', '.txt')\n",
      "                      '/' : ('/', '')\n",
      "                       '' : ('', '')\n",
      "      'my-archive.tar.gz' : ('my-archive.tar', '.gz')\n",
      "          'no-extension.' : ('no-extension', '.')\n"
     ]
    }
   ],
   "metadata": {}
  },
  {
   "cell_type": "markdown",
   "source": [
    "`split`は`os.sep`で分離する、`splitext`は`os.extsep`を利用する"
   ],
   "metadata": {}
  },
  {
   "cell_type": "markdown",
   "source": [
    "## commonprefix()"
   ],
   "metadata": {}
  },
  {
   "cell_type": "code",
   "execution_count": 12,
   "source": [
    "import os.path\n",
    "\n",
    "paths = ['/one/two/three/four',\n",
    "         '/one/two/threefold',\n",
    "         '/one/two/three/',\n",
    "         ]\n",
    "for path in paths:\n",
    "    print('PATH:', path)\n",
    "\n",
    "print()\n",
    "print('PREFIX:', os.path.commonprefix(paths))"
   ],
   "outputs": [
    {
     "output_type": "stream",
     "name": "stdout",
     "text": [
      "PATH: /one/two/three/four\n",
      "PATH: /one/two/threefold\n",
      "PATH: /one/two/three/\n",
      "\n",
      "PREFIX: /one/two/three\n"
     ]
    }
   ],
   "metadata": {}
  },
  {
   "cell_type": "markdown",
   "source": [
    "パス分離記号を考慮していないので実際存在しない結果になるかもしれない"
   ],
   "metadata": {}
  },
  {
   "cell_type": "markdown",
   "source": [
    "## commonpath()"
   ],
   "metadata": {}
  },
  {
   "cell_type": "code",
   "execution_count": 14,
   "source": [
    "import os.path\n",
    "\n",
    "paths = ['/one/two/three/four',\n",
    "         '/one/two/threefold',\n",
    "         '/one/two/three/',\n",
    "         ]\n",
    "for path in paths:\n",
    "    print('PATH:', path)\n",
    "\n",
    "print()\n",
    "print('PREFIX:', os.path.commonpath(paths))"
   ],
   "outputs": [
    {
     "output_type": "stream",
     "name": "stdout",
     "text": [
      "PATH: /one/two/three/four\n",
      "PATH: /one/two/threefold\n",
      "PATH: /one/two/three/\n",
      "\n",
      "PREFIX: /one/two\n"
     ]
    }
   ],
   "metadata": {}
  },
  {
   "cell_type": "markdown",
   "source": [
    "この関数は考慮している"
   ],
   "metadata": {}
  },
  {
   "cell_type": "markdown",
   "source": [
    "## join()"
   ],
   "metadata": {}
  },
  {
   "cell_type": "code",
   "execution_count": 16,
   "source": [
    "import os.path\n",
    "\n",
    "PATHS = [\n",
    "    ('one', 'two', 'three'),\n",
    "    ('/', 'one', 'two', 'three'),\n",
    "    ('/one', '/two', '/three'),\n",
    "]\n",
    "\n",
    "for parts in PATHS:\n",
    "    print(f'{parts} : {os.path.join(*parts)!r}')"
   ],
   "outputs": [
    {
     "output_type": "stream",
     "name": "stdout",
     "text": [
      "('one', 'two', 'three') : 'one/two/three'\n",
      "('/', 'one', 'two', 'three') : '/one/two/three'\n",
      "('/one', '/two', '/three') : '/three'\n"
     ]
    }
   ],
   "metadata": {}
  },
  {
   "cell_type": "markdown",
   "source": [
    "頭文字は`os.sep`のパラメータがあったら、その前のパラメータは捨てられる"
   ],
   "metadata": {}
  },
  {
   "cell_type": "markdown",
   "source": [
    "## expanduser()"
   ],
   "metadata": {}
  },
  {
   "cell_type": "code",
   "execution_count": 18,
   "source": [
    "import os.path\n",
    "\n",
    "for user in ['', 'maozhongfu', 'nosuchuser']:\n",
    "    lookup = '~' + user\n",
    "    print(f'{lookup!r:>15} : {os.path.expanduser(lookup)!r}')"
   ],
   "outputs": [
    {
     "output_type": "stream",
     "name": "stdout",
     "text": [
      "            '~' : '/Users/maozhongfu'\n",
      "  '~maozhongfu' : '/Users/maozhongfu'\n",
      "  '~nosuchuser' : '~nosuchuser'\n"
     ]
    }
   ],
   "metadata": {}
  },
  {
   "cell_type": "markdown",
   "source": [
    "`~`はユーザのディレクトリに変換される、見つからない場合はそのまま戻る"
   ],
   "metadata": {}
  },
  {
   "cell_type": "markdown",
   "source": [
    "## expandvars()"
   ],
   "metadata": {}
  },
  {
   "cell_type": "code",
   "execution_count": 20,
   "source": [
    "import os.path\n",
    "import os\n",
    "\n",
    "os.environ['MYVAR'] = 'VALUE'\n",
    "\n",
    "print(os.path.expandvars('/path/to/$MYVAR'))"
   ],
   "outputs": [
    {
     "output_type": "stream",
     "name": "stdout",
     "text": [
      "/path/to/VALUE\n"
     ]
    }
   ],
   "metadata": {}
  },
  {
   "cell_type": "markdown",
   "source": [
    "shellの中の環境変数を解析する"
   ],
   "metadata": {}
  },
  {
   "cell_type": "markdown",
   "source": [
    "## normpath()"
   ],
   "metadata": {}
  },
  {
   "cell_type": "code",
   "execution_count": 22,
   "source": [
    "import os.path\n",
    "\n",
    "PATHS = [\n",
    "    'one//two//three',\n",
    "    'one/./two/./three',\n",
    "    'one/../alt/two/three',\n",
    "]\n",
    "\n",
    "for path in PATHS:\n",
    "    print(f'{path!r:>22} : {os.path.normpath(path)!r}')"
   ],
   "outputs": [
    {
     "output_type": "stream",
     "name": "stdout",
     "text": [
      "     'one//two//three' : 'one/two/three'\n",
      "   'one/./two/./three' : 'one/two/three'\n",
      "'one/../alt/two/three' : 'alt/two/three'\n"
     ]
    }
   ],
   "metadata": {}
  },
  {
   "cell_type": "markdown",
   "source": [
    "`os.curdir`,`os.pardir`は解析され展開する"
   ],
   "metadata": {}
  },
  {
   "cell_type": "markdown",
   "source": [
    "## normcase()"
   ],
   "metadata": {}
  },
  {
   "cell_type": "code",
   "execution_count": 4,
   "source": [
    "import os.path \n",
    "  \n",
    "path_1 = r'C:\\User\\admin\\Documents'\n",
    "# 大文字は小文字に変更される\n",
    "print(f\"{path_1!r:20} -> {os.path.normcase(path_1)}\") \n",
    "  \n",
    "path_2 = '/hoMe/UseR/'\n",
    "# slashはbackslashになる\n",
    "print(f\"{path_2!r:20} -> {os.path.normcase(path_2)}\") \n",
    "  \n",
    "path_3 = r'C:\\Users/Desktop'\n",
    "# 統一される\n",
    "print(f\"{path_3!r:20} -> {os.path.normcase(path_3)}\") "
   ],
   "outputs": [
    {
     "output_type": "stream",
     "name": "stdout",
     "text": [
      "'C:\\\\User\\\\admin\\\\Documents' -> c:\\user\\admin\\documents\n",
      "'/hoMe/UseR/'        -> \\home\\user\\\n",
      "'C:\\\\Users/Desktop'  -> c:\\users\\desktop\n"
     ]
    }
   ],
   "metadata": {}
  },
  {
   "cell_type": "markdown",
   "source": [
    "## abspath()"
   ],
   "metadata": {}
  },
  {
   "cell_type": "code",
   "execution_count": 24,
   "source": [
    "import os\n",
    "import os.path\n",
    "\n",
    "os.chdir('/usr')\n",
    "\n",
    "PATHS = [\n",
    "    '.',\n",
    "    '..',\n",
    "    './one/two/three',\n",
    "    '../one/two/three',\n",
    "]\n",
    "\n",
    "for path in PATHS:\n",
    "    print(f'{path!r:>21} : {os.path.abspath(path)!r}')"
   ],
   "outputs": [
    {
     "output_type": "stream",
     "name": "stdout",
     "text": [
      "                  '.' : '/usr'\n",
      "                 '..' : '/'\n",
      "    './one/two/three' : '/usr/one/two/three'\n",
      "   '../one/two/three' : '/one/two/three'\n"
     ]
    }
   ],
   "metadata": {}
  },
  {
   "cell_type": "markdown",
   "source": [
    "## getatime(), getmtime(), getctime(), getsize()"
   ],
   "metadata": {}
  },
  {
   "cell_type": "code",
   "execution_count": 1,
   "source": [
    "%%writefile foo.py\n",
    "\n",
    "import os.path\n",
    "import time\n",
    "\n",
    "print('File         :', __file__)\n",
    "print('Access time  :', time.ctime(os.path.getatime(__file__)))\n",
    "print('Modified time:', time.ctime(os.path.getmtime(__file__)))\n",
    "print('Change time  :', time.ctime(os.path.getctime(__file__)))\n",
    "print('Size         :', os.path.getsize(__file__))"
   ],
   "outputs": [
    {
     "output_type": "stream",
     "name": "stdout",
     "text": [
      "Writing foo.py\n"
     ]
    }
   ],
   "metadata": {}
  },
  {
   "cell_type": "code",
   "execution_count": 2,
   "source": [
    "%run foo.py"
   ],
   "outputs": [
    {
     "output_type": "stream",
     "name": "stdout",
     "text": [
      "File         : /Users/maozhongfu/GitHub/Python/ファイルとディレクトリ/foo.py\n",
      "Access time  : Thu Nov  5 02:07:33 2020\n",
      "Modified time: Thu Nov  5 02:07:31 2020\n",
      "Change time  : Thu Nov  5 02:07:31 2020\n",
      "Size         : 306\n"
     ]
    }
   ],
   "metadata": {}
  },
  {
   "cell_type": "code",
   "execution_count": 3,
   "source": [
    "!rm foo.py"
   ],
   "outputs": [],
   "metadata": {}
  },
  {
   "cell_type": "markdown",
   "source": [
    "* `os.path.getatime()`: ファイルの最後のアクセル時間(access)\n",
    "* `os.path.getmtime()`: ファイルの最後の変更時間(modify)\n",
    "* `os.path.getctime()`: ファイルの作られる時間(create)\n",
    "* `os.path.getsize()`: ファイルの大きさ(Bytes)"
   ],
   "metadata": {}
  },
  {
   "cell_type": "markdown",
   "source": [
    "## isX(), exists(), lexists()"
   ],
   "metadata": {}
  },
  {
   "cell_type": "code",
   "execution_count": 5,
   "source": [
    "%%writefile foo.py\n",
    "\n",
    "import os.path\n",
    "\n",
    "FILENAMES = [\n",
    "    __file__,\n",
    "    os.path.dirname(__file__),\n",
    "    '/',\n",
    "    './broken_link',\n",
    "]\n",
    "\n",
    "for file in FILENAMES:\n",
    "    print('File        : {!r}'.format(file))\n",
    "    print('Absolute    :', os.path.isabs(file))\n",
    "    print('Is File?    :', os.path.isfile(file))\n",
    "    print('Is Dir?     :', os.path.isdir(file))\n",
    "    print('Is Link?    :', os.path.islink(file))\n",
    "    print('Mountpoint? :', os.path.ismount(file))\n",
    "    print('Exists?     :', os.path.exists(file))\n",
    "    print('Link Exists?:', os.path.lexists(file))\n",
    "    print()"
   ],
   "outputs": [
    {
     "output_type": "stream",
     "name": "stdout",
     "text": [
      "Writing foo.py\n"
     ]
    }
   ],
   "metadata": {}
  },
  {
   "cell_type": "markdown",
   "source": [
    "[mount point](https://en.wikipedia.org/wiki/Mount_(computing))"
   ],
   "metadata": {}
  },
  {
   "cell_type": "code",
   "execution_count": 6,
   "source": [
    "%run foo.py"
   ],
   "outputs": [
    {
     "output_type": "stream",
     "name": "stdout",
     "text": [
      "File        : '/Users/maozhongfu/GitHub/Python/ファイルとディレクトリ/foo.py'\n",
      "Absolute    : True\n",
      "Is File?    : True\n",
      "Is Dir?     : False\n",
      "Is Link?    : False\n",
      "Mountpoint? : False\n",
      "Exists?     : True\n",
      "Link Exists?: True\n",
      "\n",
      "File        : '/Users/maozhongfu/GitHub/Python/ファイルとディレクトリ'\n",
      "Absolute    : True\n",
      "Is File?    : False\n",
      "Is Dir?     : True\n",
      "Is Link?    : False\n",
      "Mountpoint? : False\n",
      "Exists?     : True\n",
      "Link Exists?: True\n",
      "\n",
      "File        : '/'\n",
      "Absolute    : True\n",
      "Is File?    : False\n",
      "Is Dir?     : True\n",
      "Is Link?    : False\n",
      "Mountpoint? : True\n",
      "Exists?     : True\n",
      "Link Exists?: True\n",
      "\n",
      "File        : './broken_link'\n",
      "Absolute    : False\n",
      "Is File?    : False\n",
      "Is Dir?     : False\n",
      "Is Link?    : False\n",
      "Mountpoint? : False\n",
      "Exists?     : False\n",
      "Link Exists?: False\n",
      "\n"
     ]
    }
   ],
   "metadata": {}
  },
  {
   "cell_type": "code",
   "execution_count": 7,
   "source": [
    "!rm foo.py"
   ],
   "outputs": [],
   "metadata": {}
  },
  {
   "cell_type": "markdown",
   "source": [
    "# pathlib"
   ],
   "metadata": {}
  },
  {
   "cell_type": "markdown",
   "source": [
    "**OOP**の考え方でAPIを構築、解析; 文字列の処理よりレベル高い"
   ],
   "metadata": {}
  },
  {
   "cell_type": "code",
   "execution_count": 12,
   "source": [
    "import pathlib"
   ],
   "outputs": [],
   "metadata": {}
  },
  {
   "cell_type": "code",
   "execution_count": 16,
   "source": [
    "pathlib.*Path?"
   ],
   "outputs": [
    {
     "output_type": "stream",
     "name": "stdout",
     "text": [
      "pathlib.Path\n",
      "pathlib.PosixPath\n",
      "pathlib.PurePath\n",
      "pathlib.PurePosixPath\n",
      "pathlib.PureWindowsPath\n",
      "pathlib.WindowsPath"
     ]
    }
   ],
   "metadata": {}
  },
  {
   "cell_type": "markdown",
   "source": [
    "`PurePosixPath`と`PureWindowsPath`はただ文字列を処理するだけでファイルシステムと関わらない  \n",
    "一方、実際のファイルシステムを操作する際、`Path`を利用すべき  \n",
    "基本OSによって`PosixPath`や`WindowsPath`のインスタンスを作成する"
   ],
   "metadata": {}
  },
  {
   "cell_type": "markdown",
   "source": [
    "## 汎用プロパティ"
   ],
   "metadata": {}
  },
  {
   "cell_type": "markdown",
   "source": [
    "> パスは変更不可(immutable)でハッシュ可能(hashable)  \n",
    "> 基本OS同じの場合は比較などできる"
   ],
   "metadata": {}
  },
  {
   "cell_type": "code",
   "execution_count": 7,
   "source": [
    "from pathlib import PurePosixPath, PureWindowsPath\n",
    "\n",
    "print(PurePosixPath('foo') == PurePosixPath('FOO'))\n",
    "print(PureWindowsPath('foo') == PureWindowsPath('FOO'))\n",
    "print(PureWindowsPath('FOO') in { PureWindowsPath('foo') })\n",
    "print(PureWindowsPath('C:') < PureWindowsPath('d:'))\n",
    "print(PureWindowsPath('foo') == PurePosixPath('foo'))\n",
    "# print(PureWindowsPath('foo') < PurePosixPath('foo')) # エラーが起こる"
   ],
   "outputs": [
    {
     "output_type": "stream",
     "name": "stdout",
     "text": [
      "False\n",
      "True\n",
      "True\n",
      "True\n",
      "False\n"
     ]
    }
   ],
   "metadata": {}
  },
  {
   "cell_type": "markdown",
   "source": [
    "## \"/\"演算子"
   ],
   "metadata": {}
  },
  {
   "cell_type": "code",
   "execution_count": 17,
   "source": [
    "import pathlib\n",
    "\n",
    "usr = pathlib.PurePosixPath('/usr')\n",
    "print(usr)\n",
    "\n",
    "usr_local = usr / 'local'  # os.path.join()と同じ\n",
    "print(usr_local)\n",
    "\n",
    "usr_share = usr / pathlib.PurePosixPath('share')\n",
    "print(usr_share)\n",
    "\n",
    "root = usr / '..'\n",
    "print(root)\n",
    "\n",
    "etc = root / '/etc/'\n",
    "print(etc)\n",
    "\n",
    "# Windowsの場合は、ローカルルータを変えても前のドライバーが残る\n",
    "print(pathlib.PureWindowsPath('c:/Windows') / '/Program Files')"
   ],
   "outputs": [
    {
     "output_type": "stream",
     "name": "stdout",
     "text": [
      "/usr\n",
      "/usr/local\n",
      "/usr/share\n",
      "/usr/..\n",
      "/etc\n"
     ]
    }
   ],
   "metadata": {}
  },
  {
   "cell_type": "markdown",
   "source": [
    "## resolve()"
   ],
   "metadata": {}
  },
  {
   "cell_type": "code",
   "execution_count": 18,
   "source": [
    "import pathlib\n",
    "\n",
    "usr_local = pathlib.Path('/usr/local')\n",
    "share = usr_local / '..' / 'share'\n",
    "print(share.resolve())  # 解析される"
   ],
   "outputs": [
    {
     "output_type": "stream",
     "name": "stdout",
     "text": [
      "/usr/share\n"
     ]
    }
   ],
   "metadata": {}
  },
  {
   "cell_type": "markdown",
   "source": [
    "## joinpath()"
   ],
   "metadata": {}
  },
  {
   "cell_type": "code",
   "execution_count": 19,
   "source": [
    "import pathlib\n",
    "\n",
    "root = pathlib.PurePosixPath('/')\n",
    "subdirs = ['usr', 'local']\n",
    "usr_local = root.joinpath(*subdirs)\n",
    "print(usr_local)"
   ],
   "outputs": [
    {
     "output_type": "stream",
     "name": "stdout",
     "text": [
      "/usr/local\n"
     ]
    }
   ],
   "metadata": {}
  },
  {
   "cell_type": "markdown",
   "source": [
    "## with_name(), with_suffix()"
   ],
   "metadata": {}
  },
  {
   "cell_type": "code",
   "execution_count": 23,
   "source": [
    "import pathlib\n",
    "\n",
    "ind = pathlib.PurePosixPath('source/pathlib/index.rst')\n",
    "print(ind)\n",
    "\n",
    "py = ind.with_name('pathlib_from_existing.py')\n",
    "# os.path.join(os.path.dirname(ind), 'pathlib_from_existing.py')と同じ\n",
    "print(py)\n",
    "\n",
    "pyc = py.with_suffix('.pyc')\n",
    "# os.path.splitext(py)[0] + \".pyc\"と同じ\n",
    "print(pyc)"
   ],
   "outputs": [
    {
     "output_type": "stream",
     "name": "stdout",
     "text": [
      "source/pathlib/index.rst\n",
      "source/pathlib/pathlib_from_existing.py\n",
      "source/pathlib/pathlib_from_existing.pyc\n"
     ]
    }
   ],
   "metadata": {}
  },
  {
   "cell_type": "markdown",
   "source": [
    "## parts"
   ],
   "metadata": {}
  },
  {
   "cell_type": "code",
   "execution_count": 29,
   "source": [
    "import pathlib\n",
    "\n",
    "p = pathlib.PurePosixPath('/usr/local')\n",
    "print(p.parts)"
   ],
   "outputs": [
    {
     "output_type": "stream",
     "name": "stdout",
     "text": [
      "('/', 'usr', 'local')\n"
     ]
    }
   ],
   "metadata": {}
  },
  {
   "cell_type": "markdown",
   "source": [
    "## parent, parents"
   ],
   "metadata": {}
  },
  {
   "cell_type": "code",
   "execution_count": 33,
   "source": [
    "import pathlib\n",
    "\n",
    "p = pathlib.PurePosixPath('/usr/local/lib')\n",
    "\n",
    "print(f'{p.parent}')\n",
    "\n",
    "print('\\nhierarchy:')\n",
    "for up in p.parents:\n",
    "    print(up)"
   ],
   "outputs": [
    {
     "output_type": "stream",
     "name": "stdout",
     "text": [
      "/usr/local\n",
      "\n",
      "hierarchy:\n",
      "/usr/local\n",
      "/usr\n",
      "/\n"
     ]
    }
   ],
   "metadata": {}
  },
  {
   "cell_type": "markdown",
   "source": [
    "## name, suffix, suffixes, stem"
   ],
   "metadata": {}
  },
  {
   "cell_type": "code",
   "execution_count": 35,
   "source": [
    "import pathlib\n",
    "\n",
    "p = pathlib.PurePosixPath('./source/pathlib/pathlib_name.tar.gz')\n",
    "print(f'path  : {p}')\n",
    "print(f'name  : {p.name}')\n",
    "print(f'suffix: {p.suffix}')\n",
    "print(f'suffixes: {p.suffixes}')\n",
    "print(f'stem  : {p.stem}')"
   ],
   "outputs": [
    {
     "output_type": "stream",
     "name": "stdout",
     "text": [
      "path  : source/pathlib/pathlib_name.tar.gz\n",
      "name  : pathlib_name.tar.gz\n",
      "suffix: .gz\n",
      "suffixs: ['.tar', '.gz']\n",
      "stem  : pathlib_name.tar\n"
     ]
    }
   ],
   "metadata": {}
  },
  {
   "cell_type": "markdown",
   "source": [
    "## home(), cwd()"
   ],
   "metadata": {}
  },
  {
   "cell_type": "code",
   "execution_count": 37,
   "source": [
    "import pathlib\n",
    "\n",
    "home = pathlib.Path.home()\n",
    "print('home: ', home)\n",
    "\n",
    "cwd = pathlib.Path.cwd()\n",
    "print('cwd : ', cwd)"
   ],
   "outputs": [
    {
     "output_type": "stream",
     "name": "stdout",
     "text": [
      "home:  /Users/maozhongfu\n",
      "cwd :  /Users/maozhongfu/GitHub/Python/ファイルとディレクトリ\n"
     ]
    }
   ],
   "metadata": {}
  },
  {
   "cell_type": "markdown",
   "source": [
    "## iterdir()"
   ],
   "metadata": {}
  },
  {
   "cell_type": "code",
   "execution_count": 39,
   "source": [
    "import pathlib\n",
    "\n",
    "p = pathlib.Path('.')\n",
    "\n",
    "for f in p.iterdir():\n",
    "    print(f)"
   ],
   "outputs": [
    {
     "output_type": "stream",
     "name": "stdout",
     "text": [
      "codecs.ipynb\n",
      "os.path&pathlib.ipynb\n",
      "io.ipynb\n",
      "glob.ipynb\n",
      "shutil.ipynb\n"
     ]
    }
   ],
   "metadata": {}
  },
  {
   "cell_type": "markdown",
   "source": [
    "## glob()"
   ],
   "metadata": {}
  },
  {
   "cell_type": "markdown",
   "source": [
    "如果要递归的检索所有子目录,使用`rglob()`方法"
   ],
   "metadata": {}
  },
  {
   "cell_type": "code",
   "execution_count": 41,
   "source": [
    "import pathlib\n",
    "\n",
    "p = pathlib.Path('..')\n",
    "\n",
    "# glob(\"**/*.ipynb\")と同じ\n",
    "for f in p.glob('*.ipynb'):\n",
    "    print(f)"
   ],
   "outputs": [
    {
     "output_type": "stream",
     "name": "stdout",
     "text": [
      "../pip.ipynb\n",
      "../typing.ipynb\n"
     ]
    }
   ],
   "metadata": {}
  },
  {
   "cell_type": "markdown",
   "source": [
    "## read_bytes(), read_text(), write_bytes(), write_text()"
   ],
   "metadata": {}
  },
  {
   "cell_type": "code",
   "execution_count": 44,
   "source": [
    "import pathlib\n",
    "\n",
    "f = pathlib.Path('example.txt')\n",
    "\n",
    "f.write_bytes('This is the content'.encode('utf-8'))\n",
    "\n",
    "with f.open('r', encoding='utf-8') as handle:\n",
    "    print(f'read from open(): {handle.read()!r}')\n",
    "\n",
    "print(f'read_text(): {f.read_text(\"utf-8\")!r}')"
   ],
   "outputs": [
    {
     "output_type": "stream",
     "name": "stdout",
     "text": [
      "read from open(): 'This is the content'\n",
      "read_text(): 'This is the content'\n"
     ]
    }
   ],
   "metadata": {}
  },
  {
   "cell_type": "code",
   "execution_count": 45,
   "source": [
    "!rm example.txt"
   ],
   "outputs": [],
   "metadata": {}
  },
  {
   "cell_type": "markdown",
   "source": [
    "## mkdir(), rmdir()"
   ],
   "metadata": {}
  },
  {
   "cell_type": "code",
   "execution_count": 47,
   "source": [
    "import pathlib\n",
    "\n",
    "p = pathlib.Path('example_dir')\n",
    "\n",
    "print(f'Creating {p}')\n",
    "p.mkdir(exist_ok=True)  # os.makedirs(p, exist_ok=True)と同じ\n",
    "\n",
    "print(f'Removing {p}')\n",
    "p.rmdir()"
   ],
   "outputs": [
    {
     "output_type": "stream",
     "name": "stdout",
     "text": [
      "Creating example_dir\n"
     ]
    }
   ],
   "metadata": {}
  },
  {
   "cell_type": "markdown",
   "source": [
    "## symlink_to()"
   ],
   "metadata": {}
  },
  {
   "cell_type": "code",
   "execution_count": 50,
   "source": [
    "import pathlib\n",
    "\n",
    "p = pathlib.Path('example_link')\n",
    "\n",
    "p.symlink_to('glob.ipynb')\n",
    "\n",
    "print(p)\n",
    "print(p.resolve().name)"
   ],
   "outputs": [
    {
     "output_type": "stream",
     "name": "stdout",
     "text": [
      "example_link\n",
      "glob.ipynb\n"
     ]
    }
   ],
   "metadata": {}
  },
  {
   "cell_type": "code",
   "execution_count": 51,
   "source": [
    "!rm example_link"
   ],
   "outputs": [],
   "metadata": {}
  },
  {
   "cell_type": "markdown",
   "source": [
    "## as_posix(), as_uri()"
   ],
   "metadata": {}
  },
  {
   "cell_type": "code",
   "execution_count": 12,
   "source": [
    "from pathlib import PurePosixPath, PureWindowsPath\n",
    "\n",
    "p = PureWindowsPath('c:\\\\windows')\n",
    "print(f\"{p!r:25} -> {p.as_posix()}\")\n",
    "\n",
    "p = PurePosixPath('/etc/passwd')\n",
    "print(f\"{p!r:25} -> {p.as_uri()}\")\n",
    "\n",
    "p = PureWindowsPath('c:/Windows')\n",
    "print(f\"{p!r:25} -> {p.as_uri()}\")"
   ],
   "outputs": [
    {
     "output_type": "stream",
     "name": "stdout",
     "text": [
      "PureWindowsPath('c:/windows') -> c:/windows\n",
      "PurePosixPath('/etc/passwd') -> file:///etc/passwd\n",
      "PureWindowsPath('c:/Windows') -> file:///c:/Windows\n"
     ]
    }
   ],
   "metadata": {}
  },
  {
   "cell_type": "markdown",
   "source": [
    "## isX()"
   ],
   "metadata": {}
  },
  {
   "cell_type": "code",
   "execution_count": 53,
   "source": [
    "import itertools\n",
    "import os\n",
    "import pathlib\n",
    "\n",
    "root = pathlib.Path('test_files')\n",
    "\n",
    "# 前の結果を消す\n",
    "if root.exists():\n",
    "    for f in root.iterdir():\n",
    "        f.unlink()\n",
    "else:\n",
    "    root.mkdir()\n",
    "\n",
    "# テストファイルを作る\n",
    "(root / 'file').write_text('This is a regular file', encoding='utf-8')\n",
    "(root / 'symlink').symlink_to('file')\n",
    "os.mkfifo(str(root / 'fifo'))\n",
    "\n",
    "to_scan = itertools.chain(\n",
    "    root.iterdir(),\n",
    "    [pathlib.Path('/dev/disk0'),\n",
    "     pathlib.Path('/dev/console')],\n",
    ")\n",
    "hfmt = '{:18s}' + ('  {:>5}' * 6)\n",
    "print(hfmt.format('Name', 'File', 'Dir', 'Link', 'FIFO', 'Block',\n",
    "                  'Character'))\n",
    "print()\n",
    "\n",
    "fmt = '{:20s}  ' + ('{!r:>5}  ' * 6)\n",
    "for f in to_scan:\n",
    "    print(fmt.format(\n",
    "        str(f),\n",
    "        f.is_file(),\n",
    "        f.is_dir(),\n",
    "        f.is_symlink(),\n",
    "        f.is_fifo(),\n",
    "        f.is_block_device(),\n",
    "        f.is_char_device(),\n",
    "    ))"
   ],
   "outputs": [
    {
     "output_type": "stream",
     "name": "stdout",
     "text": [
      "Name                 File    Dir   Link   FIFO  Block  Character\n",
      "\n",
      "test_files/symlink     True  False   True  False  False  False  \n",
      "test_files/file        True  False  False  False  False  False  \n",
      "test_files/fifo       False  False  False   True  False  False  \n",
      "/dev/disk0            False  False  False  False   True  False  \n",
      "/dev/console          False  False  False  False  False   True  \n"
     ]
    }
   ],
   "metadata": {}
  },
  {
   "cell_type": "code",
   "execution_count": 56,
   "source": [
    "!rm -rf test_files"
   ],
   "outputs": [],
   "metadata": {}
  },
  {
   "cell_type": "markdown",
   "source": [
    "## stat(), lstat()"
   ],
   "metadata": {}
  },
  {
   "cell_type": "code",
   "execution_count": 58,
   "source": [
    "%%writefile foo.py\n",
    "\n",
    "import pathlib\n",
    "import sys\n",
    "import time\n",
    "\n",
    "if len(sys.argv) == 1:\n",
    "    filename = __file__\n",
    "else:\n",
    "    filename = sys.argv[1]\n",
    "\n",
    "p = pathlib.Path(filename)\n",
    "stat_info = p.stat()\n",
    "\n",
    "print(f'{filename}:')\n",
    "print('  Size:', stat_info.st_size)\n",
    "print('  Permissions:', oct(stat_info.st_mode))\n",
    "print('  Owner:', stat_info.st_uid)\n",
    "print('  Device:', stat_info.st_dev)\n",
    "print('  Created      :', time.ctime(stat_info.st_ctime))\n",
    "print('  Last modified:', time.ctime(stat_info.st_mtime))\n",
    "print('  Last accessed:', time.ctime(stat_info.st_atime))"
   ],
   "outputs": [
    {
     "output_type": "stream",
     "name": "stdout",
     "text": [
      "Writing foo.py\n"
     ]
    }
   ],
   "metadata": {}
  },
  {
   "cell_type": "code",
   "execution_count": 59,
   "source": [
    "%run foo.py"
   ],
   "outputs": [
    {
     "output_type": "stream",
     "name": "stdout",
     "text": [
      "/Users/maozhongfu/GitHub/Python/ファイルとディレクトリ/foo.py:\n",
      "  Size: 531\n",
      "  Permissions: 0o100644\n",
      "  Owner: 501\n",
      "  Device: 16777220\n",
      "  Created      : Thu Nov  5 03:23:05 2020\n",
      "  Last modified: Thu Nov  5 03:23:05 2020\n",
      "  Last accessed: Thu Nov  5 03:23:07 2020\n"
     ]
    }
   ],
   "metadata": {}
  },
  {
   "cell_type": "code",
   "execution_count": 60,
   "source": [
    "!rm foo.py"
   ],
   "outputs": [],
   "metadata": {}
  },
  {
   "cell_type": "markdown",
   "source": [
    "## owner(), group()"
   ],
   "metadata": {}
  },
  {
   "cell_type": "code",
   "execution_count": 62,
   "source": [
    "%%writefile bar.py\n",
    "\n",
    "import pathlib\n",
    "\n",
    "p = pathlib.Path(__file__)\n",
    "\n",
    "print(f'{p} is owned by {p.owner()}/{p.group()}')"
   ],
   "outputs": [
    {
     "output_type": "stream",
     "name": "stdout",
     "text": [
      "Writing bar.py\n"
     ]
    }
   ],
   "metadata": {}
  },
  {
   "cell_type": "code",
   "execution_count": 63,
   "source": [
    "%run bar.py"
   ],
   "outputs": [
    {
     "output_type": "stream",
     "name": "stdout",
     "text": [
      "/Users/maozhongfu/GitHub/Python/ファイルとディレクトリ/bar.py is owned by maozhongfu/staff\n"
     ]
    }
   ],
   "metadata": {}
  },
  {
   "cell_type": "code",
   "execution_count": 64,
   "source": [
    "!rm bar.py"
   ],
   "outputs": [],
   "metadata": {}
  },
  {
   "cell_type": "markdown",
   "source": [
    "## touch()"
   ],
   "metadata": {}
  },
  {
   "cell_type": "code",
   "execution_count": 66,
   "source": [
    "import pathlib\n",
    "import time\n",
    "\n",
    "p = pathlib.Path('touched')\n",
    "if p.exists():\n",
    "    print('already exists')\n",
    "else:\n",
    "    print('creating new')\n",
    "\n",
    "p.touch()\n",
    "start = p.stat()\n",
    "\n",
    "time.sleep(1)\n",
    "\n",
    "p.touch()\n",
    "end = p.stat()\n",
    "\n",
    "print('Start:', time.ctime(start.st_mtime))\n",
    "print('End  :', time.ctime(end.st_mtime))"
   ],
   "outputs": [
    {
     "output_type": "stream",
     "name": "stdout",
     "text": [
      "creating new\n",
      "Start: Thu Nov  5 03:27:34 2020\n",
      "End  : Thu Nov  5 03:27:35 2020\n"
     ]
    }
   ],
   "metadata": {}
  },
  {
   "cell_type": "code",
   "execution_count": 67,
   "source": [
    "!rm touched"
   ],
   "outputs": [],
   "metadata": {}
  },
  {
   "cell_type": "markdown",
   "source": [
    "## chmod()"
   ],
   "metadata": {}
  },
  {
   "cell_type": "code",
   "execution_count": 69,
   "source": [
    "import os\n",
    "import pathlib\n",
    "import stat\n",
    "\n",
    "# 新しいテストファイルを作る\n",
    "f = pathlib.Path('pathlib_chmod_example.txt')\n",
    "if f.exists():\n",
    "    f.unlink()\n",
    "f.write_text('contents')\n",
    "\n",
    "# statでファイルの権限を確認する\n",
    "existing_permissions = stat.S_IMODE(f.stat().st_mode)\n",
    "print('Before: {:o}'.format(existing_permissions))\n",
    "\n",
    "if not (existing_permissions & os.X_OK):\n",
    "    print('Adding execute permission')\n",
    "    new_permissions = existing_permissions | stat.S_IXUSR\n",
    "else:\n",
    "    print('Removing execute permission')\n",
    "    # xor でexe権限を消す\n",
    "    new_permissions = existing_permissions ^ stat.S_IXUSR\n",
    "\n",
    "# 権限を修正する\n",
    "f.chmod(new_permissions)\n",
    "after_permissions = stat.S_IMODE(f.stat().st_mode)\n",
    "print('After: {:o}'.format(after_permissions))"
   ],
   "outputs": [
    {
     "output_type": "stream",
     "name": "stdout",
     "text": [
      "Before: 644\n",
      "Adding execute permission\n",
      "After: 744\n"
     ]
    }
   ],
   "metadata": {}
  },
  {
   "cell_type": "code",
   "execution_count": 70,
   "source": [
    "!rm pathlib_chmod_example.txt"
   ],
   "outputs": [],
   "metadata": {}
  }
 ]
}