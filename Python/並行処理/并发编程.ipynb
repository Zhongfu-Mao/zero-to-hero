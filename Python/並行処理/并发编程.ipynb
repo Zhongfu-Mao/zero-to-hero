{
 "metadata": {
  "language_info": {
   "codemirror_mode": {
    "name": "ipython",
    "version": 3
   },
   "file_extension": ".py",
   "mimetype": "text/x-python",
   "name": "python",
   "nbconvert_exporter": "python",
   "pygments_lexer": "ipython3",
   "version": 3
  },
  "orig_nbformat": 2
 },
 "nbformat": 4,
 "nbformat_minor": 2,
 "cells": [
  {
   "source": [
    "程序提速的方法：\n",
    "* threading\n",
    "* multiprocessing\n",
    "* Hadoop/hive/spark"
   ],
   "cell_type": "markdown",
   "metadata": {}
  },
  {
   "source": [
    "Python对并发编程的支持\n",
    "* 多线程： threading，利用CPU和IO可以同时执行的原理\n",
    "* 多进程： multiprocessing， 利用多核CPU的能力\n",
    "* 异步IO：asyncio，在单线程利用CPU和IO同时执行的原理实现函数的异步执行\n",
    "* 使用Lock对资源加锁，防止访问冲突\n",
    "* 使用Queue实现不同线程/进程之间的数据通信， 实现生产者-消费者模式\n",
    "* 使用线程池Pool/进程池Pool，简化线程/进程的任务提交、等待结束、获取结果\n",
    "* 使用subprocess启动外部程序的进程，并进行输入输出交互"
   ],
   "cell_type": "markdown",
   "metadata": {}
  },
  {
   "source": [
    "多进程Process（multiprocessing）\n",
    "* 优点：利用多核CPU并行运算\n",
    "* 缺点：占用资源最多、可启动数目比线程少\n",
    "* 适用：CPU密集型运算\n",
    "\n",
    "多线程Thread（threading）\n",
    "* 优点：相比进程，更轻量级、占用资源少\n",
    "* 缺点：\n",
    "    * 相比进程：多线程只能并发执行，不能用于多CPU（GIL）\n",
    "    * 相比协程：启动数目有限制，占用内存资源，有线程切换开销\n",
    "* 适用：IO密集型计算、同时运行的任务数目要求不高\n",
    "\n",
    "多协程Coroutine（asyncio）\n",
    "* 优点：内存开销最小、启动协程数量最多\n",
    "* 缺点：支持的库有限制（例：aiohttp VS requests）、代码实现复杂\n",
    "* 适用：IO密集型计算、需要超多任务运行、有现成库支持"
   ],
   "cell_type": "markdown",
   "metadata": {}
  },
  {
   "source": [
    "Python创建多线程的方法：\n",
    "1. 准备函数\n",
    "```python\n",
    "def my_func(a, b):\n",
    "    do_something(a, b)\n",
    "```\n",
    "2. 创建线程\n",
    "```python\n",
    "import threading\n",
    "\n",
    "t = threading.Thread(target=my_func, args=(100, 200))\n",
    "```\n",
    "3. 启动线程\n",
    "```python\n",
    "t.start()\n",
    "```\n",
    "4. 等待结束\n",
    "```python\n",
    "t.join()\n",
    "```"
   ],
   "cell_type": "markdown",
   "metadata": {}
  },
  {
   "source": [
    "多线程数据通信-`queue.Queue`\n",
    "\n",
    "> `queue.Queue`可以用于多线程之间的、线程安全的数据通信\n",
    "\n",
    "```python\n",
    "# 1.导入类库\n",
    "import queue\n",
    "\n",
    "# 2.创建Queue\n",
    "q = queue.Queue()\n",
    "\n",
    "# 3.添加元素\n",
    "q.put(item)\n",
    "\n",
    "# 4.获取元素\n",
    "item = q.get()\n",
    "\n",
    "# 5.查询状态\n",
    "q.qsize() # 查看元素的多少\n",
    "q.empty() # 判断是否为空\n",
    "q.full()  # 判断是否已满\n",
    "```"
   ],
   "cell_type": "markdown",
   "metadata": {}
  },
  {
   "source": [
    "Lock用于解决线程安全问题\n",
    "\n",
    "* `try-finally`模式\n",
    "```python\n",
    "import threading\n",
    "\n",
    "lock = threading.Lock()\n",
    "\n",
    "lock.acquire()\n",
    "\n",
    "try:\n",
    "    # do something\n",
    "finally:\n",
    "    lock.release()\n",
    "```\n",
    "* `with`模式\n",
    "```python\n",
    "import threading\n",
    "\n",
    "lock = threading.Lock()\n",
    "\n",
    "with lock:\n",
    "    # do something\n",
    "```"
   ],
   "cell_type": "markdown",
   "metadata": {}
  },
  {
   "source": [
    "线程池\n",
    "\n",
    "好处：\n",
    "1. 提升性能：减去了大量新建、终止线程的开销， 重用了线程资源  \n",
    "2. 适用场景：适用处理突发性大量请求或需要大量线程完成任务、但实际处理任务时间较短  \n",
    "3. 防御功能：能有效避免系统因为创建线程过多而导致负荷过大变慢等问题  \n",
    "4. 代码优势：使用线程池的语法比自己新建线程执行线程更加简洁  \n",
    "\n",
    "`ThreadPoolExecutor`使用语法：\n",
    "* map函数，注意map的结果和入参是顺序对应的\n",
    "```python\n",
    "from concurrent.futures import ThreadPoolExecutor, as_completed\n",
    "\n",
    "with ThreadPoolExecutor() as pool:\n",
    "    results = pool.map(craw, urls)\n",
    "\n",
    "    for result in results:\n",
    "        print(result)\n",
    "```\n",
    "* future模式，更强大\n",
    "```python\n",
    "from concurrent.futures import ThreadPoolExecutor, as_completed\n",
    "\n",
    "with ThreadPoolExecutor() as pool:\n",
    "    futures = [pool.submit(craw, url) for urls in urls]\n",
    "\n",
    "    for future in futures:\n",
    "        print(future.result())\n",
    "    \n",
    "    for future in as_completed(futures):\n",
    "        print(future.result())\n",
    "```"
   ],
   "cell_type": "markdown",
   "metadata": {}
  },
  {
   "source": [
    "Python异步IO库（asyncio）\n",
    "\n",
    "> 要用在异步IO编程中，依赖的库必须支持异步IO的特性\n",
    "\n",
    "```python\n",
    "import asyncio\n",
    "\n",
    "# 获取事件循环\n",
    "loop = asyncio.get_event_loop()\n",
    "\n",
    "# 定义协程\n",
    "async def my_func(url):\n",
    "    await get_url(url)\n",
    "\n",
    "# 创建task列表\n",
    "tasks = [loop.create_task(my_func(url)) for url in urls]\n",
    "\n",
    "# 执行事件列表\n",
    "loop.run_until_complete(asyncio.wait(tasks))\n",
    "```"
   ],
   "cell_type": "markdown",
   "metadata": {}
  }
 ]
}