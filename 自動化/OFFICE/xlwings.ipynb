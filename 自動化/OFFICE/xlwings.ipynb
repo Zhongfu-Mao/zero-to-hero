{
 "metadata": {
  "language_info": {
   "codemirror_mode": {
    "name": "ipython",
    "version": 3
   },
   "file_extension": ".py",
   "mimetype": "text/x-python",
   "name": "python",
   "nbconvert_exporter": "python",
   "pygments_lexer": "ipython3",
   "version": "3.8.6-final"
  },
  "orig_nbformat": 2,
  "kernelspec": {
   "name": "Python 3.8.6 64-bit",
   "display_name": "Python 3.8.6 64-bit",
   "metadata": {
    "interpreter": {
     "hash": "082e9a3bcad0a290d0001e938aa60b99250c6c2ef33a923c00b70f9826caf4b7"
    }
   }
  }
 },
 "nbformat": 4,
 "nbformat_minor": 2,
 "cells": [
  {
   "cell_type": "code",
   "execution_count": null,
   "metadata": {},
   "outputs": [],
   "source": [
    "import datetime as dt\n",
    "import sys\n",
    "\n",
    "import xlwings as xw\n",
    "import numpy as np\n",
    "import pandas as pd"
   ]
  },
  {
   "cell_type": "code",
   "execution_count": null,
   "metadata": {},
   "outputs": [],
   "source": [
    "xw.__version__"
   ]
  },
  {
   "source": [
    "# 基本"
   ],
   "cell_type": "markdown",
   "metadata": {}
  },
  {
   "source": [
    "## `xw.view()`: Excel as viewer for tabular data"
   ],
   "cell_type": "markdown",
   "metadata": {}
  },
  {
   "cell_type": "code",
   "execution_count": null,
   "metadata": {},
   "outputs": [],
   "source": [
    "data = np.random.rand(100, 100)\n",
    "data"
   ]
  },
  {
   "cell_type": "code",
   "execution_count": null,
   "metadata": {},
   "outputs": [],
   "source": [
    "# Open a new book\n",
    "xw.view(data)"
   ]
  },
  {
   "cell_type": "code",
   "execution_count": null,
   "metadata": {},
   "outputs": [],
   "source": [
    "# Reuse an existing sheet(sheets gets cleared with every call)\n",
    "xw.view(np.random.rand(5, 5), xw.sheets.active)"
   ]
  },
  {
   "cell_type": "code",
   "execution_count": null,
   "metadata": {},
   "outputs": [],
   "source": [
    "xw.view(np.random.rand(3, 3), xw.sheets.active)"
   ]
  },
  {
   "source": [
    "## Connect to a Book"
   ],
   "cell_type": "markdown",
   "metadata": {}
  },
  {
   "cell_type": "code",
   "execution_count": null,
   "metadata": {},
   "outputs": [],
   "source": [
    "# Fire up a new book in the active Excel instance\n",
    "wb1 = xw.Book()"
   ]
  },
  {
   "cell_type": "code",
   "execution_count": null,
   "metadata": {},
   "outputs": [],
   "source": [
    "# Connect to an unsaved book(Looks in all Excel instance)\n",
    "wb1 = xw.Book(\"Book2\")"
   ]
  },
  {
   "cell_type": "code",
   "execution_count": null,
   "metadata": {},
   "outputs": [],
   "source": [
    "# Connect to a book by file name or full path and opens it\n",
    "wb1 = xw.Book(r\"C:\\Users\\XXX\\Desktop\\Myworkbook.xlsx\")"
   ]
  },
  {
   "source": [
    "## Sheet Object"
   ],
   "cell_type": "markdown",
   "metadata": {}
  },
  {
   "cell_type": "code",
   "execution_count": null,
   "metadata": {},
   "outputs": [],
   "source": [
    "sheet = wb1.sheets[0]"
   ]
  },
  {
   "source": [
    "## The Range Object"
   ],
   "cell_type": "markdown",
   "metadata": {}
  },
  {
   "cell_type": "code",
   "execution_count": null,
   "metadata": {},
   "outputs": [],
   "source": [
    "# Write Value\n",
    "sheet.range(\"A1\").value = \"hello xlwings!\""
   ]
  },
  {
   "cell_type": "code",
   "execution_count": null,
   "metadata": {},
   "outputs": [],
   "source": [
    "# Read value\n",
    "sheet.range(\"A1\").value"
   ]
  },
  {
   "cell_type": "code",
   "execution_count": null,
   "metadata": {},
   "outputs": [],
   "source": [
    "# Write the same value to multiple cells\n",
    "sheet.range(\"A3:B4\").value = 123"
   ]
  },
  {
   "cell_type": "code",
   "execution_count": null,
   "metadata": {},
   "outputs": [],
   "source": [
    "# Excel's numerical format is float\n",
    "sheet.range(\"A3\").value"
   ]
  },
  {
   "cell_type": "code",
   "execution_count": null,
   "metadata": {},
   "outputs": [],
   "source": [
    "# Datetime\n",
    "sheet.range(\"A6\") = dt.datetime(2020, 12, 25, 22, 22, 22)\n",
    "sheet.range(\"A6\").value"
   ]
  },
  {
   "cell_type": "code",
   "execution_count": null,
   "metadata": {},
   "outputs": [],
   "source": [
    "# Index natation (1-Based like Excel)\n",
    "sheet.range(1, 1).value"
   ]
  },
  {
   "cell_type": "code",
   "execution_count": null,
   "metadata": {},
   "outputs": [],
   "source": [
    "# Formula\n",
    "sheet.range(\"B1\").formula = \"=SUM(A3:B4)\""
   ]
  },
  {
   "cell_type": "code",
   "execution_count": null,
   "metadata": {},
   "outputs": [],
   "source": [
    "# Named ranges\n",
    "sheet.range(\"B1\").name = \"test\"\n",
    "sheet.range(\"test\").formula"
   ]
  },
  {
   "cell_type": "code",
   "execution_count": null,
   "metadata": {},
   "outputs": [],
   "source": [
    "foo = sheet.range(\"test\").value\n",
    "foo"
   ]
  },
  {
   "cell_type": "code",
   "execution_count": null,
   "metadata": {},
   "outputs": [],
   "source": [
    "sheet.range(\"test\").value = \"Likethis\""
   ]
  },
  {
   "source": [
    "## 2d Ranges"
   ],
   "cell_type": "markdown",
   "metadata": {}
  },
  {
   "cell_type": "code",
   "execution_count": null,
   "metadata": {},
   "outputs": [],
   "source": [
    "sheet.range(\"A3:B4\").value"
   ]
  },
  {
   "cell_type": "code",
   "execution_count": null,
   "metadata": {},
   "outputs": [],
   "source": [
    "# Index notation\n",
    "sheet.range((3, 1), (4, 2)).value"
   ]
  },
  {
   "cell_type": "code",
   "execution_count": null,
   "metadata": {},
   "outputs": [],
   "source": [
    "# Assign a nested list to the top-left corner\n",
    "sheet.range(\"A9\").value = [[\"a string\", 1, 2, 3],\n",
    "                           [dt.date(2021, 1, 1), 123.5, None, None]]"
   ]
  },
  {
   "cell_type": "code",
   "execution_count": null,
   "metadata": {},
   "outputs": [],
   "source": [
    "# Range expansion: \"table\", \"down\", \"right\"\n",
    "# Correspond to Ctrl+Shift+Down and/or right\n",
    "# They return a Range object!\n",
    "sheet.range(\"A9\").expand(\"table\")"
   ]
  },
  {
   "cell_type": "code",
   "execution_count": null,
   "metadata": {},
   "outputs": [],
   "source": [
    "# \"table\" is default\n",
    "sheet.range(\"A9\").expand.value"
   ]
  },
  {
   "cell_type": "code",
   "execution_count": null,
   "metadata": {},
   "outputs": [],
   "source": [
    "# Use .clear to also clear the formatting\n",
    "sheet.range(\"A9\").expand().clear_contents()"
   ]
  },
  {
   "source": [
    "## 1d vectors"
   ],
   "cell_type": "markdown",
   "metadata": {}
  },
  {
   "cell_type": "code",
   "execution_count": null,
   "metadata": {},
   "outputs": [],
   "source": [
    "# Horizontal\n",
    "sheet.range(\"A12\").value = [1, 2, 3, 4]"
   ]
  },
  {
   "cell_type": "code",
   "execution_count": null,
   "metadata": {},
   "outputs": [],
   "source": [
    "# Vertical\n",
    "sheet.range(\"A13\").options(transpose=True).value = [5, 6, 7, 8]\n",
    "# this is the same as:\n",
    "# sheet.range(\"A13\").value = [[5], [6], [7], [8]]"
   ]
  },
  {
   "cell_type": "code",
   "execution_count": null,
   "metadata": {},
   "outputs": [],
   "source": [
    "sheet.range(\"A12\").expand(\"right\").value"
   ]
  },
  {
   "cell_type": "code",
   "execution_count": null,
   "metadata": {},
   "outputs": [],
   "source": [
    "sheet.range(\"A12\").expand(\"down\").value"
   ]
  },
  {
   "source": [
    "## ndim"
   ],
   "cell_type": "markdown",
   "metadata": {}
  },
  {
   "cell_type": "code",
   "execution_count": null,
   "metadata": {},
   "outputs": [],
   "source": [
    "sheet.range(\"A12\").options(ndim=2, expand=\"right\").value"
   ]
  },
  {
   "cell_type": "code",
   "execution_count": null,
   "metadata": {},
   "outputs": [],
   "source": [
    "sheet.range(\"A12\").options(ndim=2, expand=\"down\").value"
   ]
  },
  {
   "source": [
    "## Autofit"
   ],
   "cell_type": "markdown",
   "metadata": {}
  },
  {
   "cell_type": "code",
   "execution_count": null,
   "metadata": {},
   "outputs": [],
   "source": [
    "# autofit columns and rows based on a single cell\n",
    "sheet.range(\"A3\").autofit()"
   ]
  },
  {
   "cell_type": "code",
   "execution_count": null,
   "metadata": {},
   "outputs": [],
   "source": [
    "# autofit columns based on range\n",
    "sheet.range(\"A1:C3\").columns.autofit()"
   ]
  },
  {
   "cell_type": "code",
   "execution_count": null,
   "metadata": {},
   "outputs": [],
   "source": [
    "# autofit a whole column\n",
    "sheet.range(\"A:A\").autofit()"
   ]
  },
  {
   "source": [
    "## Background color"
   ],
   "cell_type": "markdown",
   "metadata": {}
  },
  {
   "cell_type": "code",
   "execution_count": null,
   "metadata": {},
   "outputs": [],
   "source": [
    "# Assign an RGB value\n",
    "sheet.range(\"A1\").color = (0, 255, 0)\n",
    "sheet.range(\"A1\").color"
   ]
  },
  {
   "source": [
    "## Range indexing/slicing"
   ],
   "cell_type": "markdown",
   "metadata": {}
  },
  {
   "cell_type": "code",
   "execution_count": null,
   "metadata": {},
   "outputs": [],
   "source": [
    "rng = sheet.range(\"A1:D5\")\n",
    "rng[0, 0]"
   ]
  },
  {
   "cell_type": "code",
   "execution_count": null,
   "metadata": {},
   "outputs": [],
   "source": [
    "rng[1]"
   ]
  },
  {
   "cell_type": "code",
   "execution_count": null,
   "metadata": {},
   "outputs": [],
   "source": [
    "rng[:, 3:]"
   ]
  },
  {
   "cell_type": "code",
   "execution_count": null,
   "metadata": {},
   "outputs": [],
   "source": [
    "rng[1:3, 1:3]"
   ]
  },
  {
   "cell_type": "code",
   "execution_count": null,
   "metadata": {},
   "outputs": [],
   "source": [
    "xw.books.active.close()"
   ]
  },
  {
   "source": [
    "## Full qualification"
   ],
   "cell_type": "markdown",
   "metadata": {}
  },
  {
   "cell_type": "code",
   "execution_count": null,
   "metadata": {},
   "outputs": [],
   "source": [
    "# Get all available PIDs (Process IDs)\n",
    "xw.apps.keys()"
   ]
  },
  {
   "cell_type": "code",
   "execution_count": null,
   "metadata": {},
   "outputs": [],
   "source": [
    "# This allows us to specify a specific Excel instance\n",
    "pid = xw.apps.keys()[0] # or xw.apps.active.pid"
   ]
  },
  {
   "cell_type": "code",
   "execution_count": null,
   "metadata": {},
   "outputs": [],
   "source": [
    "xw.apps[pid].books[0].sheets[0].range(\"A1\")"
   ]
  },
  {
   "cell_type": "code",
   "execution_count": null,
   "metadata": {},
   "outputs": [],
   "source": [
    "xw.apps(pid).books(1).sheets(1).range(\"A1\")"
   ]
  },
  {
   "cell_type": "code",
   "execution_count": null,
   "metadata": {},
   "outputs": [],
   "source": [
    "# Instead of indices we can also use names\n",
    "xw.apps[pid].books[\"Book1\"].sheets[\"Sheet1\"].range(\"A1\")\n",
    "xw.apps(pid).books(\"Book1\").sheets(\"Sheet1\").range(\"A1\")"
   ]
  },
  {
   "source": [
    "## work with multiple apps"
   ],
   "cell_type": "markdown",
   "metadata": {}
  },
  {
   "cell_type": "code",
   "execution_count": null,
   "metadata": {},
   "outputs": [],
   "source": [
    "app1 = xw.apps[pid]\n",
    "app2 = xw.App()"
   ]
  },
  {
   "cell_type": "code",
   "execution_count": null,
   "metadata": {},
   "outputs": [],
   "source": [
    "# Open the same workbook twice in different Excel instances\n",
    "app1.books.open(\"foo.xlsx\")\n",
    "app2.books.open(\"foo.xlsx\")"
   ]
  },
  {
   "cell_type": "code",
   "execution_count": null,
   "metadata": {},
   "outputs": [],
   "source": [
    "# this will throw an error\n",
    "# xw.Book(\"foo.xlsx\")"
   ]
  },
  {
   "cell_type": "code",
   "execution_count": null,
   "metadata": {},
   "outputs": [],
   "source": [
    "# The following syntax is required\n",
    "# if the same file is opened in more than 1 instance\n",
    "print(app1.books[\"foo.xlsm\"])\n",
    "print(app2.books[\"foo.xlsm\"])\n",
    "print(app1.books[\"foo.xlsm\"].app)\n",
    "print(app1.books[\"foo.xlsm\"].app)"
   ]
  },
  {
   "source": [
    "## Active Objects"
   ],
   "cell_type": "markdown",
   "metadata": {}
  },
  {
   "cell_type": "code",
   "execution_count": null,
   "metadata": {},
   "outputs": [],
   "source": [
    "# Active app\n",
    "xw.apps.active"
   ]
  },
  {
   "cell_type": "code",
   "execution_count": null,
   "metadata": {},
   "outputs": [],
   "source": [
    "# active book in active app\n",
    "xw.books.active"
   ]
  },
  {
   "cell_type": "code",
   "execution_count": null,
   "metadata": {},
   "outputs": [],
   "source": [
    "# active sheet in active book in active app\n",
    "xw.sheets.active"
   ]
  },
  {
   "cell_type": "code",
   "execution_count": null,
   "metadata": {},
   "outputs": [],
   "source": [
    "# This is a special shortcut for interactive use only\n",
    "# It takes the active sheet form the active book\n",
    "xw.Range(\"A1\").value"
   ]
  },
  {
   "cell_type": "code",
   "execution_count": null,
   "metadata": {},
   "outputs": [],
   "source": [
    "app2.kill()"
   ]
  },
  {
   "source": [
    "## Sheets"
   ],
   "cell_type": "markdown",
   "metadata": {}
  },
  {
   "cell_type": "code",
   "execution_count": null,
   "metadata": {},
   "outputs": [],
   "source": [
    "xw.sheets[0].name"
   ]
  },
  {
   "cell_type": "code",
   "execution_count": null,
   "metadata": {},
   "outputs": [],
   "source": [
    "xw.sheets.count # same as len(xw.sheets)"
   ]
  },
  {
   "cell_type": "code",
   "execution_count": null,
   "metadata": {},
   "outputs": [],
   "source": [
    "xw.sheets.add(name=\"New Sheet By xlwings\", after=\"Sheet1\")"
   ]
  },
  {
   "cell_type": "code",
   "execution_count": null,
   "metadata": {},
   "outputs": [],
   "source": [
    "sheet = xw.sheets[0]\n",
    "sheet[\"A1\"]"
   ]
  },
  {
   "cell_type": "code",
   "execution_count": null,
   "metadata": {},
   "outputs": [],
   "source": [
    "sheet[\"A1:B5\"]"
   ]
  },
  {
   "cell_type": "code",
   "execution_count": null,
   "metadata": {},
   "outputs": [],
   "source": [
    "sheet[0, 1]"
   ]
  },
  {
   "cell_type": "code",
   "execution_count": null,
   "metadata": {},
   "outputs": [],
   "source": [
    "sheet[:10, :10]"
   ]
  },
  {
   "source": [
    "## Charts"
   ],
   "cell_type": "markdown",
   "metadata": {}
  },
  {
   "cell_type": "code",
   "execution_count": null,
   "metadata": {},
   "outputs": [],
   "source": [
    "wb = xw.Book()\n",
    "sheet = wb.sheets[0]\n",
    "sheet.range(\"A1\").value = [[\"one\", \"two\"],\n",
    "                           [1.1, 2.2],\n",
    "                           [3.3, None]]"
   ]
  },
  {
   "cell_type": "code",
   "execution_count": null,
   "metadata": {},
   "outputs": [],
   "source": [
    "chart = sheet.charts.add()\n",
    "chart.set_source_data(sheet.range(\"A1\").expand())\n",
    "chart.chart_type = \"line\"\n",
    "chart.top = sheet.range(\"A5\").top"
   ]
  },
  {
   "cell_type": "code",
   "execution_count": null,
   "metadata": {},
   "outputs": [],
   "source": [
    "chart.chart_type = \"area\""
   ]
  },
  {
   "cell_type": "code",
   "execution_count": null,
   "metadata": {},
   "outputs": [],
   "source": [
    "xw.constants.chart_types"
   ]
  },
  {
   "cell_type": "code",
   "execution_count": null,
   "metadata": {},
   "outputs": [],
   "source": [
    "wb.close()"
   ]
  },
  {
   "source": [
    "## Matplotlib"
   ],
   "cell_type": "markdown",
   "metadata": {}
  },
  {
   "cell_type": "code",
   "execution_count": null,
   "metadata": {},
   "outputs": [],
   "source": [
    "% matplotlib inline\n",
    "from scipy.interpolate import interp1d\n",
    "import matplotlib as mpl\n",
    "import matplotlib.pyplot as plt"
   ]
  },
  {
   "cell_type": "code",
   "execution_count": null,
   "metadata": {},
   "outputs": [],
   "source": [
    "years = [1, 2, 3, 4, 5, 7, 10, 30]\n",
    "swap_rate = np.random.rand(8)\n",
    "years_new = np.linspace(1, 30, num=30)\n",
    "interpolate = interp1d(years, swap_rate, kind=\"quadratic\")"
   ]
  },
  {
   "cell_type": "code",
   "execution_count": null,
   "metadata": {},
   "outputs": [],
   "source": [
    "fig = plt.figure(figsize=(6, 4))\n",
    "swap_rate_plot = plt.plot(years, swap_rate, \"o\",\n",
    "                          years_new, interpolate(years_new),                            \"-\")"
   ]
  },
  {
   "cell_type": "code",
   "execution_count": null,
   "metadata": {},
   "outputs": [],
   "source": [
    "wb = xw.Book()\n",
    "sheet = wb.sheets[0]"
   ]
  },
  {
   "cell_type": "code",
   "execution_count": null,
   "metadata": {},
   "outputs": [],
   "source": [
    "plot = sheet.pictures.add(fig, name=\"SwapRate\", update=True)"
   ]
  },
  {
   "cell_type": "code",
   "execution_count": null,
   "metadata": {},
   "outputs": [],
   "source": [
    "width, height = fig.get_size_inches()\n",
    "dpi = fig.get_dpi()\n",
    "sheet.pictures.add(fig, name=\"SwapRate2\", update=True,\n",
    "                   left=sheet.range(\"A25\").left, top=sheet.range(\"A25\"),\n",
    "                   width=width * dpi / 2, height=height * dpi / 2)"
   ]
  },
  {
   "cell_type": "code",
   "execution_count": null,
   "metadata": {},
   "outputs": [],
   "source": [
    "plot.height = plt.height / 2\n",
    "plot.width = plot.width / 2"
   ]
  },
  {
   "cell_type": "code",
   "execution_count": null,
   "metadata": {},
   "outputs": [],
   "source": [
    "wb.close()"
   ]
  },
  {
   "source": [
    "## Table objects"
   ],
   "cell_type": "markdown",
   "metadata": {}
  },
  {
   "cell_type": "code",
   "execution_count": null,
   "metadata": {},
   "outputs": [],
   "source": [
    "wb = xw.Book(\"foo.xlsx\")\n",
    "sheet = wb.sheets[0]"
   ]
  },
  {
   "cell_type": "code",
   "execution_count": null,
   "metadata": {},
   "outputs": [],
   "source": [
    "sheet.range(\"Table1\").value"
   ]
  },
  {
   "cell_type": "code",
   "execution_count": null,
   "metadata": {},
   "outputs": [],
   "source": [
    "sheet.range(\"Table1[Symbol]\").value"
   ]
  },
  {
   "cell_type": "code",
   "execution_count": null,
   "metadata": {},
   "outputs": [],
   "source": [
    "sheet.range(\"Table1[#All], [Last]]\").value"
   ]
  },
  {
   "cell_type": "code",
   "execution_count": null,
   "metadata": {},
   "outputs": [],
   "source": [
    "sheet.range(\"Table1[[#Headers], [Last]]\").value"
   ]
  },
  {
   "cell_type": "code",
   "execution_count": null,
   "metadata": {},
   "outputs": [],
   "source": [
    "sheet.range(\"Table1[[#Totals], [Last]]\").value"
   ]
  },
  {
   "cell_type": "code",
   "execution_count": null,
   "metadata": {},
   "outputs": [],
   "source": [
    "sheet.range(\"Table1[[Index]:[Last]]\").value"
   ]
  },
  {
   "cell_type": "code",
   "execution_count": null,
   "metadata": {},
   "outputs": [],
   "source": [
    "wb.close()"
   ]
  },
  {
   "source": [
    "## Efficiency"
   ],
   "cell_type": "markdown",
   "metadata": {}
  },
  {
   "cell_type": "code",
   "execution_count": null,
   "metadata": {},
   "outputs": [],
   "source": [
    "wb = xw.Book()\n",
    "sheet = wb.sheets[0]"
   ]
  },
  {
   "cell_type": "code",
   "execution_count": null,
   "metadata": {},
   "outputs": [],
   "source": [
    "sheet.range(\"A1\").value = np.arange(5 * 30).reshape((30, 5))"
   ]
  },
  {
   "cell_type": "code",
   "execution_count": null,
   "metadata": {},
   "outputs": [],
   "source": [
    "wb.close()"
   ]
  },
  {
   "source": [
    "## Work around for missing features: Manipulate the underlying object"
   ],
   "cell_type": "markdown",
   "metadata": {}
  },
  {
   "cell_type": "code",
   "execution_count": null,
   "metadata": {},
   "outputs": [],
   "source": [
    "wb = xw.Book()\n",
    "sheet = wb.sheets[0]"
   ]
  },
  {
   "cell_type": "code",
   "execution_count": null,
   "metadata": {},
   "outputs": [],
   "source": [
    "# On windows, the underlying object is a pywin32 COM object\n",
    "# On Mac, it is an appscript object\n",
    "sheet.range(\"A1\").api"
   ]
  },
  {
   "cell_type": "code",
   "execution_count": null,
   "metadata": {},
   "outputs": [],
   "source": [
    "if sys.platform.startswith(\"darwin\"):\n",
    "    sheet.range(\"A10\").api.clear_formats()\n",
    "elif sys.platform.startswith(\"win\"):\n",
    "    sheet.range(\"A10\").api.ClearFormats()"
   ]
  }
 ]
}