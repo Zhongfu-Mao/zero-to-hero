{
 "cells": [
  {
   "cell_type": "markdown",
   "metadata": {},
   "source": [
    "# 列出网络上所有活跃的主机"
   ]
  },
  {
   "cell_type": "markdown",
   "metadata": {},
   "source": [
    "```bash\n",
    "for ip in 'cat ips.txt'\n",
    "do\n",
    "    if ping $ip -c 2 &> /dev/null\n",
    "    then\n",
    "        echo \"$ip is alive\"\n",
    "    else\n",
    "        echo \"$ip is unreachable\"\n",
    "    fi\n",
    "done\n",
    "```"
   ]
  },
  {
   "cell_type": "code",
   "execution_count": null,
   "metadata": {},
   "outputs": [],
   "source": [
    "import subprocess\n",
    "import threading\n",
    "from queue import Queue\n",
    "from queue import Empty\n",
    "\n",
    "def call_ping(ip):\n",
    "    if subprocess.call([\"ping\", \"-c\", \"1\", ip]):\n",
    "        print(f\"{ip} is alive\")\n",
    "    else:\n",
    "        print(f\"{ip} is unreachable\")\n",
    "\n",
    "def is_reachable(q):\n",
    "    try:\n",
    "        while True:\n",
    "            ip = q.get_nowait()\n",
    "            call_ping(ip)\n",
    "    except Empty:\n",
    "        pass\n",
    "\n",
    "def main():\n",
    "    q = Queue()\n",
    "    with oepn(\"ips.txt\") as f:\n",
    "        for line in f:\n",
    "            q.put(line)\n",
    "        \n",
    "    threads = []\n",
    "    for i in range(10):\n",
    "        thr = threading.Thread(target=is_reachable, args=(q, ))\n",
    "        thr.start()\n",
    "        threads.append(thr)\n",
    "    \n",
    "    for thr in threads:\n",
    "        thr.join()\n",
    "\n",
    "if __name__ == \"__main__\":\n",
    "    main()"
   ]
  },
  {
   "cell_type": "markdown",
   "metadata": {},
   "source": [
    "# 端口扫描"
   ]
  },
  {
   "cell_type": "code",
   "execution_count": null,
   "metadata": {},
   "outputs": [],
   "source": [
    "import socket\n",
    "\n",
    "s = socket.socket()\n",
    "s.connect((\"10.166.224.14\", 80))\n",
    "s.send(\"GET / HTTP/1.0 \\r\\n\")\n",
    "print(s.recv(200))\n",
    "s.close()"
   ]
  },
  {
   "cell_type": "code",
   "execution_count": null,
   "metadata": {},
   "outputs": [],
   "source": [
    "from socket import *\n",
    "\n",
    "def conn_scan(host, port):\n",
    "    conn = socket(AF_INET, SOCK_STREAM)\n",
    "    try:\n",
    "        conn.connect((host, port))\n",
    "        print(host, port, \"is avaliable\")\n",
    "    except Exception as e:\n",
    "        print(host, port, \"is not avaliable\")\n",
    "    finally:\n",
    "        conn.close()\n",
    "\n",
    "def main():\n",
    "    host = \"10.166.224.14\"\n",
    "    for port in range(20, 5000):\n",
    "        conn_scan(host, port)\n",
    "\n",
    "if __name__ == \"__main__\":\n",
    "    main()"
   ]
  },
  {
   "cell_type": "code",
   "execution_count": null,
   "metadata": {},
   "outputs": [],
   "source": [
    "import telnetlib\n",
    "\n",
    "def conn_scan(host, port):\n",
    "    t = telnetlib.Telnet()\n",
    "    try:\n",
    "        t.open(host, port, timeout=1)\n",
    "        print(host, port, \"is avaliable\")\n",
    "    except Exception as e:\n",
    "        print(host, port, \"is not avaliable\")\n",
    "    finally:\n",
    "        t.close()\n",
    "\n",
    "def main():\n",
    "    host = \"10.166.224.14\"\n",
    "    for port in range(80, 5000):\n",
    "        conn_scan(host, port)\n",
    "\n",
    "if __name__ == \"__main__\":\n",
    "    main()"
   ]
  },
  {
   "cell_type": "code",
   "execution_count": 4,
   "metadata": {},
   "outputs": [
    {
     "output_type": "execute_result",
     "data": {
      "text/plain": "[('a', 22), ('a', 80), ('b', 22), ('b', 80), ('c', 22), ('c', 80)]"
     },
     "metadata": {},
     "execution_count": 4
    }
   ],
   "source": [
    "from itertools import product\n",
    "\n",
    "l1 = (\"a\", \"b\", \"c\")\n",
    "l2 = (22, 80)\n",
    "\n",
    "list(product(l1, l2))"
   ]
  },
  {
   "cell_type": "code",
   "execution_count": 5,
   "metadata": {},
   "outputs": [
    {
     "output_type": "execute_result",
     "data": {
      "text/plain": "'3.7.4 (default, Aug 13 2019, 15:17:50) \\n[Clang 4.0.1 (tags/RELEASE_401/final)]'"
     },
     "metadata": {},
     "execution_count": 5
    }
   ],
   "source": [
    "import sys\n",
    "\n",
    "sys.version"
   ]
  },
  {
   "cell_type": "code",
   "execution_count": null,
   "metadata": {},
   "outputs": [],
   "source": []
  }
 ],
 "metadata": {
  "language_info": {
   "codemirror_mode": {
    "name": "ipython",
    "version": 3
   },
   "file_extension": ".py",
   "mimetype": "text/x-python",
   "name": "python",
   "nbconvert_exporter": "python",
   "pygments_lexer": "ipython3",
   "version": "3.7.4-final"
  },
  "orig_nbformat": 2,
  "kernelspec": {
   "name": "python3",
   "display_name": "Python 3"
  }
 },
 "nbformat": 4,
 "nbformat_minor": 2
}